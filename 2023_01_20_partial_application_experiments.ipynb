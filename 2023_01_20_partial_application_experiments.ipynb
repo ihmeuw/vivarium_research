{
 "cells": [
  {
   "cell_type": "code",
   "execution_count": 2,
   "id": "e2e4e64e",
   "metadata": {},
   "outputs": [
    {
     "name": "stdout",
     "output_type": "stream",
     "text": [
      "Sat Jan 21 13:00:06 PST 2023\n",
      "ndbs\n",
      "Darwin ndbs-Q9Q94K6GHF 21.6.0 Darwin Kernel Version 21.6.0: Sun Nov  6 23:31:13 PST 2022; root:xnu-8020.240.14~1/RELEASE_ARM64_T6000 arm64\n",
      "/Users/ndbs/notebooks\n"
     ]
    }
   ],
   "source": [
    "from functools import partial\n",
    "import wrapt\n",
    "from ellipsis_args import functional\n",
    "\n",
    "!date\n",
    "!whoami\n",
    "!uname -a\n",
    "!pwd"
   ]
  },
  {
   "cell_type": "code",
   "execution_count": 3,
   "id": "39bdf580",
   "metadata": {},
   "outputs": [],
   "source": [
    "%load_ext autoreload\n",
    "%autoreload 2"
   ]
  },
  {
   "cell_type": "code",
   "execution_count": 8,
   "id": "7b038679",
   "metadata": {},
   "outputs": [],
   "source": [
    "def f(a,b,c, d=930, e=49):\n",
    "    print(f'{a=},{b=},{c=},{d=},{e=}')\n",
    "    \n",
    "def g(a,b,c):\n",
    "    print(f'{a=},{b=},{c=}')\n",
    "\n",
    "def h(*args):\n",
    "    print(args)"
   ]
  },
  {
   "cell_type": "code",
   "execution_count": 9,
   "id": "1b1415b5",
   "metadata": {},
   "outputs": [
    {
     "data": {
      "text/plain": [
       "272495827"
      ]
     },
     "execution_count": 9,
     "metadata": {},
     "output_type": "execute_result"
    }
   ],
   "source": [
    "hash(f)"
   ]
  },
  {
   "cell_type": "code",
   "execution_count": 10,
   "id": "40e90b9a",
   "metadata": {},
   "outputs": [
    {
     "data": {
      "text/plain": [
       "4359933232"
      ]
     },
     "execution_count": 10,
     "metadata": {},
     "output_type": "execute_result"
    }
   ],
   "source": [
    "id(f)"
   ]
  },
  {
   "cell_type": "code",
   "execution_count": 11,
   "id": "df0874c6",
   "metadata": {},
   "outputs": [
    {
     "data": {
      "text/plain": [
       "272493249"
      ]
     },
     "execution_count": 11,
     "metadata": {},
     "output_type": "execute_result"
    }
   ],
   "source": [
    "hash(g)"
   ]
  },
  {
   "cell_type": "code",
   "execution_count": 13,
   "id": "e43a4985",
   "metadata": {},
   "outputs": [
    {
     "data": {
      "text/plain": [
       "<function ellipsis_args.functional.partially_applicable.<locals>.partially_applicable_func(*args, **kwargs)>"
      ]
     },
     "execution_count": 13,
     "metadata": {},
     "output_type": "execute_result"
    }
   ],
   "source": [
    "pf1 = functional.partially_applicable(f)\n",
    "pf1"
   ]
  },
  {
   "cell_type": "code",
   "execution_count": 14,
   "id": "6355aecb",
   "metadata": {},
   "outputs": [
    {
     "name": "stdout",
     "output_type": "stream",
     "text": [
      "omitted_indices=[1], omitted_kwds=[]\n"
     ]
    },
    {
     "data": {
      "text/plain": [
       "<function ellipsis_args.functional.partially_applicable.<locals>.partially_applicable_func(*args, **kwargs)>"
      ]
     },
     "execution_count": 14,
     "metadata": {},
     "output_type": "execute_result"
    }
   ],
   "source": [
    "pf1(3,...,4)"
   ]
  },
  {
   "cell_type": "code",
   "execution_count": 15,
   "id": "361d82b9",
   "metadata": {},
   "outputs": [
    {
     "name": "stdout",
     "output_type": "stream",
     "text": [
      "omitted_indices=[1], omitted_kwds=[]\n",
      "omitted_indices=[], omitted_kwds=[]\n",
      "omitted_indices=[], args=(7,), fewer_args=()\n",
      "omitted_kwds=[], kwargs={}, fewer_kwargs={}\n",
      "new_args=[7], new_kwargs={}\n",
      "omitted_indices=[1], args=(3, Ellipsis, 4), fewer_args=(7,)\n",
      "omitted_kwds=[], kwargs={}, fewer_kwargs={}\n",
      "new_args=[3, 7, 4], new_kwargs={}\n",
      "a=3,b=7,c=4,d=930,e=49\n"
     ]
    }
   ],
   "source": [
    "pf1(3,...,4)(7)"
   ]
  },
  {
   "cell_type": "code",
   "execution_count": 20,
   "id": "ef8b5a2a",
   "metadata": {},
   "outputs": [
    {
     "data": {
      "text/plain": [
       "<function ellipsis_args.functional.partially_applicable_no_kwargs.<locals>.partially_applicable_func_no_kwargs(*args)>"
      ]
     },
     "execution_count": 20,
     "metadata": {},
     "output_type": "execute_result"
    }
   ],
   "source": [
    "pg1 = functional.partially_applicable_no_kwargs(g)\n",
    "pg1"
   ]
  },
  {
   "cell_type": "code",
   "execution_count": 21,
   "id": "4566c3b2",
   "metadata": {},
   "outputs": [
    {
     "name": "stdout",
     "output_type": "stream",
     "text": [
      "omitted_indices=[0]\n"
     ]
    },
    {
     "data": {
      "text/plain": [
       "<function ellipsis_args.functional.partially_applicable_no_kwargs.<locals>.partially_applicable_func_no_kwargs(*args)>"
      ]
     },
     "execution_count": 21,
     "metadata": {},
     "output_type": "execute_result"
    }
   ],
   "source": [
    "pg1(...,8,4)"
   ]
  },
  {
   "cell_type": "code",
   "execution_count": 23,
   "id": "03235a0a",
   "metadata": {},
   "outputs": [
    {
     "name": "stdout",
     "output_type": "stream",
     "text": [
      "omitted_indices=[0]\n",
      "omitted_indices=[]\n",
      "omitted_indices=[], args=(2,), fewer_args=()\n",
      "new_args=[2]\n",
      "omitted_indices=[0], args=(Ellipsis, 8, 4), fewer_args=(2,)\n",
      "new_args=[2, 8, 4]\n",
      "a=2,b=8,c=4\n"
     ]
    }
   ],
   "source": [
    "pg1(...,8,4)(2)"
   ]
  },
  {
   "cell_type": "code",
   "execution_count": 24,
   "id": "8886d2ae",
   "metadata": {},
   "outputs": [],
   "source": [
    "t = ()"
   ]
  },
  {
   "cell_type": "code",
   "execution_count": 25,
   "id": "640f3fb2",
   "metadata": {},
   "outputs": [],
   "source": [
    "if t:\n",
    "    print(t)"
   ]
  },
  {
   "cell_type": "code",
   "execution_count": 26,
   "id": "e4ed9f33",
   "metadata": {},
   "outputs": [
    {
     "name": "stdout",
     "output_type": "stream",
     "text": [
      "False\n"
     ]
    }
   ],
   "source": [
    "l = []\n",
    "if not l:\n",
    "    print(bool(l))"
   ]
  },
  {
   "cell_type": "code",
   "execution_count": 27,
   "id": "fb36aa30",
   "metadata": {},
   "outputs": [
    {
     "data": {
      "text/plain": [
       "False"
      ]
     },
     "execution_count": 27,
     "metadata": {},
     "output_type": "execute_result"
    }
   ],
   "source": [
    "bool(())"
   ]
  },
  {
   "cell_type": "code",
   "execution_count": 29,
   "id": "4db3e0de",
   "metadata": {},
   "outputs": [
    {
     "data": {
      "text/plain": [
       "True"
      ]
     },
     "execution_count": 29,
     "metadata": {},
     "output_type": "execute_result"
    }
   ],
   "source": [
    "bool((0,))"
   ]
  },
  {
   "cell_type": "code",
   "execution_count": 30,
   "id": "559850f1",
   "metadata": {},
   "outputs": [
    {
     "data": {
      "text/plain": [
       "False"
      ]
     },
     "execution_count": 30,
     "metadata": {},
     "output_type": "execute_result"
    }
   ],
   "source": [
    "bool([])"
   ]
  },
  {
   "cell_type": "code",
   "execution_count": 31,
   "id": "9b33cc8b",
   "metadata": {},
   "outputs": [
    {
     "data": {
      "text/plain": [
       "True"
      ]
     },
     "execution_count": 31,
     "metadata": {},
     "output_type": "execute_result"
    }
   ],
   "source": [
    "bool([1])"
   ]
  },
  {
   "cell_type": "code",
   "execution_count": 32,
   "id": "710bc29f",
   "metadata": {},
   "outputs": [
    {
     "ename": "NameError",
     "evalue": "name 'x' is not defined",
     "output_type": "error",
     "traceback": [
      "\u001b[0;31m---------------------------------------------------------------------------\u001b[0m",
      "\u001b[0;31mNameError\u001b[0m                                 Traceback (most recent call last)",
      "Cell \u001b[0;32mIn[32], line 1\u001b[0m\n\u001b[0;32m----> 1\u001b[0m \u001b[43mx\u001b[49m\n",
      "\u001b[0;31mNameError\u001b[0m: name 'x' is not defined"
     ]
    }
   ],
   "source": [
    "x"
   ]
  },
  {
   "cell_type": "code",
   "execution_count": 33,
   "id": "ce0a83bf",
   "metadata": {},
   "outputs": [
    {
     "ename": "NameError",
     "evalue": "name 'x' is not defined",
     "output_type": "error",
     "traceback": [
      "\u001b[0;31m---------------------------------------------------------------------------\u001b[0m",
      "\u001b[0;31mNameError\u001b[0m                                 Traceback (most recent call last)",
      "Cell \u001b[0;32mIn[33], line 1\u001b[0m\n\u001b[0;32m----> 1\u001b[0m \u001b[38;5;28;01mif\u001b[39;00m \u001b[43mx\u001b[49m:\n\u001b[1;32m      2\u001b[0m     \u001b[38;5;28mprint\u001b[39m(x)\n\u001b[1;32m      3\u001b[0m \u001b[38;5;28;01melse\u001b[39;00m:\n",
      "\u001b[0;31mNameError\u001b[0m: name 'x' is not defined"
     ]
    }
   ],
   "source": [
    "if x:\n",
    "    print(x)\n",
    "else:\n",
    "    print(\"not x!\")"
   ]
  },
  {
   "cell_type": "code",
   "execution_count": 34,
   "id": "1c8fd848",
   "metadata": {},
   "outputs": [
    {
     "name": "stdout",
     "output_type": "stream",
     "text": [
      "true\n"
     ]
    }
   ],
   "source": [
    "if not '':\n",
    "    print('true')"
   ]
  },
  {
   "cell_type": "code",
   "execution_count": 37,
   "id": "209d443e",
   "metadata": {},
   "outputs": [
    {
     "ename": "ValueError",
     "evalue": "empty separator",
     "output_type": "error",
     "traceback": [
      "\u001b[0;31m---------------------------------------------------------------------------\u001b[0m",
      "\u001b[0;31mValueError\u001b[0m                                Traceback (most recent call last)",
      "Cell \u001b[0;32mIn[37], line 1\u001b[0m\n\u001b[0;32m----> 1\u001b[0m \u001b[38;5;124;43m'\u001b[39;49m\u001b[38;5;124;43mabc\u001b[39;49m\u001b[38;5;124;43m'\u001b[39;49m\u001b[38;5;241;43m.\u001b[39;49m\u001b[43msplit\u001b[49m\u001b[43m(\u001b[49m\u001b[38;5;124;43m'\u001b[39;49m\u001b[38;5;124;43m'\u001b[39;49m\u001b[43m)\u001b[49m\n",
      "\u001b[0;31mValueError\u001b[0m: empty separator"
     ]
    }
   ],
   "source": [
    "'abc'.split('')"
   ]
  },
  {
   "cell_type": "code",
   "execution_count": 38,
   "id": "51ee5dd4",
   "metadata": {},
   "outputs": [
    {
     "data": {
      "text/plain": [
       "{<function __main__.f(a, b, c, d=930, e=49)>: '1 2 3',\n",
       " <function __main__.g(a, b, c)>: 'a b c'}"
      ]
     },
     "execution_count": 38,
     "metadata": {},
     "output_type": "execute_result"
    }
   ],
   "source": [
    "d = {f: '1 2 3', g: 'a b c'}\n",
    "d"
   ]
  },
  {
   "cell_type": "code",
   "execution_count": 41,
   "id": "3243491b",
   "metadata": {},
   "outputs": [
    {
     "name": "stdout",
     "output_type": "stream",
     "text": [
      "a='1',b='2',c='3',d=930,e=49\n",
      "a='a',b='b',c='c'\n"
     ]
    }
   ],
   "source": [
    "for func, argstring in d.items():\n",
    "    func(*argstring.split())"
   ]
  },
  {
   "cell_type": "code",
   "execution_count": null,
   "id": "e2f077f8",
   "metadata": {},
   "outputs": [],
   "source": []
  }
 ],
 "metadata": {
  "kernelspec": {
   "display_name": "Python 3 (ipykernel)",
   "language": "python",
   "name": "python3"
  },
  "language_info": {
   "codemirror_mode": {
    "name": "ipython",
    "version": 3
   },
   "file_extension": ".py",
   "mimetype": "text/x-python",
   "name": "python",
   "nbconvert_exporter": "python",
   "pygments_lexer": "ipython3",
   "version": "3.9.15"
  }
 },
 "nbformat": 4,
 "nbformat_minor": 5
}
