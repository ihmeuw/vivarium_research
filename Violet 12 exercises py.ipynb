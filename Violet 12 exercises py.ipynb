{
 "cells": [
  {
   "cell_type": "code",
   "execution_count": 1,
   "id": "0de2df07",
   "metadata": {},
   "outputs": [
    {
     "name": "stdout",
     "output_type": "stream",
     "text": [
      "3.141592653589793\n"
     ]
    }
   ],
   "source": [
    "import math\n",
    "pi_value = math.pi\n",
    "print(pi_value)\n"
   ]
  },
  {
   "cell_type": "code",
   "execution_count": 42,
   "id": "de83f8c8",
   "metadata": {},
   "outputs": [],
   "source": [
    "def radians_to_degrees(radians):\n",
    "    pi = 3.141592653589793\n",
    "    degrees = radians *180 / pi\n",
    "    return degrees"
   ]
  },
  {
   "cell_type": "code",
   "execution_count": 43,
   "id": "f29cfc0d",
   "metadata": {},
   "outputs": [
    {
     "name": "stdout",
     "output_type": "stream",
     "text": [
      "572.9577951308232\n"
     ]
    }
   ],
   "source": [
    "print(radians_to_degrees(10))"
   ]
  },
  {
   "cell_type": "code",
   "execution_count": 1,
   "id": "78bca5a0",
   "metadata": {},
   "outputs": [],
   "source": [
    "def sort_numbers(numbers, order):\n",
    "    if order == \"asc\":\n",
    "        return sorted(numbers)\n",
    "    elif order == \"desc\":\n",
    "        return sorted(numbers, reverse=True)\n",
    "    elif order ==\"none\":\n",
    "        return numbers\n",
    "    else:\n",
    "        raise ValueError(\"Invalid sort order. Use 'asc', 'desc', or 'none'.\")"
   ]
  },
  {
   "cell_type": "code",
   "execution_count": 2,
   "id": "ae8bf34f",
   "metadata": {},
   "outputs": [
    {
     "name": "stdout",
     "output_type": "stream",
     "text": [
      "[54, 40, 23, 17, 13]\n"
     ]
    }
   ],
   "source": [
    "print(sort_numbers([23,17,40,13,54],\"desc\"))"
   ]
  },
  {
   "cell_type": "code",
   "execution_count": 4,
   "id": "3b59363e",
   "metadata": {},
   "outputs": [
    {
     "name": "stdout",
     "output_type": "stream",
     "text": [
      "[3, 3, 7, 12, 34, 72, 96]\n"
     ]
    }
   ],
   "source": [
    "print(sort_numbers([12,3,7,96,34,3,72],\"asc\"))"
   ]
  },
  {
   "cell_type": "code",
   "execution_count": 5,
   "id": "233240a6",
   "metadata": {},
   "outputs": [],
   "source": [
    "def decimal_to_binary(decimal_number):\n",
    "    if decimal_number <0 or decimal_number>=1024:\n",
    "        raise ValueError(\"Number must be between 0 and 1023\")\n",
    "    binary_number = bin(decimal_number)[2:]\n",
    "    # remove the 'ob' prefix\n",
    "    return binary_number"
   ]
  },
  {
   "cell_type": "code",
   "execution_count": 6,
   "id": "3d03dcae",
   "metadata": {},
   "outputs": [
    {
     "name": "stdout",
     "output_type": "stream",
     "text": [
      "1111\n"
     ]
    }
   ],
   "source": [
    "print(decimal_to_binary(15))"
   ]
  },
  {
   "cell_type": "code",
   "execution_count": 7,
   "id": "f5adc028",
   "metadata": {},
   "outputs": [
    {
     "name": "stdout",
     "output_type": "stream",
     "text": [
      "1010\n"
     ]
    }
   ],
   "source": [
    "print(decimal_to_binary(10))"
   ]
  },
  {
   "cell_type": "code",
   "execution_count": 8,
   "id": "b39a5279",
   "metadata": {},
   "outputs": [
    {
     "name": "stdout",
     "output_type": "stream",
     "text": [
      "1111111111\n"
     ]
    }
   ],
   "source": [
    "print(decimal_to_binary(1023))"
   ]
  },
  {
   "cell_type": "code",
   "execution_count": 29,
   "id": "e5af2254",
   "metadata": {},
   "outputs": [],
   "source": [
    "def count_vowels(word):\n",
    "    vowels = \"aeiou\"\n",
    "    count = 0\n",
    "    for letter in vowels:\n",
    "        count += 1\n",
    "    return count"
   ]
  },
  {
   "cell_type": "code",
   "execution_count": 30,
   "id": "e77fb3fb",
   "metadata": {},
   "outputs": [
    {
     "name": "stdout",
     "output_type": "stream",
     "text": [
      "5\n"
     ]
    }
   ],
   "source": [
    "print(count_vowels(\"it is going to rain today\"))"
   ]
  },
  {
   "cell_type": "code",
   "execution_count": 31,
   "id": "42994bab",
   "metadata": {},
   "outputs": [
    {
     "name": "stdout",
     "output_type": "stream",
     "text": [
      "5\n"
     ]
    }
   ],
   "source": [
    "print(count_vowels(\"osoti travelled and lost electricity\"))"
   ]
  },
  {
   "cell_type": "code",
   "execution_count": 22,
   "id": "2e0ad2a6",
   "metadata": {},
   "outputs": [],
   "source": [
    "def equal_xo(s):\n",
    "    #Count the number of x's and o's\n",
    "    x_count = s.count('x')\n",
    "    o_count = s.count('o')\n",
    "    # Return True if counts are equal, otherwise False\n",
    "    return x_count == o_count"
   ]
  },
  {
   "cell_type": "code",
   "execution_count": 24,
   "id": "0ca0fedb",
   "metadata": {},
   "outputs": [
    {
     "name": "stdout",
     "output_type": "stream",
     "text": [
      "False\n"
     ]
    }
   ],
   "source": [
    "print(equal_xo(\"xxxoooo\"))"
   ]
  },
  {
   "cell_type": "code",
   "execution_count": 25,
   "id": "01f50958",
   "metadata": {},
   "outputs": [
    {
     "name": "stdout",
     "output_type": "stream",
     "text": [
      "True\n"
     ]
    }
   ],
   "source": [
    "print(equal_xo(\"xoxoxoxo\"))"
   ]
  },
  {
   "cell_type": "code",
   "execution_count": 26,
   "id": "8818dc08",
   "metadata": {},
   "outputs": [],
   "source": [
    "# masking numbers of a credit card with an asterick\n",
    "def mask_credit_card(card_number):\n",
    "    # convert the card number to a string in case it's passed as \n",
    "    card_str = str(card_number)\n",
    "    #show only the last 4 digits, mast the rest\n",
    "    masked = '*' * (len(card_str) -4) + card_str[-4:]\n",
    "    return masked"
   ]
  },
  {
   "cell_type": "code",
   "execution_count": 27,
   "id": "a82344fc",
   "metadata": {},
   "outputs": [
    {
     "name": "stdout",
     "output_type": "stream",
     "text": [
      "********9123\n"
     ]
    }
   ],
   "source": [
    "print(mask_credit_card(\"123456789123\"))"
   ]
  },
  {
   "cell_type": "code",
   "execution_count": 28,
   "id": "bb87b30d",
   "metadata": {},
   "outputs": [
    {
     "name": "stdout",
     "output_type": "stream",
     "text": [
      "**********8798\n"
     ]
    }
   ],
   "source": [
    "print(mask_credit_card(\"34556576238798\"))"
   ]
  },
  {
   "cell_type": "code",
   "execution_count": 33,
   "id": "2946b14a",
   "metadata": {},
   "outputs": [],
   "source": [
    "def calculator(num1, operator, num2):\n",
    "    if operator == '+':\n",
    "        return num1 + num2\n",
    "    elif operator == '-':\n",
    "        return num1 - num2\n",
    "    elif operator == '*':\n",
    "        return num1 * num2\n",
    "    elif operator == '/':\n",
    "        # handle division by zero\n",
    "        if num2 == 0:\n",
    "            return \"Error: Division by zero\"\n",
    "        return num1 / num2\n",
    "    else:\n",
    "        return \"Error: Invalid operator\""
   ]
  },
  {
   "cell_type": "code",
   "execution_count": 35,
   "id": "78712a72",
   "metadata": {},
   "outputs": [
    {
     "name": "stdout",
     "output_type": "stream",
     "text": [
      "25\n"
     ]
    }
   ],
   "source": [
    "print(calculator(5, '*', 5))"
   ]
  },
  {
   "cell_type": "code",
   "execution_count": 36,
   "id": "424cb9a3",
   "metadata": {},
   "outputs": [
    {
     "name": "stdout",
     "output_type": "stream",
     "text": [
      "1.0\n"
     ]
    }
   ],
   "source": [
    "print(calculator(4, '/', 4))"
   ]
  },
  {
   "cell_type": "code",
   "execution_count": 37,
   "id": "26ab065a",
   "metadata": {},
   "outputs": [
    {
     "name": "stdout",
     "output_type": "stream",
     "text": [
      "Error: Division by zero\n"
     ]
    }
   ],
   "source": [
    "print(calculator(6, '/', 0))"
   ]
  },
  {
   "cell_type": "code",
   "execution_count": 38,
   "id": "00abf775",
   "metadata": {},
   "outputs": [
    {
     "name": "stdout",
     "output_type": "stream",
     "text": [
      "10\n"
     ]
    }
   ],
   "source": [
    "print(calculator(6, '+', 4))"
   ]
  },
  {
   "cell_type": "code",
   "execution_count": 39,
   "id": "3aa3b7be",
   "metadata": {},
   "outputs": [],
   "source": [
    "def apply_discount(price, discount_percent):\n",
    "    discount_amount = price * (discount_percent / 100)\n",
    "    final_price = price - discount_amount\n",
    "    return final_price"
   ]
  },
  {
   "cell_type": "code",
   "execution_count": 40,
   "id": "cf586777",
   "metadata": {},
   "outputs": [
    {
     "name": "stdout",
     "output_type": "stream",
     "text": [
      "80.0\n"
     ]
    }
   ],
   "source": [
    "print(apply_discount(100, 20))"
   ]
  },
  {
   "cell_type": "code",
   "execution_count": 41,
   "id": "ed07a65d",
   "metadata": {},
   "outputs": [
    {
     "name": "stdout",
     "output_type": "stream",
     "text": [
      "70.0\n"
     ]
    }
   ],
   "source": [
    "print(apply_discount(100, 30))"
   ]
  },
  {
   "cell_type": "code",
   "execution_count": 54,
   "id": "078403e3",
   "metadata": {},
   "outputs": [],
   "source": [
    "def just_the_integers(mixed_list):\n",
    "    return [item for item in mixed_list if isinstance(item, int)]"
   ]
  },
  {
   "cell_type": "code",
   "execution_count": 55,
   "id": "051b8a58",
   "metadata": {},
   "outputs": [
    {
     "name": "stdout",
     "output_type": "stream",
     "text": [
      "[2, 8, 1, 8]\n"
     ]
    }
   ],
   "source": [
    "print(just_the_integers([2, 'orange', 8, 'pinapple', 1, 'cat', '321', 8]))"
   ]
  },
  {
   "cell_type": "code",
   "execution_count": 57,
   "id": "40f5d509",
   "metadata": {},
   "outputs": [
    {
     "name": "stdout",
     "output_type": "stream",
     "text": [
      "[3, 4, 5, 6]\n"
     ]
    }
   ],
   "source": [
    "print(just_the_integers([3, 4, 5, '56', 'boy', 'mother', 6]))"
   ]
  },
  {
   "cell_type": "code",
   "execution_count": 58,
   "id": "dfd4ec6e",
   "metadata": {},
   "outputs": [],
   "source": [
    "def double_characters(input_string):\n",
    "    result = \"\"\n",
    "    for characters in input_string:\n",
    "        result += characters * 2\n",
    "    return result"
   ]
  },
  {
   "cell_type": "code",
   "execution_count": 59,
   "id": "8c59d4d3",
   "metadata": {},
   "outputs": [
    {
     "name": "stdout",
     "output_type": "stream",
     "text": [
      "vviioolleett\n"
     ]
    }
   ],
   "source": [
    "print(double_characters(\"violet\"))"
   ]
  },
  {
   "cell_type": "code",
   "execution_count": 60,
   "id": "bc3b4da8",
   "metadata": {},
   "outputs": [
    {
     "name": "stdout",
     "output_type": "stream",
     "text": [
      "ppooppoo2222\n"
     ]
    }
   ],
   "source": [
    "print(double_characters(\"popo22\"))"
   ]
  },
  {
   "cell_type": "code",
   "execution_count": 64,
   "id": "2629caaf",
   "metadata": {},
   "outputs": [],
   "source": [
    "def to_uppercase(input_string):\n",
    "    return input_string.upper()"
   ]
  },
  {
   "cell_type": "code",
   "execution_count": 65,
   "id": "a4a3d1d1",
   "metadata": {},
   "outputs": [
    {
     "name": "stdout",
     "output_type": "stream",
     "text": [
      "WELCOME\n"
     ]
    }
   ],
   "source": [
    "print(to_uppercase(\"welcome\"))"
   ]
  },
  {
   "cell_type": "code",
   "execution_count": 66,
   "id": "91b2c2a8",
   "metadata": {},
   "outputs": [
    {
     "name": "stdout",
     "output_type": "stream",
     "text": [
      "PEOPLE\n"
     ]
    }
   ],
   "source": [
    "print(to_uppercase(\"people\"))"
   ]
  },
  {
   "cell_type": "code",
   "execution_count": 67,
   "id": "92b03b55",
   "metadata": {},
   "outputs": [],
   "source": [
    "def add_dots(input_string):\n",
    "    return'.'.join(input_string)"
   ]
  },
  {
   "cell_type": "code",
   "execution_count": 68,
   "id": "e3a5866a",
   "metadata": {},
   "outputs": [
    {
     "name": "stdout",
     "output_type": "stream",
     "text": [
      "p.y.t.h.o.n\n"
     ]
    }
   ],
   "source": [
    "print(add_dots(\"python\"))"
   ]
  },
  {
   "cell_type": "code",
   "execution_count": 69,
   "id": "774303fa",
   "metadata": {},
   "outputs": [
    {
     "name": "stdout",
     "output_type": "stream",
     "text": [
      "l.e.a.r.n\n"
     ]
    }
   ],
   "source": [
    "print(add_dots(\"learn\"))"
   ]
  }
 ],
 "metadata": {
  "kernelspec": {
   "display_name": "jupyter",
   "language": "python",
   "name": "python3"
  },
  "language_info": {
   "codemirror_mode": {
    "name": "ipython",
    "version": 3
   },
   "file_extension": ".py",
   "mimetype": "text/x-python",
   "name": "python",
   "nbconvert_exporter": "python",
   "pygments_lexer": "ipython3",
   "version": "3.13.2"
  }
 },
 "nbformat": 4,
 "nbformat_minor": 5
}
