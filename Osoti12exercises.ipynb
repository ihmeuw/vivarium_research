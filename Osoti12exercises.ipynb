{
 "cells": [
  {
   "cell_type": "code",
   "execution_count": 41,
   "id": "bd0cb228-8388-4a41-8d42-5dc6fe407078",
   "metadata": {},
   "outputs": [],
   "source": [
    "def radians_to_degrees(radians):\n",
    "    degrees = radians * (180 / 3.141592653589793)\n",
    "    return degrees\n",
    "    "
   ]
  },
  {
   "cell_type": "code",
   "execution_count": 42,
   "id": "83f54962-bb4c-46fc-a7a1-9c3bfac0efb9",
   "metadata": {},
   "outputs": [
    {
     "data": {
      "text/plain": [
       "1718.8733853924696"
      ]
     },
     "execution_count": 42,
     "metadata": {},
     "output_type": "execute_result"
    }
   ],
   "source": [
    "radians_to_degrees(30)"
   ]
  },
  {
   "cell_type": "code",
   "execution_count": 43,
   "id": "1c15fc6f-3c56-4c15-8add-6b09caa84f08",
   "metadata": {},
   "outputs": [],
   "source": [
    "def sort_numbers(numbers, order):\n",
    "    if order == \"asc\":\n",
    "        return sorted(numbers)\n",
    "    elif order == \"desc\":\n",
    "        return sorted(numbers, reverse=True)\n",
    "    elif order == \"none\":\n",
    "        return numbers"
   ]
  },
  {
   "cell_type": "code",
   "execution_count": 68,
   "id": "05e6b720-40a8-47b9-8127-032d93ef0b22",
   "metadata": {},
   "outputs": [
    {
     "data": {
      "text/plain": [
       "[87, 65, 54, 45, 34]"
      ]
     },
     "execution_count": 68,
     "metadata": {},
     "output_type": "execute_result"
    }
   ],
   "source": [
    "sort_numbers([45,34,87,65,54], \"desc\")"
   ]
  },
  {
   "cell_type": "code",
   "execution_count": 44,
   "id": "28dcd546-0552-4e2b-97c5-69c98e129053",
   "metadata": {},
   "outputs": [
    {
     "name": "stdout",
     "output_type": "stream",
     "text": [
      "[45, 50, 67, 87]\n"
     ]
    }
   ],
   "source": [
    "print(sort_numbers([50,67,45,87], \"asc\"))"
   ]
  },
  {
   "cell_type": "code",
   "execution_count": 45,
   "id": "ee8656c3-7c4b-4916-a9bb-cdf5950b9401",
   "metadata": {},
   "outputs": [
    {
     "name": "stdout",
     "output_type": "stream",
     "text": [
      "[95, 67, 65, 54, 45, 23]\n"
     ]
    }
   ],
   "source": [
    "print(sort_numbers([45,95,67,23,54,65], \"desc\"))"
   ]
  },
  {
   "cell_type": "code",
   "execution_count": 46,
   "id": "ba4e461b-e0b7-4954-93f1-bc01f94749de",
   "metadata": {},
   "outputs": [
    {
     "name": "stdout",
     "output_type": "stream",
     "text": [
      "[56, 76, 85, 36, 98]\n"
     ]
    }
   ],
   "source": [
    "print(sort_numbers([56,76,85,36,98], \"none\"))"
   ]
  },
  {
   "cell_type": "code",
   "execution_count": 47,
   "id": "03e9a15d-8c24-4515-b011-f3cd681e4ac8",
   "metadata": {},
   "outputs": [],
   "source": [
    "def decimal_to_binary(n):\n",
    "    if n < 0 or n >= 1024:\n",
    "        raise ValueError(\"Number must be between 0 and 1023 inclusive.\")\n",
    "    binary = ''\n",
    "    if n == 0:\n",
    "        return '0'\n",
    "    while n > 0:\n",
    "        binary = str(n % 2) + binary\n",
    "        n = n // 2\n",
    "    return binary"
   ]
  },
  {
   "cell_type": "code",
   "execution_count": 48,
   "id": "df79747f-f572-4026-95d7-a3258bbe8a62",
   "metadata": {},
   "outputs": [
    {
     "data": {
      "text/plain": [
       "'101'"
      ]
     },
     "execution_count": 48,
     "metadata": {},
     "output_type": "execute_result"
    }
   ],
   "source": [
    "decimal_to_binary(5)\n"
   ]
  },
  {
   "cell_type": "code",
   "execution_count": 49,
   "id": "3e847bf5-ccc0-423a-9eb4-4cd107c3c499",
   "metadata": {},
   "outputs": [
    {
     "data": {
      "text/plain": [
       "'1100100'"
      ]
     },
     "execution_count": 49,
     "metadata": {},
     "output_type": "execute_result"
    }
   ],
   "source": [
    "decimal_to_binary(100)"
   ]
  },
  {
   "cell_type": "code",
   "execution_count": 50,
   "id": "6fc5e1f0-302e-41f7-a1da-2dc729431c6e",
   "metadata": {},
   "outputs": [],
   "source": [
    "def count_vowels(word):\n",
    "    vowels = \"aeiou\"\n",
    "    count = 0\n",
    "    for letter in word:\n",
    "         if letter in vowels:\n",
    "            count += 1\n",
    "    return count"
   ]
  },
  {
   "cell_type": "code",
   "execution_count": 51,
   "id": "d18aacba-1d10-4739-83aa-82710d13bcbf",
   "metadata": {},
   "outputs": [
    {
     "data": {
      "text/plain": [
       "10"
      ]
     },
     "execution_count": 51,
     "metadata": {},
     "output_type": "execute_result"
    }
   ],
   "source": [
    "count_vowels(\"It if going to be a great year\")"
   ]
  },
  {
   "cell_type": "code",
   "execution_count": 52,
   "id": "dfe5b37d-6ca1-4bb1-9eb9-f7803794ea73",
   "metadata": {},
   "outputs": [],
   "source": [
    "def mask_credit_card(card_number):\n",
    "    last_four = card_number[-4:]\n",
    "    masked = '*' * (len(card_number) - 4) + last_four # * as string times the length of card number minus 4 digits \n",
    "    return masked"
   ]
  },
  {
   "cell_type": "code",
   "execution_count": 53,
   "id": "1de4ec07-2eaf-4107-97f8-5f09e20960a4",
   "metadata": {},
   "outputs": [
    {
     "data": {
      "text/plain": [
       "'********4213'"
      ]
     },
     "execution_count": 53,
     "metadata": {},
     "output_type": "execute_result"
    }
   ],
   "source": [
    "mask_credit_card(\"878967534213\")"
   ]
  },
  {
   "cell_type": "code",
   "execution_count": 54,
   "id": "cc2189a8-2aae-49d2-af50-608e93a4e65f",
   "metadata": {},
   "outputs": [],
   "source": [
    "def countof_x_and_o(word):\n",
    "    x_count = 0\n",
    "    o_count = 0\n",
    "    for char in word:\n",
    "        if char == 'x':\n",
    "            x_count += 1\n",
    "        elif char == 'o':\n",
    "            o_count += 1\n",
    "    return x_count == o_count\n"
   ]
  },
  {
   "cell_type": "code",
   "execution_count": 55,
   "id": "f877e60b-6bd4-407c-9e8f-83ec3b674053",
   "metadata": {},
   "outputs": [
    {
     "name": "stdout",
     "output_type": "stream",
     "text": [
      "True\n"
     ]
    }
   ],
   "source": [
    "print(countof_x_and_o(\"xxyxooo\"))"
   ]
  },
  {
   "cell_type": "code",
   "execution_count": 56,
   "id": "34d28fc8-7e5d-46e4-8e21-eb0147a7d285",
   "metadata": {},
   "outputs": [
    {
     "name": "stdout",
     "output_type": "stream",
     "text": [
      "False\n"
     ]
    }
   ],
   "source": [
    "print(equal_xo_count(\"HellO\")) "
   ]
  },
  {
   "cell_type": "code",
   "execution_count": 58,
   "id": "f66cd778-8c5b-49b0-b53b-22913167ff23",
   "metadata": {},
   "outputs": [],
   "source": [
    "def calculate(num1, operator, num2):\n",
    "    if operator == '+':\n",
    "        return num1 + num2\n",
    "    elif operator == '-':\n",
    "        return num1 - num2\n",
    "    elif operator == '/':\n",
    "        if num2 == 0:\n",
    "            return \"Error: Division by zero\"\n",
    "        return num1 / num2\n",
    "    elif operator == '.':\n",
    "        return num1 * num2\n",
    "    else:\n",
    "        return \"Error: Invalid operator\""
   ]
  },
  {
   "cell_type": "code",
   "execution_count": 60,
   "id": "506d64f0-69de-4872-b7de-bf89e08d9041",
   "metadata": {},
   "outputs": [
    {
     "name": "stdout",
     "output_type": "stream",
     "text": [
      "30\n"
     ]
    }
   ],
   "source": [
    "print(calculate(24, '+', 6))"
   ]
  },
  {
   "cell_type": "code",
   "execution_count": 61,
   "id": "fe5d9851-fdc6-4f60-b44c-0d06a27e6933",
   "metadata": {},
   "outputs": [
    {
     "name": "stdout",
     "output_type": "stream",
     "text": [
      "18\n"
     ]
    }
   ],
   "source": [
    "print(calculate(24, '-', 6))"
   ]
  },
  {
   "cell_type": "code",
   "execution_count": 63,
   "id": "b9407b63-df14-454f-8be1-a32527fbc007",
   "metadata": {},
   "outputs": [
    {
     "name": "stdout",
     "output_type": "stream",
     "text": [
      "4.0\n"
     ]
    }
   ],
   "source": [
    "print(calculate(24, '/', 6))"
   ]
  },
  {
   "cell_type": "code",
   "execution_count": 64,
   "id": "7c5b1d23-e2fb-46a5-8f3e-feb2232baa6e",
   "metadata": {},
   "outputs": [
    {
     "name": "stdout",
     "output_type": "stream",
     "text": [
      "144\n"
     ]
    }
   ],
   "source": [
    "print(calculate(24, '.', 6))"
   ]
  },
  {
   "cell_type": "code",
   "execution_count": 65,
   "id": "9d88f171-0403-41a7-aabc-afe13d4341d3",
   "metadata": {},
   "outputs": [
    {
     "name": "stdout",
     "output_type": "stream",
     "text": [
      "Error: Division by zero\n"
     ]
    }
   ],
   "source": [
    "print(calculate(24, '/', 0))"
   ]
  },
  {
   "cell_type": "code",
   "execution_count": 66,
   "id": "b9a4964e-64ea-43dd-8415-64e06ec1109a",
   "metadata": {},
   "outputs": [],
   "source": [
    "def apply_discount(price: int, discount_percent: int):\n",
    "    discount_amount = price * (discount_percent / 100)\n",
    "    final_price = price - discount_amount\n",
    "    return final_price"
   ]
  },
  {
   "cell_type": "code",
   "execution_count": 67,
   "id": "034f066a-668b-4095-8aa9-dbf34089c3c6",
   "metadata": {},
   "outputs": [
    {
     "data": {
      "text/plain": [
       "48.0"
      ]
     },
     "execution_count": 67,
     "metadata": {},
     "output_type": "execute_result"
    }
   ],
   "source": [
    "apply_discount(60, 20)"
   ]
  },
  {
   "cell_type": "code",
   "execution_count": 69,
   "id": "2a34f618-dd37-4499-829c-680e4b3dcdd4",
   "metadata": {},
   "outputs": [],
   "source": [
    "def filter_integers(mixed_list):\n",
    "    result = []\n",
    "    for item in mixed_list:\n",
    "        if isinstance(item, int): #f isinstance(item, int): is a type check. It checks whether the variable item is an integer\n",
    "            result.append(item)\n",
    "    return result"
   ]
  },
  {
   "cell_type": "code",
   "execution_count": 70,
   "id": "87919c36-1ca2-4a76-99a5-0811ee2a1316",
   "metadata": {},
   "outputs": [
    {
     "data": {
      "text/plain": [
       "[10, 0, 87, 100]"
      ]
     },
     "execution_count": 70,
     "metadata": {},
     "output_type": "execute_result"
    }
   ],
   "source": [
    "filter_integers(['guavas', 10, 'Khat', 0, 87, 100,'42'])"
   ]
  },
  {
   "cell_type": "code",
   "execution_count": 71,
   "id": "4bba7efa-fb62-449b-842e-4bfbde3ee4e1",
   "metadata": {},
   "outputs": [],
   "source": [
    "def double_characters(input_string):\n",
    "    result = \"\"\n",
    "    for char in input_string:\n",
    "        result += char * 2\n",
    "    return result"
   ]
  },
  {
   "cell_type": "code",
   "execution_count": 72,
   "id": "09f1437f-e5ca-4fee-9073-1bf7aa629e9e",
   "metadata": {},
   "outputs": [
    {
     "data": {
      "text/plain": [
       "'NNaakkuurruu  KKeennyyaa'"
      ]
     },
     "execution_count": 72,
     "metadata": {},
     "output_type": "execute_result"
    }
   ],
   "source": [
    "double_characters(\"Nakuru Kenya\")"
   ]
  },
  {
   "cell_type": "code",
   "execution_count": 73,
   "id": "f96e9cfd-7243-46ac-b8ee-5089c3dda311",
   "metadata": {},
   "outputs": [],
   "source": [
    "def to_uppercase(input_string):\n",
    "    \n",
    "    return input_string.upper()"
   ]
  },
  {
   "cell_type": "code",
   "execution_count": 74,
   "id": "3c0acf7a-9ae9-4feb-a5ee-cb589455d362",
   "metadata": {},
   "outputs": [
    {
     "data": {
      "text/plain": [
       "'HAKUNA MATATA'"
      ]
     },
     "execution_count": 74,
     "metadata": {},
     "output_type": "execute_result"
    }
   ],
   "source": [
    "to_uppercase(\"Hakuna Matata\")"
   ]
  },
  {
   "cell_type": "code",
   "execution_count": 75,
   "id": "245fe697-47b0-4ab7-a1e0-6ee81bcfaded",
   "metadata": {},
   "outputs": [],
   "source": [
    "def dot_separate(input_string):\n",
    "    return \".\".join(input_string)"
   ]
  },
  {
   "cell_type": "code",
   "execution_count": 76,
   "id": "d39b92ea-5f6d-46fa-828c-7502212b1b14",
   "metadata": {},
   "outputs": [
    {
     "data": {
      "text/plain": [
       "'s.k.i.l.l.s'"
      ]
     },
     "execution_count": 76,
     "metadata": {},
     "output_type": "execute_result"
    }
   ],
   "source": [
    "dot_separate(\"skills\")"
   ]
  },
  {
   "cell_type": "code",
   "execution_count": null,
   "id": "baf765e4-86d9-4a5f-9116-b0ad582cedd9",
   "metadata": {},
   "outputs": [],
   "source": []
  }
 ],
 "metadata": {
  "kernelspec": {
   "display_name": "Python 3 (ipykernel)",
   "language": "python",
   "name": "python3"
  },
  "language_info": {
   "codemirror_mode": {
    "name": "ipython",
    "version": 3
   },
   "file_extension": ".py",
   "mimetype": "text/x-python",
   "name": "python",
   "nbconvert_exporter": "python",
   "pygments_lexer": "ipython3",
   "version": "3.13.2"
  }
 },
 "nbformat": 4,
 "nbformat_minor": 5
}
