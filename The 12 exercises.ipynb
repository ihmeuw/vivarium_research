{
 "cells": [
  {
   "cell_type": "code",
   "execution_count": null,
   "id": "3d9d3794-26cc-4c9d-beb8-3ba1b1eb2432",
   "metadata": {},
   "outputs": [],
   "source": [
    " #Convert radians into degrees"
   ]
  },
  {
   "cell_type": "code",
   "execution_count": 19,
   "id": "8930f929-10c0-4c0d-9cf1-dc332186e877",
   "metadata": {},
   "outputs": [],
   "source": [
    "import math\n",
    "from typing import Union\n"
   ]
  },
  {
   "cell_type": "code",
   "execution_count": 17,
   "id": "8cc558bf-2c4c-4445-938e-6afa381e6f86",
   "metadata": {},
   "outputs": [],
   "source": [
    "def radians_to_degrees(radians: Union[float, int])-> float:\n",
    "    '''\n",
    "    convert an angle in radians to degrees\n",
    "    parameters:angle in radians\n",
    "    returns:angle in degrees\n",
    "    '''\n",
    "    degrees=radians*180/math.pi\n",
    "    print(f'The value of {radians} radians in degrees is {degrees:.2f} degrees')\n",
    "    return round(degrees,2)"
   ]
  },
  {
   "cell_type": "code",
   "execution_count": 15,
   "id": "abcaa277-24c2-4d8f-b93c-0ebde2e01501",
   "metadata": {},
   "outputs": [
    {
     "name": "stdout",
     "output_type": "stream",
     "text": [
      "The value of 4 radians in degrees is 229.18 degrees\n"
     ]
    },
    {
     "data": {
      "text/plain": [
       "229.18"
      ]
     },
     "execution_count": 15,
     "metadata": {},
     "output_type": "execute_result"
    }
   ],
   "source": [
    "radians_to_degrees(4)"
   ]
  },
  {
   "cell_type": "code",
   "execution_count": 16,
   "id": "291c78f8-0232-4574-a009-b2f99f7c6bf8",
   "metadata": {},
   "outputs": [
    {
     "name": "stdout",
     "output_type": "stream",
     "text": [
      "The value of 7 radians in degrees is 401.07 degrees\n"
     ]
    },
    {
     "data": {
      "text/plain": [
       "401.07"
      ]
     },
     "execution_count": 16,
     "metadata": {},
     "output_type": "execute_result"
    }
   ],
   "source": [
    "radians_to_degrees(7)"
   ]
  },
  {
   "cell_type": "code",
   "execution_count": 13,
   "id": "7e7286a9-e22e-483e-966a-2f8853e7ec03",
   "metadata": {},
   "outputs": [
    {
     "name": "stdout",
     "output_type": "stream",
     "text": [
      "The value of 4 radians in degrees is 229.18 degrees\n"
     ]
    },
    {
     "data": {
      "text/plain": [
       "229.18"
      ]
     },
     "execution_count": 13,
     "metadata": {},
     "output_type": "execute_result"
    }
   ],
   "source": [
    "radians_to_degrees(4)"
   ]
  },
  {
   "cell_type": "code",
   "execution_count": null,
   "id": "10214817-f6f0-4568-a4b3-36a2faae6e61",
   "metadata": {},
   "outputs": [],
   "source": [
    "#Sort a list"
   ]
  },
  {
   "cell_type": "code",
   "execution_count": 16,
   "id": "07d5a6b7-24a3-43bc-b75b-59e7d1eace9c",
   "metadata": {},
   "outputs": [
    {
     "name": "stdout",
     "output_type": "stream",
     "text": [
      "[0, 1, 3, 4, 6, 8, 9]\n",
      "[9, 8, 6, 4, 3, 1, 0]\n",
      "[6, 3, 4, 9, 1, 0, 8]\n",
      "[0, 1, 3, 4, 6, 8, 9]\n"
     ]
    },
    {
     "ename": "ValueError",
     "evalue": "invalid value for 'instruction'.please use 'asc','desc',or 'none'.",
     "output_type": "error",
     "traceback": [
      "\u001b[31m---------------------------------------------------------------------------\u001b[39m",
      "\u001b[31mValueError\u001b[39m                                Traceback (most recent call last)",
      "\u001b[36mCell\u001b[39m\u001b[36m \u001b[39m\u001b[32mIn[16]\u001b[39m\u001b[32m, line 25\u001b[39m\n\u001b[32m     23\u001b[39m \u001b[38;5;28mprint\u001b[39m(sort_list([\u001b[32m6\u001b[39m,\u001b[32m3\u001b[39m,\u001b[32m4\u001b[39m,\u001b[32m9\u001b[39m,\u001b[32m1\u001b[39m,\u001b[32m0\u001b[39m,\u001b[32m8\u001b[39m],\u001b[33m'\u001b[39m\u001b[33mnone\u001b[39m\u001b[33m'\u001b[39m))\n\u001b[32m     24\u001b[39m \u001b[38;5;28mprint\u001b[39m(sort_list([\u001b[32m6\u001b[39m,\u001b[32m3\u001b[39m,\u001b[32m4\u001b[39m,\u001b[32m9\u001b[39m,\u001b[32m1\u001b[39m,\u001b[32m0\u001b[39m,\u001b[32m8\u001b[39m],\u001b[33m'\u001b[39m\u001b[33mASC\u001b[39m\u001b[33m'\u001b[39m))\n\u001b[32m---> \u001b[39m\u001b[32m25\u001b[39m \u001b[38;5;28mprint\u001b[39m(\u001b[43msort_list\u001b[49m\u001b[43m(\u001b[49m\u001b[43m[\u001b[49m\u001b[32;43m6\u001b[39;49m\u001b[43m,\u001b[49m\u001b[32;43m3\u001b[39;49m\u001b[43m,\u001b[49m\u001b[32;43m4\u001b[39;49m\u001b[43m,\u001b[49m\u001b[32;43m9\u001b[39;49m\u001b[43m,\u001b[49m\u001b[32;43m1\u001b[39;49m\u001b[43m,\u001b[49m\u001b[32;43m0\u001b[39;49m\u001b[43m,\u001b[49m\u001b[32;43m8\u001b[39;49m\u001b[43m]\u001b[49m\u001b[43m,\u001b[49m\u001b[33;43m'\u001b[39;49m\u001b[33;43mascending\u001b[39;49m\u001b[33;43m'\u001b[39;49m\u001b[43m)\u001b[49m)\n",
      "\u001b[36mCell\u001b[39m\u001b[36m \u001b[39m\u001b[32mIn[16]\u001b[39m\u001b[32m, line 20\u001b[39m, in \u001b[36msort_list\u001b[39m\u001b[34m(numbers, instruction)\u001b[39m\n\u001b[32m     18\u001b[39m     \u001b[38;5;28;01mreturn\u001b[39;00m numbers\n\u001b[32m     19\u001b[39m \u001b[38;5;28;01melse\u001b[39;00m:\n\u001b[32m---> \u001b[39m\u001b[32m20\u001b[39m     \u001b[38;5;28;01mraise\u001b[39;00m \u001b[38;5;167;01mValueError\u001b[39;00m(\u001b[33m\"\u001b[39m\u001b[33minvalid value for \u001b[39m\u001b[33m'\u001b[39m\u001b[33minstruction\u001b[39m\u001b[33m'\u001b[39m\u001b[33m.please use \u001b[39m\u001b[33m'\u001b[39m\u001b[33masc\u001b[39m\u001b[33m'\u001b[39m\u001b[33m,\u001b[39m\u001b[33m'\u001b[39m\u001b[33mdesc\u001b[39m\u001b[33m'\u001b[39m\u001b[33m,or \u001b[39m\u001b[33m'\u001b[39m\u001b[33mnone\u001b[39m\u001b[33m'\u001b[39m\u001b[33m.\u001b[39m\u001b[33m\"\u001b[39m)\n",
      "\u001b[31mValueError\u001b[39m: invalid value for 'instruction'.please use 'asc','desc',or 'none'."
     ]
    }
   ],
   "source": [
    "def sort_list(numbers,instruction):\n",
    "    '''\n",
    "    sort a list of numbers as per instruction given\n",
    "    parameters:\n",
    "               numbers:a list of numbers to be arranged.\n",
    "              instruction: an instruction on how to arrange the numbers,\n",
    "                           'asc' for ascending,\n",
    "                            'desc' for descending and\n",
    "                            'none' to leave the list unchanged\n",
    "    returns:an arranged list or an unchanged list based on the instruction given\n",
    "    '''\n",
    "    instruction=instruction.lower()\n",
    "    if instruction=='asc':\n",
    "        return sorted(numbers)\n",
    "    elif instruction=='desc':\n",
    "        return sorted(numbers,reverse=True)\n",
    "    elif instruction=='none':\n",
    "        return numbers\n",
    "    else:\n",
    "        raise ValueError(\"invalid value for 'instruction'.please use 'asc','desc',or 'none'.\")\n",
    "print(sort_list([6,3,4,9,1,0,8],'asc'))\n",
    "print(sort_list([6,3,4,9,1,0,8],'desc'))\n",
    "print(sort_list([6,3,4,9,1,0,8],'none'))\n",
    "print(sort_list([6,3,4,9,1,0,8],'ASC'))\n",
    "print(sort_list([6,3,4,9,1,0,8],'ascending'))\n",
    "\n",
    "\n",
    "    "
   ]
  },
  {
   "cell_type": "code",
   "execution_count": null,
   "id": "94cae2c9-6d10-4fbe-808e-126e34043a8f",
   "metadata": {},
   "outputs": [],
   "source": [
    "#Convert a decimal number into binary"
   ]
  },
  {
   "cell_type": "code",
   "execution_count": 6,
   "id": "a7ff3106-5299-4f9a-919b-61f620dd86bf",
   "metadata": {},
   "outputs": [
    {
     "data": {
      "text/plain": [
       "'10100'"
      ]
     },
     "execution_count": 6,
     "metadata": {},
     "output_type": "execute_result"
    }
   ],
   "source": [
    "def decimal_to_binary(number):\n",
    "    '''\n",
    "    convert a decimal value to a binary number\n",
    "    parameters:\n",
    "               number:decimal value(must be less than 1024)\n",
    "    returns:binary number as a string\n",
    "    '''\n",
    "    if number==0:\n",
    "        return '0'\n",
    "    if number >= 1024:\n",
    "        return 'number should be less than 1024'\n",
    "    binary=''\n",
    "    while number>0:\n",
    "        remainder=number%2\n",
    "        binary=str(remainder)+binary\n",
    "        number=number//2\n",
    "    return binary\n",
    "decimal_to_binary(20)\n"
   ]
  },
  {
   "cell_type": "code",
   "execution_count": null,
   "id": "83f1c707-e583-4b00-bffd-9a343e202e7b",
   "metadata": {},
   "outputs": [],
   "source": [
    "# Count the vowels in a string"
   ]
  },
  {
   "cell_type": "code",
   "execution_count": 7,
   "id": "c94bd00f-fee8-4bc3-b89c-f630d03619d5",
   "metadata": {},
   "outputs": [
    {
     "data": {
      "text/plain": [
       "6"
      ]
     },
     "execution_count": 7,
     "metadata": {},
     "output_type": "execute_result"
    }
   ],
   "source": [
    "def count_vowels(word):\n",
    "    '''\n",
    "    counts the number of vowels(a,e,i,o,u) in a given  string.\n",
    "\n",
    "    parameters:\n",
    "    word(str).\n",
    "    \n",
    "    returns:\n",
    "    number of vowels in the word(int)\n",
    "    '''\n",
    "    vowels='aeiou'\n",
    "    count=0\n",
    "    for char in word.lower():\n",
    "        if char in vowels:\n",
    "            count+=1\n",
    "    return count\n",
    "count_vowels('shokolopangoshay')\n",
    "    "
   ]
  },
  {
   "cell_type": "code",
   "execution_count": null,
   "id": "e82c7811-de8b-4501-aede-3d0319372cf0",
   "metadata": {},
   "outputs": [],
   "source": [
    "#Hide the credit card number"
   ]
  },
  {
   "cell_type": "code",
   "execution_count": 13,
   "id": "4c21e964-57b2-4535-953d-2d061737f909",
   "metadata": {},
   "outputs": [
    {
     "name": "stdout",
     "output_type": "stream",
     "text": [
      "Your credit card number is ********9123\n"
     ]
    }
   ],
   "source": [
    "def mask_credit_card_number(card_number):\n",
    "    '''\n",
    "    replace all the numbers of credit card but four with an asterisk.\n",
    "    \n",
    "    parameters:\n",
    "               card number(str or int).\n",
    "    returns:\n",
    "            masked credit card number with only the last four digits visible.\n",
    "    '''\n",
    "    card_number_string=str(card_number)\n",
    "    masked_numbers='*'*(len(card_number_string)-4)\n",
    "    visible_numbers=card_number_string[-4:]\n",
    "    masked=masked_numbers+visible_numbers\n",
    "    return masked\n",
    "print(f'Your credit card number is {mask_credit_card_number(123456789123)}')\n",
    "    "
   ]
  },
  {
   "cell_type": "code",
   "execution_count": null,
   "id": "1eae89d1-8db3-4f63-9713-ecca0da090ce",
   "metadata": {},
   "outputs": [],
   "source": [
    "#Are the Xs equal to the Os?"
   ]
  },
  {
   "cell_type": "code",
   "execution_count": 9,
   "id": "375349e1-0abe-4bc5-8e96-836edfc71d48",
   "metadata": {},
   "outputs": [
    {
     "data": {
      "text/plain": [
       "False"
      ]
     },
     "execution_count": 9,
     "metadata": {},
     "output_type": "execute_result"
    }
   ],
   "source": [
    "def os_equals_xs(text):\n",
    "    '''\n",
    "    counts the number of xs and os and determine if they are equal.\n",
    "    \n",
    "    parameters:a string that contains any type and number of characters\n",
    "\n",
    "    returns:returns boolean True if equal and if not returns false.\n",
    "    '''\n",
    "    text.lower()\n",
    "    os=text.count('o')\n",
    "    xs=text.count('x')\n",
    "    if os==xs:\n",
    "        return True\n",
    "    else:\n",
    "        return False\n",
    "os_equals_xs('book')\n",
    "    "
   ]
  },
  {
   "cell_type": "code",
   "execution_count": null,
   "id": "ffaaaf2c-4c9f-480f-9e37-1d1bb3126e01",
   "metadata": {},
   "outputs": [],
   "source": [
    "#Create a calculator function"
   ]
  },
  {
   "cell_type": "code",
   "execution_count": 8,
   "id": "e95b5eed-0b51-4922-be3a-082f56841bbc",
   "metadata": {},
   "outputs": [
    {
     "data": {
      "text/plain": [
       "24"
      ]
     },
     "execution_count": 8,
     "metadata": {},
     "output_type": "execute_result"
    }
   ],
   "source": [
    "def calculate(num1,operator,num2):\n",
    "    '''\n",
    "    performs  simple mathematical operations on two given numbers.\n",
    "\n",
    "    parameters:\n",
    "    num1(int or float)\n",
    "    operator(str)-'+','-','/','*'\n",
    "    num2(int or float)\n",
    "\n",
    "    returns:\n",
    "    float,int or string if given an invalid operator\n",
    "    '''\n",
    "    if operator=='+':\n",
    "         return num1+num2\n",
    "    elif operator=='-':\n",
    "        return num1-num2\n",
    "    elif operator=='*':\n",
    "        return num1*num2\n",
    "    elif operator=='/':\n",
    "        return num1/num2\n",
    "    else:\n",
    "        return 'invalid operator'"
   ]
  },
  {
   "cell_type": "code",
   "execution_count": 9,
   "id": "d710338d-ec2e-42d1-87ca-de400b83f53c",
   "metadata": {},
   "outputs": [
    {
     "data": {
      "text/plain": [
       "24"
      ]
     },
     "execution_count": 9,
     "metadata": {},
     "output_type": "execute_result"
    }
   ],
   "source": [
    "calculate(6,'*',4)"
   ]
  },
  {
   "cell_type": "code",
   "execution_count": 10,
   "id": "65dee5a9-a55b-434c-a5e3-3b7ea80fca99",
   "metadata": {},
   "outputs": [
    {
     "data": {
      "text/plain": [
       "1.5"
      ]
     },
     "execution_count": 10,
     "metadata": {},
     "output_type": "execute_result"
    }
   ],
   "source": [
    "calculate(6,'/',4)"
   ]
  },
  {
   "cell_type": "code",
   "execution_count": 11,
   "id": "eedbeeaa-2d91-456b-8eaf-620b7cd0a518",
   "metadata": {},
   "outputs": [
    {
     "data": {
      "text/plain": [
       "42.957"
      ]
     },
     "execution_count": 11,
     "metadata": {},
     "output_type": "execute_result"
    }
   ],
   "source": [
    "calculate(6.45,'*',6.66)"
   ]
  },
  {
   "cell_type": "code",
   "execution_count": null,
   "id": "1eaa5688-e352-46ef-8b3d-cfdf91c24a09",
   "metadata": {},
   "outputs": [],
   "source": [
    "#Give me the discount"
   ]
  },
  {
   "cell_type": "code",
   "execution_count": 13,
   "id": "83f3b1c9-a7b2-4ae6-9c8d-cd87cd033139",
   "metadata": {},
   "outputs": [
    {
     "data": {
      "text/plain": [
       "80.0"
      ]
     },
     "execution_count": 13,
     "metadata": {},
     "output_type": "execute_result"
    }
   ],
   "source": [
    "def discounted_price(price,discount):\n",
    "    '''\n",
    "    Gives the priceof an item after applying a certain discount.\n",
    "\n",
    "    parameters:\n",
    "    original price of an item(int,float)\n",
    "    discount to be applied(int,float)\n",
    "\n",
    "    Returns\n",
    "    The price after discount(float,int)\n",
    "    ''''\n",
    "    discounted_price=price-((discount/100)*price)\n",
    "    return discounted_price"
   ]
  },
  {
   "cell_type": "code",
   "execution_count": 14,
   "id": "99f93525-4c6b-4988-9390-387d3b14bc8e",
   "metadata": {},
   "outputs": [
    {
     "data": {
      "text/plain": [
       "80.0"
      ]
     },
     "execution_count": 14,
     "metadata": {},
     "output_type": "execute_result"
    }
   ],
   "source": [
    "discounted_price(100,20)"
   ]
  },
  {
   "cell_type": "code",
   "execution_count": null,
   "id": "2e7fc24c-a90b-4968-91c8-aba62e9e2d64",
   "metadata": {},
   "outputs": [],
   "source": [
    "#Just the numbers"
   ]
  },
  {
   "cell_type": "code",
   "execution_count": 4,
   "id": "e32d2056-d131-4cb0-bf4c-4cf06424dcf3",
   "metadata": {},
   "outputs": [],
   "source": [
    "def retain_positive_integers(mixed_list):\n",
    "    \"\"\"\n",
    "    Retains only positive integers from a mixed list.\n",
    "\n",
    "    Parameters:\n",
    "    mixed list\n",
    "\n",
    "    Returns:\n",
    "    A new list with only positive integers.\n",
    "    \"\"\"\n",
    "    integers=[]\n",
    "    for item in mixed_list:\n",
    "        if type(item)==int and item>0:\n",
    "            integers.append(item)\n",
    "    return integers\n",
    "            "
   ]
  },
  {
   "cell_type": "code",
   "execution_count": 6,
   "id": "a27c8e6a-b7a2-43b6-b86a-92273dc3ba96",
   "metadata": {},
   "outputs": [
    {
     "name": "stdout",
     "output_type": "stream",
     "text": [
      "[6, 12, 14, 8, 30]\n"
     ]
    }
   ],
   "source": [
    "print(retain_positive_integers(['The','flock','is','made','up','of',6,'cows',12,'goats',14,'sheep',8 ,'pigs','and',30,'horses']))"
   ]
  },
  {
   "cell_type": "code",
   "execution_count": null,
   "id": "cd65344c-64e1-4474-a4e6-c52fc3a89e60",
   "metadata": {},
   "outputs": [],
   "source": [
    "#Repeat the characters"
   ]
  },
  {
   "cell_type": "code",
   "execution_count": 3,
   "id": "2ff2dbf3-bfae-4562-9d38-b4251336c230",
   "metadata": {
    "scrolled": true
   },
   "outputs": [
    {
     "data": {
      "text/plain": [
       "'AAmmiirraa'"
      ]
     },
     "execution_count": 3,
     "metadata": {},
     "output_type": "execute_result"
    }
   ],
   "source": [
    "def character_doubling(word):\n",
    "    '''\n",
    "    Takes in a  string and returns another string with each of the characters in the original string doubled.\n",
    "    \n",
    "    Parameters:\n",
    "    a string\n",
    "    \n",
    "    Returns;\n",
    "    A string with each of the characters doubled.\n",
    "    '''\n",
    "    word_plus=''\n",
    "    for char in word:\n",
    "        word_plus+=char*2\n",
    "    return word_plus\n",
    "    "
   ]
  },
  {
   "cell_type": "code",
   "execution_count": 4,
   "id": "ab246b1f-9dc8-40ca-bcc4-6550f006e930",
   "metadata": {},
   "outputs": [
    {
     "data": {
      "text/plain": [
       "'ccaatt'"
      ]
     },
     "execution_count": 4,
     "metadata": {},
     "output_type": "execute_result"
    }
   ],
   "source": [
    "character_doubling('cat')"
   ]
  },
  {
   "cell_type": "code",
   "execution_count": null,
   "id": "ce1e8dff-3997-40bd-b9fe-4a553182df05",
   "metadata": {},
   "outputs": [],
   "source": [
    "#Convert lowercase to uppercase"
   ]
  },
  {
   "cell_type": "code",
   "execution_count": 8,
   "id": "512b40cf-7375-4a68-bbb7-98e4eea12e33",
   "metadata": {},
   "outputs": [
    {
     "data": {
      "text/plain": [
       "'MOTHER'"
      ]
     },
     "execution_count": 8,
     "metadata": {},
     "output_type": "execute_result"
    }
   ],
   "source": [
    "def convert_to_uppercase(word):\n",
    "    '''\n",
    "    converts a word to capital letters\n",
    "    \n",
    "    Parameters:A string\n",
    "    \n",
    "    Returns:\n",
    "    A string in whih each of the characters are uppercase\n",
    "    '''\n",
    "    capital=''\n",
    "    for char in word:\n",
    "        capital+=char.upper()\n",
    "    return capital\n",
    "\n",
    "    "
   ]
  },
  {
   "cell_type": "code",
   "execution_count": 9,
   "id": "05d7c598-3df7-40f5-8dc0-73d04e25860a",
   "metadata": {},
   "outputs": [
    {
     "data": {
      "text/plain": [
       "'MOTHER'"
      ]
     },
     "execution_count": 9,
     "metadata": {},
     "output_type": "execute_result"
    }
   ],
   "source": [
    "convert_to_uppercase('mother')"
   ]
  },
  {
   "cell_type": "code",
   "execution_count": null,
   "id": "3ce0f26b-7c8f-4f06-93f2-07afc0e9f3ec",
   "metadata": {},
   "outputs": [],
   "source": [
    "#Add dots"
   ]
  },
  {
   "cell_type": "code",
   "execution_count": 11,
   "id": "13f6da23-51b4-4df8-bb5a-a2d6b36c756b",
   "metadata": {},
   "outputs": [
    {
     "data": {
      "text/plain": [
       "'g.r.e.a.t.'"
      ]
     },
     "execution_count": 11,
     "metadata": {},
     "output_type": "execute_result"
    }
   ],
   "source": [
    "def add_dots(word):\n",
    "    '''\n",
    "    Takes in a string and adds  dot after every character.\n",
    "    \n",
    "    Parameter:\n",
    "    string\n",
    "    Reurns:\n",
    "    A string in which each of the characters is followed by a dot.\n",
    "    ''''word_magic=''\n",
    "    for char in word:\n",
    "        word_magic+=char+'.'\n",
    "    return word_magic"
   ]
  },
  {
   "cell_type": "code",
   "execution_count": null,
   "id": "86fbe98e-0ce4-453c-9167-28df55230cc1",
   "metadata": {},
   "outputs": [],
   "source": [
    "add_dots('great')"
   ]
  }
 ],
 "metadata": {
  "kernelspec": {
   "display_name": "Python 3 (ipykernel)",
   "language": "python",
   "name": "python3"
  },
  "language_info": {
   "codemirror_mode": {
    "name": "ipython",
    "version": 3
   },
   "file_extension": ".py",
   "mimetype": "text/x-python",
   "name": "python",
   "nbconvert_exporter": "python",
   "pygments_lexer": "ipython3",
   "version": "3.13.2"
  }
 },
 "nbformat": 4,
 "nbformat_minor": 5
}
