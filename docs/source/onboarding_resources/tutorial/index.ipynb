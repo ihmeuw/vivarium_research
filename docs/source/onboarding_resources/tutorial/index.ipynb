{
 "cells": [
  {
   "cell_type": "markdown",
   "id": "96c1f48f",
   "metadata": {
    "papermill": {
     "duration": 0.034774,
     "end_time": "2025-03-11T21:27:57.124506",
     "exception": false,
     "start_time": "2025-03-11T21:27:57.089732",
     "status": "completed"
    },
    "tags": []
   },
   "source": [
    "# Tutorial: your first simulation\n",
    "\n",
    "In this tutorial, we will go through the entire research process of designing and building a simulation\n",
    "of a global health intervention."
   ]
  },
  {
   "cell_type": "raw",
   "id": "c99435d4",
   "metadata": {
    "papermill": {
     "duration": 0.022725,
     "end_time": "2025-03-11T21:27:57.170986",
     "exception": false,
     "start_time": "2025-03-11T21:27:57.148261",
     "status": "completed"
    },
    "raw_mimetype": "text/restructuredtext",
    "tags": [],
    "vscode": {
     "languageId": "raw"
    }
   },
   "source": [
    "This tutorial page is a Jupyter Notebook,\n",
    "which means that it contains snippets of executable code interspersed with the text.\n",
    "You can download the notebook file :download:`here <index.ipynb>`,\n",
    "and open it with `Visual Studio Code <https://code.visualstudio.com>`_,\n",
    "`JupyterLab <https://jupyter.org/install>`_, or other compatible software.\n",
    "\n",
    "The code snippets (called \"cells\") are written in `Python <https://www.python.org/>`_,\n",
    "and basic Python knowledge is required to understand the code,\n",
    "but the text of this page is a good introduction to our methods\n",
    "whether or not you read the code.\n",
    "\n",
    "We highly recommend following along with this tutorial\n",
    "by running it on your computer.\n",
    "To create a suitable software environment for that,\n",
    "first `install Miniforge <https://conda-forge.org/download/>`_,\n",
    "which is a minimal installer for the package management tool `Conda <https://docs.conda.io/>`_.\n",
    "Then, run the following commands in your terminal:\n",
    "\n",
    "* :code:`conda create -n tutorial python=3.11`\n",
    "* :code:`conda activate tutorial`\n",
    "* :code:`pip install uv`\n",
    "* :code:`uv pip install -r environment_lock_pip.txt` (after downloading :download:`environment_lock_pip.txt`)\n",
    "\n",
    ".. note::\n",
    "\n",
    "  If you are on 64-bit Linux and run into any issues, you can try replacing the first command with\n",
    "  :code:`conda create -n tutorial -f environment_lock_conda.txt` (after downloading :download:`environment_lock_conda.txt`)\n",
    "  to more closely match the environment in which this tutorial was created.\n",
    "\n",
    "..\n",
    "  Note to future tutorial maintainers!\n",
    "  If you need to update dependencies, run these commands\n",
    "  to create the environment from its abstract (not pinned) dependencies:\n",
    "    conda create -n tutorial python=3.11\n",
    "    conda activate tutorial\n",
    "    pip install uv\n",
    "    uv pip install vivarium[interactive] vivarium_public_health vivarium_inputs papermill\n",
    "  Then, run these commands in the environment to lock it:\n",
    "    conda list --explicit > environment_lock_conda.txt\n",
    "    pip freeze > environment_lock_pip.txt\n",
    "\n",
    "Finally, open this notebook using your new \"tutorial\" conda environment in Visual Studio Code or JupyterLab,\n",
    "and you should be ready to get started!\n",
    "\n",
    "**Running the simulation in this notebook will take on the order of 8 hours to run on a laptop.**\n",
    "You should plan to follow along until that point, and then run the simulation overnight before\n",
    "continuing.\n",
    "\n",
    ".. contents::\n",
    "  :local:\n",
    "  :depth: 3"
   ]
  },
  {
   "cell_type": "markdown",
   "id": "ce99086a",
   "metadata": {
    "papermill": {
     "duration": 0.022814,
     "end_time": "2025-03-11T21:27:57.216023",
     "exception": false,
     "start_time": "2025-03-11T21:27:57.193209",
     "status": "completed"
    },
    "tags": []
   },
   "source": [
    "## (Fictional) Scenario\n",
    "\n",
    "We typically work with a \"client\" -- a stakeholder interested in the results of a potential simulation.\n",
    "\n",
    "Let's pretend we are working with an organization that is considering funding the distribution of\n",
    "[Small-Quantity Lipid-Based Nutrient Supplements (SQ-LNS)](https://sqlns.ucdavis.edu/) in Ethiopia,\n",
    "which are food\n",
    "supplements designed to prevent malnutrition in children 6-24 months old.\n",
    "How might we start?"
   ]
  },
  {
   "cell_type": "markdown",
   "id": "d92c3a78",
   "metadata": {
    "papermill": {
     "duration": 0.023256,
     "end_time": "2025-03-11T21:27:57.261787",
     "exception": false,
     "start_time": "2025-03-11T21:27:57.238531",
     "status": "completed"
    },
    "tags": []
   },
   "source": [
    "\n",
    "## Design\n",
    "\n",
    "### Defining the research question\n",
    "\n",
    "Our research question depends entirely on the context.\n",
    "We want to answer a question that is relevant to\n",
    "the stakeholders and decision-makers we are advising,\n",
    "so we determine the question through dialogue with them.\n",
    "Often, this starts from a proposal on their side.\n",
    "The client may come to us with a question like this:\n",
    "\n",
    "> What would the impact be of scaling up SQ-LNS in Ethiopia?\n",
    "\n",
    "However, this question is **not** precise enough to be our research question.\n",
    "We need to ask clarifying questions to understand what options decision-makers\n",
    "really have and how a simulation result could help them choose.\n",
    "For example, in a perfect world we might want 100% of children to receive SQ-LNS,\n",
    "but maybe this isn't a feasible option due to funding constraints\n",
    "and practical challenges in distribution.\n",
    "\n",
    "We might ask:\n",
    "\n",
    "- How much SQ-LNS scale-up could be funded?\n",
    "- How long would the scale-up take?\n",
    "- Would it be targeted to a specific population or given to everyone?\n",
    "- What do we mean by \"impact\"? What units would this be measured in?\n",
    "- Are we interested in the impact over 5 years? 10 years? The entire lifetimes of the kids who get the intervention?\n",
    "\n",
    "Of course, in this tutorial the scenario is invented and we don't have a client\n",
    "to ask these questions.\n",
    "However, imagine that we did, and after conversations with them we land on the following research question:\n",
    "\n",
    "> How much disease burden (measured in [disability-adjusted life years](https://en.wikipedia.org/wiki/Disability-adjusted_life_year) \\[DALYs\\])\n",
    "> between the start of 2025 and the start of 2030 would be averted by\n",
    "> delivering SQ-LNS to all eligible children in Ethiopia starting in 2025?"
   ]
  },
  {
   "cell_type": "markdown",
   "id": "1c5f2985",
   "metadata": {
    "papermill": {
     "duration": 0.023791,
     "end_time": "2025-03-11T21:27:57.309045",
     "exception": false,
     "start_time": "2025-03-11T21:27:57.285254",
     "status": "completed"
    },
    "tags": []
   },
   "source": [
    "### Making a causal diagram\n",
    "\n",
    "Answering this question seems quite difficult --\n",
    "after all, there are no data from our years of interest (since they are in the future),\n",
    "and in order to isolate the **effect** of the scale-up, we'd want to\n",
    "compare a universe where SQ-LNS was delivered with one where it wasn't.\n",
    "\n",
    "The only way to get out of this conundrum is to apply an understanding of **how** our intervention\n",
    "could have an impact.\n",
    "What is the **mechanism**?\n",
    "\n",
    "A [causal diagram](../../model_design/general_reference_material/causal_diagrams/index.rst) is a convenient\n",
    "graphical tool for expressing our knowledge about what causes what.\n",
    "In these diagrams, we draw boxes for each factor of interest and arrows to indicate that one *causally* impacts the other.\n",
    "We only asked the research question in the first place because we think that\n",
    "our intervention (SQ-LNS) has a causal effect on the outcome (disease burden):"
   ]
  },
  {
   "cell_type": "raw",
   "id": "5b13a044",
   "metadata": {
    "papermill": {
     "duration": 0.023134,
     "end_time": "2025-03-11T21:27:57.354555",
     "exception": false,
     "start_time": "2025-03-11T21:27:57.331421",
     "status": "completed"
    },
    "raw_mimetype": "text/restructuredtext",
    "tags": [],
    "vscode": {
     "languageId": "raw"
    }
   },
   "source": [
    ".. graphviz::\n",
    "\n",
    "    digraph {\n",
    "        rankdir=LR;\n",
    "        bgcolor=\"transparent\";\n",
    "        node [shape=box]; // Default shape\n",
    "        // Define nodes\n",
    "        \"SQ-LNS\" -> \"burden\";\n",
    "    }"
   ]
  },
  {
   "cell_type": "markdown",
   "id": "f243bf29",
   "metadata": {
    "papermill": {
     "duration": 0.022681,
     "end_time": "2025-03-11T21:27:57.443772",
     "exception": false,
     "start_time": "2025-03-11T21:27:57.421091",
     "status": "completed"
    },
    "tags": []
   },
   "source": [
    "In order to simulate the effect of SQ-LNS without actually running a randomized controlled\n",
    "trial (RCT) in Ethiopia, we need to add more detail to this diagram.\n",
    "What are the intermediate factors on the pathway from SQ-LNS to burden?\n",
    "We can get a good start in the [SQ-LNS FAQs](https://sqlns.ucdavis.edu/FAQs):\n",
    "\n",
    "> **What are the benefits of using SQ-LNS?**\n",
    ">\n",
    "> A recent individual participant data (IPD) meta-analysis of 14 randomized controlled trials of SQ-LNS provided to children 6-24 months of age (n > 37,000 children) in low- and middle-income countries indicated beneficial effects of SQ-LNS on the prevention of stunting, wasting, developmental delay, anemia and micronutrient deficiencies (Dewey et al. 2021).  These benefits were relatively consistent across study contexts (region, stunting prevalence, anemia prevalence and malaria burden) and study design (duration of supplementation, delivery platform, etc.). Children who received SQ-LNS had a:\n",
    "> * 12-14% lower prevalence of stunting, wasting and underweight (Dewey et al. 2021).\n",
    "> * 31% lower prevalence of severe wasting and 17% lower prevalence of severe stunting (Dewey et al. 2022).\n",
    "> * 16% lower prevalence of anemia, 56% lower prevalence of iron deficiency, and 64% lower prevalence of iron-deficiency anemia (Wessells et al. 2021).\n",
    "> * 16-19% lower likelihood of scoring in the lowest decile for language, socio-emotional, and motor development (Prado et al. 2021).\n",
    ">\n",
    "> Evidence from a meta-analysis also suggests that lipid-based nutrient supplements (SQ- and MQ-LNS trials combined) can reduce child mortality by ~27% between 6 and 24 months of age (Stewart et al. 2020).\n",
    "> The 14 randomized controlled trials included in the IPD meta-analysis of SQ-LNS were conducted in 9 different countries in Asia, sub-Saharan Africa and Latin American and the Caribbean, and were completed between 2007 and 2019. None of these 14 trials was funded by industry (Dewey et al. 2021), and only one of them received “in-kind” support in the form of donated SQ-LNS from a company.\n",
    "\n",
    "Of course, the FAQ barely scratches the surface. To do our due diligence, we'd likely want to read the referenced papers, and perhaps even do a literature\n",
    "review of our own.\n",
    "One thing to keep an eye out for is any evidence about **negative** effects of our intervention --\n",
    "in practice there are usually some side effects or risks to balance against the benefits.\n",
    "However, for the sake of this tutorial, we'll just use the information from the FAQ.\n",
    "\n",
    "Let's update our causal diagram.\n",
    "Child mortality is clearly one important type of disease burden, though not the only type\n",
    "(children might suffer ill health without dying).\n",
    "Though it's not explicitly stated, we can assume all the health issues mentioned in the FAQ\n",
    "cause some form of disease burden, but we're not sure which can cause death.\n",
    "The mechanism by which SQ-LNS reduces child mortality is not totally clear from this information --\n",
    "it could be purely a result of the other benefits listed, or there might be some additional, separate benefit.\n",
    "\n",
    "We'll also weave in our understanding that \"iron-deficiency anemia\" means anemia *caused by* iron deficiency."
   ]
  },
  {
   "cell_type": "raw",
   "id": "ab0df699",
   "metadata": {
    "papermill": {
     "duration": 0.022733,
     "end_time": "2025-03-11T21:27:57.489145",
     "exception": false,
     "start_time": "2025-03-11T21:27:57.466412",
     "status": "completed"
    },
    "raw_mimetype": "text/restructuredtext",
    "tags": [],
    "vscode": {
     "languageId": "raw"
    }
   },
   "source": [
    ".. graphviz::\n",
    "\n",
    "    digraph {\n",
    "        // https://stackoverflow.com/a/2012106/\n",
    "        compound=true;\n",
    "        rankdir=LR;\n",
    "        bgcolor=\"transparent\";\n",
    "        node [shape=box]; // Default shape\n",
    "        // Define nodes\n",
    "        \"SQ-LNS\";\n",
    "        \"stunting\";\n",
    "        \"wasting\";\n",
    "        \"underweight\";\n",
    "        \"iron deficiency\";\n",
    "        \"cognitive development\";\n",
    "        \"anemia\";\n",
    "\n",
    "        subgraph cluster_burden {\n",
    "            label=\"burden\";\n",
    "            \"mortality\";\n",
    "        }\n",
    "\n",
    "        // Define solid edges\n",
    "        \"SQ-LNS\" -> \"stunting\";\n",
    "        \"SQ-LNS\" -> \"wasting\";\n",
    "        \"SQ-LNS\" -> \"underweight\";\n",
    "        \"SQ-LNS\" -> \"iron deficiency\";\n",
    "        \"SQ-LNS\" -> \"cognitive development\";\n",
    "        \"iron deficiency\" -> \"anemia\";\n",
    "        \"stunting\" -> \"mortality\" [lhead=cluster_burden];\n",
    "        \"wasting\" -> \"mortality\" [lhead=cluster_burden];\n",
    "        \"underweight\" -> \"mortality\" [lhead=cluster_burden];\n",
    "        \"anemia\" -> \"mortality\" [lhead=cluster_burden];\n",
    "        \"cognitive development\" -> \"mortality\" [lhead=cluster_burden];\n",
    "\n",
    "        // Define dashed edges with labels\n",
    "        edge [style=dashed, label=\"?\"];\n",
    "        \"SQ-LNS\" -> \"mortality\";\n",
    "        \"SQ-LNS\" -> \"anemia\";\n",
    "    }"
   ]
  },
  {
   "cell_type": "markdown",
   "id": "28d5e531",
   "metadata": {
    "papermill": {
     "duration": 0.022164,
     "end_time": "2025-03-11T21:27:57.534104",
     "exception": false,
     "start_time": "2025-03-11T21:27:57.511940",
     "status": "completed"
    },
    "tags": []
   },
   "source": [
    "Now it is time to bring the [**Global Burden of Disease Study (GBD)**](https://www.healthdata.org/research-analysis/gbd) into the picture.\n",
    "In almost every global health model we make, GBD is the cornerstone data source.\n",
    "It provides us with estimates about a wide array of health outcomes and risk factors in\n",
    "a standard format, which allows us to much more quickly build simulations using these data.\n",
    "GBD estimates are the result of a very complex process; in this tutorial,\n",
    "we won't dive any deeper into GBD methods than we absolutely need to,\n",
    "but we will provide guidance on where you can learn more.\n",
    "\n",
    "Some foundational GBD terminology: **burden** (measured in disability-adjusted life years \\[DALYs\\])\n",
    "is composed of **fatal burden** (burden due to premature death, measured in years of life lost \\[YLLs\\])\n",
    "and **nonfatal burden** (burden due to disability, measured in years lived with disability \\[YLDs\\]).\n",
    "In fact, DALYs equal the sum of YLLs and YLDs.\n",
    "\n",
    "All burden has a **cause** -- this general word means something very specific in GBD!\n",
    "A GBD cause is a _disease_ or _injury_, such as lung cancer or road injuries, that causes burden (hence the name).\n",
    "\n",
    "A **risk** or **risk factor** is (very roughly) something that is not itself a disease or injury\n",
    "but makes disease or injury more likely, such as air pollution.\n",
    "However, this is often kind of a fuzzy distinction/judgement call:\n",
    "for example, does having high blood pressure count as a disease or just something that can\n",
    "lead to one?\n",
    "(GBD's answer: the latter. High systolic blood pressure is considered a risk factor.\n",
    "It can lead to diseases such as hypertensive heart disease.)"
   ]
  },
  {
   "cell_type": "markdown",
   "id": "60479645",
   "metadata": {
    "papermill": {
     "duration": 0.022834,
     "end_time": "2025-03-11T21:27:57.580276",
     "exception": false,
     "start_time": "2025-03-11T21:27:57.557442",
     "status": "completed"
    },
    "tags": []
   },
   "source": [
    "\n",
    "GBD has its own (implied) causal diagram, which isn't always the same as what we have in\n",
    "our heads or get from other data sources.\n",
    "We'll want to check how GBD models things early in the process -- divergence from GBD\n",
    "can make our job much harder!\n",
    "\n",
    "The basic structure of a GBD causal diagram is as follows.\n",
    "Risks affect causes, which may affect fatal and/or nonfatal burden,\n",
    "which sum to total burden.\n",
    "Sometimes, risks can affect other risks, which is a concept known in\n",
    "epidemiology as \"mediation.\""
   ]
  },
  {
   "cell_type": "raw",
   "id": "b28b9b0b",
   "metadata": {
    "papermill": {
     "duration": 0.023397,
     "end_time": "2025-03-11T21:27:57.627305",
     "exception": false,
     "start_time": "2025-03-11T21:27:57.603908",
     "status": "completed"
    },
    "raw_mimetype": "text/restructuredtext",
    "tags": [],
    "vscode": {
     "languageId": "raw"
    }
   },
   "source": [
    ".. graphviz::\n",
    "\n",
    "    digraph {\n",
    "        rankdir=LR;\n",
    "        bgcolor=\"transparent\";\n",
    "        node [shape=box]; // Default shape\n",
    "\n",
    "        // Node style\n",
    "        node [style=filled, fillcolor=\"#17B9CF\", fontcolor=black];\n",
    "        risk_1 [label=\"risk 1\"];\n",
    "        risk_2 [label=\"risk 2\"];\n",
    "\n",
    "        node [style=filled, fillcolor=\"#32CA81\", fontcolor=black];\n",
    "        cause [label=\"cause\"];\n",
    "\n",
    "        node [style=\"\", color=black, fillcolor=\"\"];\n",
    "        subgraph cluster_burden {\n",
    "            label=\"burden\";\n",
    "            nonfatal [label=\"nonfatal (YLDs)\"];\n",
    "            fatal [label=\"fatal (YLLs)\"];\n",
    "        }\n",
    "\n",
    "        // Edges\n",
    "        risk_1 -> cause;\n",
    "        risk_2 -> cause;\n",
    "        risk_1 -> risk_2 [style=dashed, label=\"sometimes\"];\n",
    "        cause -> fatal;\n",
    "        cause -> nonfatal;\n",
    "    }"
   ]
  },
  {
   "cell_type": "markdown",
   "id": "2f2da4d0",
   "metadata": {
    "papermill": {
     "duration": 0.023299,
     "end_time": "2025-03-11T21:27:57.674023",
     "exception": false,
     "start_time": "2025-03-11T21:27:57.650724",
     "status": "completed"
    },
    "tags": []
   },
   "source": [
    "In many cases, that is all we need to look at in GBD.\n",
    "However, GBD nonfatal burden is actually categorized [in a more complicated way](../../model_design/vivarium_model_components/GBD_disease_health/index.rst)\n",
    "that introduces another layer: _sequelae_,\n",
    "which are detailed types of impact a cause can have on a person's health.\n",
    "For example, \"mild heart failure due to hypertensive heart disease\" is a sequela caused by \"hypertensive heart disease.\"\n",
    "Sometimes, we need to think about these, especially when something we model corresponds to a GBD _impairment_,\n",
    "which is a collection of sequelae across one or more causes."
   ]
  },
  {
   "cell_type": "raw",
   "id": "28d63b16",
   "metadata": {
    "papermill": {
     "duration": 0.022979,
     "end_time": "2025-03-11T21:27:57.720569",
     "exception": false,
     "start_time": "2025-03-11T21:27:57.697590",
     "status": "completed"
    },
    "raw_mimetype": "text/restructuredtext",
    "tags": [],
    "vscode": {
     "languageId": "raw"
    }
   },
   "source": [
    ".. graphviz::\n",
    "\n",
    "    digraph {\n",
    "        rankdir=LR;\n",
    "        bgcolor=\"transparent\";\n",
    "        node [shape=box]; // Default shape\n",
    "\n",
    "        // Node styles for risk\n",
    "        node [style=filled, fillcolor=\"#17B9CF\", fontcolor=black];\n",
    "        risk_1 [label=\"risk 1\"];\n",
    "        risk_2 [label=\"risk 2\"];\n",
    "\n",
    "        // Node style for cause\n",
    "        node [style=filled, fillcolor=\"#32CA81\", fontcolor=black];\n",
    "        cause [label=\"cause\"];\n",
    "\n",
    "        // Node style for sequela\n",
    "        node [style=filled, fillcolor=\"#FF8B66\", fontcolor=black];\n",
    "        sequela_1 [label=\"sequela 1\"];\n",
    "        sequela_2 [label=\"sequela 2\"];\n",
    "        sequela_3 [label=\"sequela 3\"];\n",
    "\n",
    "        // Default node style for others\n",
    "        node [style=\"\", color=black, fillcolor=\"\"];\n",
    "\n",
    "        // Edges\n",
    "        risk_1 -> cause;\n",
    "        risk_2 -> cause;\n",
    "        risk_1 -> risk_2 [style=dashed, label=\"sometimes\"];\n",
    "        cause -> fatal;\n",
    "\n",
    "        // Subgraph for impairment\n",
    "        subgraph cluster_impairment {\n",
    "            label=\"impairment (sometimes)\";\n",
    "            color=black;\n",
    "\n",
    "            sequela_1;\n",
    "            sequela_2;\n",
    "        }\n",
    "\n",
    "        subgraph cluster_burden {\n",
    "            label=\"burden\";\n",
    "            nonfatal [label=\"nonfatal (YLDs)\"];\n",
    "            fatal [label=\"fatal (YLLs)\"];\n",
    "        }\n",
    "\n",
    "        // Additional relationships\n",
    "        cause -> sequela_1;\n",
    "        cause -> sequela_2;\n",
    "        cause -> sequela_3;\n",
    "        sequela_1 -> nonfatal;\n",
    "        sequela_2 -> nonfatal;\n",
    "        sequela_3 -> nonfatal;\n",
    "    }"
   ]
  },
  {
   "cell_type": "markdown",
   "id": "e2439811",
   "metadata": {
    "papermill": {
     "duration": 0.023194,
     "end_time": "2025-03-11T21:27:57.766357",
     "exception": false,
     "start_time": "2025-03-11T21:27:57.743163",
     "status": "completed"
    },
    "tags": []
   },
   "source": [
    "Lastly, there are always exceptions and places where the GBD causal diagram doesn't work this way. This can take some work to figure out, and usually starts with digging into the GBD methods -- we'll show you how to do this below!"
   ]
  },
  {
   "cell_type": "markdown",
   "id": "923ae1c4",
   "metadata": {
    "papermill": {
     "duration": 0.022375,
     "end_time": "2025-03-11T21:27:57.811846",
     "exception": false,
     "start_time": "2025-03-11T21:27:57.789471",
     "status": "completed"
    },
    "tags": []
   },
   "source": [
    "The first step in designing our simulation is to find the GBD entities appropriate for modeling that are most relevant to our working causal diagram for SQ-LNS.\n",
    "\n",
    "<div class=\"alert alert-info\">\n",
    "\n",
    "Note\n",
    "\n",
    "What do we mean by \"appropriate for modeling\"?\n",
    "\n",
    "This is a complex topic, but for now what you need to know is:\n",
    "\n",
    "* GBD causes and risks are both hierarchical.\n",
    "  There are higher-level causes such as sexually transmitted infection that are made up of more detailed lower-level causes such as syphilis.\n",
    "  Likewise, there are higher-level risks such as \"metabolic risks\" that are made up of more detailed risks such as high blood pressure.\n",
    "* We typically only model most-detailed causes and risks.\n",
    "  GBD doesn't estimate all the quantities we need for modeling about higher-level entities.\n",
    "  With extra work, it may be possible for us to derive these quantities from GBD results, but that is not common practice on our team and is\n",
    "  outside the scope of this tutorial. \n",
    "  This is an area our team is interested in exploring more in the future.\n",
    "\n",
    "</div>"
   ]
  },
  {
   "cell_type": "markdown",
   "id": "264b921e",
   "metadata": {
    "papermill": {
     "duration": 0.023293,
     "end_time": "2025-03-11T21:27:57.857640",
     "exception": false,
     "start_time": "2025-03-11T21:27:57.834347",
     "status": "completed"
    },
    "tags": []
   },
   "source": [
    "There are several ways to find these entities.\n",
    "\n",
    "* If you open [the GBD results tool](https://vizhub.healthdata.org/gbd-results/),\n",
    "  the sidebar on the left allows you to search and select causes, risks, and impairments.\n",
    "* If you open [GBD Compare](https://vizhub.healthdata.org/gbd-compare/#) to the map or plot view,\n",
    "  the sidebar on the left allows you to search and select causes and risks (and impairments, if you\n",
    "  click \"use advanced settings\").\n",
    "* Internally to IHME, there is the [Shared Hierarchy Editor](https://she.ihme.washington.edu/explore/cause/version/655)\n",
    "  -- don't worry, you won't edit anything by accident.\n",
    "* Entities can be accessed programmatically with the `gbd_mapping` package, which is part of our Vivarium microsimulation suite.\n",
    "  Internally to IHME, [shared functions](https://hub.ihme.washington.edu/spaces/SF/pages/140542419/Shared+Functions+Home) can also be used.\n",
    "\n",
    "Here, we'll use `gbd_mapping`."
   ]
  },
  {
   "cell_type": "code",
   "execution_count": 1,
   "id": "9ac95f1e",
   "metadata": {
    "papermill": {
     "duration": 0.428311,
     "end_time": "2025-03-11T21:27:58.309341",
     "exception": false,
     "start_time": "2025-03-11T21:27:57.881030",
     "status": "completed"
    },
    "tags": []
   },
   "outputs": [],
   "source": [
    "import gbd_mapping"
   ]
  },
  {
   "cell_type": "code",
   "execution_count": 2,
   "id": "db52c4f2",
   "metadata": {
    "papermill": {
     "duration": 0.029533,
     "end_time": "2025-03-11T21:27:58.367331",
     "exception": false,
     "start_time": "2025-03-11T21:27:58.337798",
     "status": "completed"
    },
    "tags": []
   },
   "outputs": [],
   "source": [
    "# This function searches all the most-detailed risk factors\n",
    "# (i.e. those generally appropriate for modeling)\n",
    "# for those that contain a search term.\n",
    "def most_detailed_risk_factors_containing(term: str) -> list[str]:\n",
    "    return [\n",
    "        r.name for r in gbd_mapping.risk_factors if term in r.name and r.most_detailed\n",
    "    ]"
   ]
  },
  {
   "cell_type": "code",
   "execution_count": 3,
   "id": "b2ad816c",
   "metadata": {
    "papermill": {
     "duration": 0.031441,
     "end_time": "2025-03-11T21:27:58.421974",
     "exception": false,
     "start_time": "2025-03-11T21:27:58.390533",
     "status": "completed"
    },
    "tags": []
   },
   "outputs": [
    {
     "data": {
      "text/plain": [
       "['child_stunting']"
      ]
     },
     "execution_count": 3,
     "metadata": {},
     "output_type": "execute_result"
    }
   ],
   "source": [
    "most_detailed_risk_factors_containing(\"stunting\")"
   ]
  },
  {
   "cell_type": "code",
   "execution_count": 4,
   "id": "2a301077",
   "metadata": {
    "papermill": {
     "duration": 0.029568,
     "end_time": "2025-03-11T21:27:58.474864",
     "exception": false,
     "start_time": "2025-03-11T21:27:58.445296",
     "status": "completed"
    },
    "tags": []
   },
   "outputs": [
    {
     "data": {
      "text/plain": [
       "['child_wasting']"
      ]
     },
     "execution_count": 4,
     "metadata": {},
     "output_type": "execute_result"
    }
   ],
   "source": [
    "most_detailed_risk_factors_containing(\"wasting\")"
   ]
  },
  {
   "cell_type": "code",
   "execution_count": 5,
   "id": "bfe1f9dd",
   "metadata": {
    "papermill": {
     "duration": 0.03059,
     "end_time": "2025-03-11T21:27:58.528420",
     "exception": false,
     "start_time": "2025-03-11T21:27:58.497830",
     "status": "completed"
    },
    "tags": []
   },
   "outputs": [
    {
     "data": {
      "text/plain": [
       "['child_underweight']"
      ]
     },
     "execution_count": 5,
     "metadata": {},
     "output_type": "execute_result"
    }
   ],
   "source": [
    "most_detailed_risk_factors_containing(\"underweight\")"
   ]
  },
  {
   "cell_type": "code",
   "execution_count": 6,
   "id": "e2d14e23",
   "metadata": {
    "papermill": {
     "duration": 0.02916,
     "end_time": "2025-03-11T21:27:58.581871",
     "exception": false,
     "start_time": "2025-03-11T21:27:58.552711",
     "status": "completed"
    },
    "tags": []
   },
   "outputs": [
    {
     "data": {
      "text/plain": [
       "['iron_deficiency']"
      ]
     },
     "execution_count": 6,
     "metadata": {},
     "output_type": "execute_result"
    }
   ],
   "source": [
    "most_detailed_risk_factors_containing(\"iron\")"
   ]
  },
  {
   "cell_type": "code",
   "execution_count": 7,
   "id": "439198ea",
   "metadata": {
    "papermill": {
     "duration": 0.030586,
     "end_time": "2025-03-11T21:27:58.635332",
     "exception": false,
     "start_time": "2025-03-11T21:27:58.604746",
     "status": "completed"
    },
    "tags": []
   },
   "outputs": [
    {
     "data": {
      "text/plain": [
       "[]"
      ]
     },
     "execution_count": 7,
     "metadata": {},
     "output_type": "execute_result"
    }
   ],
   "source": [
    "most_detailed_risk_factors_containing(\"anem\")"
   ]
  },
  {
   "cell_type": "code",
   "execution_count": 8,
   "id": "0b24858e",
   "metadata": {
    "papermill": {
     "duration": 0.030425,
     "end_time": "2025-03-11T21:27:58.693550",
     "exception": false,
     "start_time": "2025-03-11T21:27:58.663125",
     "status": "completed"
    },
    "tags": []
   },
   "outputs": [
    {
     "data": {
      "text/plain": [
       "[]"
      ]
     },
     "execution_count": 8,
     "metadata": {},
     "output_type": "execute_result"
    }
   ],
   "source": [
    "most_detailed_risk_factors_containing(\"cogn\")"
   ]
  },
  {
   "cell_type": "markdown",
   "id": "23af455a",
   "metadata": {
    "papermill": {
     "duration": 0.02374,
     "end_time": "2025-03-11T21:27:58.740683",
     "exception": false,
     "start_time": "2025-03-11T21:27:58.716943",
     "status": "completed"
    },
    "tags": []
   },
   "source": [
    "We see that child stunting, wasting, and underweight are all risk factors, as is iron deficiency. However, we don't see anything for anemia or cognition yet."
   ]
  },
  {
   "cell_type": "code",
   "execution_count": 9,
   "id": "8fe067c1",
   "metadata": {
    "papermill": {
     "duration": 0.029402,
     "end_time": "2025-03-11T21:27:58.794636",
     "exception": false,
     "start_time": "2025-03-11T21:27:58.765234",
     "status": "completed"
    },
    "tags": []
   },
   "outputs": [],
   "source": [
    "# Analogous function for GBD causes\n",
    "def most_detailed_causes_containing(term: str) -> list[str]:\n",
    "    return [c.name for c in gbd_mapping.causes if term in c.name and c.most_detailed]"
   ]
  },
  {
   "cell_type": "code",
   "execution_count": 10,
   "id": "7ecf7e5e",
   "metadata": {
    "papermill": {
     "duration": 0.030145,
     "end_time": "2025-03-11T21:27:58.847695",
     "exception": false,
     "start_time": "2025-03-11T21:27:58.817550",
     "status": "completed"
    },
    "tags": []
   },
   "outputs": [
    {
     "data": {
      "text/plain": [
       "['other_hemoglobinopathies_and_hemolytic_anemias']"
      ]
     },
     "execution_count": 10,
     "metadata": {},
     "output_type": "execute_result"
    }
   ],
   "source": [
    "most_detailed_causes_containing(\"anem\")"
   ]
  },
  {
   "cell_type": "code",
   "execution_count": 11,
   "id": "247a7b9d",
   "metadata": {
    "papermill": {
     "duration": 0.030963,
     "end_time": "2025-03-11T21:27:58.902042",
     "exception": false,
     "start_time": "2025-03-11T21:27:58.871079",
     "status": "completed"
    },
    "tags": []
   },
   "outputs": [
    {
     "data": {
      "text/plain": [
       "['dietary_iron_deficiency', 'environmental_heat_and_cold_exposure']"
      ]
     },
     "execution_count": 11,
     "metadata": {},
     "output_type": "execute_result"
    }
   ],
   "source": [
    "most_detailed_causes_containing(\"iron\")"
   ]
  },
  {
   "cell_type": "code",
   "execution_count": 12,
   "id": "3c32003a",
   "metadata": {
    "papermill": {
     "duration": 0.03083,
     "end_time": "2025-03-11T21:27:58.957014",
     "exception": false,
     "start_time": "2025-03-11T21:27:58.926184",
     "status": "completed"
    },
    "tags": []
   },
   "outputs": [
    {
     "data": {
      "text/plain": [
       "[]"
      ]
     },
     "execution_count": 12,
     "metadata": {},
     "output_type": "execute_result"
    }
   ],
   "source": [
    "most_detailed_causes_containing(\"cogn\")"
   ]
  },
  {
   "cell_type": "code",
   "execution_count": 13,
   "id": "509f6b22",
   "metadata": {
    "papermill": {
     "duration": 0.030677,
     "end_time": "2025-03-11T21:27:59.011941",
     "exception": false,
     "start_time": "2025-03-11T21:27:58.981264",
     "status": "completed"
    },
    "tags": []
   },
   "outputs": [
    {
     "data": {
      "text/plain": [
       "['idiopathic_developmental_intellectual_disability']"
      ]
     },
     "execution_count": 13,
     "metadata": {},
     "output_type": "execute_result"
    }
   ],
   "source": [
    "most_detailed_causes_containing(\"intell\")"
   ]
  },
  {
   "cell_type": "markdown",
   "id": "5d550c26",
   "metadata": {
    "papermill": {
     "duration": 0.024639,
     "end_time": "2025-03-11T21:27:59.061557",
     "exception": false,
     "start_time": "2025-03-11T21:27:59.036918",
     "status": "completed"
    },
    "tags": []
   },
   "source": [
    "Based on a Google search, we learn that \"hemoglobinopathies\" and \"hemolytic anemias\"\n",
    "are types of anemia *not* caused by iron deficiency. And idiopathic developmental intellectual disability looks to be a very\n",
    "specific and severe issue with cognitive development, whereas the reported impact of SQ-LNS was on being in the lowest decile.\n",
    "So neither of these are too useful for modeling SQ-LNS.\n",
    "\"Dietary iron deficiency\" does sound interesting, though you might wonder how it differs from the \"iron deficiency\" risk factor.\n",
    "More on that in a moment.\n",
    "\n",
    "Let's look at what causes are affected by the risk factors we found."
   ]
  },
  {
   "cell_type": "code",
   "execution_count": 14,
   "id": "7db25358",
   "metadata": {
    "papermill": {
     "duration": 0.029954,
     "end_time": "2025-03-11T21:27:59.116203",
     "exception": false,
     "start_time": "2025-03-11T21:27:59.086249",
     "status": "completed"
    },
    "tags": []
   },
   "outputs": [],
   "source": [
    "def most_detailed_affected_causes(risk: gbd_mapping.RiskFactor) -> list[str]:\n",
    "    return [c.name for c in risk.affected_causes if c.most_detailed]"
   ]
  },
  {
   "cell_type": "code",
   "execution_count": 15,
   "id": "ed447d76",
   "metadata": {
    "papermill": {
     "duration": 0.030123,
     "end_time": "2025-03-11T21:27:59.171245",
     "exception": false,
     "start_time": "2025-03-11T21:27:59.141122",
     "status": "completed"
    },
    "tags": []
   },
   "outputs": [
    {
     "data": {
      "text/plain": [
       "['diarrheal_diseases', 'lower_respiratory_infections', 'measles', 'malaria']"
      ]
     },
     "execution_count": 15,
     "metadata": {},
     "output_type": "execute_result"
    }
   ],
   "source": [
    "most_detailed_affected_causes(gbd_mapping.risk_factors.child_stunting)"
   ]
  },
  {
   "cell_type": "code",
   "execution_count": 16,
   "id": "a027755e",
   "metadata": {
    "papermill": {
     "duration": 0.030945,
     "end_time": "2025-03-11T21:27:59.226291",
     "exception": false,
     "start_time": "2025-03-11T21:27:59.195346",
     "status": "completed"
    },
    "tags": []
   },
   "outputs": [
    {
     "data": {
      "text/plain": [
       "['diarrheal_diseases',\n",
       " 'lower_respiratory_infections',\n",
       " 'measles',\n",
       " 'malaria',\n",
       " 'protein_energy_malnutrition']"
      ]
     },
     "execution_count": 16,
     "metadata": {},
     "output_type": "execute_result"
    }
   ],
   "source": [
    "most_detailed_affected_causes(gbd_mapping.risk_factors.child_wasting)"
   ]
  },
  {
   "cell_type": "code",
   "execution_count": 17,
   "id": "2fac1dac",
   "metadata": {
    "papermill": {
     "duration": 0.031022,
     "end_time": "2025-03-11T21:27:59.281037",
     "exception": false,
     "start_time": "2025-03-11T21:27:59.250015",
     "status": "completed"
    },
    "tags": []
   },
   "outputs": [
    {
     "data": {
      "text/plain": [
       "['diarrheal_diseases',\n",
       " 'lower_respiratory_infections',\n",
       " 'measles',\n",
       " 'malaria',\n",
       " 'protein_energy_malnutrition']"
      ]
     },
     "execution_count": 17,
     "metadata": {},
     "output_type": "execute_result"
    }
   ],
   "source": [
    "most_detailed_affected_causes(gbd_mapping.risk_factors.child_underweight)"
   ]
  },
  {
   "cell_type": "code",
   "execution_count": 18,
   "id": "02488d9e",
   "metadata": {
    "papermill": {
     "duration": 0.031669,
     "end_time": "2025-03-11T21:27:59.337267",
     "exception": false,
     "start_time": "2025-03-11T21:27:59.305598",
     "status": "completed"
    },
    "tags": []
   },
   "outputs": [
    {
     "data": {
      "text/plain": [
       "'child_growth_failure'"
      ]
     },
     "execution_count": 18,
     "metadata": {},
     "output_type": "execute_result"
    }
   ],
   "source": [
    "# Interesting that child stunting, wasting, and underweight are all associated with some of\n",
    "# the same causes!\n",
    "# Are they part of a GBD parent risk factor?\n",
    "gbd_mapping.risk_factors.child_stunting.parent.name"
   ]
  },
  {
   "cell_type": "code",
   "execution_count": 19,
   "id": "f234c518",
   "metadata": {
    "papermill": {
     "duration": 0.030518,
     "end_time": "2025-03-11T21:27:59.392867",
     "exception": false,
     "start_time": "2025-03-11T21:27:59.362349",
     "status": "completed"
    },
    "tags": []
   },
   "outputs": [
    {
     "data": {
      "text/plain": [
       "['child_underweight', 'child_wasting', 'child_stunting']"
      ]
     },
     "execution_count": 19,
     "metadata": {},
     "output_type": "execute_result"
    }
   ],
   "source": [
    "# That contains all three!\n",
    "[c.name for c in gbd_mapping.risk_factors.child_growth_failure.sub_risk_factors]"
   ]
  },
  {
   "cell_type": "code",
   "execution_count": 20,
   "id": "2d024de4",
   "metadata": {
    "papermill": {
     "duration": 0.031056,
     "end_time": "2025-03-11T21:27:59.449303",
     "exception": false,
     "start_time": "2025-03-11T21:27:59.418247",
     "status": "completed"
    },
    "tags": []
   },
   "outputs": [
    {
     "data": {
      "text/plain": [
       "['maternal_hemorrhage',\n",
       " 'maternal_sepsis_and_other_maternal_infections',\n",
       " 'maternal_hypertensive_disorders',\n",
       " 'maternal_obstructed_labor_and_uterine_rupture',\n",
       " 'ectopic_pregnancy',\n",
       " 'indirect_maternal_deaths',\n",
       " 'late_maternal_deaths',\n",
       " 'other_direct_maternal_disorders',\n",
       " 'dietary_iron_deficiency',\n",
       " 'maternal_deaths_aggravated_by_hiv_aids',\n",
       " 'maternal_abortion_and_miscarriage']"
      ]
     },
     "execution_count": 20,
     "metadata": {},
     "output_type": "execute_result"
    }
   ],
   "source": [
    "most_detailed_affected_causes(gbd_mapping.risk_factors.iron_deficiency)"
   ]
  },
  {
   "cell_type": "code",
   "execution_count": 21,
   "id": "3185531f",
   "metadata": {
    "papermill": {
     "duration": 0.033282,
     "end_time": "2025-03-11T21:27:59.506232",
     "exception": false,
     "start_time": "2025-03-11T21:27:59.472950",
     "status": "completed"
    },
    "tags": []
   },
   "outputs": [
    {
     "data": {
      "text/plain": [
       "'maternal_disorders'"
      ]
     },
     "execution_count": 21,
     "metadata": {},
     "output_type": "execute_result"
    }
   ],
   "source": [
    "# Hmm, a lot of maternal stuff in that list.\n",
    "# Let's see if we can find a parent cause.\n",
    "gbd_mapping.causes.maternal_hemorrhage.parent.name"
   ]
  },
  {
   "cell_type": "code",
   "execution_count": 22,
   "id": "205bdf42",
   "metadata": {
    "papermill": {
     "duration": 0.031689,
     "end_time": "2025-03-11T21:27:59.562643",
     "exception": false,
     "start_time": "2025-03-11T21:27:59.530954",
     "status": "completed"
    },
    "tags": []
   },
   "outputs": [
    {
     "data": {
      "text/plain": [
       "['maternal_hemorrhage',\n",
       " 'maternal_sepsis_and_other_maternal_infections',\n",
       " 'maternal_hypertensive_disorders',\n",
       " 'maternal_obstructed_labor_and_uterine_rupture',\n",
       " 'ectopic_pregnancy',\n",
       " 'indirect_maternal_deaths',\n",
       " 'late_maternal_deaths',\n",
       " 'other_direct_maternal_disorders',\n",
       " 'maternal_deaths_aggravated_by_hiv_aids',\n",
       " 'maternal_abortion_and_miscarriage']"
      ]
     },
     "execution_count": 22,
     "metadata": {},
     "output_type": "execute_result"
    }
   ],
   "source": [
    "# Which ones does that contain?\n",
    "maternal_disorders_sub_causes = [\n",
    "    c.name for c in gbd_mapping.causes.maternal_disorders.sub_causes\n",
    "]\n",
    "maternal_disorders_sub_causes"
   ]
  },
  {
   "cell_type": "code",
   "execution_count": 23,
   "id": "760df5a5",
   "metadata": {
    "papermill": {
     "duration": 0.032524,
     "end_time": "2025-03-11T21:27:59.620268",
     "exception": false,
     "start_time": "2025-03-11T21:27:59.587744",
     "status": "completed"
    },
    "tags": []
   },
   "outputs": [
    {
     "data": {
      "text/plain": [
       "['dietary_iron_deficiency']"
      ]
     },
     "execution_count": 23,
     "metadata": {},
     "output_type": "execute_result"
    }
   ],
   "source": [
    "# Ok, almost all of them. What does that leave us with?\n",
    "[\n",
    "    c\n",
    "    for c in most_detailed_affected_causes(gbd_mapping.risk_factors.iron_deficiency)\n",
    "    if c not in maternal_disorders_sub_causes\n",
    "]"
   ]
  },
  {
   "cell_type": "markdown",
   "id": "c781ca0b",
   "metadata": {
    "papermill": {
     "duration": 0.025027,
     "end_time": "2025-03-11T21:27:59.669984",
     "exception": false,
     "start_time": "2025-03-11T21:27:59.644957",
     "status": "completed"
    },
    "tags": []
   },
   "source": [
    "Now, we use this information to flesh out a GBD causal diagram of relevant entities. We can use the parent risks/causes we found to simplify the diagram, but keep in mind that we will ultimately need to figure out how to model every most-detailed risk and cause!"
   ]
  },
  {
   "cell_type": "raw",
   "id": "4bd95ca4",
   "metadata": {
    "papermill": {
     "duration": 0.024536,
     "end_time": "2025-03-11T21:27:59.719441",
     "exception": false,
     "start_time": "2025-03-11T21:27:59.694905",
     "status": "completed"
    },
    "raw_mimetype": "text/restructuredtext",
    "tags": [],
    "vscode": {
     "languageId": "raw"
    }
   },
   "source": [
    ".. graphviz::\n",
    "\n",
    "    digraph {\n",
    "        // https://stackoverflow.com/a/2012106/\n",
    "        compound=true;\n",
    "        rankdir=LR;\n",
    "        bgcolor=\"transparent\";\n",
    "        node [shape=box]; // Default shape\n",
    "\n",
    "        // Node styles for risk\n",
    "        node [style=filled, fillcolor=\"#17B9CF\", fontcolor=black];\n",
    "        child_wasting [label=\"child wasting\"];\n",
    "        child_stunting [label=\"child stunting\"];\n",
    "        child_underweight [label=\"child underweight\"];\n",
    "        iron_deficiency [label=\"iron deficiency\"];\n",
    "\n",
    "        // Node style for cause\n",
    "        node [style=filled, fillcolor=\"#32CA81\", fontcolor=black];\n",
    "        dietary_iron_deficiency [label=\"dietary iron deficiency\"];\n",
    "        protein_energy_malnutrition [label=\"protein energy malnutrition\"];\n",
    "        lower_respiratory_infections [label=\"lower respiratory infections\"];\n",
    "        diarrheal_diseases [label=\"diarrheal diseases\"];\n",
    "        measles [label=\"measles\"];\n",
    "        malaria [label=\"malaria\"];\n",
    "        maternal_hemorrhage [label=\"maternal hemorrhage\"];\n",
    "        maternal_hypertensive_disorders [label=\"maternal hypertensive disorders\"];\n",
    "        dot_dot_dot [label=\"...\"];\n",
    "\n",
    "        // Default node style for others\n",
    "        node [style=\"\", color=black, fillcolor=\"\"];\n",
    "        nonfatal [label=\"nonfatal (YLDs)\"];\n",
    "        fatal [label=\"fatal (YLLs)\"];\n",
    "\n",
    "        // Subgraph for child growth failure\n",
    "        subgraph cluster_child_growth_failure {\n",
    "            label=\"child growth failure\";\n",
    "            color=black;\n",
    "            child_wasting;\n",
    "            child_stunting;\n",
    "            child_underweight;\n",
    "        }\n",
    "\n",
    "        // Subgraph for maternal disorders\n",
    "        subgraph cluster_maternal_disorders {\n",
    "            label=\"maternal disorders (abbr.)\";\n",
    "            color=black;\n",
    "\n",
    "            maternal_hemorrhage;\n",
    "            maternal_hypertensive_disorders;\n",
    "            dot_dot_dot;\n",
    "        }\n",
    "\n",
    "        // Subgraph for burden\n",
    "        subgraph cluster_burden {\n",
    "            label=\"burden\";\n",
    "            color=black;\n",
    "\n",
    "            nonfatal;\n",
    "            fatal;\n",
    "        }\n",
    "\n",
    "        // Edges\n",
    "        iron_deficiency -> dietary_iron_deficiency;\n",
    "        iron_deficiency -> maternal_hemorrhage [lhead=cluster_maternal_disorders];\n",
    "\n",
    "        child_wasting -> lower_respiratory_infections [ltail=cluster_child_growth_failure];\n",
    "        child_wasting -> diarrheal_diseases [ltail=cluster_child_growth_failure];\n",
    "        child_wasting -> measles  [ltail=cluster_child_growth_failure];\n",
    "        child_wasting -> malaria  [ltail=cluster_child_growth_failure];\n",
    "        child_wasting -> protein_energy_malnutrition;\n",
    "        child_underweight -> protein_energy_malnutrition;\n",
    "\n",
    "        lower_respiratory_infections -> nonfatal [lhead=cluster_burden];\n",
    "        protein_energy_malnutrition -> nonfatal [lhead=cluster_burden];\n",
    "        diarrheal_diseases -> nonfatal [lhead=cluster_burden];\n",
    "        malaria -> nonfatal [lhead=cluster_burden];\n",
    "        measles -> nonfatal [lhead=cluster_burden];\n",
    "        maternal_hemorrhage -> nonfatal [ltail=cluster_maternal_disorders,lhead=cluster_burden];\n",
    "        dietary_iron_deficiency -> nonfatal;\n",
    "    }"
   ]
  },
  {
   "cell_type": "markdown",
   "id": "d3b85f77",
   "metadata": {
    "papermill": {
     "duration": 0.025057,
     "end_time": "2025-03-11T21:27:59.770489",
     "exception": false,
     "start_time": "2025-03-11T21:27:59.745432",
     "status": "completed"
    },
    "tags": []
   },
   "source": [
    "Now seems like a good time to dive a bit deeper into what is happening with iron deficiency and anemia,\n",
    "and in the process learn how to dig into the GBD methods.\n",
    "\n",
    "Remember, in our original causal diagram (from the FAQ) we had \"iron deficiency\" and \"anemia.\"\n",
    "In GBD, however, we've found only an \"iron deficiency\" risk factor and a \"dietary iron deficiency\" cause.\n",
    "How do these things correspond?\n",
    "\n",
    "The best explanations of GBD methods are the \"methods appendices,\" which are appendices published along with\n",
    "the GBD capstone papers in the Lancet's GBD issue.\n",
    "The first step is identifying the correct capstone paper; it needs to be from the GBD cycle we are using\n",
    "in our model.\n",
    "For this model, we're using GBD 2021, so the Lancet issue of interest is [this one](https://www.thelancet.com/journals/lancet/issue/vol403no10440/PIIS0140-6736(24)X0020-3)\n",
    "and the capstone papers are:\n",
    "\n",
    "* [Demographics](https://www.thelancet.com/journals/lancet/article/PIIS0140-6736(24)00476-8/fulltext)\n",
    "* [Fertility](https://www.thelancet.com/journals/lancet/article/PIIS0140-6736(24)00550-6/fulltext)\n",
    "* [Fatal/Cause of death](https://www.thelancet.com/journals/lancet/article/PIIS0140-6736(24)00367-2/fulltext)\n",
    "* [Nonfatal/Disability](https://www.thelancet.com/journals/lancet/article/PIIS0140-6736(24)00757-8/fulltext)\n",
    "* [Risk factors](https://www.thelancet.com/journals/lancet/article/PIIS0140-6736(24)00933-4/fulltext)\n",
    "* [Forecasting](https://www.thelancet.com/journals/lancet/article/PIIS0140-6736(24)00685-8/fulltext)\n",
    "\n",
    "We're interested in a risk factor and a *nonfatal* cause here, so either the risk factor capstone\n",
    "or nonfatal capstone would be good guesses of where to start.\n",
    "\n",
    "Page 309 of the risk factor methods appendix is about the iron deficiency risk factor. Some key quotes:\n",
    "\n",
    "> **Exposure is quantified in terms of mean haemoglobin concentration...**\n",
    "\n",
    "> [The \"iron deficiency\" risk factor] is distinct from the GBD cause of “dietary iron deficiency” that only includes the subset\n",
    "> of anaemia that is due to inadequate intake of elemental iron and excludes other diseases that manifest as iron\n",
    "> deficiency...\n",
    "\n",
    "> Iron deficiency was quantified as an output of the GBD Anaemia Causal Attribution framework...\n",
    "> See the methodological description of “Anaemia (impairment)” for detailed description of\n",
    "> the analytic approach and inputs.\n",
    "\n",
    "It sounds like the GBD \"iron deficiency\" risk factor is closely related to the concept of anemia.\n",
    "Its exposure is quantified in terms of hemoglobin.\n",
    "Some background research turns up (for example) [this page](https://www.hematology.org/education/patients/anemia)\n",
    "from the American Society of Hematology which states that anemia is defined by hemoglobin:\n",
    "\n",
    "> [Anemia] is diagnosed when a blood test shows a hemoglobin value of less than 13.5 gm/dl\n",
    "> in a man or less than 12.0 gm/dl in a woman. Normal values for children vary with age.\n",
    "\n",
    "However, there's additional complexity to the iron deficiency risk factor, which is explored in subsequent pages\n",
    "of the risk factor methods appendix.\n",
    "For the purposes of drawing this causal diagram, we can assume the iron deficiency risk factor is the same\n",
    "as \"anemia\" from the SQ-LNS FAQ, but we'd need to understand some of these additional intricacies before actually modeling it.\n",
    "\n",
    "Given what we've learned so far, you might wonder: what was meant by \"iron deficiency\" in the SQ-LNS FAQ, if that was distinct\n",
    "from anemia?\n",
    "To find this out, we'll scan [the paper cited in the FAQ](https://pmc.ncbi.nlm.nih.gov/articles/PMC8560313/),\n",
    "which is available for free on PubMed Central.\n",
    "There, iron deficiency was defined using \"plasma ferritin,\" which we can confirm is _not_\n",
    "the same thing as hemoglobin and doesn't appear anywhere in the risk factors methods appendix.\n",
    "\n",
    "So, to summarize: GBD \"iron deficiency\" risk is approximately the same thing as SQ-LNS FAQ \"anemia.\"\n",
    "Good thing we checked!\n",
    "\n",
    "<!-- https://nbsphinx.readthedocs.io/en/latest/markdown-cells.html#Info/Warning-Boxes -->\n",
    "\n",
    "<div class=\"alert alert-info\">\n",
    "\n",
    "Note\n",
    "\n",
    "As you may have guessed from the mention of an impairment in the risk factor appendix description,\n",
    "if we really wanted to dig into this we would follow that lead and discover that GBD has an even\n",
    "more non-standard causal diagram of anemia. We won't get into that here.\n",
    "\n",
    "</div>"
   ]
  },
  {
   "cell_type": "markdown",
   "id": "c83359f5",
   "metadata": {
    "papermill": {
     "duration": 0.02517,
     "end_time": "2025-03-11T21:27:59.819996",
     "exception": false,
     "start_time": "2025-03-11T21:27:59.794826",
     "status": "completed"
    },
    "tags": []
   },
   "source": [
    "Now let's merge our GBD causal diagram into our working SQ-LNS causal diagram.\n",
    "In doing this, we have some opportunities to simplify: because SQ-LNS is\n",
    "only given to children, maternal disorders are not relevant.\n",
    "We don't need to remove things just because they aren't in GBD\n",
    "(for example, cognitive development), but we should keep in mind that\n",
    "these will require a lot more data seeking!"
   ]
  },
  {
   "cell_type": "raw",
   "id": "e31d13ef",
   "metadata": {
    "papermill": {
     "duration": 0.02573,
     "end_time": "2025-03-11T21:27:59.870859",
     "exception": false,
     "start_time": "2025-03-11T21:27:59.845129",
     "status": "completed"
    },
    "raw_mimetype": "text/restructuredtext",
    "tags": [],
    "vscode": {
     "languageId": "raw"
    }
   },
   "source": [
    ".. graphviz::\n",
    "\n",
    "    digraph {\n",
    "        // https://stackoverflow.com/a/2012106/\n",
    "        compound=true;\n",
    "        rankdir=LR;\n",
    "        bgcolor=\"transparent\";\n",
    "        node [shape=box]; // Default shape\n",
    "\n",
    "        // Intervention node\n",
    "        SQ_LNS [label=\"SQ-LNS\"];\n",
    "\n",
    "        cognitive_development [label=\"cognitive development\"];\n",
    "\n",
    "        // Node styles for risk\n",
    "        node [style=filled, fillcolor=\"#17B9CF\", fontcolor=black];\n",
    "        iron_deficiency [label=\"iron deficiency (\\\"anemia\\\" in FAQ)\"];\n",
    "        child_wasting [label=\"child wasting\"];\n",
    "        child_stunting [label=\"child stunting\"];\n",
    "        child_underweight [label=\"child underweight\"];\n",
    "\n",
    "        // Node style for cause\n",
    "        node [style=filled, fillcolor=\"#32CA81\", fontcolor=black];\n",
    "        dietary_iron_deficiency [label=\"dietary iron deficiency\"];\n",
    "        protein_energy_malnutrition [label=\"protein energy malnutrition\"];\n",
    "        lower_respiratory_infections [label=\"lower respiratory infections\"];\n",
    "        diarrheal_diseases [label=\"diarrheal diseases\"];\n",
    "        measles [label=\"measles\"];\n",
    "        malaria [label=\"malaria\"];\n",
    "\n",
    "        // Default node style for others\n",
    "        node [style=\"\", color=black, fillcolor=\"\"];\n",
    "        nonfatal [label=\"nonfatal (YLDs)\"];\n",
    "        fatal [label=\"fatal (YLLs)\"];\n",
    "\n",
    "        // Subgraph for child growth failure\n",
    "        subgraph cluster_child_growth_failure {\n",
    "            label=\"child growth failure\";\n",
    "            color=black;\n",
    "            child_wasting;\n",
    "            child_stunting;\n",
    "            child_underweight;\n",
    "        }\n",
    "\n",
    "        // Subgraph for burden\n",
    "        subgraph cluster_burden {\n",
    "            label=\"burden\";\n",
    "            color=black;\n",
    "            nonfatal;\n",
    "            fatal;\n",
    "        }\n",
    "\n",
    "        // Edges\n",
    "        SQ_LNS -> iron_deficiency;\n",
    "        SQ_LNS -> child_wasting [lhead=cluster_child_growth_failure];\n",
    "        SQ_LNS -> cognitive_development;\n",
    "\n",
    "        iron_deficiency -> dietary_iron_deficiency;\n",
    "\n",
    "        child_wasting -> lower_respiratory_infections [ltail=cluster_child_growth_failure];\n",
    "        child_wasting -> diarrheal_diseases [ltail=cluster_child_growth_failure];\n",
    "        child_wasting -> measles [ltail=cluster_child_growth_failure];\n",
    "        child_wasting -> protein_energy_malnutrition;\n",
    "        child_stunting -> malaria;\n",
    "        child_underweight -> protein_energy_malnutrition;\n",
    "        child_underweight -> malaria;\n",
    "\n",
    "        lower_respiratory_infections -> nonfatal [lhead=cluster_burden];\n",
    "        protein_energy_malnutrition -> nonfatal [lhead=cluster_burden];\n",
    "        diarrheal_diseases -> nonfatal [lhead=cluster_burden];\n",
    "        malaria -> nonfatal [lhead=cluster_burden];\n",
    "        measles -> nonfatal [lhead=cluster_burden];\n",
    "        dietary_iron_deficiency -> nonfatal;\n",
    "\n",
    "        cognitive_development -> nonfatal [lhead=cluster_burden, style=dashed, label=\"?\"];\n",
    "        SQ_LNS -> nonfatal [lhead=cluster_burden, style=dashed, label=\"?\"];\n",
    "    }"
   ]
  },
  {
   "cell_type": "markdown",
   "id": "3b0044f0",
   "metadata": {
    "papermill": {
     "duration": 0.025129,
     "end_time": "2025-03-11T21:27:59.922732",
     "exception": false,
     "start_time": "2025-03-11T21:27:59.897603",
     "status": "completed"
    },
    "tags": []
   },
   "source": [
    "Don't be afraid of making a very complex diagram at this stage!\n",
    "This is the time to go maximalist before we start editing down to what we will actually model.\n",
    "\n",
    "As an example, based on having read studies like [Wessells et al. 2021](https://pubmed.ncbi.nlm.nih.gov/34590114/),\n",
    "we think it is quite likely that SQ-LNS is less effective in areas with unsafe sanitation infrastructure (a risk factor available in GBD):"
   ]
  },
  {
   "cell_type": "code",
   "execution_count": 24,
   "id": "f2e579a9",
   "metadata": {
    "papermill": {
     "duration": 0.033139,
     "end_time": "2025-03-11T21:27:59.981637",
     "exception": false,
     "start_time": "2025-03-11T21:27:59.948498",
     "status": "completed"
    },
    "tags": []
   },
   "outputs": [
    {
     "data": {
      "text/plain": [
       "['unsafe_sanitation']"
      ]
     },
     "execution_count": 24,
     "metadata": {},
     "output_type": "execute_result"
    }
   ],
   "source": [
    "most_detailed_risk_factors_containing(\"sanitation\")"
   ]
  },
  {
   "cell_type": "code",
   "execution_count": 25,
   "id": "1f17b11c",
   "metadata": {
    "papermill": {
     "duration": 0.031092,
     "end_time": "2025-03-11T21:28:00.038397",
     "exception": false,
     "start_time": "2025-03-11T21:28:00.007305",
     "status": "completed"
    },
    "tags": []
   },
   "outputs": [
    {
     "data": {
      "text/plain": [
       "['diarrheal_diseases']"
      ]
     },
     "execution_count": 25,
     "metadata": {},
     "output_type": "execute_result"
    }
   ],
   "source": [
    "most_detailed_affected_causes(gbd_mapping.risk_factors.unsafe_sanitation)"
   ]
  },
  {
   "cell_type": "markdown",
   "id": "5a551d25",
   "metadata": {
    "papermill": {
     "duration": 0.026405,
     "end_time": "2025-03-11T21:28:00.091076",
     "exception": false,
     "start_time": "2025-03-11T21:28:00.064671",
     "status": "completed"
    },
    "tags": []
   },
   "source": [
    "Unsafe sanitation, child growth failure, and iron deficiency are likely all driven by some social determinants\n",
    "of health, such as poverty (not modeled by GBD)."
   ]
  },
  {
   "cell_type": "raw",
   "id": "453c4a3e",
   "metadata": {
    "papermill": {
     "duration": 0.025047,
     "end_time": "2025-03-11T21:28:00.141750",
     "exception": false,
     "start_time": "2025-03-11T21:28:00.116703",
     "status": "completed"
    },
    "raw_mimetype": "text/restructuredtext",
    "tags": [],
    "vscode": {
     "languageId": "raw"
    }
   },
   "source": [
    ".. graphviz::\n",
    "\n",
    "    digraph {\n",
    "        // https://stackoverflow.com/a/2012106/\n",
    "        compound=true;\n",
    "        rankdir=LR;\n",
    "        bgcolor=\"transparent\";\n",
    "        node [shape=box]; // Default shape for most nodes\n",
    "\n",
    "        // Special invisible node for effects\n",
    "        effects [label=\"\", shape=plaintext, width=0]; // Attempt to make it \"invisible\"\n",
    "\n",
    "        // Nodes for social determinants and stuff outside GBD\n",
    "        sqlns [label=\"SQ-LNS\"];\n",
    "        poverty [label=\"poverty\"];\n",
    "        cognitive_development [label=\"cognitive development\"];\n",
    "\n",
    "        // Risk nodes\n",
    "        node [style=filled, fillcolor=\"#17B9CF\", fontcolor=black];\n",
    "        unsafe_sanitation [label=\"unsafe sanitation\"];\n",
    "        iron_deficiency [label=\"iron deficiency (\\\"anemia\\\" in FAQ)\"];\n",
    "        child_wasting [label=\"child wasting\"];\n",
    "        child_stunting [label=\"child stunting\"];\n",
    "        child_underweight [label=\"child underweight\"];\n",
    "\n",
    "        // Cause nodes\n",
    "        node [style=filled, fillcolor=\"#32CA81\", fontcolor=black];\n",
    "        dietary_iron_deficiency [label=\"dietary iron deficiency\"];\n",
    "        protein_energy_malnutrition [label=\"protein energy malnutrition\"];\n",
    "        lower_respiratory_infections [label=\"lower respiratory infections\"];\n",
    "        diarrheal_diseases [label=\"diarrheal diseases\"];\n",
    "        measles [label=\"measles\"];\n",
    "        malaria [label=\"malaria\"];\n",
    "\n",
    "        // Default style for burden\n",
    "        node [style=\"\", color=black, fillcolor=\"\"];\n",
    "        nonfatal [label=\"nonfatal (YLDs)\"];\n",
    "        fatal [label=\"fatal (YLLs)\"];\n",
    "\n",
    "        // Subgraphs\n",
    "        subgraph cluster_child_growth_failure {\n",
    "            label=\"child growth failure\";\n",
    "            color=black;\n",
    "            child_wasting;\n",
    "            child_stunting;\n",
    "            child_underweight;\n",
    "        }\n",
    "\n",
    "        subgraph cluster_burden {\n",
    "            label=\"burden\";\n",
    "            color=black;\n",
    "            nonfatal;\n",
    "            fatal;\n",
    "        }\n",
    "\n",
    "        // Connections\n",
    "        sqlns -> effects [dir=none];\n",
    "        poverty -> child_wasting [lhead=cluster_child_growth_failure];\n",
    "        poverty -> unsafe_sanitation -> diarrheal_diseases;\n",
    "        poverty -> iron_deficiency;\n",
    "\n",
    "        unsafe_sanitation -> effects [label=\"modifies\"];\n",
    "        effects -> iron_deficiency;\n",
    "        effects -> child_wasting [lhead=cluster_child_growth_failure];\n",
    "        effects -> cognitive_development;\n",
    "\n",
    "        iron_deficiency -> dietary_iron_deficiency;\n",
    "\n",
    "        child_wasting -> lower_respiratory_infections [ltail=cluster_child_growth_failure];\n",
    "        child_wasting -> diarrheal_diseases [ltail=cluster_child_growth_failure];\n",
    "        child_wasting -> measles [ltail=cluster_child_growth_failure];\n",
    "        child_wasting -> protein_energy_malnutrition;\n",
    "        child_stunting -> malaria;\n",
    "        child_underweight -> protein_energy_malnutrition;\n",
    "        child_underweight -> malaria;\n",
    "\n",
    "        lower_respiratory_infections -> nonfatal [lhead=cluster_burden];\n",
    "        protein_energy_malnutrition -> nonfatal [lhead=cluster_burden];\n",
    "        diarrheal_diseases -> nonfatal [lhead=cluster_burden];\n",
    "        malaria -> nonfatal [lhead=cluster_burden];\n",
    "        measles -> nonfatal [lhead=cluster_burden];\n",
    "        dietary_iron_deficiency -> nonfatal;\n",
    "\n",
    "        cognitive_development -> nonfatal [lhead=cluster_burden, style=dashed, label=\"?\"];\n",
    "        effects -> nonfatal [lhead=cluster_burden, style=dashed, label=\"?\"];\n",
    "    }"
   ]
  },
  {
   "attachments": {
    "image-3.png": {
     "image/png": "[encoded data removed]"
    },
    "image.png": {
     "image/png": "[encoded data removed]"
    }
   },
   "cell_type": "markdown",
   "id": "88449be9",
   "metadata": {
    "papermill": {
     "duration": 0.025893,
     "end_time": "2025-03-11T21:28:00.193632",
     "exception": false,
     "start_time": "2025-03-11T21:28:00.167739",
     "status": "completed"
    },
    "tags": []
   },
   "source": [
    "### Deciding what to model\n",
    "\n",
    "<!-- **TODO:** Choose which parts of the causal diagram are worth the data seeking + modeling effort,\n",
    "due to their importance in the intervention-outcome pathway. Somehow in this section we will decide to whittle it down to only SQ-LNS -> Stunting -> LRI.\n",
    "Perhaps by looking at GBD attributable burden and doing a quick back-of-the-envelope. -->\n",
    "\n",
    "It is probably clear from the previous section that it is easy to end up with an enormously complicated causal diagram.\n",
    "Modeling risks, causes, etc is a time-intensive process, and we usually can't model everything.\n",
    "The process of editing down from a full causal diagram to a \"minimum viable model\" includes many considerations\n",
    "and is discussed at length [on our Minimum Viable Model page](../../model_design/designing_vivarium_model/minimum_viable_model/index.rst).\n",
    "For the purposes of this tutorial, we will make our model *very* minimal.\n",
    "We'll focus on one important \"pathway\" between our intervention and our outcome.\n",
    "\n",
    "How do we know which pathways are more important than others?\n",
    "We can typically make some good guesses in a very simple way, which we often call a \"back of the\n",
    "envelope\" calculation.\n",
    "Since this is a tutorial, we'll make it even simpler than it typically is.\n",
    "\n",
    "As a first pass, we can look at which GBD causes in our diagram have the most burden in Ethiopian\n",
    "children <5 years old. The GBD results tool is useful for this, and shows us the following on the Charts tab (click\n",
    "the image to open the results tool query):\n",
    "\n",
    "[![graph of DALYs in Ethiopian children by cause](attachment:image.png)](https://vizhub.healthdata.org/gbd-results?params=gbd-api-2021-permalink/7a32e4d938aad2c598e7f22bb298b9af)\n",
    "\n",
    "We see that lower respiratory infections and diarrheal diseases have the largest burden.\n",
    "It is also important to think about the pathway from our intervention;\n",
    "SQ-LNS only impacts these causes in our diagram through the child growth failure\n",
    "risks.\n",
    "By changing the \"GBD estimate\" dropdown to \"Risk factor\" we can make a table and\n",
    "graph of the burden of each cause *attributable to each of the child growth failure risks*:\n",
    "\n",
    "[![graph of DALYs attributable to child growth failure in Ethiopian children by cause and sub-risk](attachment:image-3.png)](https://vizhub.healthdata.org/gbd-results?params=gbd-api-2021-permalink/b47c6b744bebd9e6c03c883649459d61)\n",
    "\n",
    "There are a lot of lines on this plot, so we've moused over the top one to reveal that it is\n",
    "diarrheal diseases burden attributable to child wasting.\n",
    "\n",
    "We'll decide to model this pathway, and cut out everything else,\n",
    "which leaves us with this stripped-down causal diagram of what we will model:"
   ]
  },
  {
   "cell_type": "raw",
   "id": "2e812ceb",
   "metadata": {
    "papermill": {
     "duration": 0.025944,
     "end_time": "2025-03-11T21:28:00.244808",
     "exception": false,
     "start_time": "2025-03-11T21:28:00.218864",
     "status": "completed"
    },
    "raw_mimetype": "text/restructuredtext",
    "tags": [],
    "vscode": {
     "languageId": "raw"
    }
   },
   "source": [
    ".. _concept_model:\n",
    "\n",
    ".. graphviz::\n",
    "\n",
    "    digraph {\n",
    "        // https://stackoverflow.com/a/2012106/\n",
    "        compound=true;\n",
    "        rankdir=LR;\n",
    "        bgcolor=\"transparent\";\n",
    "        node [shape=box]; // Default shape for most nodes\n",
    "\n",
    "        // Define styles for risk and cause categories\n",
    "        // Note: DOT does not have class definitions like MermaidJS, so we apply styles individually\n",
    "\n",
    "        // Intervention node\n",
    "        SQ_LNS [label=\"SQ-LNS\"];\n",
    "\n",
    "        // Risk node\n",
    "        child_wasting [label=\"child wasting\", style=filled, fillcolor=\"#17B9CF\", fontcolor=black];\n",
    "\n",
    "        // Cause node\n",
    "        diarrheal_diseases [label=\"diarrheal diseases\", style=filled, fillcolor=\"#32CA81\", fontcolor=black];\n",
    "\n",
    "        // Default style for burden\n",
    "        node [style=\"\", color=black, fillcolor=\"\"];\n",
    "        nonfatal [label=\"nonfatal (YLDs)\"];\n",
    "        fatal [label=\"fatal (YLLs)\"];\n",
    "\n",
    "        subgraph cluster_burden {\n",
    "            label=\"burden\";\n",
    "            color=black;\n",
    "            nonfatal;\n",
    "            fatal;\n",
    "        }\n",
    "\n",
    "        SQ_LNS -> child_wasting -> diarrheal_diseases;\n",
    "        diarrheal_diseases -> fatal [lhead=cluster_burden];\n",
    "    }\n",
    "\n",
    ".. _end_concept_model:"
   ]
  },
  {
   "cell_type": "markdown",
   "id": "a83924a8",
   "metadata": {
    "papermill": {
     "duration": 0.025235,
     "end_time": "2025-03-11T21:28:00.296165",
     "exception": false,
     "start_time": "2025-03-11T21:28:00.270930",
     "status": "completed"
    },
    "tags": []
   },
   "source": [
    "### Data strategy\n",
    "\n",
    "It's generally a good next step to find the data we can use to inform our model.\n",
    "If there are serious data gaps that force us to substantially redesign our model,\n",
    "it is much better to find out now than after we've spent time designing and building it!\n",
    "\n",
    "#### GBD\n",
    "\n",
    "Generally, for model components that exist in GBD, our data strategy is relatively standard.\n",
    "\n",
    "Implicit to our diagram is a population -- e.g. how many children ages 6-24 months are\n",
    "there in Ethiopia?\n",
    "We nearly always get a population structure by age group and sex from GBD.\n",
    "When we need to model fertility (new simulants being born), we can also pull either the count of\n",
    "births per year, or the rates at which females in each age group give birth (also known as the\n",
    "\"age-specific fertility rate\" or ASFR for short).\n",
    "\n",
    "For a cause, such as diarrheal diseases, the Vivarium suite can pull GBD results about:\n",
    "\n",
    "* Prevalence: proportion of people who have the disease\n",
    "* Incidence rate: the rate at which people acquire the disease\n",
    "* Mortality rate: the rate at which people die of the disease\n",
    "\n",
    "*Sometimes*, GBD will also save results about **remission**, which is the rate at which people with the disease get better and stop having the disease.\n",
    "However, this is not uniformly available for all most-detailed causes.\n",
    "Frequently, when this isn't saved, we can find information about duration of the condition in the nonfatal methods appendix.\n",
    "For diarrheal diseases, it *is* saved, so we don't have to look for this.\n",
    "\n",
    "<div class=\"alert alert-info\">\n",
    "\n",
    "Note\n",
    "\n",
    "Sometimes, we *prefer* to use a duration from the methods appendix (or another source) over the GBD remission estimate,\n",
    "so even if it exists, we don't *always* use it.\n",
    "For the purposes of this tutorial, we will use the GBD remission estimate, since that makes our process a bit simpler.\n",
    "\n",
    "</div>\n",
    "\n",
    "One thing to be careful of is COVID effects. Since we want to simulate 2025-2030, we may be more\n",
    "comfortable assuming that infectious disease burden is like 2019 (pre-pandemic) than 2021 (during pandemic).\n",
    "Because diarrheal disease is mostly spread through contaminated water, and\n",
    "[doesn't exhibit a strong COVID \"shock\" (a sudden change coinciding with the pandemic) in GBD](http://ihmeuw.org/6syo), we will use 2021.\n",
    "\n",
    "For a risk factor, such as child wasting, our standard tools pull GBD results about **exposure**\n",
    "(what proportion of the population is exposed to what levels of the risk factor)\n",
    "and **relative risks** on modeled causes (how much exposure to the risk factor increases the\n",
    "risk of having, or dying from, the disease).\n",
    "\n",
    "Risk factors are a little bit less standardized than causes, so it is always good to investigate\n",
    "how the exposure was quantified. Some risk factors are continuous (e.g. systolic blood pressure\n",
    "is a number with units of mm Hg) and some are categorical\n",
    "(e.g. unsafe sanitation is either \"Unimproved sanitation,\" \"Improved sanitation,\" or \"Sanitation facilities with sewer connection or septic tank\").\n",
    "To find out, we'll refer to the risk factors methods appendix, where we find that child wasting was modeled as part of a\n",
    "combined model with the two other child growth failure indicators\n",
    "(this model is described on pages 146-162).\n",
    "Wasting was operationalized as weight-for-height Z score (WHZ) and was categorized into\n",
    "mild (-1 to -2 Z score), moderate (-2 to -3 Z score), and severe (<-3 Z score).\n",
    "\n",
    "#### Non-GBD\n",
    "\n",
    "The one non-GBD node in our diagram is SQ-LNS, our intervention. Generally, for interventions,\n",
    "we'll be seeking information about baseline coverage (would anyone receive this intervention if our client took no action?)\n",
    "and the size of any effects (in this case, the one on child wasting).\n",
    "\n",
    "Baseline coverage can be difficult to estimate; often, there isn't great data.\n",
    "We know that SQ-LNS is a newer intervention, and the SQ-LNS website mostly advocates for its adoption\n",
    "and reports on trials using it, rather than large-scale programs.\n",
    "We might take the baseline coverage question to our client to get their subject-matter expertise.\n",
    "Let's pretend that we've done that, and they've said that their best guess is that there won't be\n",
    "any SQ-LNS coverage in Ethiopia unless they fund this program.\n",
    "\n",
    "We could do a whole literature review to inform the impact of the intervention on child wasting.\n",
    "But for simplicity here, we'll use the meta-analysis by Dewey et al. that was linked from the SQ-LNS FAQ.\n",
    "Digging into that paper, Table 3 reports a 14% decrease in wasting with a confidence interval of 7-20%.\n",
    "Wasting was defined as a weight-for-length Z score (WLZ -- which is equivalent to WHZ) of less than -2.\n",
    "\n",
    "<div class=\"alert alert-info\">\n",
    "\n",
    "Note\n",
    "\n",
    "You may have noticed that the SQ-LNS FAQ also reported a larger reduction -- 31% -- in\n",
    "the prevalence of *severe* wasting.\n",
    "If this were a real model, we'd certainly want to include this data point as well.\n",
    "We're sticking with only the effect on overall wasting to keep the tutorial simple.\n",
    "\n",
    "</div>"
   ]
  },
  {
   "cell_type": "markdown",
   "id": "9fc6f4f1",
   "metadata": {
    "papermill": {
     "duration": 0.025174,
     "end_time": "2025-03-11T21:28:00.347285",
     "exception": false,
     "start_time": "2025-03-11T21:28:00.322111",
     "status": "completed"
    },
    "tags": []
   },
   "source": [
    "### Microsimulation approach\n",
    "\n",
    "Now that we have a pretty good idea of what we want to model and what data are available,\n",
    "we must determine how we want to implement these attributes in microsimulation.\n",
    "\n",
    "Our microsimulation will contain a big table of pretend people, who we call **simulants**.\n",
    "We will track certain attributes about each simulant, and as time passes in the simulation,\n",
    "events can cause these attributes to change.\n",
    "For example, a simulant may get older and have their \"age\" attribute updated, or they may\n",
    "get infected with a diarrheal disease and have their \"has diarrhea\" attribute updated to \"yes.\"\n",
    "For a visual explanation, check out the\n",
    "[\"What is microsimulation?\" section of \"What is Vivarium good for?\"](../../model_design/vivarium_overview/vivarium_versus_other_model_types/index.rst#what-is-microsimulation)."
   ]
  },
  {
   "cell_type": "markdown",
   "id": "f8f5b712",
   "metadata": {
    "papermill": {
     "duration": 0.026396,
     "end_time": "2025-03-11T21:28:00.399059",
     "exception": false,
     "start_time": "2025-03-11T21:28:00.372663",
     "status": "completed"
    },
    "tags": []
   },
   "source": [
    "\n",
    "#### Demographics/population\n",
    "\n",
    "What population of simulants do we need for this simulation?\n",
    "\n",
    "On first thought, you might think we only need simulants 6-24 months old,\n",
    "since that is the age at which they are eligible to receive SQ-LNS.\n",
    "However, there is some nuance to this: simulants will age during our simulation.\n",
    "The simulants eligible to receive SQ-LNS in 2029 won't have even been *born*\n",
    "yet in 2025. For that reason, we'll start with a population of simulants ranging from 24 months old all the way down to newborns,\n",
    "and we'll need to model fertility to have new births during the simulation.\n",
    "This is easier, with our current tools, than creating 6-month-old simulants out of thin air\n",
    "during the simulation.\n",
    "\n",
    "There are several standard ways we model fertility. In this case, because we won't be\n",
    "simulating the adults who would be giving birth, using age-specific fertility rates doesn't\n",
    "make sense. Instead, we'll use a crude birth rate approach, which creates new simulants at\n",
    "a certain rate without identifying who specifically their parents are."
   ]
  },
  {
   "cell_type": "markdown",
   "id": "6bdb744f",
   "metadata": {
    "papermill": {
     "duration": 0.025069,
     "end_time": "2025-03-11T21:28:00.449534",
     "exception": false,
     "start_time": "2025-03-11T21:28:00.424465",
     "status": "completed"
    },
    "tags": []
   },
   "source": [
    "#### Burden\n",
    "\n",
    "Burden is typically modeled the same in every simulation we make.\n",
    "Death/mortality is modeled as a **state machine** where people move (\"transition\") dynamically\n",
    "between states depending on their current state.\n",
    "\n",
    "Here is a diagram of our standard mortality state machine, where a circle\n",
    "is a state a simulant could be in, and an arrow is a transition a simulant could make from\n",
    "one state to another:"
   ]
  },
  {
   "cell_type": "raw",
   "id": "2b00c245",
   "metadata": {
    "papermill": {
     "duration": 0.025907,
     "end_time": "2025-03-11T21:28:00.499958",
     "exception": false,
     "start_time": "2025-03-11T21:28:00.474051",
     "status": "completed"
    },
    "raw_mimetype": "text/restructuredtext",
    "tags": [],
    "vscode": {
     "languageId": "raw"
    }
   },
   "source": [
    ".. graphviz::\n",
    "\n",
    "    digraph {\n",
    "        bgcolor=\"transparent\";\n",
    "        Alive -> Dead;\n",
    "    }"
   ]
  },
  {
   "cell_type": "markdown",
   "id": "c59d2b01",
   "metadata": {
    "papermill": {
     "duration": 0.024864,
     "end_time": "2025-03-11T21:28:00.550094",
     "exception": false,
     "start_time": "2025-03-11T21:28:00.525230",
     "status": "completed"
    },
    "tags": []
   },
   "source": [
    "\n",
    "The transition in this diagram is informed by GBD mortality rates.\n",
    "Our standard approach is to start from GBD's all-cause mortality rate, which is the rate at which people in the population die (of any cause).\n",
    "Then, we delete cause-specific mortality rates due to modeled causes to determine the \"background\" mortality rate (mortality rate due to everything we're not modeling explicitly),\n",
    "which we apply to all simulants.\n",
    "A \"cause-specific mortality rate\" is the rate at which people in the overall population die of a specific cause; it is directly comparable with the\n",
    "all-cause mortality rate because both have the full population as the denominator.\n",
    "On top of the background mortality, for each modeled disease/cause, we apply the GBD-derived *excess* mortality rate of that disease *only to simulants who currently have the disease*.\n",
    "The excess mortality rate is the term for the rate of death due to a disease among people who have that disease (which will always be higher than the cause-specific mortality rate, since people without the disease cannot die of it).\n",
    "\n",
    "Nonfatal burden is estimated by applying GBD disability weights to those in\n",
    "infected states."
   ]
  },
  {
   "cell_type": "markdown",
   "id": "5105e036",
   "metadata": {
    "papermill": {
     "duration": 0.026038,
     "end_time": "2025-03-11T21:28:00.602265",
     "exception": false,
     "start_time": "2025-03-11T21:28:00.576227",
     "status": "completed"
    },
    "tags": []
   },
   "source": [
    "\n",
    "#### Cause\n",
    "\n",
    "We typically model causes as state machines.\n",
    "The specifics of the disease in question inform the way we set up the state\n",
    "machine.\n",
    "\n",
    "As mentioned in the data strategy section, GBD causes are pretty standard.\n",
    "They usually give us information about two states: having the disease, and not having it.\n",
    "(\"Having the disease\" is often called \"infected,\" even when talking about a non-infectious disease.)\n",
    "GBD gives us (some) information on how people move between these states.\n",
    "\n",
    "We may choose to sub-divide either or both of these states in our state machine\n",
    "model.\n",
    "For example, for progressive diseases like cancers that go into remission and relapse,\n",
    "we may want to have a state for \"newly diagnosed,\" \"first relapse,\" etc.\n",
    "For some diseases, the \"not having the disease\" state is really a composite of multiple\n",
    "things: for example, people without a vaccine-preventable disease\n",
    "may or may not be vaccinated, and only those not vaccinated would be at risk of developing it.\n",
    "\n",
    "For our example, diarrheal diseases are typically of very short duration, so we definitely want to capture\n",
    "that people can have go in and out of episodes.\n",
    "However, unlike some infectious diseases,\n",
    "having an episode of diarrheal disease does not generally make you immune from future episodes,\n",
    "and while there are vaccines for some specific pathogens such as rotavirus,\n",
    "there isn't a population totally immune to diarrhea.\n",
    "Therefore we'll assume that everyone who doesn't have\n",
    "diarrheal diseases can be called \"susceptible\" to them.\n",
    "This makes diarrheal diseases best represented by this state machine:"
   ]
  },
  {
   "cell_type": "raw",
   "id": "dd5e4372",
   "metadata": {
    "papermill": {
     "duration": 0.024955,
     "end_time": "2025-03-11T21:28:00.653220",
     "exception": false,
     "start_time": "2025-03-11T21:28:00.628265",
     "status": "completed"
    },
    "raw_mimetype": "text/restructuredtext",
    "tags": [],
    "vscode": {
     "languageId": "raw"
    }
   },
   "source": [
    ".. graphviz::\n",
    "\n",
    "    digraph {\n",
    "        bgcolor=\"transparent\";\n",
    "        Susceptible -> Infected -> Susceptible;\n",
    "    }"
   ]
  },
  {
   "cell_type": "markdown",
   "id": "3838a10a",
   "metadata": {
    "papermill": {
     "duration": 0.024627,
     "end_time": "2025-03-11T21:28:00.702582",
     "exception": false,
     "start_time": "2025-03-11T21:28:00.677955",
     "status": "completed"
    },
    "tags": []
   },
   "source": [
    "This is called a Susceptible-Infected-Susceptible or \"SIS\" model.\n",
    "\n",
    "For more information on how we model causes, see [the Causes page](../../model_design/vivarium_model_components/causes/index.rst).\n",
    "\n",
    "#### Risk factor\n",
    "\n",
    "Since child wasting in GBD is a categorical risk factor with normal, mild, moderate, and severe\n",
    "categories, we can plan to assign each of our simulants to one of these categories.\n",
    "\n",
    "Note that these categories are more detailed than our SQ-LNS effect size, which simply\n",
    "tells us what proportion of wasted kids (whether moderate or severe) would no longer be wasted\n",
    "after receiving SQ-LNS. This effect size doesn't differentiate between moderate and severe wasting,\n",
    "nor does it tell us whether the kids who benefit would become only mildly wasted, or recover\n",
    "completely to normal.\n",
    "We have to make an assumption about this; for simplicity, we'll say that this proportion of kids\n",
    "in each of the moderate and severe categories would be in the mild category if they were receiving SQ-LNS.\n",
    "\n",
    "<div class=\"alert alert-info\">\n",
    "\n",
    "Note\n",
    "\n",
    "As noted above, the SQ-LNS FAQ also reported a larger reduction -- 31% -- in\n",
    "the prevalence of *severe* wasting.\n",
    "We haven't accounted for that here.\n",
    "\n",
    "</div>\n",
    "\n",
    "We also have to decide whether a simulant's wasting category changes over time.\n",
    "Intuitively, it makes sense that it would, since kids can gain weight or fail to gain weight at any\n",
    "point during their growth.\n",
    "However, GBD does not provide rates of changing from one category to another of categorical risk\n",
    "factors, so if we decided this was important to capture, we'd have to go back and seek outside data\n",
    "on this.\n",
    "For now, we'll keep it simple and say that wasting category does not change (is **static**).\n",
    "\n",
    "For more information on how we model risk factors, see [the Risk Factors page](../../model_design/vivarium_model_components/risk_factors/index.rst).\n",
    "\n",
    "#### Intervention\n",
    "\n",
    "What sort of attribute is SQ-LNS? Looking at our research question and at our effect size\n",
    "(a 14% decrease in wasting in the covered vs uncovered group),\n",
    "it appears to be binary -- you either receive SQ-LNS or you don't.\n",
    "\n",
    "Should SQ-LNS change over time for simulants? This isn't really an impactful question, since\n",
    "in our baseline scenario nobody will be receiving SQ-LNS and in our intervention scenario\n",
    "everyone will be. But just in case we want to test an in-between scenario in the future,\n",
    "we'll specify that who is covered by partial SQ-LNS coverage will not change over time.\n",
    "\n",
    "Lastly, what is the time period of our effect -- do simulants only benefit while they are\n",
    "receiving SQ-LNS or does the benefit persist?\n",
    "Based on the available evidence, we'll assume the benefit is only for the duration of receiving\n",
    "SQ-LNS, but this may lead to an underestimate of impact if the real benefit lasts longer.\n",
    "\n",
    "For more information on how we model interventions, see [the Interventions page](../../model_design/vivarium_model_components/interventions/index.rst)."
   ]
  },
  {
   "cell_type": "markdown",
   "id": "51b99ea4",
   "metadata": {
    "papermill": {
     "duration": 0.02529,
     "end_time": "2025-03-11T21:28:00.753998",
     "exception": false,
     "start_time": "2025-03-11T21:28:00.728708",
     "status": "completed"
    },
    "tags": []
   },
   "source": [
    "## Implementation\n",
    "\n",
    "Now that we've designed a model, we can implement it using the Vivarium suite.\n",
    "\n",
    "There are a few major steps to this process:\n",
    "\n",
    "* Creating the model structure out of **components**\n",
    "* Obtaining the **data** we need for our simulation and saving it to a file called the \"data artifact,\" or \"artifact\" for short\n",
    "* **Configuring** our model for our desired simulation parameters"
   ]
  },
  {
   "cell_type": "markdown",
   "id": "ea628e31",
   "metadata": {
    "papermill": {
     "duration": 0.025105,
     "end_time": "2025-03-11T21:28:00.804806",
     "exception": false,
     "start_time": "2025-03-11T21:28:00.779701",
     "status": "completed"
    },
    "tags": []
   },
   "source": [
    "### Components\n",
    "\n",
    "Vivarium is a *modular* simulation framework: a simulation is made out of\n",
    "**components**.\n",
    "If we packed everything we wanted to simulate into one component, we could\n",
    "never re-use it, and would need to start from scratch with each new simulation.\n",
    "By splitting the simulation up into small components that each do one thing,\n",
    "we can re-use those components and combine them in new ways without having\n",
    "to create any new ones!\n",
    "\n",
    "In fact, we've created a standard library of components called `vivarium_public_health`\n",
    "(sometimes abbreviated \"VPH\") that covers many common health simulation scenarios.\n",
    "Often, most of a simulation can be made with these, and only a few new components\n",
    "are needed!\n",
    "\n",
    "For our simulation in this tutorial, we'll use `vivarium_public_health` components\n",
    "for population, mortality, crude birth-rate fertility, and our cause and risk."
   ]
  },
  {
   "cell_type": "code",
   "execution_count": 26,
   "id": "368a1261",
   "metadata": {
    "papermill": {
     "duration": 16.857927,
     "end_time": "2025-03-11T21:28:17.688618",
     "exception": false,
     "start_time": "2025-03-11T21:28:00.830691",
     "status": "completed"
    },
    "tags": []
   },
   "outputs": [],
   "source": [
    "# Import the relevant sections of the component library\n",
    "import vivarium_public_health.population\n",
    "import vivarium_public_health.risks\n",
    "import vivarium_public_health.disease\n",
    "\n",
    "components = [\n",
    "    # Demographics\n",
    "    vivarium_public_health.population.BasePopulation(),\n",
    "    vivarium_public_health.population.Mortality(),\n",
    "    vivarium_public_health.population.FertilityCrudeBirthRate(),\n",
    "    # Cause\n",
    "    vivarium_public_health.disease.SIS(\"diarrheal_diseases\"),\n",
    "    # Risk\n",
    "    vivarium_public_health.risks.Risk(\"risk_factor.child_wasting\"),\n",
    "    # The effect of the risk on the cause\n",
    "    vivarium_public_health.risks.effect.RiskEffect(\n",
    "        \"risk_factor.child_wasting\",\n",
    "        \"cause.diarrheal_diseases.incidence_rate\",\n",
    "    ),\n",
    "    # TODO: We currently don't have a good way to model risk effects on\n",
    "    # mortality, even when those are specified by GBD, with standard\n",
    "    # components.\n",
    "    # This is something we'd like to add to the tutorial when\n",
    "    # vivarium_public_health supports it \"out of the box.\"\n",
    "    # vivarium_public_health.risks.effect.RiskEffect(\n",
    "    #     \"risk_factor.child_wasting\",\n",
    "    #     \"cause.diarrheal_diseases.cause_specific_mortality_rate\",\n",
    "    # ),\n",
    "]"
   ]
  },
  {
   "cell_type": "markdown",
   "id": "d6412cef",
   "metadata": {
    "papermill": {
     "duration": 0.024769,
     "end_time": "2025-03-11T21:28:17.749030",
     "exception": false,
     "start_time": "2025-03-11T21:28:17.724261",
     "status": "completed"
    },
    "tags": []
   },
   "source": [
    "These components all *do* things: create newborn simulants, make simulants get sick and recover, or make simulants die, for example.\n",
    "We also typically need a type of component called an **observer**, which does not act on the simulated population but just records what happens.\n",
    "This is how, for example, we can record the disease burden our simulants experience.\n",
    "There are standard observers in `vivarium_public_health` -- we'll use some that record the fatal and nonfatal burden."
   ]
  },
  {
   "cell_type": "code",
   "execution_count": 27,
   "id": "7a44e092",
   "metadata": {
    "papermill": {
     "duration": 0.03182,
     "end_time": "2025-03-11T21:28:17.807102",
     "exception": false,
     "start_time": "2025-03-11T21:28:17.775282",
     "status": "completed"
    },
    "tags": []
   },
   "outputs": [],
   "source": [
    "import vivarium_public_health.results\n",
    "\n",
    "components += [\n",
    "    # Observers\n",
    "    vivarium_public_health.results.DisabilityObserver(),\n",
    "    vivarium_public_health.results.MortalityObserver(),\n",
    "]"
   ]
  },
  {
   "cell_type": "markdown",
   "id": "63fabbdb",
   "metadata": {
    "papermill": {
     "duration": 0.025803,
     "end_time": "2025-03-11T21:28:17.858778",
     "exception": false,
     "start_time": "2025-03-11T21:28:17.832975",
     "status": "completed"
    },
    "tags": []
   },
   "source": [
    "The last thing that is missing is our intervention. Unfortunately, we can't currently get this from `vivarium_public_health` -- for now, we need to make this\n",
    "component from scratch.\n",
    "There is work underway to add a cookie-cutter intervention component to `vivarium_public_health`,\n",
    "which will make this easier!\n",
    "\n",
    "A component is a Python *class* with special methods and properties. We won't get into all the details here,\n",
    "but at a high level:\n",
    "\n",
    "* We want our intervention to change simulants' exposure to child wasting.\n",
    "* The `vivarium_public_health.risks.Risk` component we added above will create something called\n",
    "  a \"value pipeline\" for the child wasting exposure. This value pipeline will be called\n",
    "  `child_wasting.exposure`.\n",
    "* Our intervention component, then, will *modify* the value pipeline.\n",
    "  We do this by registering a \"value modifier\" function.\n",
    "* We want our intervention component to be configurable, so we can change the coverage of SQ-LNS.\n",
    "  That will allow us to run the simulation once with 0% coverage and once with 100% coverage,\n",
    "  then compare the results to see the impact of SQ-LNS."
   ]
  },
  {
   "cell_type": "code",
   "execution_count": 28,
   "id": "4c01fc9d",
   "metadata": {
    "papermill": {
     "duration": 0.036096,
     "end_time": "2025-03-11T21:28:17.920049",
     "exception": false,
     "start_time": "2025-03-11T21:28:17.883953",
     "status": "completed"
    },
    "tags": []
   },
   "outputs": [],
   "source": [
    "import pandas as pd\n",
    "\n",
    "import vivarium\n",
    "from vivarium import Component\n",
    "from vivarium.framework.engine import Builder\n",
    "\n",
    "\n",
    "class SQLNS(Component):\n",
    "    columns_created = [\"covered_by_sqlns\", \"would_benefit_from_sqlns\"]\n",
    "\n",
    "    # This special method, setup, runs once when the simulation is being set up,\n",
    "    # before any time has passed in the simulation.\n",
    "    def setup(self, builder: Builder) -> None:\n",
    "        # Get the desired coverage level from the configuration.\n",
    "        self.coverage = builder.configuration[\"sqlns\"][\"coverage\"]\n",
    "        # Create a random number generator for this component.\n",
    "        self.randomness = builder.randomness.get_stream(\"sqlns\")\n",
    "        builder.value.register_value_modifier(\n",
    "            \"child_wasting.exposure\",\n",
    "            modifier=self.intervention_effect,\n",
    "            requires_columns=[\n",
    "                \"covered_by_sqlns\",\n",
    "                \"would_benefit_from_sqlns\",\n",
    "            ],\n",
    "        )\n",
    "\n",
    "    def on_initialize_simulants(\n",
    "        self, pop_data: vivarium.framework.population.SimulantData\n",
    "    ) -> None:\n",
    "        # pop_data is information about the simulants being initialized.\n",
    "        # We use it to create new columns in the population data frame.\n",
    "        covered_by_sqlns = pd.Series(\n",
    "            # get_draw draws a random number from the uniform distribution between 0 and 1\n",
    "            # for each simulant.\n",
    "            self.randomness.get_draw(\n",
    "                pop_data.index,\n",
    "                # NOTE: It is important that we provide additional keys here, as otherwise\n",
    "                # our two calls to get_draw will return the same results!\n",
    "                additional_key=\"covered_by_sqlns\",\n",
    "            )\n",
    "            <= self.coverage,\n",
    "            name=\"covered_by_sqlns\",\n",
    "        )\n",
    "        would_benefit_from_sqlns = pd.Series(\n",
    "            # 13% of those who receive SQLNS and are wasted benefit from it,\n",
    "            # in that they become no longer wasted, so we label 13% of the population as\n",
    "            # potentially benefiting from it.\n",
    "            # Of course, only these people who also are wasted and receive SQLNS\n",
    "            # will actually have the benefit.\n",
    "            self.randomness.get_draw(\n",
    "                pop_data.index,\n",
    "                additional_key=\"would_benefit_from_sqlns\",\n",
    "            )\n",
    "            <= 0.13,\n",
    "            name=\"would_benefit_from_sqlns\",\n",
    "        )\n",
    "        self.population_view.update(\n",
    "            covered_by_sqlns.to_frame().join(would_benefit_from_sqlns)\n",
    "        )\n",
    "\n",
    "    def intervention_effect(\n",
    "        self, index: pd.Index, child_wasting: pd.Series\n",
    "    ) -> pd.Series:\n",
    "        # Here, 'index' is the index of the data frame that is being modified.\n",
    "        # 'child_wasting' is a series containing the child wasting values before modification.\n",
    "\n",
    "        # First, we map child wasting to more readable categories.\n",
    "        category_mapping = gbd_mapping.risk_factors.child_wasting.categories.to_dict()\n",
    "        assert (child_wasting.isin(category_mapping.keys()) | child_wasting.isnull()).all()\n",
    "        child_wasting = child_wasting.map(category_mapping)\n",
    "\n",
    "        pop = self.population_view.get(index)\n",
    "\n",
    "        baseline_wasting_moderate_severe = child_wasting[index].isin(\n",
    "            [\n",
    "                \"Wasting Between -3 SD and -2 SD (post-ensemble)\",\n",
    "                \"Severe Wasting, < -3 SD (post-ensemble)\",\n",
    "            ]\n",
    "        )\n",
    "        # Change those who benefit and are moderately or severely wasted to the mild category.\n",
    "        child_wasting.loc[\n",
    "            index[\n",
    "                baseline_wasting_moderate_severe\n",
    "                & pop.covered_by_sqlns\n",
    "                & pop.would_benefit_from_sqlns\n",
    "            ]\n",
    "        ] = \"Wasting Between -2 SD and -1 SD (post-ensemble)\"\n",
    "\n",
    "        # Map back to the original, less readable categories.\n",
    "        return child_wasting.map({v: k for k, v in category_mapping.items()})"
   ]
  },
  {
   "cell_type": "code",
   "execution_count": 29,
   "id": "16d430c3",
   "metadata": {
    "papermill": {
     "duration": 0.030219,
     "end_time": "2025-03-11T21:28:17.975978",
     "exception": false,
     "start_time": "2025-03-11T21:28:17.945759",
     "status": "completed"
    },
    "tags": []
   },
   "outputs": [],
   "source": [
    "components += [\n",
    "    SQLNS(),\n",
    "]"
   ]
  },
  {
   "cell_type": "markdown",
   "id": "dd63b513",
   "metadata": {
    "papermill": {
     "duration": 0.025273,
     "end_time": "2025-03-11T21:28:18.027830",
     "exception": false,
     "start_time": "2025-03-11T21:28:18.002557",
     "status": "completed"
    },
    "tags": []
   },
   "source": [
    "### Data\n",
    "\n",
    "Now we load the data we'll need for our simulation. The end result of this section will be a file\n",
    "called the **data artifact** that packages up all this data.\n",
    "\n",
    "Unfortunately, the draw-level GBD estimates we will use for this model can only be accessed via databases internal\n",
    "to IHME; the code in this section will only run on IHME's computing cluster.\n",
    "\n",
    "If you don't have access to IHME's computing cluster, you can read (but not run) this section,\n",
    "and then download the resulting data artifact before proceeding with the next section.\n",
    "Instructions to do this can be found at the bottom of this section.\n",
    "\n",
    "The first step is to install an additional package, available within IHME, which allows access to GBD estimates\n",
    "from the database:"
   ]
  },
  {
   "cell_type": "code",
   "execution_count": 30,
   "id": "e9283eac",
   "metadata": {
    "papermill": {
     "duration": 0.338356,
     "end_time": "2025-03-11T21:28:18.390952",
     "exception": false,
     "start_time": "2025-03-11T21:28:18.052596",
     "status": "completed"
    },
    "tags": []
   },
   "outputs": [
    {
     "name": "stdout",
     "output_type": "stream",
     "text": [
      "Note: you may need to restart the kernel to use updated packages.\n"
     ]
    }
   ],
   "source": [
    "# The quiet flag prevents this from printing out tons of information\n",
    "# about the installation.\n",
    "%uv pip install vivarium_gbd_access --extra-index-url https://artifactory.ihme.washington.edu/artifactory/api/pypi/pypi-shared/simple --quiet"
   ]
  },
  {
   "cell_type": "markdown",
   "id": "607a51b9",
   "metadata": {
    "papermill": {
     "duration": 0.02456,
     "end_time": "2025-03-11T21:28:18.447112",
     "exception": false,
     "start_time": "2025-03-11T21:28:18.422552",
     "status": "completed"
    },
    "tags": []
   },
   "source": [
    "Now we make some changes to reduce the the debugging output of the Vivarium suite.\n",
    "It isn't important to understand this code in detail."
   ]
  },
  {
   "cell_type": "code",
   "execution_count": 31,
   "id": "cd0d9ac5",
   "metadata": {
    "papermill": {
     "duration": 0.032024,
     "end_time": "2025-03-11T21:28:18.504041",
     "exception": false,
     "start_time": "2025-03-11T21:28:18.472017",
     "status": "completed"
    },
    "tags": []
   },
   "outputs": [],
   "source": [
    "import pandas as pd\n",
    "import warnings\n",
    "\n",
    "warnings.simplefilter(action=\"ignore\", category=pd.errors.PerformanceWarning)\n",
    "warnings.simplefilter(action=\"ignore\", category=FutureWarning)"
   ]
  },
  {
   "cell_type": "code",
   "execution_count": 32,
   "id": "4e4b1e49",
   "metadata": {
    "papermill": {
     "duration": 0.038296,
     "end_time": "2025-03-11T21:28:18.568214",
     "exception": false,
     "start_time": "2025-03-11T21:28:18.529918",
     "status": "completed"
    },
    "tags": []
   },
   "outputs": [
    {
     "data": {
      "text/plain": [
       "1"
      ]
     },
     "execution_count": 32,
     "metadata": {},
     "output_type": "execute_result"
    }
   ],
   "source": [
    "import sys\n",
    "from loguru import logger as log\n",
    "\n",
    "log.remove()\n",
    "log.add(sys.stderr, level=\"ERROR\")"
   ]
  },
  {
   "cell_type": "code",
   "execution_count": 33,
   "id": "0da90128",
   "metadata": {
    "papermill": {
     "duration": 0.031053,
     "end_time": "2025-03-11T21:28:18.626208",
     "exception": false,
     "start_time": "2025-03-11T21:28:18.595155",
     "status": "completed"
    },
    "tags": []
   },
   "outputs": [],
   "source": [
    "pd.options.display.max_rows = 12"
   ]
  },
  {
   "cell_type": "markdown",
   "id": "b14a168a",
   "metadata": {
    "papermill": {
     "duration": 0.025214,
     "end_time": "2025-03-11T21:28:18.676445",
     "exception": false,
     "start_time": "2025-03-11T21:28:18.651231",
     "status": "completed"
    },
    "tags": []
   },
   "source": [
    "Let's start creating our artifact!\n",
    "\n",
    "First, we'll define variables for our entities of interest, so we don't need to\n",
    "always refer to them by their full names."
   ]
  },
  {
   "cell_type": "code",
   "execution_count": 34,
   "id": "ce40d86b",
   "metadata": {
    "papermill": {
     "duration": 0.031281,
     "end_time": "2025-03-11T21:28:18.734142",
     "exception": false,
     "start_time": "2025-03-11T21:28:18.702861",
     "status": "completed"
    },
    "tags": []
   },
   "outputs": [],
   "source": [
    "risk = gbd_mapping.risk_factors.child_wasting\n",
    "cause = gbd_mapping.causes.diarrheal_diseases\n",
    "location = \"Ethiopia\""
   ]
  },
  {
   "cell_type": "markdown",
   "id": "2ac47b86",
   "metadata": {
    "papermill": {
     "duration": 0.025602,
     "end_time": "2025-03-11T21:28:18.785807",
     "exception": false,
     "start_time": "2025-03-11T21:28:18.760205",
     "status": "completed"
    },
    "tags": []
   },
   "source": [
    "Now we import `vivarium_inputs`, which we use to load most GBD data.\n",
    "`vivarium_inputs` is documented [here](https://vivarium.readthedocs.io/projects/vivarium-inputs/en/latest/api_reference/interface.html)."
   ]
  },
  {
   "cell_type": "code",
   "execution_count": 35,
   "id": "feb782ee",
   "metadata": {
    "papermill": {
     "duration": 8.05608,
     "end_time": "2025-03-11T21:28:26.868206",
     "exception": false,
     "start_time": "2025-03-11T21:28:18.812126",
     "status": "completed"
    },
    "tags": []
   },
   "outputs": [],
   "source": [
    "import vivarium_inputs"
   ]
  },
  {
   "cell_type": "markdown",
   "id": "f172813d",
   "metadata": {
    "papermill": {
     "duration": 0.025771,
     "end_time": "2025-03-11T21:28:26.918832",
     "exception": false,
     "start_time": "2025-03-11T21:28:26.893061",
     "status": "completed"
    },
    "tags": []
   },
   "source": [
    "A data artifact is a Hierarchical Data Format (HDF) file,\n",
    "with the `.hdf` file extension.\n",
    "A single HDF file can store many datasets, which is how we can use just one file\n",
    "for all the input data we need for our simulation."
   ]
  },
  {
   "cell_type": "code",
   "execution_count": 36,
   "id": "cf375965",
   "metadata": {
    "papermill": {
     "duration": 0.21558,
     "end_time": "2025-03-11T21:28:27.160582",
     "exception": false,
     "start_time": "2025-03-11T21:28:26.945002",
     "status": "completed"
    },
    "tags": []
   },
   "outputs": [
    {
     "name": "stderr",
     "output_type": "stream",
     "text": [
      "/mnt/share/homes/zmbc/mambaforge/envs/tutorial_9/lib/python3.11/site-packages/vivarium/framework/artifact/artifact.py:69: UserWarning: No artifact found at tutorial.hdf. Building new artifact.\n",
      "  warnings.warn(f\"No artifact found at {path}. Building new artifact.\")\n"
     ]
    }
   ],
   "source": [
    "# Delete the artifact if it already exists\n",
    "! rm -rf tutorial.hdf\n",
    "# Then create a new artifact\n",
    "art = vivarium.Artifact(\"tutorial.hdf\")"
   ]
  },
  {
   "cell_type": "markdown",
   "id": "915c06cc",
   "metadata": {
    "papermill": {
     "duration": 0.029093,
     "end_time": "2025-03-11T21:28:27.218267",
     "exception": false,
     "start_time": "2025-03-11T21:28:27.189174",
     "status": "completed"
    },
    "tags": []
   },
   "source": [
    "The data we need in our artifact entirely depends on what our components need.\n",
    "Unfortunately, we don't currently have documentation about what data need to be in the artifact to use particular components\n",
    "from our `vivarium_public_health` library.\n",
    "\n",
    "One approach, which works but can be time-consuming, is to simply try running the simulation\n",
    "and read the error message, which will usually be about a component trying to read a specific key from\n",
    "the artifact.\n",
    "Then you can work out how to add that key to the artifact.\n",
    "\n",
    "Here, we'll pretend we already have memorized what data keys are needed for each component,\n",
    "in order to avoid the slower process of trial and error."
   ]
  },
  {
   "cell_type": "code",
   "execution_count": 37,
   "id": "4374dbb1",
   "metadata": {
    "papermill": {
     "duration": 0.03181,
     "end_time": "2025-03-11T21:28:27.276556",
     "exception": false,
     "start_time": "2025-03-11T21:28:27.244746",
     "status": "completed"
    },
    "tags": []
   },
   "outputs": [],
   "source": [
    "# NOTE: vivarium_public_health requires the location to be stripped from\n",
    "# many of the dataframes\n",
    "def strip_location(df: pd.DataFrame) -> pd.DataFrame:\n",
    "    return df.loc[location]"
   ]
  },
  {
   "cell_type": "code",
   "execution_count": 38,
   "id": "a63c3fdb",
   "metadata": {
    "papermill": {
     "duration": 1.539181,
     "end_time": "2025-03-11T21:28:28.840940",
     "exception": false,
     "start_time": "2025-03-11T21:28:27.301759",
     "status": "completed"
    },
    "tags": []
   },
   "outputs": [],
   "source": [
    "# Data keys needed by the BasePopulation component\n",
    "art.write(\"population.location\", location)\n",
    "art.write(\"population.structure\", vivarium_inputs.get_population_structure(location))\n",
    "art.write(\n",
    "    \"population.demographic_dimensions\",\n",
    "    vivarium_inputs.get_demographic_dimensions(location),\n",
    ")\n",
    "art.write(\n",
    "    \"population.theoretical_minimum_risk_life_expectancy\",\n",
    "    vivarium_inputs.get_theoretical_minimum_risk_life_expectancy(),\n",
    ")"
   ]
  },
  {
   "cell_type": "code",
   "execution_count": 39,
   "id": "61b2c582",
   "metadata": {
    "papermill": {
     "duration": 0.46678,
     "end_time": "2025-03-11T21:28:29.334075",
     "exception": false,
     "start_time": "2025-03-11T21:28:28.867295",
     "status": "completed"
    },
    "tags": []
   },
   "outputs": [],
   "source": [
    "# Key needed by the Mortality component\n",
    "all_cause_mortality_rate = vivarium_inputs.get_measure(\n",
    "    gbd_mapping.causes.all_causes, \"cause_specific_mortality_rate\", location\n",
    ")\n",
    "art.write(\n",
    "    \"cause.all_causes.cause_specific_mortality_rate\",\n",
    "    strip_location(all_cause_mortality_rate),\n",
    ")"
   ]
  },
  {
   "cell_type": "code",
   "execution_count": 40,
   "id": "97f095c2",
   "metadata": {
    "papermill": {
     "duration": 0.254098,
     "end_time": "2025-03-11T21:28:29.615870",
     "exception": false,
     "start_time": "2025-03-11T21:28:29.361772",
     "status": "completed"
    },
    "tags": []
   },
   "outputs": [],
   "source": [
    "# Key needed by the FertilityCrudeBirthRate component\n",
    "live_births_by_sex = vivarium_inputs.get_measure(\n",
    "    gbd_mapping.covariates.live_births_by_sex, \"estimate\", location\n",
    ")\n",
    "art.write(\n",
    "    \"covariate.live_births_by_sex.estimate\",\n",
    "    strip_location(live_births_by_sex),\n",
    ")"
   ]
  },
  {
   "cell_type": "code",
   "execution_count": 41,
   "id": "d2247ecd",
   "metadata": {
    "papermill": {
     "duration": 3.568119,
     "end_time": "2025-03-11T21:28:33.212982",
     "exception": false,
     "start_time": "2025-03-11T21:28:29.644863",
     "status": "completed"
    },
    "tags": []
   },
   "outputs": [],
   "source": [
    "# Keys needed by the Cause component\n",
    "for measure in [\n",
    "    \"remission_rate\",\n",
    "    \"incidence_rate\",\n",
    "    \"cause_specific_mortality_rate\",\n",
    "    \"prevalence\",\n",
    "    \"disability_weight\",\n",
    "    \"excess_mortality_rate\",\n",
    "]:\n",
    "    data = vivarium_inputs.get_measure(cause, measure, location)\n",
    "    art.write(f\"cause.{cause.name}.{measure}\", strip_location(data))\n",
    "\n",
    "art.write(f\"cause.{cause.name}.restrictions\", cause.restrictions.to_dict())"
   ]
  },
  {
   "cell_type": "code",
   "execution_count": 42,
   "id": "5d1a73c9",
   "metadata": {
    "papermill": {
     "duration": 51.358688,
     "end_time": "2025-03-11T21:29:24.604318",
     "exception": false,
     "start_time": "2025-03-11T21:28:33.245630",
     "status": "completed"
    },
    "tags": []
   },
   "outputs": [],
   "source": [
    "# Keys needed by the Risk and RiskEffect components\n",
    "for measure in [\n",
    "    \"exposure\",\n",
    "    \"relative_risk\",\n",
    "    \"population_attributable_fraction\",\n",
    "]:\n",
    "    data = vivarium_inputs.get_measure(risk, measure, location)\n",
    "    art.write(f\"risk_factor.{risk.name}.{measure}\", strip_location(data))\n",
    "\n",
    "art.write(f\"risk_factor.{risk.name}.distribution\", risk.distribution)"
   ]
  },
  {
   "cell_type": "markdown",
   "id": "36ed38ef",
   "metadata": {
    "papermill": {
     "duration": 0.025948,
     "end_time": "2025-03-11T21:29:24.661960",
     "exception": false,
     "start_time": "2025-03-11T21:29:24.636012",
     "status": "completed"
    },
    "tags": []
   },
   "source": [
    "Since we wrote the SQLNS component, we know that it doesn't load any data from the artifact, so we are all done!"
   ]
  },
  {
   "cell_type": "raw",
   "id": "805e375d",
   "metadata": {
    "papermill": {
     "duration": 0.025832,
     "end_time": "2025-03-11T21:29:24.713545",
     "exception": false,
     "start_time": "2025-03-11T21:29:24.687713",
     "status": "completed"
    },
    "raw_mimetype": "text/restructuredtext",
    "tags": [],
    "vscode": {
     "languageId": "raw"
    }
   },
   "source": [
    "If you weren't able to run this section because you aren't on the IHME compute cluster,\n",
    "download the resulting HDF file here:\n",
    ":download:`tutorial.hdf`"
   ]
  },
  {
   "cell_type": "markdown",
   "id": "e15d87ae",
   "metadata": {
    "papermill": {
     "duration": 0.025944,
     "end_time": "2025-03-11T21:29:24.765979",
     "exception": false,
     "start_time": "2025-03-11T21:29:24.740035",
     "status": "completed"
    },
    "tags": []
   },
   "source": [
    "#### Configuration"
   ]
  },
  {
   "cell_type": "markdown",
   "id": "8ebffa16",
   "metadata": {
    "papermill": {
     "duration": 0.025756,
     "end_time": "2025-03-11T21:29:24.817370",
     "exception": false,
     "start_time": "2025-03-11T21:29:24.791614",
     "status": "completed"
    },
    "tags": []
   },
   "source": [
    "Now we'll set up our configuration,\n",
    "which is a nested dictionary of settings to use for the simulation.\n",
    "We'll build this up piece by piece."
   ]
  },
  {
   "cell_type": "code",
   "execution_count": 43,
   "id": "e575bcd4",
   "metadata": {
    "papermill": {
     "duration": 0.031184,
     "end_time": "2025-03-11T21:29:24.874954",
     "exception": false,
     "start_time": "2025-03-11T21:29:24.843770",
     "status": "completed"
    },
    "tags": []
   },
   "outputs": [],
   "source": [
    "configuration = {}"
   ]
  },
  {
   "cell_type": "markdown",
   "id": "b356b6dc",
   "metadata": {
    "papermill": {
     "duration": 0.025405,
     "end_time": "2025-03-11T21:29:24.926275",
     "exception": false,
     "start_time": "2025-03-11T21:29:24.900870",
     "status": "completed"
    },
    "tags": []
   },
   "source": [
    "Let's point our simulation to our data artifact, so it pulls data from there.\n",
    "\n",
    "We also specify a **draw number**.\n",
    "Most GBD outputs are available as \"draws,\"\n",
    "which is a shorthand way of saying \"random samples **draw**n from a probability distribution.\"\n",
    "Rather than a single number for each quantity,\n",
    "there are many numbers, which are all plausible.\n",
    "Draws allow us to represent the uncertainty in our results due to\n",
    "uncertainty about the GBD estimates.\n",
    "(See the [Monte Carlo Uncertainty](../../model_design/vivarium_overview/uncertainty_in_vivarium/index.rst) page for more on this.)\n",
    "\n",
    "We typically run our simulation with many different draws and see how our results differ, but this is computationally\n",
    "intensive.\n",
    "In this tutorial, we will stick to draw 0."
   ]
  },
  {
   "cell_type": "code",
   "execution_count": 44,
   "id": "9e9a556a",
   "metadata": {
    "papermill": {
     "duration": 0.030987,
     "end_time": "2025-03-11T21:29:24.983618",
     "exception": false,
     "start_time": "2025-03-11T21:29:24.952631",
     "status": "completed"
    },
    "tags": []
   },
   "outputs": [],
   "source": [
    "configuration[\"input_data\"] = {\n",
    "    \"artifact_path\": \"tutorial.hdf\",\n",
    "    \"input_draw_number\": 0,\n",
    "}"
   ]
  },
  {
   "cell_type": "markdown",
   "id": "1851870e",
   "metadata": {
    "papermill": {
     "duration": 0.025863,
     "end_time": "2025-03-11T21:29:25.035472",
     "exception": false,
     "start_time": "2025-03-11T21:29:25.009609",
     "status": "completed"
    },
    "tags": []
   },
   "source": [
    "Next we'll configure settings having to do with **time**.\n",
    "We tell Vivarium we want to start our simulation at the beginning\n",
    "of 2025, and end at the end of 2030.\n",
    "\n",
    "We also specify a **timestep**. Time won't pass continuously in our\n",
    "simulation, it will pass in discrete chunks. Generally, smaller chunks\n",
    "are better/more accurate, but the smaller our steps are, the longer\n",
    "our simulation will take to run.\n",
    "We generally set our timestep to be as long as we can, without\n",
    "introducing substantial inaccuracy; how much we can get away with\n",
    "depends on what we are modeling.\n",
    "We explain much more about this on the [\"Choosing an Appropriate Time Step\" page](../../model_design/designing_vivarium_model/choosing_appropriate_time_step/index.rst).\n",
    "Here, our timestep will be 7 days."
   ]
  },
  {
   "cell_type": "code",
   "execution_count": 45,
   "id": "0bac272c",
   "metadata": {
    "papermill": {
     "duration": 0.031964,
     "end_time": "2025-03-11T21:29:25.093588",
     "exception": false,
     "start_time": "2025-03-11T21:29:25.061624",
     "status": "completed"
    },
    "tags": []
   },
   "outputs": [],
   "source": [
    "configuration[\"time\"] = {\n",
    "    # step_size is the timestep in days\n",
    "    \"step_size\": 7,\n",
    "    \"start\": {\n",
    "        \"year\": 2025,\n",
    "        \"month\": 1,\n",
    "        \"day\": 1,\n",
    "    },\n",
    "    \"end\": {\n",
    "        \"year\": 2030,\n",
    "        \"month\": 12,\n",
    "        \"day\": 31,\n",
    "    },\n",
    "}"
   ]
  },
  {
   "cell_type": "markdown",
   "id": "53ac3567",
   "metadata": {
    "papermill": {
     "duration": 0.026805,
     "end_time": "2025-03-11T21:29:25.146955",
     "exception": false,
     "start_time": "2025-03-11T21:29:25.120150",
     "status": "completed"
    },
    "tags": []
   },
   "source": [
    "We also have to tell Vivarium about the **population** of simulants we want.\n",
    "\n",
    "There are settings about both the population to **initialize** (create at simulation\n",
    "start) and **track** (observe during the simulation).\n",
    "As discussed above, we'll initialize simulants between ages 0 and 2, and we'll stop\n",
    "tracking simulants after they turn 2, since they will no longer be receiving any intervention\n",
    "benefit at that point.\n",
    "\n",
    "How many simulants should we simulate? This doesn't have to correspond to the\n",
    "real population size (the number of children actually in Ethiopia).\n",
    "Generally, more simulants is better because it makes\n",
    "our results less influenced by randomness (since we have a bigger \"sample size\").\n",
    "For this tutorial, we'll use half a million simulants, which is small enough to run in a reasonable\n",
    "amount of time, but large enough that we will get decently stable results.\n",
    "This tradeoff is simulation-specific and the decision is often made through experimentation."
   ]
  },
  {
   "cell_type": "code",
   "execution_count": 46,
   "id": "c682f477",
   "metadata": {
    "papermill": {
     "duration": 0.032728,
     "end_time": "2025-03-11T21:29:25.206800",
     "exception": false,
     "start_time": "2025-03-11T21:29:25.174072",
     "status": "completed"
    },
    "tags": []
   },
   "outputs": [],
   "source": [
    "configuration[\"population\"] = {\n",
    "    \"initialization_age_min\": 0,\n",
    "    \"initialization_age_max\": 2,\n",
    "    \"population_size\": 500_000,\n",
    "    # HACK: Need all of these for now,\n",
    "    # pending some bugfixes in Vivarium.\n",
    "    # They all do the same thing.\n",
    "    \"untracking_age\": 2,\n",
    "    \"age_end\": 2,\n",
    "    \"exit_age\": 2,\n",
    "}"
   ]
  },
  {
   "cell_type": "markdown",
   "id": "184553c8",
   "metadata": {
    "papermill": {
     "duration": 0.026448,
     "end_time": "2025-03-11T21:29:25.313773",
     "exception": false,
     "start_time": "2025-03-11T21:29:25.287325",
     "status": "completed"
    },
    "tags": []
   },
   "source": [
    "Now, we can finally set up our simulations. Why simulation**s**?\n",
    "Because we need one where there is SQ-LNS, and one where there isn't!\n",
    "We call these situations to compare **scenarios**."
   ]
  },
  {
   "cell_type": "code",
   "execution_count": 47,
   "id": "ea703053",
   "metadata": {
    "papermill": {
     "duration": 8.22677,
     "end_time": "2025-03-11T21:29:33.567168",
     "exception": false,
     "start_time": "2025-03-11T21:29:25.340398",
     "status": "completed"
    },
    "tags": []
   },
   "outputs": [],
   "source": [
    "import copy\n",
    "\n",
    "sim_baseline = vivarium.InteractiveContext(\n",
    "    components=copy.deepcopy(components),\n",
    "    configuration={\n",
    "        \"sqlns\": {\n",
    "            \"coverage\": 0,\n",
    "        },\n",
    "        **configuration,\n",
    "    },\n",
    ")"
   ]
  },
  {
   "cell_type": "code",
   "execution_count": 48,
   "id": "4937118b",
   "metadata": {
    "papermill": {
     "duration": 8.142269,
     "end_time": "2025-03-11T21:29:41.735902",
     "exception": false,
     "start_time": "2025-03-11T21:29:33.593633",
     "status": "completed"
    },
    "tags": []
   },
   "outputs": [],
   "source": [
    "sim_intervention = vivarium.InteractiveContext(\n",
    "    components=copy.deepcopy(components),\n",
    "    configuration={\n",
    "        \"sqlns\": {\n",
    "            \"coverage\": 1,  # 100% coverage\n",
    "        },\n",
    "        **configuration,\n",
    "    },\n",
    ")"
   ]
  },
  {
   "cell_type": "markdown",
   "id": "f86488ef",
   "metadata": {
    "papermill": {
     "duration": 0.027891,
     "end_time": "2025-03-11T21:29:41.792525",
     "exception": false,
     "start_time": "2025-03-11T21:29:41.764634",
     "status": "completed"
    },
    "tags": []
   },
   "source": [
    "### Verification and validation with an interactive simulation\n",
    "\n",
    "Our simulations are now set up, but no time has passed yet."
   ]
  },
  {
   "cell_type": "code",
   "execution_count": 49,
   "id": "ad455c4c",
   "metadata": {
    "papermill": {
     "duration": 0.034575,
     "end_time": "2025-03-11T21:29:41.854622",
     "exception": false,
     "start_time": "2025-03-11T21:29:41.820047",
     "status": "completed"
    },
    "tags": []
   },
   "outputs": [
    {
     "data": {
      "text/plain": [
       "Timestamp('2025-01-01 00:00:00')"
      ]
     },
     "execution_count": 49,
     "metadata": {},
     "output_type": "execute_result"
    }
   ],
   "source": [
    "sim_baseline.current_time"
   ]
  },
  {
   "cell_type": "code",
   "execution_count": 50,
   "id": "66d3f31e",
   "metadata": {
    "papermill": {
     "duration": 0.035228,
     "end_time": "2025-03-11T21:29:41.922858",
     "exception": false,
     "start_time": "2025-03-11T21:29:41.887630",
     "status": "completed"
    },
    "tags": []
   },
   "outputs": [
    {
     "data": {
      "text/plain": [
       "Timestamp('2025-01-01 00:00:00')"
      ]
     },
     "execution_count": 50,
     "metadata": {},
     "output_type": "execute_result"
    }
   ],
   "source": [
    "sim_intervention.current_time"
   ]
  },
  {
   "cell_type": "markdown",
   "id": "34821fba",
   "metadata": {
    "papermill": {
     "duration": 0.028561,
     "end_time": "2025-03-11T21:29:41.980305",
     "exception": false,
     "start_time": "2025-03-11T21:29:41.951744",
     "status": "completed"
    },
    "tags": []
   },
   "source": [
    "Before we start moving forward in time, let's take a look at our simulants.\n",
    "\n",
    "We can get most of the information about them with the `get_population` method."
   ]
  },
  {
   "cell_type": "code",
   "execution_count": 51,
   "id": "2b97f2c8",
   "metadata": {
    "papermill": {
     "duration": 0.249199,
     "end_time": "2025-03-11T21:29:42.257536",
     "exception": false,
     "start_time": "2025-03-11T21:29:42.008337",
     "status": "completed"
    },
    "tags": []
   },
   "outputs": [
    {
     "data": {
      "text/html": [
       "<div>\n",
       "<style scoped>\n",
       "    .dataframe tbody tr th:only-of-type {\n",
       "        vertical-align: middle;\n",
       "    }\n",
       "\n",
       "    .dataframe tbody tr th {\n",
       "        vertical-align: top;\n",
       "    }\n",
       "\n",
       "    .dataframe thead th {\n",
       "        text-align: right;\n",
       "    }\n",
       "</style>\n",
       "<table border=\"1\" class=\"dataframe\">\n",
       "  <thead>\n",
       "    <tr style=\"text-align: right;\">\n",
       "      <th></th>\n",
       "      <th>tracked</th>\n",
       "      <th>entrance_time</th>\n",
       "      <th>alive</th>\n",
       "      <th>sex</th>\n",
       "      <th>age</th>\n",
       "      <th>exit_time</th>\n",
       "      <th>location</th>\n",
       "      <th>cause_of_death</th>\n",
       "      <th>years_of_life_lost</th>\n",
       "      <th>covered_by_sqlns</th>\n",
       "      <th>would_benefit_from_sqlns</th>\n",
       "      <th>child_wasting_propensity</th>\n",
       "      <th>diarrheal_diseases</th>\n",
       "      <th>susceptible_to_diarrheal_diseases_event_count</th>\n",
       "      <th>susceptible_to_diarrheal_diseases_event_time</th>\n",
       "      <th>diarrheal_diseases_event_time</th>\n",
       "      <th>diarrheal_diseases_event_count</th>\n",
       "    </tr>\n",
       "  </thead>\n",
       "  <tbody>\n",
       "    <tr>\n",
       "      <th>0</th>\n",
       "      <td>True</td>\n",
       "      <td>2024-12-25</td>\n",
       "      <td>alive</td>\n",
       "      <td>Female</td>\n",
       "      <td>0.449100</td>\n",
       "      <td>NaT</td>\n",
       "      <td>Ethiopia</td>\n",
       "      <td>not_dead</td>\n",
       "      <td>0.0</td>\n",
       "      <td>False</td>\n",
       "      <td>False</td>\n",
       "      <td>0.597575</td>\n",
       "      <td>susceptible_to_diarrheal_diseases</td>\n",
       "      <td>0</td>\n",
       "      <td>NaT</td>\n",
       "      <td>NaT</td>\n",
       "      <td>0</td>\n",
       "    </tr>\n",
       "    <tr>\n",
       "      <th>1</th>\n",
       "      <td>True</td>\n",
       "      <td>2024-12-25</td>\n",
       "      <td>alive</td>\n",
       "      <td>Male</td>\n",
       "      <td>0.298315</td>\n",
       "      <td>NaT</td>\n",
       "      <td>Ethiopia</td>\n",
       "      <td>not_dead</td>\n",
       "      <td>0.0</td>\n",
       "      <td>False</td>\n",
       "      <td>False</td>\n",
       "      <td>0.001056</td>\n",
       "      <td>susceptible_to_diarrheal_diseases</td>\n",
       "      <td>0</td>\n",
       "      <td>NaT</td>\n",
       "      <td>NaT</td>\n",
       "      <td>0</td>\n",
       "    </tr>\n",
       "    <tr>\n",
       "      <th>2</th>\n",
       "      <td>True</td>\n",
       "      <td>2024-12-25</td>\n",
       "      <td>alive</td>\n",
       "      <td>Female</td>\n",
       "      <td>0.041546</td>\n",
       "      <td>NaT</td>\n",
       "      <td>Ethiopia</td>\n",
       "      <td>not_dead</td>\n",
       "      <td>0.0</td>\n",
       "      <td>False</td>\n",
       "      <td>True</td>\n",
       "      <td>0.141781</td>\n",
       "      <td>susceptible_to_diarrheal_diseases</td>\n",
       "      <td>0</td>\n",
       "      <td>NaT</td>\n",
       "      <td>NaT</td>\n",
       "      <td>0</td>\n",
       "    </tr>\n",
       "    <tr>\n",
       "      <th>3</th>\n",
       "      <td>True</td>\n",
       "      <td>2024-12-25</td>\n",
       "      <td>alive</td>\n",
       "      <td>Male</td>\n",
       "      <td>0.655818</td>\n",
       "      <td>NaT</td>\n",
       "      <td>Ethiopia</td>\n",
       "      <td>not_dead</td>\n",
       "      <td>0.0</td>\n",
       "      <td>False</td>\n",
       "      <td>False</td>\n",
       "      <td>0.601542</td>\n",
       "      <td>susceptible_to_diarrheal_diseases</td>\n",
       "      <td>0</td>\n",
       "      <td>NaT</td>\n",
       "      <td>NaT</td>\n",
       "      <td>0</td>\n",
       "    </tr>\n",
       "    <tr>\n",
       "      <th>4</th>\n",
       "      <td>True</td>\n",
       "      <td>2024-12-25</td>\n",
       "      <td>alive</td>\n",
       "      <td>Female</td>\n",
       "      <td>0.563762</td>\n",
       "      <td>NaT</td>\n",
       "      <td>Ethiopia</td>\n",
       "      <td>not_dead</td>\n",
       "      <td>0.0</td>\n",
       "      <td>False</td>\n",
       "      <td>False</td>\n",
       "      <td>0.118297</td>\n",
       "      <td>susceptible_to_diarrheal_diseases</td>\n",
       "      <td>0</td>\n",
       "      <td>NaT</td>\n",
       "      <td>NaT</td>\n",
       "      <td>0</td>\n",
       "    </tr>\n",
       "    <tr>\n",
       "      <th>...</th>\n",
       "      <td>...</td>\n",
       "      <td>...</td>\n",
       "      <td>...</td>\n",
       "      <td>...</td>\n",
       "      <td>...</td>\n",
       "      <td>...</td>\n",
       "      <td>...</td>\n",
       "      <td>...</td>\n",
       "      <td>...</td>\n",
       "      <td>...</td>\n",
       "      <td>...</td>\n",
       "      <td>...</td>\n",
       "      <td>...</td>\n",
       "      <td>...</td>\n",
       "      <td>...</td>\n",
       "      <td>...</td>\n",
       "      <td>...</td>\n",
       "    </tr>\n",
       "    <tr>\n",
       "      <th>499995</th>\n",
       "      <td>True</td>\n",
       "      <td>2024-12-25</td>\n",
       "      <td>alive</td>\n",
       "      <td>Female</td>\n",
       "      <td>0.407435</td>\n",
       "      <td>NaT</td>\n",
       "      <td>Ethiopia</td>\n",
       "      <td>not_dead</td>\n",
       "      <td>0.0</td>\n",
       "      <td>False</td>\n",
       "      <td>False</td>\n",
       "      <td>0.353570</td>\n",
       "      <td>susceptible_to_diarrheal_diseases</td>\n",
       "      <td>0</td>\n",
       "      <td>NaT</td>\n",
       "      <td>NaT</td>\n",
       "      <td>0</td>\n",
       "    </tr>\n",
       "    <tr>\n",
       "      <th>499996</th>\n",
       "      <td>True</td>\n",
       "      <td>2024-12-25</td>\n",
       "      <td>alive</td>\n",
       "      <td>Female</td>\n",
       "      <td>1.790844</td>\n",
       "      <td>NaT</td>\n",
       "      <td>Ethiopia</td>\n",
       "      <td>not_dead</td>\n",
       "      <td>0.0</td>\n",
       "      <td>False</td>\n",
       "      <td>False</td>\n",
       "      <td>0.694210</td>\n",
       "      <td>susceptible_to_diarrheal_diseases</td>\n",
       "      <td>0</td>\n",
       "      <td>NaT</td>\n",
       "      <td>NaT</td>\n",
       "      <td>0</td>\n",
       "    </tr>\n",
       "    <tr>\n",
       "      <th>499997</th>\n",
       "      <td>True</td>\n",
       "      <td>2024-12-25</td>\n",
       "      <td>alive</td>\n",
       "      <td>Male</td>\n",
       "      <td>0.825693</td>\n",
       "      <td>NaT</td>\n",
       "      <td>Ethiopia</td>\n",
       "      <td>not_dead</td>\n",
       "      <td>0.0</td>\n",
       "      <td>False</td>\n",
       "      <td>False</td>\n",
       "      <td>0.512939</td>\n",
       "      <td>susceptible_to_diarrheal_diseases</td>\n",
       "      <td>0</td>\n",
       "      <td>NaT</td>\n",
       "      <td>NaT</td>\n",
       "      <td>0</td>\n",
       "    </tr>\n",
       "    <tr>\n",
       "      <th>499998</th>\n",
       "      <td>True</td>\n",
       "      <td>2024-12-25</td>\n",
       "      <td>alive</td>\n",
       "      <td>Female</td>\n",
       "      <td>0.137701</td>\n",
       "      <td>NaT</td>\n",
       "      <td>Ethiopia</td>\n",
       "      <td>not_dead</td>\n",
       "      <td>0.0</td>\n",
       "      <td>False</td>\n",
       "      <td>False</td>\n",
       "      <td>0.292610</td>\n",
       "      <td>susceptible_to_diarrheal_diseases</td>\n",
       "      <td>0</td>\n",
       "      <td>NaT</td>\n",
       "      <td>NaT</td>\n",
       "      <td>0</td>\n",
       "    </tr>\n",
       "    <tr>\n",
       "      <th>499999</th>\n",
       "      <td>True</td>\n",
       "      <td>2024-12-25</td>\n",
       "      <td>alive</td>\n",
       "      <td>Female</td>\n",
       "      <td>0.538179</td>\n",
       "      <td>NaT</td>\n",
       "      <td>Ethiopia</td>\n",
       "      <td>not_dead</td>\n",
       "      <td>0.0</td>\n",
       "      <td>False</td>\n",
       "      <td>False</td>\n",
       "      <td>0.810374</td>\n",
       "      <td>susceptible_to_diarrheal_diseases</td>\n",
       "      <td>0</td>\n",
       "      <td>NaT</td>\n",
       "      <td>NaT</td>\n",
       "      <td>0</td>\n",
       "    </tr>\n",
       "  </tbody>\n",
       "</table>\n",
       "<p>500000 rows × 17 columns</p>\n",
       "</div>"
      ],
      "text/plain": [
       "        tracked entrance_time  alive     sex       age exit_time  location  \\\n",
       "0          True    2024-12-25  alive  Female  0.449100       NaT  Ethiopia   \n",
       "1          True    2024-12-25  alive    Male  0.298315       NaT  Ethiopia   \n",
       "2          True    2024-12-25  alive  Female  0.041546       NaT  Ethiopia   \n",
       "3          True    2024-12-25  alive    Male  0.655818       NaT  Ethiopia   \n",
       "4          True    2024-12-25  alive  Female  0.563762       NaT  Ethiopia   \n",
       "...         ...           ...    ...     ...       ...       ...       ...   \n",
       "499995     True    2024-12-25  alive  Female  0.407435       NaT  Ethiopia   \n",
       "499996     True    2024-12-25  alive  Female  1.790844       NaT  Ethiopia   \n",
       "499997     True    2024-12-25  alive    Male  0.825693       NaT  Ethiopia   \n",
       "499998     True    2024-12-25  alive  Female  0.137701       NaT  Ethiopia   \n",
       "499999     True    2024-12-25  alive  Female  0.538179       NaT  Ethiopia   \n",
       "\n",
       "       cause_of_death  years_of_life_lost  covered_by_sqlns  \\\n",
       "0            not_dead                 0.0             False   \n",
       "1            not_dead                 0.0             False   \n",
       "2            not_dead                 0.0             False   \n",
       "3            not_dead                 0.0             False   \n",
       "4            not_dead                 0.0             False   \n",
       "...               ...                 ...               ...   \n",
       "499995       not_dead                 0.0             False   \n",
       "499996       not_dead                 0.0             False   \n",
       "499997       not_dead                 0.0             False   \n",
       "499998       not_dead                 0.0             False   \n",
       "499999       not_dead                 0.0             False   \n",
       "\n",
       "        would_benefit_from_sqlns  child_wasting_propensity  \\\n",
       "0                          False                  0.597575   \n",
       "1                          False                  0.001056   \n",
       "2                           True                  0.141781   \n",
       "3                          False                  0.601542   \n",
       "4                          False                  0.118297   \n",
       "...                          ...                       ...   \n",
       "499995                     False                  0.353570   \n",
       "499996                     False                  0.694210   \n",
       "499997                     False                  0.512939   \n",
       "499998                     False                  0.292610   \n",
       "499999                     False                  0.810374   \n",
       "\n",
       "                       diarrheal_diseases  \\\n",
       "0       susceptible_to_diarrheal_diseases   \n",
       "1       susceptible_to_diarrheal_diseases   \n",
       "2       susceptible_to_diarrheal_diseases   \n",
       "3       susceptible_to_diarrheal_diseases   \n",
       "4       susceptible_to_diarrheal_diseases   \n",
       "...                                   ...   \n",
       "499995  susceptible_to_diarrheal_diseases   \n",
       "499996  susceptible_to_diarrheal_diseases   \n",
       "499997  susceptible_to_diarrheal_diseases   \n",
       "499998  susceptible_to_diarrheal_diseases   \n",
       "499999  susceptible_to_diarrheal_diseases   \n",
       "\n",
       "        susceptible_to_diarrheal_diseases_event_count  \\\n",
       "0                                                   0   \n",
       "1                                                   0   \n",
       "2                                                   0   \n",
       "3                                                   0   \n",
       "4                                                   0   \n",
       "...                                               ...   \n",
       "499995                                              0   \n",
       "499996                                              0   \n",
       "499997                                              0   \n",
       "499998                                              0   \n",
       "499999                                              0   \n",
       "\n",
       "       susceptible_to_diarrheal_diseases_event_time  \\\n",
       "0                                               NaT   \n",
       "1                                               NaT   \n",
       "2                                               NaT   \n",
       "3                                               NaT   \n",
       "4                                               NaT   \n",
       "...                                             ...   \n",
       "499995                                          NaT   \n",
       "499996                                          NaT   \n",
       "499997                                          NaT   \n",
       "499998                                          NaT   \n",
       "499999                                          NaT   \n",
       "\n",
       "       diarrheal_diseases_event_time  diarrheal_diseases_event_count  \n",
       "0                                NaT                               0  \n",
       "1                                NaT                               0  \n",
       "2                                NaT                               0  \n",
       "3                                NaT                               0  \n",
       "4                                NaT                               0  \n",
       "...                              ...                             ...  \n",
       "499995                           NaT                               0  \n",
       "499996                           NaT                               0  \n",
       "499997                           NaT                               0  \n",
       "499998                           NaT                               0  \n",
       "499999                           NaT                               0  \n",
       "\n",
       "[500000 rows x 17 columns]"
      ]
     },
     "execution_count": 51,
     "metadata": {},
     "output_type": "execute_result"
    }
   ],
   "source": [
    "sim_baseline.get_population()"
   ]
  },
  {
   "cell_type": "markdown",
   "id": "b9b693f7",
   "metadata": {
    "papermill": {
     "duration": 0.028479,
     "end_time": "2025-03-11T21:29:42.314052",
     "exception": false,
     "start_time": "2025-03-11T21:29:42.285573",
     "status": "completed"
    },
    "tags": []
   },
   "source": [
    "This is probably quite overwhelming and shows the complexity hidden within our standard library components. They are tracking a lot!\n",
    "\n",
    "However, there is still more -- you may notice that child wasting doesn't appear as a column.\n",
    "As mentioned above, this is a value pipeline, which isn't included in the population table.\n",
    "\n",
    "The `list_values` method shows us all the value pipelines available -- again, there are a lot,\n",
    "all created by the standard components we included above!"
   ]
  },
  {
   "cell_type": "code",
   "execution_count": 52,
   "id": "5690f2db",
   "metadata": {
    "papermill": {
     "duration": 0.034791,
     "end_time": "2025-03-11T21:29:42.377862",
     "exception": false,
     "start_time": "2025-03-11T21:29:42.343071",
     "status": "completed"
    },
    "tags": []
   },
   "outputs": [
    {
     "data": {
      "text/plain": [
       "['simulant_step_size',\n",
       " 'cause_specific_mortality_rate',\n",
       " 'affected_unmodeled.cause_specific_mortality_rate',\n",
       " 'affected_unmodeled.cause_specific_mortality_rate.paf',\n",
       " 'mortality_rate',\n",
       " 'diarrheal_diseases.incidence_rate',\n",
       " 'diarrheal_diseases.incidence_rate.paf',\n",
       " 'diarrheal_diseases.dwell_time',\n",
       " 'diarrheal_diseases.disability_weight',\n",
       " 'all_causes.disability_weight',\n",
       " 'diarrheal_diseases.excess_mortality_rate',\n",
       " 'diarrheal_diseases.excess_mortality_rate.paf',\n",
       " 'diarrheal_diseases.remission_rate',\n",
       " 'diarrheal_diseases.remission_rate.paf',\n",
       " 'risk_factor.child_wasting.exposure_parameters',\n",
       " 'child_wasting.propensity',\n",
       " 'child_wasting.exposure',\n",
       " 'child_wasting_on_diarrheal_diseases.relative_risk']"
      ]
     },
     "execution_count": 52,
     "metadata": {},
     "output_type": "execute_result"
    }
   ],
   "source": [
    "sim_baseline.list_values()"
   ]
  },
  {
   "cell_type": "markdown",
   "id": "5612b271",
   "metadata": {
    "papermill": {
     "duration": 0.028095,
     "end_time": "2025-03-11T21:29:42.433553",
     "exception": false,
     "start_time": "2025-03-11T21:29:42.405458",
     "status": "completed"
    },
    "tags": []
   },
   "source": [
    "We see `child_wasting.exposure` there, and we can get it with `get_value`:"
   ]
  },
  {
   "cell_type": "code",
   "execution_count": 53,
   "id": "ed8bcba7",
   "metadata": {
    "papermill": {
     "duration": 0.035741,
     "end_time": "2025-03-11T21:29:42.498758",
     "exception": false,
     "start_time": "2025-03-11T21:29:42.463017",
     "status": "completed"
    },
    "tags": []
   },
   "outputs": [
    {
     "data": {
      "text/plain": [
       "_Pipeline(child_wasting.exposure)"
      ]
     },
     "execution_count": 53,
     "metadata": {},
     "output_type": "execute_result"
    }
   ],
   "source": [
    "sim_baseline.get_value(\"child_wasting.exposure\")"
   ]
  },
  {
   "cell_type": "markdown",
   "id": "68fbe71c",
   "metadata": {
    "papermill": {
     "duration": 0.028477,
     "end_time": "2025-03-11T21:29:42.555886",
     "exception": false,
     "start_time": "2025-03-11T21:29:42.527409",
     "status": "completed"
    },
    "tags": []
   },
   "source": [
    "We get a pipeline object back. A pipeline object can be called like a function,\n",
    "passing a Pandas\n",
    "*index* of simulants to get information about."
   ]
  },
  {
   "cell_type": "code",
   "execution_count": 54,
   "id": "06eda554",
   "metadata": {
    "papermill": {
     "duration": 1.504901,
     "end_time": "2025-03-11T21:29:44.089486",
     "exception": false,
     "start_time": "2025-03-11T21:29:42.584585",
     "status": "completed"
    },
    "tags": []
   },
   "outputs": [
    {
     "data": {
      "text/plain": [
       "0         cat4\n",
       "1         cat1\n",
       "2         cat4\n",
       "3         cat4\n",
       "4         cat3\n",
       "          ... \n",
       "499995    cat4\n",
       "499996    cat4\n",
       "499997    cat4\n",
       "499998    cat3\n",
       "499999    cat4\n",
       "Name: child_wasting.exposure, Length: 500000, dtype: object"
      ]
     },
     "execution_count": 54,
     "metadata": {},
     "output_type": "execute_result"
    }
   ],
   "source": [
    "exposure_values = sim_baseline.get_value(\"child_wasting.exposure\")(sim_baseline.get_population().index)\n",
    "exposure_values"
   ]
  },
  {
   "cell_type": "markdown",
   "id": "18dfdcfe",
   "metadata": {
    "papermill": {
     "duration": 0.027504,
     "end_time": "2025-03-11T21:29:44.145281",
     "exception": false,
     "start_time": "2025-03-11T21:29:44.117777",
     "status": "completed"
    },
    "tags": []
   },
   "source": [
    "These hard-to-read category names can then be mapped using metadata in `gbd_mapping` into\n",
    "categories we can interpret:"
   ]
  },
  {
   "cell_type": "code",
   "execution_count": 55,
   "id": "1dd90a46",
   "metadata": {
    "papermill": {
     "duration": 0.059832,
     "end_time": "2025-03-11T21:29:44.233314",
     "exception": false,
     "start_time": "2025-03-11T21:29:44.173482",
     "status": "completed"
    },
    "tags": []
   },
   "outputs": [
    {
     "data": {
      "text/plain": [
       "0                                               Unexposed\n",
       "1                 Severe Wasting, < -3 SD (post-ensemble)\n",
       "2                                               Unexposed\n",
       "3                                               Unexposed\n",
       "4         Wasting Between -2 SD and -1 SD (post-ensemble)\n",
       "                               ...                       \n",
       "499995                                          Unexposed\n",
       "499996                                          Unexposed\n",
       "499997                                          Unexposed\n",
       "499998    Wasting Between -2 SD and -1 SD (post-ensemble)\n",
       "499999                                          Unexposed\n",
       "Name: child_wasting.exposure, Length: 500000, dtype: object"
      ]
     },
     "execution_count": 55,
     "metadata": {},
     "output_type": "execute_result"
    }
   ],
   "source": [
    "exposure_values.map(gbd_mapping.risk_factors.child_wasting.categories.to_dict())"
   ]
  },
  {
   "cell_type": "markdown",
   "id": "bcac775a",
   "metadata": {
    "papermill": {
     "duration": 0.027771,
     "end_time": "2025-03-11T21:29:44.289061",
     "exception": false,
     "start_time": "2025-03-11T21:29:44.261290",
     "status": "completed"
    },
    "tags": []
   },
   "source": [
    "Let's make a function that does all this for us and generates a population table that is easier to look at."
   ]
  },
  {
   "cell_type": "code",
   "execution_count": 56,
   "id": "698eec02",
   "metadata": {
    "papermill": {
     "duration": 0.032681,
     "end_time": "2025-03-11T21:29:44.349002",
     "exception": false,
     "start_time": "2025-03-11T21:29:44.316321",
     "status": "completed"
    },
    "tags": []
   },
   "outputs": [],
   "source": [
    "def get_simulants(sim):\n",
    "    pop = sim.get_population()[[\"alive\", \"age\", \"sex\", \"covered_by_sqlns\", \"diarrheal_diseases\"]]\n",
    "    pop = pop.join(\n",
    "        sim.get_value(\"child_wasting.exposure\")(pop.index).map(\n",
    "            gbd_mapping.risk_factors.child_wasting.categories.to_dict()\n",
    "        ).rename('child_wasting'),\n",
    "        how='left',\n",
    "    )\n",
    "\n",
    "    return pop"
   ]
  },
  {
   "cell_type": "code",
   "execution_count": 57,
   "id": "2a6ca816",
   "metadata": {
    "papermill": {
     "duration": 1.562516,
     "end_time": "2025-03-11T21:29:45.937725",
     "exception": false,
     "start_time": "2025-03-11T21:29:44.375209",
     "status": "completed"
    },
    "tags": []
   },
   "outputs": [
    {
     "data": {
      "text/html": [
       "<div>\n",
       "<style scoped>\n",
       "    .dataframe tbody tr th:only-of-type {\n",
       "        vertical-align: middle;\n",
       "    }\n",
       "\n",
       "    .dataframe tbody tr th {\n",
       "        vertical-align: top;\n",
       "    }\n",
       "\n",
       "    .dataframe thead th {\n",
       "        text-align: right;\n",
       "    }\n",
       "</style>\n",
       "<table border=\"1\" class=\"dataframe\">\n",
       "  <thead>\n",
       "    <tr style=\"text-align: right;\">\n",
       "      <th></th>\n",
       "      <th>alive</th>\n",
       "      <th>age</th>\n",
       "      <th>sex</th>\n",
       "      <th>covered_by_sqlns</th>\n",
       "      <th>diarrheal_diseases</th>\n",
       "      <th>child_wasting</th>\n",
       "    </tr>\n",
       "  </thead>\n",
       "  <tbody>\n",
       "    <tr>\n",
       "      <th>0</th>\n",
       "      <td>alive</td>\n",
       "      <td>0.449100</td>\n",
       "      <td>Female</td>\n",
       "      <td>False</td>\n",
       "      <td>susceptible_to_diarrheal_diseases</td>\n",
       "      <td>Unexposed</td>\n",
       "    </tr>\n",
       "    <tr>\n",
       "      <th>1</th>\n",
       "      <td>alive</td>\n",
       "      <td>0.298315</td>\n",
       "      <td>Male</td>\n",
       "      <td>False</td>\n",
       "      <td>susceptible_to_diarrheal_diseases</td>\n",
       "      <td>Severe Wasting, &lt; -3 SD (post-ensemble)</td>\n",
       "    </tr>\n",
       "    <tr>\n",
       "      <th>2</th>\n",
       "      <td>alive</td>\n",
       "      <td>0.041546</td>\n",
       "      <td>Female</td>\n",
       "      <td>False</td>\n",
       "      <td>susceptible_to_diarrheal_diseases</td>\n",
       "      <td>Unexposed</td>\n",
       "    </tr>\n",
       "    <tr>\n",
       "      <th>3</th>\n",
       "      <td>alive</td>\n",
       "      <td>0.655818</td>\n",
       "      <td>Male</td>\n",
       "      <td>False</td>\n",
       "      <td>susceptible_to_diarrheal_diseases</td>\n",
       "      <td>Unexposed</td>\n",
       "    </tr>\n",
       "    <tr>\n",
       "      <th>4</th>\n",
       "      <td>alive</td>\n",
       "      <td>0.563762</td>\n",
       "      <td>Female</td>\n",
       "      <td>False</td>\n",
       "      <td>susceptible_to_diarrheal_diseases</td>\n",
       "      <td>Wasting Between -2 SD and -1 SD (post-ensemble)</td>\n",
       "    </tr>\n",
       "    <tr>\n",
       "      <th>...</th>\n",
       "      <td>...</td>\n",
       "      <td>...</td>\n",
       "      <td>...</td>\n",
       "      <td>...</td>\n",
       "      <td>...</td>\n",
       "      <td>...</td>\n",
       "    </tr>\n",
       "    <tr>\n",
       "      <th>499995</th>\n",
       "      <td>alive</td>\n",
       "      <td>0.407435</td>\n",
       "      <td>Female</td>\n",
       "      <td>False</td>\n",
       "      <td>susceptible_to_diarrheal_diseases</td>\n",
       "      <td>Unexposed</td>\n",
       "    </tr>\n",
       "    <tr>\n",
       "      <th>499996</th>\n",
       "      <td>alive</td>\n",
       "      <td>1.790844</td>\n",
       "      <td>Female</td>\n",
       "      <td>False</td>\n",
       "      <td>susceptible_to_diarrheal_diseases</td>\n",
       "      <td>Unexposed</td>\n",
       "    </tr>\n",
       "    <tr>\n",
       "      <th>499997</th>\n",
       "      <td>alive</td>\n",
       "      <td>0.825693</td>\n",
       "      <td>Male</td>\n",
       "      <td>False</td>\n",
       "      <td>susceptible_to_diarrheal_diseases</td>\n",
       "      <td>Unexposed</td>\n",
       "    </tr>\n",
       "    <tr>\n",
       "      <th>499998</th>\n",
       "      <td>alive</td>\n",
       "      <td>0.137701</td>\n",
       "      <td>Female</td>\n",
       "      <td>False</td>\n",
       "      <td>susceptible_to_diarrheal_diseases</td>\n",
       "      <td>Wasting Between -2 SD and -1 SD (post-ensemble)</td>\n",
       "    </tr>\n",
       "    <tr>\n",
       "      <th>499999</th>\n",
       "      <td>alive</td>\n",
       "      <td>0.538179</td>\n",
       "      <td>Female</td>\n",
       "      <td>False</td>\n",
       "      <td>susceptible_to_diarrheal_diseases</td>\n",
       "      <td>Unexposed</td>\n",
       "    </tr>\n",
       "  </tbody>\n",
       "</table>\n",
       "<p>500000 rows × 6 columns</p>\n",
       "</div>"
      ],
      "text/plain": [
       "        alive       age     sex  covered_by_sqlns  \\\n",
       "0       alive  0.449100  Female             False   \n",
       "1       alive  0.298315    Male             False   \n",
       "2       alive  0.041546  Female             False   \n",
       "3       alive  0.655818    Male             False   \n",
       "4       alive  0.563762  Female             False   \n",
       "...       ...       ...     ...               ...   \n",
       "499995  alive  0.407435  Female             False   \n",
       "499996  alive  1.790844  Female             False   \n",
       "499997  alive  0.825693    Male             False   \n",
       "499998  alive  0.137701  Female             False   \n",
       "499999  alive  0.538179  Female             False   \n",
       "\n",
       "                       diarrheal_diseases  \\\n",
       "0       susceptible_to_diarrheal_diseases   \n",
       "1       susceptible_to_diarrheal_diseases   \n",
       "2       susceptible_to_diarrheal_diseases   \n",
       "3       susceptible_to_diarrheal_diseases   \n",
       "4       susceptible_to_diarrheal_diseases   \n",
       "...                                   ...   \n",
       "499995  susceptible_to_diarrheal_diseases   \n",
       "499996  susceptible_to_diarrheal_diseases   \n",
       "499997  susceptible_to_diarrheal_diseases   \n",
       "499998  susceptible_to_diarrheal_diseases   \n",
       "499999  susceptible_to_diarrheal_diseases   \n",
       "\n",
       "                                          child_wasting  \n",
       "0                                             Unexposed  \n",
       "1               Severe Wasting, < -3 SD (post-ensemble)  \n",
       "2                                             Unexposed  \n",
       "3                                             Unexposed  \n",
       "4       Wasting Between -2 SD and -1 SD (post-ensemble)  \n",
       "...                                                 ...  \n",
       "499995                                        Unexposed  \n",
       "499996                                        Unexposed  \n",
       "499997                                        Unexposed  \n",
       "499998  Wasting Between -2 SD and -1 SD (post-ensemble)  \n",
       "499999                                        Unexposed  \n",
       "\n",
       "[500000 rows x 6 columns]"
      ]
     },
     "execution_count": 57,
     "metadata": {},
     "output_type": "execute_result"
    }
   ],
   "source": [
    "get_simulants(sim_baseline)"
   ]
  },
  {
   "cell_type": "code",
   "execution_count": 58,
   "id": "ee269aba",
   "metadata": {
    "papermill": {
     "duration": 1.533602,
     "end_time": "2025-03-11T21:29:47.500556",
     "exception": false,
     "start_time": "2025-03-11T21:29:45.966954",
     "status": "completed"
    },
    "tags": []
   },
   "outputs": [
    {
     "data": {
      "text/html": [
       "<div>\n",
       "<style scoped>\n",
       "    .dataframe tbody tr th:only-of-type {\n",
       "        vertical-align: middle;\n",
       "    }\n",
       "\n",
       "    .dataframe tbody tr th {\n",
       "        vertical-align: top;\n",
       "    }\n",
       "\n",
       "    .dataframe thead th {\n",
       "        text-align: right;\n",
       "    }\n",
       "</style>\n",
       "<table border=\"1\" class=\"dataframe\">\n",
       "  <thead>\n",
       "    <tr style=\"text-align: right;\">\n",
       "      <th></th>\n",
       "      <th>alive</th>\n",
       "      <th>age</th>\n",
       "      <th>sex</th>\n",
       "      <th>covered_by_sqlns</th>\n",
       "      <th>diarrheal_diseases</th>\n",
       "      <th>child_wasting</th>\n",
       "    </tr>\n",
       "  </thead>\n",
       "  <tbody>\n",
       "    <tr>\n",
       "      <th>0</th>\n",
       "      <td>alive</td>\n",
       "      <td>0.449100</td>\n",
       "      <td>Female</td>\n",
       "      <td>True</td>\n",
       "      <td>susceptible_to_diarrheal_diseases</td>\n",
       "      <td>Unexposed</td>\n",
       "    </tr>\n",
       "    <tr>\n",
       "      <th>1</th>\n",
       "      <td>alive</td>\n",
       "      <td>0.298315</td>\n",
       "      <td>Male</td>\n",
       "      <td>True</td>\n",
       "      <td>susceptible_to_diarrheal_diseases</td>\n",
       "      <td>Severe Wasting, &lt; -3 SD (post-ensemble)</td>\n",
       "    </tr>\n",
       "    <tr>\n",
       "      <th>2</th>\n",
       "      <td>alive</td>\n",
       "      <td>0.041546</td>\n",
       "      <td>Female</td>\n",
       "      <td>True</td>\n",
       "      <td>susceptible_to_diarrheal_diseases</td>\n",
       "      <td>Unexposed</td>\n",
       "    </tr>\n",
       "    <tr>\n",
       "      <th>3</th>\n",
       "      <td>alive</td>\n",
       "      <td>0.655818</td>\n",
       "      <td>Male</td>\n",
       "      <td>True</td>\n",
       "      <td>susceptible_to_diarrheal_diseases</td>\n",
       "      <td>Unexposed</td>\n",
       "    </tr>\n",
       "    <tr>\n",
       "      <th>4</th>\n",
       "      <td>alive</td>\n",
       "      <td>0.563762</td>\n",
       "      <td>Female</td>\n",
       "      <td>True</td>\n",
       "      <td>susceptible_to_diarrheal_diseases</td>\n",
       "      <td>Wasting Between -2 SD and -1 SD (post-ensemble)</td>\n",
       "    </tr>\n",
       "    <tr>\n",
       "      <th>...</th>\n",
       "      <td>...</td>\n",
       "      <td>...</td>\n",
       "      <td>...</td>\n",
       "      <td>...</td>\n",
       "      <td>...</td>\n",
       "      <td>...</td>\n",
       "    </tr>\n",
       "    <tr>\n",
       "      <th>499995</th>\n",
       "      <td>alive</td>\n",
       "      <td>0.407435</td>\n",
       "      <td>Female</td>\n",
       "      <td>True</td>\n",
       "      <td>susceptible_to_diarrheal_diseases</td>\n",
       "      <td>Unexposed</td>\n",
       "    </tr>\n",
       "    <tr>\n",
       "      <th>499996</th>\n",
       "      <td>alive</td>\n",
       "      <td>1.790844</td>\n",
       "      <td>Female</td>\n",
       "      <td>True</td>\n",
       "      <td>susceptible_to_diarrheal_diseases</td>\n",
       "      <td>Unexposed</td>\n",
       "    </tr>\n",
       "    <tr>\n",
       "      <th>499997</th>\n",
       "      <td>alive</td>\n",
       "      <td>0.825693</td>\n",
       "      <td>Male</td>\n",
       "      <td>True</td>\n",
       "      <td>susceptible_to_diarrheal_diseases</td>\n",
       "      <td>Unexposed</td>\n",
       "    </tr>\n",
       "    <tr>\n",
       "      <th>499998</th>\n",
       "      <td>alive</td>\n",
       "      <td>0.137701</td>\n",
       "      <td>Female</td>\n",
       "      <td>True</td>\n",
       "      <td>susceptible_to_diarrheal_diseases</td>\n",
       "      <td>Wasting Between -2 SD and -1 SD (post-ensemble)</td>\n",
       "    </tr>\n",
       "    <tr>\n",
       "      <th>499999</th>\n",
       "      <td>alive</td>\n",
       "      <td>0.538179</td>\n",
       "      <td>Female</td>\n",
       "      <td>True</td>\n",
       "      <td>susceptible_to_diarrheal_diseases</td>\n",
       "      <td>Unexposed</td>\n",
       "    </tr>\n",
       "  </tbody>\n",
       "</table>\n",
       "<p>500000 rows × 6 columns</p>\n",
       "</div>"
      ],
      "text/plain": [
       "        alive       age     sex  covered_by_sqlns  \\\n",
       "0       alive  0.449100  Female              True   \n",
       "1       alive  0.298315    Male              True   \n",
       "2       alive  0.041546  Female              True   \n",
       "3       alive  0.655818    Male              True   \n",
       "4       alive  0.563762  Female              True   \n",
       "...       ...       ...     ...               ...   \n",
       "499995  alive  0.407435  Female              True   \n",
       "499996  alive  1.790844  Female              True   \n",
       "499997  alive  0.825693    Male              True   \n",
       "499998  alive  0.137701  Female              True   \n",
       "499999  alive  0.538179  Female              True   \n",
       "\n",
       "                       diarrheal_diseases  \\\n",
       "0       susceptible_to_diarrheal_diseases   \n",
       "1       susceptible_to_diarrheal_diseases   \n",
       "2       susceptible_to_diarrheal_diseases   \n",
       "3       susceptible_to_diarrheal_diseases   \n",
       "4       susceptible_to_diarrheal_diseases   \n",
       "...                                   ...   \n",
       "499995  susceptible_to_diarrheal_diseases   \n",
       "499996  susceptible_to_diarrheal_diseases   \n",
       "499997  susceptible_to_diarrheal_diseases   \n",
       "499998  susceptible_to_diarrheal_diseases   \n",
       "499999  susceptible_to_diarrheal_diseases   \n",
       "\n",
       "                                          child_wasting  \n",
       "0                                             Unexposed  \n",
       "1               Severe Wasting, < -3 SD (post-ensemble)  \n",
       "2                                             Unexposed  \n",
       "3                                             Unexposed  \n",
       "4       Wasting Between -2 SD and -1 SD (post-ensemble)  \n",
       "...                                                 ...  \n",
       "499995                                        Unexposed  \n",
       "499996                                        Unexposed  \n",
       "499997                                        Unexposed  \n",
       "499998  Wasting Between -2 SD and -1 SD (post-ensemble)  \n",
       "499999                                        Unexposed  \n",
       "\n",
       "[500000 rows x 6 columns]"
      ]
     },
     "execution_count": 58,
     "metadata": {},
     "output_type": "execute_result"
    }
   ],
   "source": [
    "get_simulants(sim_intervention)"
   ]
  },
  {
   "cell_type": "markdown",
   "id": "90bcfd67",
   "metadata": {
    "papermill": {
     "duration": 0.027354,
     "end_time": "2025-03-11T21:29:47.556438",
     "exception": false,
     "start_time": "2025-03-11T21:29:47.529084",
     "status": "completed"
    },
    "tags": []
   },
   "source": [
    "As you can see, we have all the same simulants in both scenarios!\n",
    "This is because of a Vivarium feature called Common Random Numbers (CRN).\n",
    "We won't go into the details here, but CRN generally means that the only things\n",
    "different between two scenarios are the things that are caused by the different interventions,\n",
    "which minimizes random noise and makes us able to detect effects with much smaller population sizes.\n",
    "\n",
    "The major difference visible between our scenarios so far is that all simulants in the intervention scenario\n",
    "have `covered_by_sqlns` set to True.\n",
    "\n",
    "Let's write a function to show us all the ways that simulants are different between the two scenarios."
   ]
  },
  {
   "cell_type": "code",
   "execution_count": 59,
   "id": "690256bf",
   "metadata": {
    "papermill": {
     "duration": 0.034238,
     "end_time": "2025-03-11T21:29:47.617592",
     "exception": false,
     "start_time": "2025-03-11T21:29:47.583354",
     "status": "completed"
    },
    "tags": []
   },
   "outputs": [],
   "source": [
    "def compare_simulants(df_1, df_2, df_1_name, df_2_name):\n",
    "    joined = df_1.join(df_2, lsuffix=f'_{df_1_name}', rsuffix=f'_{df_2_name}', how='inner')[\n",
    "        sum([[f\"{col}_{df_1_name}\", f\"{col}_{df_2_name}\"] for col in df_1.columns], [])\n",
    "    ]\n",
    "\n",
    "    any_difference_columns = []\n",
    "    for col in df_1.columns:\n",
    "        if not joined[f\"{col}_{df_1_name}\"].equals(joined[f\"{col}_{df_2_name}\"]):\n",
    "            any_difference_columns.append(col)\n",
    "\n",
    "    for col in df_1.columns:\n",
    "        if col not in any_difference_columns:\n",
    "            continue\n",
    "        print(f\"Difference in {col}:\")\n",
    "        display(joined[joined[f\"{col}_{df_1_name}\"] != joined[f\"{col}_{df_2_name}\"]][sum([[f\"{col}_{df_1_name}\", f\"{col}_{df_2_name}\"] for col in any_difference_columns], [])])\n",
    "\n",
    "def compare_scenarios(sim_baseline, sim_intervention):\n",
    "    compare_simulants(get_simulants(sim_baseline), get_simulants(sim_intervention), \"baseline\", \"intervention\")"
   ]
  },
  {
   "cell_type": "code",
   "execution_count": 60,
   "id": "0071af6c",
   "metadata": {
    "papermill": {
     "duration": 3.49776,
     "end_time": "2025-03-11T21:29:51.142245",
     "exception": false,
     "start_time": "2025-03-11T21:29:47.644485",
     "status": "completed"
    },
    "tags": []
   },
   "outputs": [
    {
     "name": "stdout",
     "output_type": "stream",
     "text": [
      "Difference in covered_by_sqlns:\n"
     ]
    },
    {
     "data": {
      "text/html": [
       "<div>\n",
       "<style scoped>\n",
       "    .dataframe tbody tr th:only-of-type {\n",
       "        vertical-align: middle;\n",
       "    }\n",
       "\n",
       "    .dataframe tbody tr th {\n",
       "        vertical-align: top;\n",
       "    }\n",
       "\n",
       "    .dataframe thead th {\n",
       "        text-align: right;\n",
       "    }\n",
       "</style>\n",
       "<table border=\"1\" class=\"dataframe\">\n",
       "  <thead>\n",
       "    <tr style=\"text-align: right;\">\n",
       "      <th></th>\n",
       "      <th>covered_by_sqlns_baseline</th>\n",
       "      <th>covered_by_sqlns_intervention</th>\n",
       "      <th>child_wasting_baseline</th>\n",
       "      <th>child_wasting_intervention</th>\n",
       "    </tr>\n",
       "  </thead>\n",
       "  <tbody>\n",
       "    <tr>\n",
       "      <th>0</th>\n",
       "      <td>False</td>\n",
       "      <td>True</td>\n",
       "      <td>Unexposed</td>\n",
       "      <td>Unexposed</td>\n",
       "    </tr>\n",
       "    <tr>\n",
       "      <th>1</th>\n",
       "      <td>False</td>\n",
       "      <td>True</td>\n",
       "      <td>Severe Wasting, &lt; -3 SD (post-ensemble)</td>\n",
       "      <td>Severe Wasting, &lt; -3 SD (post-ensemble)</td>\n",
       "    </tr>\n",
       "    <tr>\n",
       "      <th>2</th>\n",
       "      <td>False</td>\n",
       "      <td>True</td>\n",
       "      <td>Unexposed</td>\n",
       "      <td>Unexposed</td>\n",
       "    </tr>\n",
       "    <tr>\n",
       "      <th>3</th>\n",
       "      <td>False</td>\n",
       "      <td>True</td>\n",
       "      <td>Unexposed</td>\n",
       "      <td>Unexposed</td>\n",
       "    </tr>\n",
       "    <tr>\n",
       "      <th>4</th>\n",
       "      <td>False</td>\n",
       "      <td>True</td>\n",
       "      <td>Wasting Between -2 SD and -1 SD (post-ensemble)</td>\n",
       "      <td>Wasting Between -2 SD and -1 SD (post-ensemble)</td>\n",
       "    </tr>\n",
       "    <tr>\n",
       "      <th>...</th>\n",
       "      <td>...</td>\n",
       "      <td>...</td>\n",
       "      <td>...</td>\n",
       "      <td>...</td>\n",
       "    </tr>\n",
       "    <tr>\n",
       "      <th>499995</th>\n",
       "      <td>False</td>\n",
       "      <td>True</td>\n",
       "      <td>Unexposed</td>\n",
       "      <td>Unexposed</td>\n",
       "    </tr>\n",
       "    <tr>\n",
       "      <th>499996</th>\n",
       "      <td>False</td>\n",
       "      <td>True</td>\n",
       "      <td>Unexposed</td>\n",
       "      <td>Unexposed</td>\n",
       "    </tr>\n",
       "    <tr>\n",
       "      <th>499997</th>\n",
       "      <td>False</td>\n",
       "      <td>True</td>\n",
       "      <td>Unexposed</td>\n",
       "      <td>Unexposed</td>\n",
       "    </tr>\n",
       "    <tr>\n",
       "      <th>499998</th>\n",
       "      <td>False</td>\n",
       "      <td>True</td>\n",
       "      <td>Wasting Between -2 SD and -1 SD (post-ensemble)</td>\n",
       "      <td>Wasting Between -2 SD and -1 SD (post-ensemble)</td>\n",
       "    </tr>\n",
       "    <tr>\n",
       "      <th>499999</th>\n",
       "      <td>False</td>\n",
       "      <td>True</td>\n",
       "      <td>Unexposed</td>\n",
       "      <td>Unexposed</td>\n",
       "    </tr>\n",
       "  </tbody>\n",
       "</table>\n",
       "<p>500000 rows × 4 columns</p>\n",
       "</div>"
      ],
      "text/plain": [
       "        covered_by_sqlns_baseline  covered_by_sqlns_intervention  \\\n",
       "0                           False                           True   \n",
       "1                           False                           True   \n",
       "2                           False                           True   \n",
       "3                           False                           True   \n",
       "4                           False                           True   \n",
       "...                           ...                            ...   \n",
       "499995                      False                           True   \n",
       "499996                      False                           True   \n",
       "499997                      False                           True   \n",
       "499998                      False                           True   \n",
       "499999                      False                           True   \n",
       "\n",
       "                                 child_wasting_baseline  \\\n",
       "0                                             Unexposed   \n",
       "1               Severe Wasting, < -3 SD (post-ensemble)   \n",
       "2                                             Unexposed   \n",
       "3                                             Unexposed   \n",
       "4       Wasting Between -2 SD and -1 SD (post-ensemble)   \n",
       "...                                                 ...   \n",
       "499995                                        Unexposed   \n",
       "499996                                        Unexposed   \n",
       "499997                                        Unexposed   \n",
       "499998  Wasting Between -2 SD and -1 SD (post-ensemble)   \n",
       "499999                                        Unexposed   \n",
       "\n",
       "                             child_wasting_intervention  \n",
       "0                                             Unexposed  \n",
       "1               Severe Wasting, < -3 SD (post-ensemble)  \n",
       "2                                             Unexposed  \n",
       "3                                             Unexposed  \n",
       "4       Wasting Between -2 SD and -1 SD (post-ensemble)  \n",
       "...                                                 ...  \n",
       "499995                                        Unexposed  \n",
       "499996                                        Unexposed  \n",
       "499997                                        Unexposed  \n",
       "499998  Wasting Between -2 SD and -1 SD (post-ensemble)  \n",
       "499999                                        Unexposed  \n",
       "\n",
       "[500000 rows x 4 columns]"
      ]
     },
     "metadata": {},
     "output_type": "display_data"
    },
    {
     "name": "stdout",
     "output_type": "stream",
     "text": [
      "Difference in child_wasting:\n"
     ]
    },
    {
     "data": {
      "text/html": [
       "<div>\n",
       "<style scoped>\n",
       "    .dataframe tbody tr th:only-of-type {\n",
       "        vertical-align: middle;\n",
       "    }\n",
       "\n",
       "    .dataframe tbody tr th {\n",
       "        vertical-align: top;\n",
       "    }\n",
       "\n",
       "    .dataframe thead th {\n",
       "        text-align: right;\n",
       "    }\n",
       "</style>\n",
       "<table border=\"1\" class=\"dataframe\">\n",
       "  <thead>\n",
       "    <tr style=\"text-align: right;\">\n",
       "      <th></th>\n",
       "      <th>covered_by_sqlns_baseline</th>\n",
       "      <th>covered_by_sqlns_intervention</th>\n",
       "      <th>child_wasting_baseline</th>\n",
       "      <th>child_wasting_intervention</th>\n",
       "    </tr>\n",
       "  </thead>\n",
       "  <tbody>\n",
       "    <tr>\n",
       "      <th>17</th>\n",
       "      <td>False</td>\n",
       "      <td>True</td>\n",
       "      <td>Wasting Between -3 SD and -2 SD (post-ensemble)</td>\n",
       "      <td>Wasting Between -2 SD and -1 SD (post-ensemble)</td>\n",
       "    </tr>\n",
       "    <tr>\n",
       "      <th>120</th>\n",
       "      <td>False</td>\n",
       "      <td>True</td>\n",
       "      <td>Wasting Between -3 SD and -2 SD (post-ensemble)</td>\n",
       "      <td>Wasting Between -2 SD and -1 SD (post-ensemble)</td>\n",
       "    </tr>\n",
       "    <tr>\n",
       "      <th>131</th>\n",
       "      <td>False</td>\n",
       "      <td>True</td>\n",
       "      <td>Wasting Between -3 SD and -2 SD (post-ensemble)</td>\n",
       "      <td>Wasting Between -2 SD and -1 SD (post-ensemble)</td>\n",
       "    </tr>\n",
       "    <tr>\n",
       "      <th>165</th>\n",
       "      <td>False</td>\n",
       "      <td>True</td>\n",
       "      <td>Wasting Between -3 SD and -2 SD (post-ensemble)</td>\n",
       "      <td>Wasting Between -2 SD and -1 SD (post-ensemble)</td>\n",
       "    </tr>\n",
       "    <tr>\n",
       "      <th>197</th>\n",
       "      <td>False</td>\n",
       "      <td>True</td>\n",
       "      <td>Wasting Between -3 SD and -2 SD (post-ensemble)</td>\n",
       "      <td>Wasting Between -2 SD and -1 SD (post-ensemble)</td>\n",
       "    </tr>\n",
       "    <tr>\n",
       "      <th>...</th>\n",
       "      <td>...</td>\n",
       "      <td>...</td>\n",
       "      <td>...</td>\n",
       "      <td>...</td>\n",
       "    </tr>\n",
       "    <tr>\n",
       "      <th>499836</th>\n",
       "      <td>False</td>\n",
       "      <td>True</td>\n",
       "      <td>Wasting Between -3 SD and -2 SD (post-ensemble)</td>\n",
       "      <td>Wasting Between -2 SD and -1 SD (post-ensemble)</td>\n",
       "    </tr>\n",
       "    <tr>\n",
       "      <th>499955</th>\n",
       "      <td>False</td>\n",
       "      <td>True</td>\n",
       "      <td>Wasting Between -3 SD and -2 SD (post-ensemble)</td>\n",
       "      <td>Wasting Between -2 SD and -1 SD (post-ensemble)</td>\n",
       "    </tr>\n",
       "    <tr>\n",
       "      <th>499968</th>\n",
       "      <td>False</td>\n",
       "      <td>True</td>\n",
       "      <td>Wasting Between -3 SD and -2 SD (post-ensemble)</td>\n",
       "      <td>Wasting Between -2 SD and -1 SD (post-ensemble)</td>\n",
       "    </tr>\n",
       "    <tr>\n",
       "      <th>499984</th>\n",
       "      <td>False</td>\n",
       "      <td>True</td>\n",
       "      <td>Wasting Between -3 SD and -2 SD (post-ensemble)</td>\n",
       "      <td>Wasting Between -2 SD and -1 SD (post-ensemble)</td>\n",
       "    </tr>\n",
       "    <tr>\n",
       "      <th>499991</th>\n",
       "      <td>False</td>\n",
       "      <td>True</td>\n",
       "      <td>Wasting Between -3 SD and -2 SD (post-ensemble)</td>\n",
       "      <td>Wasting Between -2 SD and -1 SD (post-ensemble)</td>\n",
       "    </tr>\n",
       "  </tbody>\n",
       "</table>\n",
       "<p>7464 rows × 4 columns</p>\n",
       "</div>"
      ],
      "text/plain": [
       "        covered_by_sqlns_baseline  covered_by_sqlns_intervention  \\\n",
       "17                          False                           True   \n",
       "120                         False                           True   \n",
       "131                         False                           True   \n",
       "165                         False                           True   \n",
       "197                         False                           True   \n",
       "...                           ...                            ...   \n",
       "499836                      False                           True   \n",
       "499955                      False                           True   \n",
       "499968                      False                           True   \n",
       "499984                      False                           True   \n",
       "499991                      False                           True   \n",
       "\n",
       "                                 child_wasting_baseline  \\\n",
       "17      Wasting Between -3 SD and -2 SD (post-ensemble)   \n",
       "120     Wasting Between -3 SD and -2 SD (post-ensemble)   \n",
       "131     Wasting Between -3 SD and -2 SD (post-ensemble)   \n",
       "165     Wasting Between -3 SD and -2 SD (post-ensemble)   \n",
       "197     Wasting Between -3 SD and -2 SD (post-ensemble)   \n",
       "...                                                 ...   \n",
       "499836  Wasting Between -3 SD and -2 SD (post-ensemble)   \n",
       "499955  Wasting Between -3 SD and -2 SD (post-ensemble)   \n",
       "499968  Wasting Between -3 SD and -2 SD (post-ensemble)   \n",
       "499984  Wasting Between -3 SD and -2 SD (post-ensemble)   \n",
       "499991  Wasting Between -3 SD and -2 SD (post-ensemble)   \n",
       "\n",
       "                             child_wasting_intervention  \n",
       "17      Wasting Between -2 SD and -1 SD (post-ensemble)  \n",
       "120     Wasting Between -2 SD and -1 SD (post-ensemble)  \n",
       "131     Wasting Between -2 SD and -1 SD (post-ensemble)  \n",
       "165     Wasting Between -2 SD and -1 SD (post-ensemble)  \n",
       "197     Wasting Between -2 SD and -1 SD (post-ensemble)  \n",
       "...                                                 ...  \n",
       "499836  Wasting Between -2 SD and -1 SD (post-ensemble)  \n",
       "499955  Wasting Between -2 SD and -1 SD (post-ensemble)  \n",
       "499968  Wasting Between -2 SD and -1 SD (post-ensemble)  \n",
       "499984  Wasting Between -2 SD and -1 SD (post-ensemble)  \n",
       "499991  Wasting Between -2 SD and -1 SD (post-ensemble)  \n",
       "\n",
       "[7464 rows x 4 columns]"
      ]
     },
     "metadata": {},
     "output_type": "display_data"
    }
   ],
   "source": [
    "compare_scenarios(sim_baseline, sim_intervention)"
   ]
  },
  {
   "cell_type": "markdown",
   "id": "3b05a539",
   "metadata": {
    "papermill": {
     "duration": 0.028439,
     "end_time": "2025-03-11T21:29:51.202045",
     "exception": false,
     "start_time": "2025-03-11T21:29:51.173606",
     "status": "completed"
    },
    "tags": []
   },
   "source": [
    "We see that our intervention has had an immediate effect on child wasting: some simulants are only mildly wasted, instead of\n",
    "moderately or severely wasted, in the intervention scenario. That's exactly what we would expect our intervention to do!\n",
    "\n",
    "In order for this impact to ripple to diarrheal diseases and ultimately DALYs, we need to move forward in time.\n",
    "Our simulations have a method called `step` that takes one time step forward.\n",
    "We'll write a helper function that takes this step for us, and optionally shows us what changed from one step to the next."
   ]
  },
  {
   "cell_type": "code",
   "execution_count": 61,
   "id": "47d65382",
   "metadata": {
    "papermill": {
     "duration": 0.034364,
     "end_time": "2025-03-11T21:29:51.264530",
     "exception": false,
     "start_time": "2025-03-11T21:29:51.230166",
     "status": "completed"
    },
    "tags": []
   },
   "outputs": [],
   "source": [
    "def step_forward(sim, verbose=True):\n",
    "    print(f'Time before: {sim.current_time}')\n",
    "    before = get_simulants(sim)\n",
    "    sim.step()\n",
    "    after = get_simulants(sim)\n",
    "    print(f'Time after: {sim.current_time}')\n",
    "    if verbose:\n",
    "        compare_simulants(before, after, \"before\", \"after\")"
   ]
  },
  {
   "cell_type": "code",
   "execution_count": 62,
   "id": "f28910b8",
   "metadata": {
    "papermill": {
     "duration": 19.818624,
     "end_time": "2025-03-11T21:30:11.111623",
     "exception": false,
     "start_time": "2025-03-11T21:29:51.292999",
     "status": "completed"
    },
    "tags": []
   },
   "outputs": [
    {
     "name": "stdout",
     "output_type": "stream",
     "text": [
      "Time before: 2025-01-01 00:00:00\n",
      "Time after: 2025-01-08 00:00:00\n",
      "Difference in alive:\n"
     ]
    },
    {
     "data": {
      "text/html": [
       "<div>\n",
       "<style scoped>\n",
       "    .dataframe tbody tr th:only-of-type {\n",
       "        vertical-align: middle;\n",
       "    }\n",
       "\n",
       "    .dataframe tbody tr th {\n",
       "        vertical-align: top;\n",
       "    }\n",
       "\n",
       "    .dataframe thead th {\n",
       "        text-align: right;\n",
       "    }\n",
       "</style>\n",
       "<table border=\"1\" class=\"dataframe\">\n",
       "  <thead>\n",
       "    <tr style=\"text-align: right;\">\n",
       "      <th></th>\n",
       "      <th>alive_before</th>\n",
       "      <th>alive_after</th>\n",
       "      <th>age_before</th>\n",
       "      <th>age_after</th>\n",
       "      <th>diarrheal_diseases_before</th>\n",
       "      <th>diarrheal_diseases_after</th>\n",
       "      <th>child_wasting_before</th>\n",
       "      <th>child_wasting_after</th>\n",
       "    </tr>\n",
       "  </thead>\n",
       "  <tbody>\n",
       "    <tr>\n",
       "      <th>290</th>\n",
       "      <td>alive</td>\n",
       "      <td>dead</td>\n",
       "      <td>0.010050</td>\n",
       "      <td>0.010050</td>\n",
       "      <td>susceptible_to_diarrheal_diseases</td>\n",
       "      <td>susceptible_to_diarrheal_diseases</td>\n",
       "      <td>Unexposed</td>\n",
       "      <td>Unexposed</td>\n",
       "    </tr>\n",
       "    <tr>\n",
       "      <th>328</th>\n",
       "      <td>alive</td>\n",
       "      <td>dead</td>\n",
       "      <td>0.025124</td>\n",
       "      <td>0.025124</td>\n",
       "      <td>susceptible_to_diarrheal_diseases</td>\n",
       "      <td>susceptible_to_diarrheal_diseases</td>\n",
       "      <td>Unexposed</td>\n",
       "      <td>Unexposed</td>\n",
       "    </tr>\n",
       "    <tr>\n",
       "      <th>381</th>\n",
       "      <td>alive</td>\n",
       "      <td>dead</td>\n",
       "      <td>0.002726</td>\n",
       "      <td>0.002726</td>\n",
       "      <td>susceptible_to_diarrheal_diseases</td>\n",
       "      <td>susceptible_to_diarrheal_diseases</td>\n",
       "      <td>Unexposed</td>\n",
       "      <td>Unexposed</td>\n",
       "    </tr>\n",
       "    <tr>\n",
       "      <th>4346</th>\n",
       "      <td>alive</td>\n",
       "      <td>dead</td>\n",
       "      <td>0.001446</td>\n",
       "      <td>0.001446</td>\n",
       "      <td>susceptible_to_diarrheal_diseases</td>\n",
       "      <td>susceptible_to_diarrheal_diseases</td>\n",
       "      <td>Unexposed</td>\n",
       "      <td>Unexposed</td>\n",
       "    </tr>\n",
       "    <tr>\n",
       "      <th>4512</th>\n",
       "      <td>alive</td>\n",
       "      <td>dead</td>\n",
       "      <td>0.000819</td>\n",
       "      <td>0.000819</td>\n",
       "      <td>susceptible_to_diarrheal_diseases</td>\n",
       "      <td>susceptible_to_diarrheal_diseases</td>\n",
       "      <td>Unexposed</td>\n",
       "      <td>Unexposed</td>\n",
       "    </tr>\n",
       "    <tr>\n",
       "      <th>...</th>\n",
       "      <td>...</td>\n",
       "      <td>...</td>\n",
       "      <td>...</td>\n",
       "      <td>...</td>\n",
       "      <td>...</td>\n",
       "      <td>...</td>\n",
       "      <td>...</td>\n",
       "      <td>...</td>\n",
       "    </tr>\n",
       "    <tr>\n",
       "      <th>493510</th>\n",
       "      <td>alive</td>\n",
       "      <td>dead</td>\n",
       "      <td>0.630594</td>\n",
       "      <td>0.630594</td>\n",
       "      <td>susceptible_to_diarrheal_diseases</td>\n",
       "      <td>susceptible_to_diarrheal_diseases</td>\n",
       "      <td>Wasting Between -2 SD and -1 SD (post-ensemble)</td>\n",
       "      <td>Wasting Between -2 SD and -1 SD (post-ensemble)</td>\n",
       "    </tr>\n",
       "    <tr>\n",
       "      <th>495985</th>\n",
       "      <td>alive</td>\n",
       "      <td>dead</td>\n",
       "      <td>0.013408</td>\n",
       "      <td>0.013408</td>\n",
       "      <td>susceptible_to_diarrheal_diseases</td>\n",
       "      <td>susceptible_to_diarrheal_diseases</td>\n",
       "      <td>Unexposed</td>\n",
       "      <td>Unexposed</td>\n",
       "    </tr>\n",
       "    <tr>\n",
       "      <th>496520</th>\n",
       "      <td>alive</td>\n",
       "      <td>dead</td>\n",
       "      <td>1.126851</td>\n",
       "      <td>1.126851</td>\n",
       "      <td>susceptible_to_diarrheal_diseases</td>\n",
       "      <td>susceptible_to_diarrheal_diseases</td>\n",
       "      <td>Wasting Between -2 SD and -1 SD (post-ensemble)</td>\n",
       "      <td>Wasting Between -2 SD and -1 SD (post-ensemble)</td>\n",
       "    </tr>\n",
       "    <tr>\n",
       "      <th>497122</th>\n",
       "      <td>alive</td>\n",
       "      <td>dead</td>\n",
       "      <td>1.316201</td>\n",
       "      <td>1.316201</td>\n",
       "      <td>susceptible_to_diarrheal_diseases</td>\n",
       "      <td>susceptible_to_diarrheal_diseases</td>\n",
       "      <td>Wasting Between -3 SD and -2 SD (post-ensemble)</td>\n",
       "      <td>Wasting Between -3 SD and -2 SD (post-ensemble)</td>\n",
       "    </tr>\n",
       "    <tr>\n",
       "      <th>497539</th>\n",
       "      <td>alive</td>\n",
       "      <td>dead</td>\n",
       "      <td>0.004450</td>\n",
       "      <td>0.004450</td>\n",
       "      <td>susceptible_to_diarrheal_diseases</td>\n",
       "      <td>susceptible_to_diarrheal_diseases</td>\n",
       "      <td>Unexposed</td>\n",
       "      <td>Unexposed</td>\n",
       "    </tr>\n",
       "  </tbody>\n",
       "</table>\n",
       "<p>282 rows × 8 columns</p>\n",
       "</div>"
      ],
      "text/plain": [
       "       alive_before alive_after  age_before  age_after  \\\n",
       "290           alive        dead    0.010050   0.010050   \n",
       "328           alive        dead    0.025124   0.025124   \n",
       "381           alive        dead    0.002726   0.002726   \n",
       "4346          alive        dead    0.001446   0.001446   \n",
       "4512          alive        dead    0.000819   0.000819   \n",
       "...             ...         ...         ...        ...   \n",
       "493510        alive        dead    0.630594   0.630594   \n",
       "495985        alive        dead    0.013408   0.013408   \n",
       "496520        alive        dead    1.126851   1.126851   \n",
       "497122        alive        dead    1.316201   1.316201   \n",
       "497539        alive        dead    0.004450   0.004450   \n",
       "\n",
       "                diarrheal_diseases_before           diarrheal_diseases_after  \\\n",
       "290     susceptible_to_diarrheal_diseases  susceptible_to_diarrheal_diseases   \n",
       "328     susceptible_to_diarrheal_diseases  susceptible_to_diarrheal_diseases   \n",
       "381     susceptible_to_diarrheal_diseases  susceptible_to_diarrheal_diseases   \n",
       "4346    susceptible_to_diarrheal_diseases  susceptible_to_diarrheal_diseases   \n",
       "4512    susceptible_to_diarrheal_diseases  susceptible_to_diarrheal_diseases   \n",
       "...                                   ...                                ...   \n",
       "493510  susceptible_to_diarrheal_diseases  susceptible_to_diarrheal_diseases   \n",
       "495985  susceptible_to_diarrheal_diseases  susceptible_to_diarrheal_diseases   \n",
       "496520  susceptible_to_diarrheal_diseases  susceptible_to_diarrheal_diseases   \n",
       "497122  susceptible_to_diarrheal_diseases  susceptible_to_diarrheal_diseases   \n",
       "497539  susceptible_to_diarrheal_diseases  susceptible_to_diarrheal_diseases   \n",
       "\n",
       "                                   child_wasting_before  \\\n",
       "290                                           Unexposed   \n",
       "328                                           Unexposed   \n",
       "381                                           Unexposed   \n",
       "4346                                          Unexposed   \n",
       "4512                                          Unexposed   \n",
       "...                                                 ...   \n",
       "493510  Wasting Between -2 SD and -1 SD (post-ensemble)   \n",
       "495985                                        Unexposed   \n",
       "496520  Wasting Between -2 SD and -1 SD (post-ensemble)   \n",
       "497122  Wasting Between -3 SD and -2 SD (post-ensemble)   \n",
       "497539                                        Unexposed   \n",
       "\n",
       "                                    child_wasting_after  \n",
       "290                                           Unexposed  \n",
       "328                                           Unexposed  \n",
       "381                                           Unexposed  \n",
       "4346                                          Unexposed  \n",
       "4512                                          Unexposed  \n",
       "...                                                 ...  \n",
       "493510  Wasting Between -2 SD and -1 SD (post-ensemble)  \n",
       "495985                                        Unexposed  \n",
       "496520  Wasting Between -2 SD and -1 SD (post-ensemble)  \n",
       "497122  Wasting Between -3 SD and -2 SD (post-ensemble)  \n",
       "497539                                        Unexposed  \n",
       "\n",
       "[282 rows x 8 columns]"
      ]
     },
     "metadata": {},
     "output_type": "display_data"
    },
    {
     "name": "stdout",
     "output_type": "stream",
     "text": [
      "Difference in age:\n"
     ]
    },
    {
     "data": {
      "text/html": [
       "<div>\n",
       "<style scoped>\n",
       "    .dataframe tbody tr th:only-of-type {\n",
       "        vertical-align: middle;\n",
       "    }\n",
       "\n",
       "    .dataframe tbody tr th {\n",
       "        vertical-align: top;\n",
       "    }\n",
       "\n",
       "    .dataframe thead th {\n",
       "        text-align: right;\n",
       "    }\n",
       "</style>\n",
       "<table border=\"1\" class=\"dataframe\">\n",
       "  <thead>\n",
       "    <tr style=\"text-align: right;\">\n",
       "      <th></th>\n",
       "      <th>alive_before</th>\n",
       "      <th>alive_after</th>\n",
       "      <th>age_before</th>\n",
       "      <th>age_after</th>\n",
       "      <th>diarrheal_diseases_before</th>\n",
       "      <th>diarrheal_diseases_after</th>\n",
       "      <th>child_wasting_before</th>\n",
       "      <th>child_wasting_after</th>\n",
       "    </tr>\n",
       "  </thead>\n",
       "  <tbody>\n",
       "    <tr>\n",
       "      <th>0</th>\n",
       "      <td>alive</td>\n",
       "      <td>alive</td>\n",
       "      <td>0.449100</td>\n",
       "      <td>0.468265</td>\n",
       "      <td>susceptible_to_diarrheal_diseases</td>\n",
       "      <td>susceptible_to_diarrheal_diseases</td>\n",
       "      <td>Unexposed</td>\n",
       "      <td>Unexposed</td>\n",
       "    </tr>\n",
       "    <tr>\n",
       "      <th>1</th>\n",
       "      <td>alive</td>\n",
       "      <td>alive</td>\n",
       "      <td>0.298315</td>\n",
       "      <td>0.317480</td>\n",
       "      <td>susceptible_to_diarrheal_diseases</td>\n",
       "      <td>susceptible_to_diarrheal_diseases</td>\n",
       "      <td>Severe Wasting, &lt; -3 SD (post-ensemble)</td>\n",
       "      <td>Severe Wasting, &lt; -3 SD (post-ensemble)</td>\n",
       "    </tr>\n",
       "    <tr>\n",
       "      <th>2</th>\n",
       "      <td>alive</td>\n",
       "      <td>alive</td>\n",
       "      <td>0.041546</td>\n",
       "      <td>0.060711</td>\n",
       "      <td>susceptible_to_diarrheal_diseases</td>\n",
       "      <td>susceptible_to_diarrheal_diseases</td>\n",
       "      <td>Unexposed</td>\n",
       "      <td>Unexposed</td>\n",
       "    </tr>\n",
       "    <tr>\n",
       "      <th>3</th>\n",
       "      <td>alive</td>\n",
       "      <td>alive</td>\n",
       "      <td>0.655818</td>\n",
       "      <td>0.674983</td>\n",
       "      <td>susceptible_to_diarrheal_diseases</td>\n",
       "      <td>susceptible_to_diarrheal_diseases</td>\n",
       "      <td>Unexposed</td>\n",
       "      <td>Unexposed</td>\n",
       "    </tr>\n",
       "    <tr>\n",
       "      <th>4</th>\n",
       "      <td>alive</td>\n",
       "      <td>alive</td>\n",
       "      <td>0.563762</td>\n",
       "      <td>0.582927</td>\n",
       "      <td>susceptible_to_diarrheal_diseases</td>\n",
       "      <td>susceptible_to_diarrheal_diseases</td>\n",
       "      <td>Wasting Between -2 SD and -1 SD (post-ensemble)</td>\n",
       "      <td>Wasting Between -2 SD and -1 SD (post-ensemble)</td>\n",
       "    </tr>\n",
       "    <tr>\n",
       "      <th>...</th>\n",
       "      <td>...</td>\n",
       "      <td>...</td>\n",
       "      <td>...</td>\n",
       "      <td>...</td>\n",
       "      <td>...</td>\n",
       "      <td>...</td>\n",
       "      <td>...</td>\n",
       "      <td>...</td>\n",
       "    </tr>\n",
       "    <tr>\n",
       "      <th>499995</th>\n",
       "      <td>alive</td>\n",
       "      <td>alive</td>\n",
       "      <td>0.407435</td>\n",
       "      <td>0.426600</td>\n",
       "      <td>susceptible_to_diarrheal_diseases</td>\n",
       "      <td>susceptible_to_diarrheal_diseases</td>\n",
       "      <td>Unexposed</td>\n",
       "      <td>Unexposed</td>\n",
       "    </tr>\n",
       "    <tr>\n",
       "      <th>499996</th>\n",
       "      <td>alive</td>\n",
       "      <td>alive</td>\n",
       "      <td>1.790844</td>\n",
       "      <td>1.810009</td>\n",
       "      <td>susceptible_to_diarrheal_diseases</td>\n",
       "      <td>susceptible_to_diarrheal_diseases</td>\n",
       "      <td>Unexposed</td>\n",
       "      <td>Unexposed</td>\n",
       "    </tr>\n",
       "    <tr>\n",
       "      <th>499997</th>\n",
       "      <td>alive</td>\n",
       "      <td>alive</td>\n",
       "      <td>0.825693</td>\n",
       "      <td>0.844858</td>\n",
       "      <td>susceptible_to_diarrheal_diseases</td>\n",
       "      <td>susceptible_to_diarrheal_diseases</td>\n",
       "      <td>Unexposed</td>\n",
       "      <td>Unexposed</td>\n",
       "    </tr>\n",
       "    <tr>\n",
       "      <th>499998</th>\n",
       "      <td>alive</td>\n",
       "      <td>alive</td>\n",
       "      <td>0.137701</td>\n",
       "      <td>0.156866</td>\n",
       "      <td>susceptible_to_diarrheal_diseases</td>\n",
       "      <td>susceptible_to_diarrheal_diseases</td>\n",
       "      <td>Wasting Between -2 SD and -1 SD (post-ensemble)</td>\n",
       "      <td>Wasting Between -2 SD and -1 SD (post-ensemble)</td>\n",
       "    </tr>\n",
       "    <tr>\n",
       "      <th>499999</th>\n",
       "      <td>alive</td>\n",
       "      <td>alive</td>\n",
       "      <td>0.538179</td>\n",
       "      <td>0.557344</td>\n",
       "      <td>susceptible_to_diarrheal_diseases</td>\n",
       "      <td>susceptible_to_diarrheal_diseases</td>\n",
       "      <td>Unexposed</td>\n",
       "      <td>Unexposed</td>\n",
       "    </tr>\n",
       "  </tbody>\n",
       "</table>\n",
       "<p>495073 rows × 8 columns</p>\n",
       "</div>"
      ],
      "text/plain": [
       "       alive_before alive_after  age_before  age_after  \\\n",
       "0             alive       alive    0.449100   0.468265   \n",
       "1             alive       alive    0.298315   0.317480   \n",
       "2             alive       alive    0.041546   0.060711   \n",
       "3             alive       alive    0.655818   0.674983   \n",
       "4             alive       alive    0.563762   0.582927   \n",
       "...             ...         ...         ...        ...   \n",
       "499995        alive       alive    0.407435   0.426600   \n",
       "499996        alive       alive    1.790844   1.810009   \n",
       "499997        alive       alive    0.825693   0.844858   \n",
       "499998        alive       alive    0.137701   0.156866   \n",
       "499999        alive       alive    0.538179   0.557344   \n",
       "\n",
       "                diarrheal_diseases_before           diarrheal_diseases_after  \\\n",
       "0       susceptible_to_diarrheal_diseases  susceptible_to_diarrheal_diseases   \n",
       "1       susceptible_to_diarrheal_diseases  susceptible_to_diarrheal_diseases   \n",
       "2       susceptible_to_diarrheal_diseases  susceptible_to_diarrheal_diseases   \n",
       "3       susceptible_to_diarrheal_diseases  susceptible_to_diarrheal_diseases   \n",
       "4       susceptible_to_diarrheal_diseases  susceptible_to_diarrheal_diseases   \n",
       "...                                   ...                                ...   \n",
       "499995  susceptible_to_diarrheal_diseases  susceptible_to_diarrheal_diseases   \n",
       "499996  susceptible_to_diarrheal_diseases  susceptible_to_diarrheal_diseases   \n",
       "499997  susceptible_to_diarrheal_diseases  susceptible_to_diarrheal_diseases   \n",
       "499998  susceptible_to_diarrheal_diseases  susceptible_to_diarrheal_diseases   \n",
       "499999  susceptible_to_diarrheal_diseases  susceptible_to_diarrheal_diseases   \n",
       "\n",
       "                                   child_wasting_before  \\\n",
       "0                                             Unexposed   \n",
       "1               Severe Wasting, < -3 SD (post-ensemble)   \n",
       "2                                             Unexposed   \n",
       "3                                             Unexposed   \n",
       "4       Wasting Between -2 SD and -1 SD (post-ensemble)   \n",
       "...                                                 ...   \n",
       "499995                                        Unexposed   \n",
       "499996                                        Unexposed   \n",
       "499997                                        Unexposed   \n",
       "499998  Wasting Between -2 SD and -1 SD (post-ensemble)   \n",
       "499999                                        Unexposed   \n",
       "\n",
       "                                    child_wasting_after  \n",
       "0                                             Unexposed  \n",
       "1               Severe Wasting, < -3 SD (post-ensemble)  \n",
       "2                                             Unexposed  \n",
       "3                                             Unexposed  \n",
       "4       Wasting Between -2 SD and -1 SD (post-ensemble)  \n",
       "...                                                 ...  \n",
       "499995                                        Unexposed  \n",
       "499996                                        Unexposed  \n",
       "499997                                        Unexposed  \n",
       "499998  Wasting Between -2 SD and -1 SD (post-ensemble)  \n",
       "499999                                        Unexposed  \n",
       "\n",
       "[495073 rows x 8 columns]"
      ]
     },
     "metadata": {},
     "output_type": "display_data"
    },
    {
     "name": "stdout",
     "output_type": "stream",
     "text": [
      "Difference in diarrheal_diseases:\n"
     ]
    },
    {
     "data": {
      "text/html": [
       "<div>\n",
       "<style scoped>\n",
       "    .dataframe tbody tr th:only-of-type {\n",
       "        vertical-align: middle;\n",
       "    }\n",
       "\n",
       "    .dataframe tbody tr th {\n",
       "        vertical-align: top;\n",
       "    }\n",
       "\n",
       "    .dataframe thead th {\n",
       "        text-align: right;\n",
       "    }\n",
       "</style>\n",
       "<table border=\"1\" class=\"dataframe\">\n",
       "  <thead>\n",
       "    <tr style=\"text-align: right;\">\n",
       "      <th></th>\n",
       "      <th>alive_before</th>\n",
       "      <th>alive_after</th>\n",
       "      <th>age_before</th>\n",
       "      <th>age_after</th>\n",
       "      <th>diarrheal_diseases_before</th>\n",
       "      <th>diarrheal_diseases_after</th>\n",
       "      <th>child_wasting_before</th>\n",
       "      <th>child_wasting_after</th>\n",
       "    </tr>\n",
       "  </thead>\n",
       "  <tbody>\n",
       "    <tr>\n",
       "      <th>22</th>\n",
       "      <td>alive</td>\n",
       "      <td>alive</td>\n",
       "      <td>1.269231</td>\n",
       "      <td>1.288396</td>\n",
       "      <td>susceptible_to_diarrheal_diseases</td>\n",
       "      <td>diarrheal_diseases</td>\n",
       "      <td>Wasting Between -2 SD and -1 SD (post-ensemble)</td>\n",
       "      <td>Wasting Between -2 SD and -1 SD (post-ensemble)</td>\n",
       "    </tr>\n",
       "    <tr>\n",
       "      <th>70</th>\n",
       "      <td>alive</td>\n",
       "      <td>alive</td>\n",
       "      <td>1.850030</td>\n",
       "      <td>1.869195</td>\n",
       "      <td>susceptible_to_diarrheal_diseases</td>\n",
       "      <td>diarrheal_diseases</td>\n",
       "      <td>Wasting Between -2 SD and -1 SD (post-ensemble)</td>\n",
       "      <td>Wasting Between -2 SD and -1 SD (post-ensemble)</td>\n",
       "    </tr>\n",
       "    <tr>\n",
       "      <th>71</th>\n",
       "      <td>alive</td>\n",
       "      <td>alive</td>\n",
       "      <td>1.443815</td>\n",
       "      <td>1.462980</td>\n",
       "      <td>diarrheal_diseases</td>\n",
       "      <td>susceptible_to_diarrheal_diseases</td>\n",
       "      <td>Wasting Between -2 SD and -1 SD (post-ensemble)</td>\n",
       "      <td>Wasting Between -2 SD and -1 SD (post-ensemble)</td>\n",
       "    </tr>\n",
       "    <tr>\n",
       "      <th>124</th>\n",
       "      <td>alive</td>\n",
       "      <td>alive</td>\n",
       "      <td>0.593871</td>\n",
       "      <td>0.613036</td>\n",
       "      <td>susceptible_to_diarrheal_diseases</td>\n",
       "      <td>diarrheal_diseases</td>\n",
       "      <td>Unexposed</td>\n",
       "      <td>Unexposed</td>\n",
       "    </tr>\n",
       "    <tr>\n",
       "      <th>141</th>\n",
       "      <td>alive</td>\n",
       "      <td>alive</td>\n",
       "      <td>0.777409</td>\n",
       "      <td>0.796574</td>\n",
       "      <td>susceptible_to_diarrheal_diseases</td>\n",
       "      <td>diarrheal_diseases</td>\n",
       "      <td>Wasting Between -2 SD and -1 SD (post-ensemble)</td>\n",
       "      <td>Wasting Between -2 SD and -1 SD (post-ensemble)</td>\n",
       "    </tr>\n",
       "    <tr>\n",
       "      <th>...</th>\n",
       "      <td>...</td>\n",
       "      <td>...</td>\n",
       "      <td>...</td>\n",
       "      <td>...</td>\n",
       "      <td>...</td>\n",
       "      <td>...</td>\n",
       "      <td>...</td>\n",
       "      <td>...</td>\n",
       "    </tr>\n",
       "    <tr>\n",
       "      <th>499884</th>\n",
       "      <td>alive</td>\n",
       "      <td>alive</td>\n",
       "      <td>0.224537</td>\n",
       "      <td>0.243701</td>\n",
       "      <td>susceptible_to_diarrheal_diseases</td>\n",
       "      <td>diarrheal_diseases</td>\n",
       "      <td>Severe Wasting, &lt; -3 SD (post-ensemble)</td>\n",
       "      <td>Severe Wasting, &lt; -3 SD (post-ensemble)</td>\n",
       "    </tr>\n",
       "    <tr>\n",
       "      <th>499896</th>\n",
       "      <td>alive</td>\n",
       "      <td>alive</td>\n",
       "      <td>1.893415</td>\n",
       "      <td>1.912580</td>\n",
       "      <td>susceptible_to_diarrheal_diseases</td>\n",
       "      <td>diarrheal_diseases</td>\n",
       "      <td>Wasting Between -3 SD and -2 SD (post-ensemble)</td>\n",
       "      <td>Wasting Between -3 SD and -2 SD (post-ensemble)</td>\n",
       "    </tr>\n",
       "    <tr>\n",
       "      <th>499926</th>\n",
       "      <td>alive</td>\n",
       "      <td>alive</td>\n",
       "      <td>1.273989</td>\n",
       "      <td>1.293154</td>\n",
       "      <td>diarrheal_diseases</td>\n",
       "      <td>susceptible_to_diarrheal_diseases</td>\n",
       "      <td>Unexposed</td>\n",
       "      <td>Unexposed</td>\n",
       "    </tr>\n",
       "    <tr>\n",
       "      <th>499934</th>\n",
       "      <td>alive</td>\n",
       "      <td>alive</td>\n",
       "      <td>0.659213</td>\n",
       "      <td>0.678378</td>\n",
       "      <td>diarrheal_diseases</td>\n",
       "      <td>susceptible_to_diarrheal_diseases</td>\n",
       "      <td>Wasting Between -3 SD and -2 SD (post-ensemble)</td>\n",
       "      <td>Wasting Between -3 SD and -2 SD (post-ensemble)</td>\n",
       "    </tr>\n",
       "    <tr>\n",
       "      <th>499961</th>\n",
       "      <td>alive</td>\n",
       "      <td>alive</td>\n",
       "      <td>0.438790</td>\n",
       "      <td>0.457955</td>\n",
       "      <td>diarrheal_diseases</td>\n",
       "      <td>susceptible_to_diarrheal_diseases</td>\n",
       "      <td>Unexposed</td>\n",
       "      <td>Unexposed</td>\n",
       "    </tr>\n",
       "  </tbody>\n",
       "</table>\n",
       "<p>14623 rows × 8 columns</p>\n",
       "</div>"
      ],
      "text/plain": [
       "       alive_before alive_after  age_before  age_after  \\\n",
       "22            alive       alive    1.269231   1.288396   \n",
       "70            alive       alive    1.850030   1.869195   \n",
       "71            alive       alive    1.443815   1.462980   \n",
       "124           alive       alive    0.593871   0.613036   \n",
       "141           alive       alive    0.777409   0.796574   \n",
       "...             ...         ...         ...        ...   \n",
       "499884        alive       alive    0.224537   0.243701   \n",
       "499896        alive       alive    1.893415   1.912580   \n",
       "499926        alive       alive    1.273989   1.293154   \n",
       "499934        alive       alive    0.659213   0.678378   \n",
       "499961        alive       alive    0.438790   0.457955   \n",
       "\n",
       "                diarrheal_diseases_before           diarrheal_diseases_after  \\\n",
       "22      susceptible_to_diarrheal_diseases                 diarrheal_diseases   \n",
       "70      susceptible_to_diarrheal_diseases                 diarrheal_diseases   \n",
       "71                     diarrheal_diseases  susceptible_to_diarrheal_diseases   \n",
       "124     susceptible_to_diarrheal_diseases                 diarrheal_diseases   \n",
       "141     susceptible_to_diarrheal_diseases                 diarrheal_diseases   \n",
       "...                                   ...                                ...   \n",
       "499884  susceptible_to_diarrheal_diseases                 diarrheal_diseases   \n",
       "499896  susceptible_to_diarrheal_diseases                 diarrheal_diseases   \n",
       "499926                 diarrheal_diseases  susceptible_to_diarrheal_diseases   \n",
       "499934                 diarrheal_diseases  susceptible_to_diarrheal_diseases   \n",
       "499961                 diarrheal_diseases  susceptible_to_diarrheal_diseases   \n",
       "\n",
       "                                   child_wasting_before  \\\n",
       "22      Wasting Between -2 SD and -1 SD (post-ensemble)   \n",
       "70      Wasting Between -2 SD and -1 SD (post-ensemble)   \n",
       "71      Wasting Between -2 SD and -1 SD (post-ensemble)   \n",
       "124                                           Unexposed   \n",
       "141     Wasting Between -2 SD and -1 SD (post-ensemble)   \n",
       "...                                                 ...   \n",
       "499884          Severe Wasting, < -3 SD (post-ensemble)   \n",
       "499896  Wasting Between -3 SD and -2 SD (post-ensemble)   \n",
       "499926                                        Unexposed   \n",
       "499934  Wasting Between -3 SD and -2 SD (post-ensemble)   \n",
       "499961                                        Unexposed   \n",
       "\n",
       "                                    child_wasting_after  \n",
       "22      Wasting Between -2 SD and -1 SD (post-ensemble)  \n",
       "70      Wasting Between -2 SD and -1 SD (post-ensemble)  \n",
       "71      Wasting Between -2 SD and -1 SD (post-ensemble)  \n",
       "124                                           Unexposed  \n",
       "141     Wasting Between -2 SD and -1 SD (post-ensemble)  \n",
       "...                                                 ...  \n",
       "499884          Severe Wasting, < -3 SD (post-ensemble)  \n",
       "499896  Wasting Between -3 SD and -2 SD (post-ensemble)  \n",
       "499926                                        Unexposed  \n",
       "499934  Wasting Between -3 SD and -2 SD (post-ensemble)  \n",
       "499961                                        Unexposed  \n",
       "\n",
       "[14623 rows x 8 columns]"
      ]
     },
     "metadata": {},
     "output_type": "display_data"
    },
    {
     "name": "stdout",
     "output_type": "stream",
     "text": [
      "Difference in child_wasting:\n"
     ]
    },
    {
     "data": {
      "text/html": [
       "<div>\n",
       "<style scoped>\n",
       "    .dataframe tbody tr th:only-of-type {\n",
       "        vertical-align: middle;\n",
       "    }\n",
       "\n",
       "    .dataframe tbody tr th {\n",
       "        vertical-align: top;\n",
       "    }\n",
       "\n",
       "    .dataframe thead th {\n",
       "        text-align: right;\n",
       "    }\n",
       "</style>\n",
       "<table border=\"1\" class=\"dataframe\">\n",
       "  <thead>\n",
       "    <tr style=\"text-align: right;\">\n",
       "      <th></th>\n",
       "      <th>alive_before</th>\n",
       "      <th>alive_after</th>\n",
       "      <th>age_before</th>\n",
       "      <th>age_after</th>\n",
       "      <th>diarrheal_diseases_before</th>\n",
       "      <th>diarrheal_diseases_after</th>\n",
       "      <th>child_wasting_before</th>\n",
       "      <th>child_wasting_after</th>\n",
       "    </tr>\n",
       "  </thead>\n",
       "  <tbody>\n",
       "    <tr>\n",
       "      <th>86</th>\n",
       "      <td>alive</td>\n",
       "      <td>alive</td>\n",
       "      <td>0.064910</td>\n",
       "      <td>0.084075</td>\n",
       "      <td>susceptible_to_diarrheal_diseases</td>\n",
       "      <td>susceptible_to_diarrheal_diseases</td>\n",
       "      <td>Unexposed</td>\n",
       "      <td>Wasting Between -2 SD and -1 SD (post-ensemble)</td>\n",
       "    </tr>\n",
       "    <tr>\n",
       "      <th>1916</th>\n",
       "      <td>alive</td>\n",
       "      <td>alive</td>\n",
       "      <td>0.067327</td>\n",
       "      <td>0.086492</td>\n",
       "      <td>susceptible_to_diarrheal_diseases</td>\n",
       "      <td>susceptible_to_diarrheal_diseases</td>\n",
       "      <td>Unexposed</td>\n",
       "      <td>Wasting Between -2 SD and -1 SD (post-ensemble)</td>\n",
       "    </tr>\n",
       "    <tr>\n",
       "      <th>2318</th>\n",
       "      <td>alive</td>\n",
       "      <td>alive</td>\n",
       "      <td>0.483996</td>\n",
       "      <td>0.503161</td>\n",
       "      <td>susceptible_to_diarrheal_diseases</td>\n",
       "      <td>susceptible_to_diarrheal_diseases</td>\n",
       "      <td>Wasting Between -3 SD and -2 SD (post-ensemble)</td>\n",
       "      <td>Wasting Between -2 SD and -1 SD (post-ensemble)</td>\n",
       "    </tr>\n",
       "    <tr>\n",
       "      <th>2459</th>\n",
       "      <td>alive</td>\n",
       "      <td>alive</td>\n",
       "      <td>0.063092</td>\n",
       "      <td>0.082257</td>\n",
       "      <td>susceptible_to_diarrheal_diseases</td>\n",
       "      <td>susceptible_to_diarrheal_diseases</td>\n",
       "      <td>Unexposed</td>\n",
       "      <td>Wasting Between -2 SD and -1 SD (post-ensemble)</td>\n",
       "    </tr>\n",
       "    <tr>\n",
       "      <th>2552</th>\n",
       "      <td>alive</td>\n",
       "      <td>alive</td>\n",
       "      <td>0.063540</td>\n",
       "      <td>0.082705</td>\n",
       "      <td>susceptible_to_diarrheal_diseases</td>\n",
       "      <td>susceptible_to_diarrheal_diseases</td>\n",
       "      <td>Unexposed</td>\n",
       "      <td>Wasting Between -2 SD and -1 SD (post-ensemble)</td>\n",
       "    </tr>\n",
       "    <tr>\n",
       "      <th>...</th>\n",
       "      <td>...</td>\n",
       "      <td>...</td>\n",
       "      <td>...</td>\n",
       "      <td>...</td>\n",
       "      <td>...</td>\n",
       "      <td>...</td>\n",
       "      <td>...</td>\n",
       "      <td>...</td>\n",
       "    </tr>\n",
       "    <tr>\n",
       "      <th>498530</th>\n",
       "      <td>alive</td>\n",
       "      <td>alive</td>\n",
       "      <td>0.066544</td>\n",
       "      <td>0.085709</td>\n",
       "      <td>susceptible_to_diarrheal_diseases</td>\n",
       "      <td>susceptible_to_diarrheal_diseases</td>\n",
       "      <td>Unexposed</td>\n",
       "      <td>Wasting Between -2 SD and -1 SD (post-ensemble)</td>\n",
       "    </tr>\n",
       "    <tr>\n",
       "      <th>499251</th>\n",
       "      <td>alive</td>\n",
       "      <td>alive</td>\n",
       "      <td>0.075630</td>\n",
       "      <td>0.094795</td>\n",
       "      <td>susceptible_to_diarrheal_diseases</td>\n",
       "      <td>susceptible_to_diarrheal_diseases</td>\n",
       "      <td>Unexposed</td>\n",
       "      <td>Wasting Between -2 SD and -1 SD (post-ensemble)</td>\n",
       "    </tr>\n",
       "    <tr>\n",
       "      <th>499542</th>\n",
       "      <td>alive</td>\n",
       "      <td>alive</td>\n",
       "      <td>0.075696</td>\n",
       "      <td>0.094861</td>\n",
       "      <td>susceptible_to_diarrheal_diseases</td>\n",
       "      <td>susceptible_to_diarrheal_diseases</td>\n",
       "      <td>Unexposed</td>\n",
       "      <td>Wasting Between -2 SD and -1 SD (post-ensemble)</td>\n",
       "    </tr>\n",
       "    <tr>\n",
       "      <th>499882</th>\n",
       "      <td>alive</td>\n",
       "      <td>alive</td>\n",
       "      <td>0.067533</td>\n",
       "      <td>0.086698</td>\n",
       "      <td>susceptible_to_diarrheal_diseases</td>\n",
       "      <td>susceptible_to_diarrheal_diseases</td>\n",
       "      <td>Unexposed</td>\n",
       "      <td>Wasting Between -2 SD and -1 SD (post-ensemble)</td>\n",
       "    </tr>\n",
       "    <tr>\n",
       "      <th>499919</th>\n",
       "      <td>alive</td>\n",
       "      <td>alive</td>\n",
       "      <td>0.070494</td>\n",
       "      <td>0.089659</td>\n",
       "      <td>susceptible_to_diarrheal_diseases</td>\n",
       "      <td>susceptible_to_diarrheal_diseases</td>\n",
       "      <td>Unexposed</td>\n",
       "      <td>Wasting Between -3 SD and -2 SD (post-ensemble)</td>\n",
       "    </tr>\n",
       "  </tbody>\n",
       "</table>\n",
       "<p>1723 rows × 8 columns</p>\n",
       "</div>"
      ],
      "text/plain": [
       "       alive_before alive_after  age_before  age_after  \\\n",
       "86            alive       alive    0.064910   0.084075   \n",
       "1916          alive       alive    0.067327   0.086492   \n",
       "2318          alive       alive    0.483996   0.503161   \n",
       "2459          alive       alive    0.063092   0.082257   \n",
       "2552          alive       alive    0.063540   0.082705   \n",
       "...             ...         ...         ...        ...   \n",
       "498530        alive       alive    0.066544   0.085709   \n",
       "499251        alive       alive    0.075630   0.094795   \n",
       "499542        alive       alive    0.075696   0.094861   \n",
       "499882        alive       alive    0.067533   0.086698   \n",
       "499919        alive       alive    0.070494   0.089659   \n",
       "\n",
       "                diarrheal_diseases_before           diarrheal_diseases_after  \\\n",
       "86      susceptible_to_diarrheal_diseases  susceptible_to_diarrheal_diseases   \n",
       "1916    susceptible_to_diarrheal_diseases  susceptible_to_diarrheal_diseases   \n",
       "2318    susceptible_to_diarrheal_diseases  susceptible_to_diarrheal_diseases   \n",
       "2459    susceptible_to_diarrheal_diseases  susceptible_to_diarrheal_diseases   \n",
       "2552    susceptible_to_diarrheal_diseases  susceptible_to_diarrheal_diseases   \n",
       "...                                   ...                                ...   \n",
       "498530  susceptible_to_diarrheal_diseases  susceptible_to_diarrheal_diseases   \n",
       "499251  susceptible_to_diarrheal_diseases  susceptible_to_diarrheal_diseases   \n",
       "499542  susceptible_to_diarrheal_diseases  susceptible_to_diarrheal_diseases   \n",
       "499882  susceptible_to_diarrheal_diseases  susceptible_to_diarrheal_diseases   \n",
       "499919  susceptible_to_diarrheal_diseases  susceptible_to_diarrheal_diseases   \n",
       "\n",
       "                                   child_wasting_before  \\\n",
       "86                                            Unexposed   \n",
       "1916                                          Unexposed   \n",
       "2318    Wasting Between -3 SD and -2 SD (post-ensemble)   \n",
       "2459                                          Unexposed   \n",
       "2552                                          Unexposed   \n",
       "...                                                 ...   \n",
       "498530                                        Unexposed   \n",
       "499251                                        Unexposed   \n",
       "499542                                        Unexposed   \n",
       "499882                                        Unexposed   \n",
       "499919                                        Unexposed   \n",
       "\n",
       "                                    child_wasting_after  \n",
       "86      Wasting Between -2 SD and -1 SD (post-ensemble)  \n",
       "1916    Wasting Between -2 SD and -1 SD (post-ensemble)  \n",
       "2318    Wasting Between -2 SD and -1 SD (post-ensemble)  \n",
       "2459    Wasting Between -2 SD and -1 SD (post-ensemble)  \n",
       "2552    Wasting Between -2 SD and -1 SD (post-ensemble)  \n",
       "...                                                 ...  \n",
       "498530  Wasting Between -2 SD and -1 SD (post-ensemble)  \n",
       "499251  Wasting Between -2 SD and -1 SD (post-ensemble)  \n",
       "499542  Wasting Between -2 SD and -1 SD (post-ensemble)  \n",
       "499882  Wasting Between -2 SD and -1 SD (post-ensemble)  \n",
       "499919  Wasting Between -3 SD and -2 SD (post-ensemble)  \n",
       "\n",
       "[1723 rows x 8 columns]"
      ]
     },
     "metadata": {},
     "output_type": "display_data"
    }
   ],
   "source": [
    "step_forward(sim_baseline)"
   ]
  },
  {
   "cell_type": "markdown",
   "id": "9414491a",
   "metadata": {
    "papermill": {
     "duration": 0.029264,
     "end_time": "2025-03-11T21:30:11.171820",
     "exception": false,
     "start_time": "2025-03-11T21:30:11.142556",
     "status": "completed"
    },
    "tags": []
   },
   "source": [
    "We see from this output that some simulants died (the `alive` column changed to `dead`), all simulants had their age incremented upward,\n",
    "some simulants got diarrheal diseases (the `diarrheal_diseases` column changed from `susceptible_to_diarrheal_diseases` to `diarrheal_diseases`) and others recovered from it (vice versa), and finally that some simulants changed their wasting category.\n",
    "\n",
    "We take a step in the intervention scenario, and see much the same."
   ]
  },
  {
   "cell_type": "code",
   "execution_count": 63,
   "id": "ba4b929f",
   "metadata": {
    "papermill": {
     "duration": 18.954056,
     "end_time": "2025-03-11T21:30:30.155369",
     "exception": false,
     "start_time": "2025-03-11T21:30:11.201313",
     "status": "completed"
    },
    "tags": []
   },
   "outputs": [
    {
     "name": "stdout",
     "output_type": "stream",
     "text": [
      "Time before: 2025-01-01 00:00:00\n",
      "Time after: 2025-01-08 00:00:00\n",
      "Difference in alive:\n"
     ]
    },
    {
     "data": {
      "text/html": [
       "<div>\n",
       "<style scoped>\n",
       "    .dataframe tbody tr th:only-of-type {\n",
       "        vertical-align: middle;\n",
       "    }\n",
       "\n",
       "    .dataframe tbody tr th {\n",
       "        vertical-align: top;\n",
       "    }\n",
       "\n",
       "    .dataframe thead th {\n",
       "        text-align: right;\n",
       "    }\n",
       "</style>\n",
       "<table border=\"1\" class=\"dataframe\">\n",
       "  <thead>\n",
       "    <tr style=\"text-align: right;\">\n",
       "      <th></th>\n",
       "      <th>alive_before</th>\n",
       "      <th>alive_after</th>\n",
       "      <th>age_before</th>\n",
       "      <th>age_after</th>\n",
       "      <th>diarrheal_diseases_before</th>\n",
       "      <th>diarrheal_diseases_after</th>\n",
       "      <th>child_wasting_before</th>\n",
       "      <th>child_wasting_after</th>\n",
       "    </tr>\n",
       "  </thead>\n",
       "  <tbody>\n",
       "    <tr>\n",
       "      <th>290</th>\n",
       "      <td>alive</td>\n",
       "      <td>dead</td>\n",
       "      <td>0.010050</td>\n",
       "      <td>0.010050</td>\n",
       "      <td>susceptible_to_diarrheal_diseases</td>\n",
       "      <td>susceptible_to_diarrheal_diseases</td>\n",
       "      <td>Unexposed</td>\n",
       "      <td>Unexposed</td>\n",
       "    </tr>\n",
       "    <tr>\n",
       "      <th>328</th>\n",
       "      <td>alive</td>\n",
       "      <td>dead</td>\n",
       "      <td>0.025124</td>\n",
       "      <td>0.025124</td>\n",
       "      <td>susceptible_to_diarrheal_diseases</td>\n",
       "      <td>susceptible_to_diarrheal_diseases</td>\n",
       "      <td>Unexposed</td>\n",
       "      <td>Unexposed</td>\n",
       "    </tr>\n",
       "    <tr>\n",
       "      <th>381</th>\n",
       "      <td>alive</td>\n",
       "      <td>dead</td>\n",
       "      <td>0.002726</td>\n",
       "      <td>0.002726</td>\n",
       "      <td>susceptible_to_diarrheal_diseases</td>\n",
       "      <td>susceptible_to_diarrheal_diseases</td>\n",
       "      <td>Unexposed</td>\n",
       "      <td>Unexposed</td>\n",
       "    </tr>\n",
       "    <tr>\n",
       "      <th>4346</th>\n",
       "      <td>alive</td>\n",
       "      <td>dead</td>\n",
       "      <td>0.001446</td>\n",
       "      <td>0.001446</td>\n",
       "      <td>susceptible_to_diarrheal_diseases</td>\n",
       "      <td>susceptible_to_diarrheal_diseases</td>\n",
       "      <td>Unexposed</td>\n",
       "      <td>Unexposed</td>\n",
       "    </tr>\n",
       "    <tr>\n",
       "      <th>4512</th>\n",
       "      <td>alive</td>\n",
       "      <td>dead</td>\n",
       "      <td>0.000819</td>\n",
       "      <td>0.000819</td>\n",
       "      <td>susceptible_to_diarrheal_diseases</td>\n",
       "      <td>susceptible_to_diarrheal_diseases</td>\n",
       "      <td>Unexposed</td>\n",
       "      <td>Unexposed</td>\n",
       "    </tr>\n",
       "    <tr>\n",
       "      <th>...</th>\n",
       "      <td>...</td>\n",
       "      <td>...</td>\n",
       "      <td>...</td>\n",
       "      <td>...</td>\n",
       "      <td>...</td>\n",
       "      <td>...</td>\n",
       "      <td>...</td>\n",
       "      <td>...</td>\n",
       "    </tr>\n",
       "    <tr>\n",
       "      <th>493510</th>\n",
       "      <td>alive</td>\n",
       "      <td>dead</td>\n",
       "      <td>0.630594</td>\n",
       "      <td>0.630594</td>\n",
       "      <td>susceptible_to_diarrheal_diseases</td>\n",
       "      <td>susceptible_to_diarrheal_diseases</td>\n",
       "      <td>Wasting Between -2 SD and -1 SD (post-ensemble)</td>\n",
       "      <td>Wasting Between -2 SD and -1 SD (post-ensemble)</td>\n",
       "    </tr>\n",
       "    <tr>\n",
       "      <th>495985</th>\n",
       "      <td>alive</td>\n",
       "      <td>dead</td>\n",
       "      <td>0.013408</td>\n",
       "      <td>0.013408</td>\n",
       "      <td>susceptible_to_diarrheal_diseases</td>\n",
       "      <td>susceptible_to_diarrheal_diseases</td>\n",
       "      <td>Unexposed</td>\n",
       "      <td>Unexposed</td>\n",
       "    </tr>\n",
       "    <tr>\n",
       "      <th>496520</th>\n",
       "      <td>alive</td>\n",
       "      <td>dead</td>\n",
       "      <td>1.126851</td>\n",
       "      <td>1.126851</td>\n",
       "      <td>susceptible_to_diarrheal_diseases</td>\n",
       "      <td>susceptible_to_diarrheal_diseases</td>\n",
       "      <td>Wasting Between -2 SD and -1 SD (post-ensemble)</td>\n",
       "      <td>Wasting Between -2 SD and -1 SD (post-ensemble)</td>\n",
       "    </tr>\n",
       "    <tr>\n",
       "      <th>497122</th>\n",
       "      <td>alive</td>\n",
       "      <td>dead</td>\n",
       "      <td>1.316201</td>\n",
       "      <td>1.316201</td>\n",
       "      <td>susceptible_to_diarrheal_diseases</td>\n",
       "      <td>susceptible_to_diarrheal_diseases</td>\n",
       "      <td>Wasting Between -3 SD and -2 SD (post-ensemble)</td>\n",
       "      <td>Wasting Between -3 SD and -2 SD (post-ensemble)</td>\n",
       "    </tr>\n",
       "    <tr>\n",
       "      <th>497539</th>\n",
       "      <td>alive</td>\n",
       "      <td>dead</td>\n",
       "      <td>0.004450</td>\n",
       "      <td>0.004450</td>\n",
       "      <td>susceptible_to_diarrheal_diseases</td>\n",
       "      <td>susceptible_to_diarrheal_diseases</td>\n",
       "      <td>Unexposed</td>\n",
       "      <td>Unexposed</td>\n",
       "    </tr>\n",
       "  </tbody>\n",
       "</table>\n",
       "<p>282 rows × 8 columns</p>\n",
       "</div>"
      ],
      "text/plain": [
       "       alive_before alive_after  age_before  age_after  \\\n",
       "290           alive        dead    0.010050   0.010050   \n",
       "328           alive        dead    0.025124   0.025124   \n",
       "381           alive        dead    0.002726   0.002726   \n",
       "4346          alive        dead    0.001446   0.001446   \n",
       "4512          alive        dead    0.000819   0.000819   \n",
       "...             ...         ...         ...        ...   \n",
       "493510        alive        dead    0.630594   0.630594   \n",
       "495985        alive        dead    0.013408   0.013408   \n",
       "496520        alive        dead    1.126851   1.126851   \n",
       "497122        alive        dead    1.316201   1.316201   \n",
       "497539        alive        dead    0.004450   0.004450   \n",
       "\n",
       "                diarrheal_diseases_before           diarrheal_diseases_after  \\\n",
       "290     susceptible_to_diarrheal_diseases  susceptible_to_diarrheal_diseases   \n",
       "328     susceptible_to_diarrheal_diseases  susceptible_to_diarrheal_diseases   \n",
       "381     susceptible_to_diarrheal_diseases  susceptible_to_diarrheal_diseases   \n",
       "4346    susceptible_to_diarrheal_diseases  susceptible_to_diarrheal_diseases   \n",
       "4512    susceptible_to_diarrheal_diseases  susceptible_to_diarrheal_diseases   \n",
       "...                                   ...                                ...   \n",
       "493510  susceptible_to_diarrheal_diseases  susceptible_to_diarrheal_diseases   \n",
       "495985  susceptible_to_diarrheal_diseases  susceptible_to_diarrheal_diseases   \n",
       "496520  susceptible_to_diarrheal_diseases  susceptible_to_diarrheal_diseases   \n",
       "497122  susceptible_to_diarrheal_diseases  susceptible_to_diarrheal_diseases   \n",
       "497539  susceptible_to_diarrheal_diseases  susceptible_to_diarrheal_diseases   \n",
       "\n",
       "                                   child_wasting_before  \\\n",
       "290                                           Unexposed   \n",
       "328                                           Unexposed   \n",
       "381                                           Unexposed   \n",
       "4346                                          Unexposed   \n",
       "4512                                          Unexposed   \n",
       "...                                                 ...   \n",
       "493510  Wasting Between -2 SD and -1 SD (post-ensemble)   \n",
       "495985                                        Unexposed   \n",
       "496520  Wasting Between -2 SD and -1 SD (post-ensemble)   \n",
       "497122  Wasting Between -3 SD and -2 SD (post-ensemble)   \n",
       "497539                                        Unexposed   \n",
       "\n",
       "                                    child_wasting_after  \n",
       "290                                           Unexposed  \n",
       "328                                           Unexposed  \n",
       "381                                           Unexposed  \n",
       "4346                                          Unexposed  \n",
       "4512                                          Unexposed  \n",
       "...                                                 ...  \n",
       "493510  Wasting Between -2 SD and -1 SD (post-ensemble)  \n",
       "495985                                        Unexposed  \n",
       "496520  Wasting Between -2 SD and -1 SD (post-ensemble)  \n",
       "497122  Wasting Between -3 SD and -2 SD (post-ensemble)  \n",
       "497539                                        Unexposed  \n",
       "\n",
       "[282 rows x 8 columns]"
      ]
     },
     "metadata": {},
     "output_type": "display_data"
    },
    {
     "name": "stdout",
     "output_type": "stream",
     "text": [
      "Difference in age:\n"
     ]
    },
    {
     "data": {
      "text/html": [
       "<div>\n",
       "<style scoped>\n",
       "    .dataframe tbody tr th:only-of-type {\n",
       "        vertical-align: middle;\n",
       "    }\n",
       "\n",
       "    .dataframe tbody tr th {\n",
       "        vertical-align: top;\n",
       "    }\n",
       "\n",
       "    .dataframe thead th {\n",
       "        text-align: right;\n",
       "    }\n",
       "</style>\n",
       "<table border=\"1\" class=\"dataframe\">\n",
       "  <thead>\n",
       "    <tr style=\"text-align: right;\">\n",
       "      <th></th>\n",
       "      <th>alive_before</th>\n",
       "      <th>alive_after</th>\n",
       "      <th>age_before</th>\n",
       "      <th>age_after</th>\n",
       "      <th>diarrheal_diseases_before</th>\n",
       "      <th>diarrheal_diseases_after</th>\n",
       "      <th>child_wasting_before</th>\n",
       "      <th>child_wasting_after</th>\n",
       "    </tr>\n",
       "  </thead>\n",
       "  <tbody>\n",
       "    <tr>\n",
       "      <th>0</th>\n",
       "      <td>alive</td>\n",
       "      <td>alive</td>\n",
       "      <td>0.449100</td>\n",
       "      <td>0.468265</td>\n",
       "      <td>susceptible_to_diarrheal_diseases</td>\n",
       "      <td>susceptible_to_diarrheal_diseases</td>\n",
       "      <td>Unexposed</td>\n",
       "      <td>Unexposed</td>\n",
       "    </tr>\n",
       "    <tr>\n",
       "      <th>1</th>\n",
       "      <td>alive</td>\n",
       "      <td>alive</td>\n",
       "      <td>0.298315</td>\n",
       "      <td>0.317480</td>\n",
       "      <td>susceptible_to_diarrheal_diseases</td>\n",
       "      <td>susceptible_to_diarrheal_diseases</td>\n",
       "      <td>Severe Wasting, &lt; -3 SD (post-ensemble)</td>\n",
       "      <td>Severe Wasting, &lt; -3 SD (post-ensemble)</td>\n",
       "    </tr>\n",
       "    <tr>\n",
       "      <th>2</th>\n",
       "      <td>alive</td>\n",
       "      <td>alive</td>\n",
       "      <td>0.041546</td>\n",
       "      <td>0.060711</td>\n",
       "      <td>susceptible_to_diarrheal_diseases</td>\n",
       "      <td>susceptible_to_diarrheal_diseases</td>\n",
       "      <td>Unexposed</td>\n",
       "      <td>Unexposed</td>\n",
       "    </tr>\n",
       "    <tr>\n",
       "      <th>3</th>\n",
       "      <td>alive</td>\n",
       "      <td>alive</td>\n",
       "      <td>0.655818</td>\n",
       "      <td>0.674983</td>\n",
       "      <td>susceptible_to_diarrheal_diseases</td>\n",
       "      <td>susceptible_to_diarrheal_diseases</td>\n",
       "      <td>Unexposed</td>\n",
       "      <td>Unexposed</td>\n",
       "    </tr>\n",
       "    <tr>\n",
       "      <th>4</th>\n",
       "      <td>alive</td>\n",
       "      <td>alive</td>\n",
       "      <td>0.563762</td>\n",
       "      <td>0.582927</td>\n",
       "      <td>susceptible_to_diarrheal_diseases</td>\n",
       "      <td>susceptible_to_diarrheal_diseases</td>\n",
       "      <td>Wasting Between -2 SD and -1 SD (post-ensemble)</td>\n",
       "      <td>Wasting Between -2 SD and -1 SD (post-ensemble)</td>\n",
       "    </tr>\n",
       "    <tr>\n",
       "      <th>...</th>\n",
       "      <td>...</td>\n",
       "      <td>...</td>\n",
       "      <td>...</td>\n",
       "      <td>...</td>\n",
       "      <td>...</td>\n",
       "      <td>...</td>\n",
       "      <td>...</td>\n",
       "      <td>...</td>\n",
       "    </tr>\n",
       "    <tr>\n",
       "      <th>499995</th>\n",
       "      <td>alive</td>\n",
       "      <td>alive</td>\n",
       "      <td>0.407435</td>\n",
       "      <td>0.426600</td>\n",
       "      <td>susceptible_to_diarrheal_diseases</td>\n",
       "      <td>susceptible_to_diarrheal_diseases</td>\n",
       "      <td>Unexposed</td>\n",
       "      <td>Unexposed</td>\n",
       "    </tr>\n",
       "    <tr>\n",
       "      <th>499996</th>\n",
       "      <td>alive</td>\n",
       "      <td>alive</td>\n",
       "      <td>1.790844</td>\n",
       "      <td>1.810009</td>\n",
       "      <td>susceptible_to_diarrheal_diseases</td>\n",
       "      <td>susceptible_to_diarrheal_diseases</td>\n",
       "      <td>Unexposed</td>\n",
       "      <td>Unexposed</td>\n",
       "    </tr>\n",
       "    <tr>\n",
       "      <th>499997</th>\n",
       "      <td>alive</td>\n",
       "      <td>alive</td>\n",
       "      <td>0.825693</td>\n",
       "      <td>0.844858</td>\n",
       "      <td>susceptible_to_diarrheal_diseases</td>\n",
       "      <td>susceptible_to_diarrheal_diseases</td>\n",
       "      <td>Unexposed</td>\n",
       "      <td>Unexposed</td>\n",
       "    </tr>\n",
       "    <tr>\n",
       "      <th>499998</th>\n",
       "      <td>alive</td>\n",
       "      <td>alive</td>\n",
       "      <td>0.137701</td>\n",
       "      <td>0.156866</td>\n",
       "      <td>susceptible_to_diarrheal_diseases</td>\n",
       "      <td>susceptible_to_diarrheal_diseases</td>\n",
       "      <td>Wasting Between -2 SD and -1 SD (post-ensemble)</td>\n",
       "      <td>Wasting Between -2 SD and -1 SD (post-ensemble)</td>\n",
       "    </tr>\n",
       "    <tr>\n",
       "      <th>499999</th>\n",
       "      <td>alive</td>\n",
       "      <td>alive</td>\n",
       "      <td>0.538179</td>\n",
       "      <td>0.557344</td>\n",
       "      <td>susceptible_to_diarrheal_diseases</td>\n",
       "      <td>susceptible_to_diarrheal_diseases</td>\n",
       "      <td>Unexposed</td>\n",
       "      <td>Unexposed</td>\n",
       "    </tr>\n",
       "  </tbody>\n",
       "</table>\n",
       "<p>495073 rows × 8 columns</p>\n",
       "</div>"
      ],
      "text/plain": [
       "       alive_before alive_after  age_before  age_after  \\\n",
       "0             alive       alive    0.449100   0.468265   \n",
       "1             alive       alive    0.298315   0.317480   \n",
       "2             alive       alive    0.041546   0.060711   \n",
       "3             alive       alive    0.655818   0.674983   \n",
       "4             alive       alive    0.563762   0.582927   \n",
       "...             ...         ...         ...        ...   \n",
       "499995        alive       alive    0.407435   0.426600   \n",
       "499996        alive       alive    1.790844   1.810009   \n",
       "499997        alive       alive    0.825693   0.844858   \n",
       "499998        alive       alive    0.137701   0.156866   \n",
       "499999        alive       alive    0.538179   0.557344   \n",
       "\n",
       "                diarrheal_diseases_before           diarrheal_diseases_after  \\\n",
       "0       susceptible_to_diarrheal_diseases  susceptible_to_diarrheal_diseases   \n",
       "1       susceptible_to_diarrheal_diseases  susceptible_to_diarrheal_diseases   \n",
       "2       susceptible_to_diarrheal_diseases  susceptible_to_diarrheal_diseases   \n",
       "3       susceptible_to_diarrheal_diseases  susceptible_to_diarrheal_diseases   \n",
       "4       susceptible_to_diarrheal_diseases  susceptible_to_diarrheal_diseases   \n",
       "...                                   ...                                ...   \n",
       "499995  susceptible_to_diarrheal_diseases  susceptible_to_diarrheal_diseases   \n",
       "499996  susceptible_to_diarrheal_diseases  susceptible_to_diarrheal_diseases   \n",
       "499997  susceptible_to_diarrheal_diseases  susceptible_to_diarrheal_diseases   \n",
       "499998  susceptible_to_diarrheal_diseases  susceptible_to_diarrheal_diseases   \n",
       "499999  susceptible_to_diarrheal_diseases  susceptible_to_diarrheal_diseases   \n",
       "\n",
       "                                   child_wasting_before  \\\n",
       "0                                             Unexposed   \n",
       "1               Severe Wasting, < -3 SD (post-ensemble)   \n",
       "2                                             Unexposed   \n",
       "3                                             Unexposed   \n",
       "4       Wasting Between -2 SD and -1 SD (post-ensemble)   \n",
       "...                                                 ...   \n",
       "499995                                        Unexposed   \n",
       "499996                                        Unexposed   \n",
       "499997                                        Unexposed   \n",
       "499998  Wasting Between -2 SD and -1 SD (post-ensemble)   \n",
       "499999                                        Unexposed   \n",
       "\n",
       "                                    child_wasting_after  \n",
       "0                                             Unexposed  \n",
       "1               Severe Wasting, < -3 SD (post-ensemble)  \n",
       "2                                             Unexposed  \n",
       "3                                             Unexposed  \n",
       "4       Wasting Between -2 SD and -1 SD (post-ensemble)  \n",
       "...                                                 ...  \n",
       "499995                                        Unexposed  \n",
       "499996                                        Unexposed  \n",
       "499997                                        Unexposed  \n",
       "499998  Wasting Between -2 SD and -1 SD (post-ensemble)  \n",
       "499999                                        Unexposed  \n",
       "\n",
       "[495073 rows x 8 columns]"
      ]
     },
     "metadata": {},
     "output_type": "display_data"
    },
    {
     "name": "stdout",
     "output_type": "stream",
     "text": [
      "Difference in diarrheal_diseases:\n"
     ]
    },
    {
     "data": {
      "text/html": [
       "<div>\n",
       "<style scoped>\n",
       "    .dataframe tbody tr th:only-of-type {\n",
       "        vertical-align: middle;\n",
       "    }\n",
       "\n",
       "    .dataframe tbody tr th {\n",
       "        vertical-align: top;\n",
       "    }\n",
       "\n",
       "    .dataframe thead th {\n",
       "        text-align: right;\n",
       "    }\n",
       "</style>\n",
       "<table border=\"1\" class=\"dataframe\">\n",
       "  <thead>\n",
       "    <tr style=\"text-align: right;\">\n",
       "      <th></th>\n",
       "      <th>alive_before</th>\n",
       "      <th>alive_after</th>\n",
       "      <th>age_before</th>\n",
       "      <th>age_after</th>\n",
       "      <th>diarrheal_diseases_before</th>\n",
       "      <th>diarrheal_diseases_after</th>\n",
       "      <th>child_wasting_before</th>\n",
       "      <th>child_wasting_after</th>\n",
       "    </tr>\n",
       "  </thead>\n",
       "  <tbody>\n",
       "    <tr>\n",
       "      <th>22</th>\n",
       "      <td>alive</td>\n",
       "      <td>alive</td>\n",
       "      <td>1.269231</td>\n",
       "      <td>1.288396</td>\n",
       "      <td>susceptible_to_diarrheal_diseases</td>\n",
       "      <td>diarrheal_diseases</td>\n",
       "      <td>Wasting Between -2 SD and -1 SD (post-ensemble)</td>\n",
       "      <td>Wasting Between -2 SD and -1 SD (post-ensemble)</td>\n",
       "    </tr>\n",
       "    <tr>\n",
       "      <th>70</th>\n",
       "      <td>alive</td>\n",
       "      <td>alive</td>\n",
       "      <td>1.850030</td>\n",
       "      <td>1.869195</td>\n",
       "      <td>susceptible_to_diarrheal_diseases</td>\n",
       "      <td>diarrheal_diseases</td>\n",
       "      <td>Wasting Between -2 SD and -1 SD (post-ensemble)</td>\n",
       "      <td>Wasting Between -2 SD and -1 SD (post-ensemble)</td>\n",
       "    </tr>\n",
       "    <tr>\n",
       "      <th>71</th>\n",
       "      <td>alive</td>\n",
       "      <td>alive</td>\n",
       "      <td>1.443815</td>\n",
       "      <td>1.462980</td>\n",
       "      <td>diarrheal_diseases</td>\n",
       "      <td>susceptible_to_diarrheal_diseases</td>\n",
       "      <td>Wasting Between -2 SD and -1 SD (post-ensemble)</td>\n",
       "      <td>Wasting Between -2 SD and -1 SD (post-ensemble)</td>\n",
       "    </tr>\n",
       "    <tr>\n",
       "      <th>124</th>\n",
       "      <td>alive</td>\n",
       "      <td>alive</td>\n",
       "      <td>0.593871</td>\n",
       "      <td>0.613036</td>\n",
       "      <td>susceptible_to_diarrheal_diseases</td>\n",
       "      <td>diarrheal_diseases</td>\n",
       "      <td>Unexposed</td>\n",
       "      <td>Unexposed</td>\n",
       "    </tr>\n",
       "    <tr>\n",
       "      <th>141</th>\n",
       "      <td>alive</td>\n",
       "      <td>alive</td>\n",
       "      <td>0.777409</td>\n",
       "      <td>0.796574</td>\n",
       "      <td>susceptible_to_diarrheal_diseases</td>\n",
       "      <td>diarrheal_diseases</td>\n",
       "      <td>Wasting Between -2 SD and -1 SD (post-ensemble)</td>\n",
       "      <td>Wasting Between -2 SD and -1 SD (post-ensemble)</td>\n",
       "    </tr>\n",
       "    <tr>\n",
       "      <th>...</th>\n",
       "      <td>...</td>\n",
       "      <td>...</td>\n",
       "      <td>...</td>\n",
       "      <td>...</td>\n",
       "      <td>...</td>\n",
       "      <td>...</td>\n",
       "      <td>...</td>\n",
       "      <td>...</td>\n",
       "    </tr>\n",
       "    <tr>\n",
       "      <th>499884</th>\n",
       "      <td>alive</td>\n",
       "      <td>alive</td>\n",
       "      <td>0.224537</td>\n",
       "      <td>0.243701</td>\n",
       "      <td>susceptible_to_diarrheal_diseases</td>\n",
       "      <td>diarrheal_diseases</td>\n",
       "      <td>Severe Wasting, &lt; -3 SD (post-ensemble)</td>\n",
       "      <td>Severe Wasting, &lt; -3 SD (post-ensemble)</td>\n",
       "    </tr>\n",
       "    <tr>\n",
       "      <th>499896</th>\n",
       "      <td>alive</td>\n",
       "      <td>alive</td>\n",
       "      <td>1.893415</td>\n",
       "      <td>1.912580</td>\n",
       "      <td>susceptible_to_diarrheal_diseases</td>\n",
       "      <td>diarrheal_diseases</td>\n",
       "      <td>Wasting Between -3 SD and -2 SD (post-ensemble)</td>\n",
       "      <td>Wasting Between -3 SD and -2 SD (post-ensemble)</td>\n",
       "    </tr>\n",
       "    <tr>\n",
       "      <th>499926</th>\n",
       "      <td>alive</td>\n",
       "      <td>alive</td>\n",
       "      <td>1.273989</td>\n",
       "      <td>1.293154</td>\n",
       "      <td>diarrheal_diseases</td>\n",
       "      <td>susceptible_to_diarrheal_diseases</td>\n",
       "      <td>Unexposed</td>\n",
       "      <td>Unexposed</td>\n",
       "    </tr>\n",
       "    <tr>\n",
       "      <th>499934</th>\n",
       "      <td>alive</td>\n",
       "      <td>alive</td>\n",
       "      <td>0.659213</td>\n",
       "      <td>0.678378</td>\n",
       "      <td>diarrheal_diseases</td>\n",
       "      <td>susceptible_to_diarrheal_diseases</td>\n",
       "      <td>Wasting Between -3 SD and -2 SD (post-ensemble)</td>\n",
       "      <td>Wasting Between -3 SD and -2 SD (post-ensemble)</td>\n",
       "    </tr>\n",
       "    <tr>\n",
       "      <th>499961</th>\n",
       "      <td>alive</td>\n",
       "      <td>alive</td>\n",
       "      <td>0.438790</td>\n",
       "      <td>0.457955</td>\n",
       "      <td>diarrheal_diseases</td>\n",
       "      <td>susceptible_to_diarrheal_diseases</td>\n",
       "      <td>Unexposed</td>\n",
       "      <td>Unexposed</td>\n",
       "    </tr>\n",
       "  </tbody>\n",
       "</table>\n",
       "<p>14619 rows × 8 columns</p>\n",
       "</div>"
      ],
      "text/plain": [
       "       alive_before alive_after  age_before  age_after  \\\n",
       "22            alive       alive    1.269231   1.288396   \n",
       "70            alive       alive    1.850030   1.869195   \n",
       "71            alive       alive    1.443815   1.462980   \n",
       "124           alive       alive    0.593871   0.613036   \n",
       "141           alive       alive    0.777409   0.796574   \n",
       "...             ...         ...         ...        ...   \n",
       "499884        alive       alive    0.224537   0.243701   \n",
       "499896        alive       alive    1.893415   1.912580   \n",
       "499926        alive       alive    1.273989   1.293154   \n",
       "499934        alive       alive    0.659213   0.678378   \n",
       "499961        alive       alive    0.438790   0.457955   \n",
       "\n",
       "                diarrheal_diseases_before           diarrheal_diseases_after  \\\n",
       "22      susceptible_to_diarrheal_diseases                 diarrheal_diseases   \n",
       "70      susceptible_to_diarrheal_diseases                 diarrheal_diseases   \n",
       "71                     diarrheal_diseases  susceptible_to_diarrheal_diseases   \n",
       "124     susceptible_to_diarrheal_diseases                 diarrheal_diseases   \n",
       "141     susceptible_to_diarrheal_diseases                 diarrheal_diseases   \n",
       "...                                   ...                                ...   \n",
       "499884  susceptible_to_diarrheal_diseases                 diarrheal_diseases   \n",
       "499896  susceptible_to_diarrheal_diseases                 diarrheal_diseases   \n",
       "499926                 diarrheal_diseases  susceptible_to_diarrheal_diseases   \n",
       "499934                 diarrheal_diseases  susceptible_to_diarrheal_diseases   \n",
       "499961                 diarrheal_diseases  susceptible_to_diarrheal_diseases   \n",
       "\n",
       "                                   child_wasting_before  \\\n",
       "22      Wasting Between -2 SD and -1 SD (post-ensemble)   \n",
       "70      Wasting Between -2 SD and -1 SD (post-ensemble)   \n",
       "71      Wasting Between -2 SD and -1 SD (post-ensemble)   \n",
       "124                                           Unexposed   \n",
       "141     Wasting Between -2 SD and -1 SD (post-ensemble)   \n",
       "...                                                 ...   \n",
       "499884          Severe Wasting, < -3 SD (post-ensemble)   \n",
       "499896  Wasting Between -3 SD and -2 SD (post-ensemble)   \n",
       "499926                                        Unexposed   \n",
       "499934  Wasting Between -3 SD and -2 SD (post-ensemble)   \n",
       "499961                                        Unexposed   \n",
       "\n",
       "                                    child_wasting_after  \n",
       "22      Wasting Between -2 SD and -1 SD (post-ensemble)  \n",
       "70      Wasting Between -2 SD and -1 SD (post-ensemble)  \n",
       "71      Wasting Between -2 SD and -1 SD (post-ensemble)  \n",
       "124                                           Unexposed  \n",
       "141     Wasting Between -2 SD and -1 SD (post-ensemble)  \n",
       "...                                                 ...  \n",
       "499884          Severe Wasting, < -3 SD (post-ensemble)  \n",
       "499896  Wasting Between -3 SD and -2 SD (post-ensemble)  \n",
       "499926                                        Unexposed  \n",
       "499934  Wasting Between -3 SD and -2 SD (post-ensemble)  \n",
       "499961                                        Unexposed  \n",
       "\n",
       "[14619 rows x 8 columns]"
      ]
     },
     "metadata": {},
     "output_type": "display_data"
    },
    {
     "name": "stdout",
     "output_type": "stream",
     "text": [
      "Difference in child_wasting:\n"
     ]
    },
    {
     "data": {
      "text/html": [
       "<div>\n",
       "<style scoped>\n",
       "    .dataframe tbody tr th:only-of-type {\n",
       "        vertical-align: middle;\n",
       "    }\n",
       "\n",
       "    .dataframe tbody tr th {\n",
       "        vertical-align: top;\n",
       "    }\n",
       "\n",
       "    .dataframe thead th {\n",
       "        text-align: right;\n",
       "    }\n",
       "</style>\n",
       "<table border=\"1\" class=\"dataframe\">\n",
       "  <thead>\n",
       "    <tr style=\"text-align: right;\">\n",
       "      <th></th>\n",
       "      <th>alive_before</th>\n",
       "      <th>alive_after</th>\n",
       "      <th>age_before</th>\n",
       "      <th>age_after</th>\n",
       "      <th>diarrheal_diseases_before</th>\n",
       "      <th>diarrheal_diseases_after</th>\n",
       "      <th>child_wasting_before</th>\n",
       "      <th>child_wasting_after</th>\n",
       "    </tr>\n",
       "  </thead>\n",
       "  <tbody>\n",
       "    <tr>\n",
       "      <th>86</th>\n",
       "      <td>alive</td>\n",
       "      <td>alive</td>\n",
       "      <td>0.064910</td>\n",
       "      <td>0.084075</td>\n",
       "      <td>susceptible_to_diarrheal_diseases</td>\n",
       "      <td>susceptible_to_diarrheal_diseases</td>\n",
       "      <td>Unexposed</td>\n",
       "      <td>Wasting Between -2 SD and -1 SD (post-ensemble)</td>\n",
       "    </tr>\n",
       "    <tr>\n",
       "      <th>1916</th>\n",
       "      <td>alive</td>\n",
       "      <td>alive</td>\n",
       "      <td>0.067327</td>\n",
       "      <td>0.086492</td>\n",
       "      <td>susceptible_to_diarrheal_diseases</td>\n",
       "      <td>susceptible_to_diarrheal_diseases</td>\n",
       "      <td>Unexposed</td>\n",
       "      <td>Wasting Between -2 SD and -1 SD (post-ensemble)</td>\n",
       "    </tr>\n",
       "    <tr>\n",
       "      <th>2459</th>\n",
       "      <td>alive</td>\n",
       "      <td>alive</td>\n",
       "      <td>0.063092</td>\n",
       "      <td>0.082257</td>\n",
       "      <td>susceptible_to_diarrheal_diseases</td>\n",
       "      <td>susceptible_to_diarrheal_diseases</td>\n",
       "      <td>Unexposed</td>\n",
       "      <td>Wasting Between -2 SD and -1 SD (post-ensemble)</td>\n",
       "    </tr>\n",
       "    <tr>\n",
       "      <th>2552</th>\n",
       "      <td>alive</td>\n",
       "      <td>alive</td>\n",
       "      <td>0.063540</td>\n",
       "      <td>0.082705</td>\n",
       "      <td>susceptible_to_diarrheal_diseases</td>\n",
       "      <td>susceptible_to_diarrheal_diseases</td>\n",
       "      <td>Unexposed</td>\n",
       "      <td>Wasting Between -2 SD and -1 SD (post-ensemble)</td>\n",
       "    </tr>\n",
       "    <tr>\n",
       "      <th>2631</th>\n",
       "      <td>alive</td>\n",
       "      <td>alive</td>\n",
       "      <td>0.074198</td>\n",
       "      <td>0.093363</td>\n",
       "      <td>susceptible_to_diarrheal_diseases</td>\n",
       "      <td>susceptible_to_diarrheal_diseases</td>\n",
       "      <td>Unexposed</td>\n",
       "      <td>Wasting Between -3 SD and -2 SD (post-ensemble)</td>\n",
       "    </tr>\n",
       "    <tr>\n",
       "      <th>...</th>\n",
       "      <td>...</td>\n",
       "      <td>...</td>\n",
       "      <td>...</td>\n",
       "      <td>...</td>\n",
       "      <td>...</td>\n",
       "      <td>...</td>\n",
       "      <td>...</td>\n",
       "      <td>...</td>\n",
       "    </tr>\n",
       "    <tr>\n",
       "      <th>498530</th>\n",
       "      <td>alive</td>\n",
       "      <td>alive</td>\n",
       "      <td>0.066544</td>\n",
       "      <td>0.085709</td>\n",
       "      <td>susceptible_to_diarrheal_diseases</td>\n",
       "      <td>susceptible_to_diarrheal_diseases</td>\n",
       "      <td>Unexposed</td>\n",
       "      <td>Wasting Between -2 SD and -1 SD (post-ensemble)</td>\n",
       "    </tr>\n",
       "    <tr>\n",
       "      <th>499251</th>\n",
       "      <td>alive</td>\n",
       "      <td>alive</td>\n",
       "      <td>0.075630</td>\n",
       "      <td>0.094795</td>\n",
       "      <td>susceptible_to_diarrheal_diseases</td>\n",
       "      <td>susceptible_to_diarrheal_diseases</td>\n",
       "      <td>Unexposed</td>\n",
       "      <td>Wasting Between -2 SD and -1 SD (post-ensemble)</td>\n",
       "    </tr>\n",
       "    <tr>\n",
       "      <th>499542</th>\n",
       "      <td>alive</td>\n",
       "      <td>alive</td>\n",
       "      <td>0.075696</td>\n",
       "      <td>0.094861</td>\n",
       "      <td>susceptible_to_diarrheal_diseases</td>\n",
       "      <td>susceptible_to_diarrheal_diseases</td>\n",
       "      <td>Unexposed</td>\n",
       "      <td>Wasting Between -2 SD and -1 SD (post-ensemble)</td>\n",
       "    </tr>\n",
       "    <tr>\n",
       "      <th>499882</th>\n",
       "      <td>alive</td>\n",
       "      <td>alive</td>\n",
       "      <td>0.067533</td>\n",
       "      <td>0.086698</td>\n",
       "      <td>susceptible_to_diarrheal_diseases</td>\n",
       "      <td>susceptible_to_diarrheal_diseases</td>\n",
       "      <td>Unexposed</td>\n",
       "      <td>Wasting Between -2 SD and -1 SD (post-ensemble)</td>\n",
       "    </tr>\n",
       "    <tr>\n",
       "      <th>499919</th>\n",
       "      <td>alive</td>\n",
       "      <td>alive</td>\n",
       "      <td>0.070494</td>\n",
       "      <td>0.089659</td>\n",
       "      <td>susceptible_to_diarrheal_diseases</td>\n",
       "      <td>susceptible_to_diarrheal_diseases</td>\n",
       "      <td>Unexposed</td>\n",
       "      <td>Wasting Between -3 SD and -2 SD (post-ensemble)</td>\n",
       "    </tr>\n",
       "  </tbody>\n",
       "</table>\n",
       "<p>1714 rows × 8 columns</p>\n",
       "</div>"
      ],
      "text/plain": [
       "       alive_before alive_after  age_before  age_after  \\\n",
       "86            alive       alive    0.064910   0.084075   \n",
       "1916          alive       alive    0.067327   0.086492   \n",
       "2459          alive       alive    0.063092   0.082257   \n",
       "2552          alive       alive    0.063540   0.082705   \n",
       "2631          alive       alive    0.074198   0.093363   \n",
       "...             ...         ...         ...        ...   \n",
       "498530        alive       alive    0.066544   0.085709   \n",
       "499251        alive       alive    0.075630   0.094795   \n",
       "499542        alive       alive    0.075696   0.094861   \n",
       "499882        alive       alive    0.067533   0.086698   \n",
       "499919        alive       alive    0.070494   0.089659   \n",
       "\n",
       "                diarrheal_diseases_before           diarrheal_diseases_after  \\\n",
       "86      susceptible_to_diarrheal_diseases  susceptible_to_diarrheal_diseases   \n",
       "1916    susceptible_to_diarrheal_diseases  susceptible_to_diarrheal_diseases   \n",
       "2459    susceptible_to_diarrheal_diseases  susceptible_to_diarrheal_diseases   \n",
       "2552    susceptible_to_diarrheal_diseases  susceptible_to_diarrheal_diseases   \n",
       "2631    susceptible_to_diarrheal_diseases  susceptible_to_diarrheal_diseases   \n",
       "...                                   ...                                ...   \n",
       "498530  susceptible_to_diarrheal_diseases  susceptible_to_diarrheal_diseases   \n",
       "499251  susceptible_to_diarrheal_diseases  susceptible_to_diarrheal_diseases   \n",
       "499542  susceptible_to_diarrheal_diseases  susceptible_to_diarrheal_diseases   \n",
       "499882  susceptible_to_diarrheal_diseases  susceptible_to_diarrheal_diseases   \n",
       "499919  susceptible_to_diarrheal_diseases  susceptible_to_diarrheal_diseases   \n",
       "\n",
       "       child_wasting_before                              child_wasting_after  \n",
       "86                Unexposed  Wasting Between -2 SD and -1 SD (post-ensemble)  \n",
       "1916              Unexposed  Wasting Between -2 SD and -1 SD (post-ensemble)  \n",
       "2459              Unexposed  Wasting Between -2 SD and -1 SD (post-ensemble)  \n",
       "2552              Unexposed  Wasting Between -2 SD and -1 SD (post-ensemble)  \n",
       "2631              Unexposed  Wasting Between -3 SD and -2 SD (post-ensemble)  \n",
       "...                     ...                                              ...  \n",
       "498530            Unexposed  Wasting Between -2 SD and -1 SD (post-ensemble)  \n",
       "499251            Unexposed  Wasting Between -2 SD and -1 SD (post-ensemble)  \n",
       "499542            Unexposed  Wasting Between -2 SD and -1 SD (post-ensemble)  \n",
       "499882            Unexposed  Wasting Between -2 SD and -1 SD (post-ensemble)  \n",
       "499919            Unexposed  Wasting Between -3 SD and -2 SD (post-ensemble)  \n",
       "\n",
       "[1714 rows x 8 columns]"
      ]
     },
     "metadata": {},
     "output_type": "display_data"
    }
   ],
   "source": [
    "step_forward(sim_intervention)"
   ]
  },
  {
   "cell_type": "markdown",
   "id": "1447a400",
   "metadata": {
    "papermill": {
     "duration": 0.032648,
     "end_time": "2025-03-11T21:30:30.222549",
     "exception": false,
     "start_time": "2025-03-11T21:30:30.189901",
     "status": "completed"
    },
    "tags": []
   },
   "source": [
    "Now that both simulations have advanced one step, let's take another look at how the scenarios compare."
   ]
  },
  {
   "cell_type": "code",
   "execution_count": 64,
   "id": "8b9b7a4c",
   "metadata": {
    "papermill": {
     "duration": 3.184713,
     "end_time": "2025-03-11T21:30:33.438047",
     "exception": false,
     "start_time": "2025-03-11T21:30:30.253334",
     "status": "completed"
    },
    "tags": []
   },
   "outputs": [
    {
     "name": "stdout",
     "output_type": "stream",
     "text": [
      "Difference in covered_by_sqlns:\n"
     ]
    },
    {
     "data": {
      "text/html": [
       "<div>\n",
       "<style scoped>\n",
       "    .dataframe tbody tr th:only-of-type {\n",
       "        vertical-align: middle;\n",
       "    }\n",
       "\n",
       "    .dataframe tbody tr th {\n",
       "        vertical-align: top;\n",
       "    }\n",
       "\n",
       "    .dataframe thead th {\n",
       "        text-align: right;\n",
       "    }\n",
       "</style>\n",
       "<table border=\"1\" class=\"dataframe\">\n",
       "  <thead>\n",
       "    <tr style=\"text-align: right;\">\n",
       "      <th></th>\n",
       "      <th>covered_by_sqlns_baseline</th>\n",
       "      <th>covered_by_sqlns_intervention</th>\n",
       "      <th>diarrheal_diseases_baseline</th>\n",
       "      <th>diarrheal_diseases_intervention</th>\n",
       "      <th>child_wasting_baseline</th>\n",
       "      <th>child_wasting_intervention</th>\n",
       "    </tr>\n",
       "  </thead>\n",
       "  <tbody>\n",
       "    <tr>\n",
       "      <th>0</th>\n",
       "      <td>False</td>\n",
       "      <td>True</td>\n",
       "      <td>susceptible_to_diarrheal_diseases</td>\n",
       "      <td>susceptible_to_diarrheal_diseases</td>\n",
       "      <td>Unexposed</td>\n",
       "      <td>Unexposed</td>\n",
       "    </tr>\n",
       "    <tr>\n",
       "      <th>1</th>\n",
       "      <td>False</td>\n",
       "      <td>True</td>\n",
       "      <td>susceptible_to_diarrheal_diseases</td>\n",
       "      <td>susceptible_to_diarrheal_diseases</td>\n",
       "      <td>Severe Wasting, &lt; -3 SD (post-ensemble)</td>\n",
       "      <td>Severe Wasting, &lt; -3 SD (post-ensemble)</td>\n",
       "    </tr>\n",
       "    <tr>\n",
       "      <th>2</th>\n",
       "      <td>False</td>\n",
       "      <td>True</td>\n",
       "      <td>susceptible_to_diarrheal_diseases</td>\n",
       "      <td>susceptible_to_diarrheal_diseases</td>\n",
       "      <td>Unexposed</td>\n",
       "      <td>Unexposed</td>\n",
       "    </tr>\n",
       "    <tr>\n",
       "      <th>3</th>\n",
       "      <td>False</td>\n",
       "      <td>True</td>\n",
       "      <td>susceptible_to_diarrheal_diseases</td>\n",
       "      <td>susceptible_to_diarrheal_diseases</td>\n",
       "      <td>Unexposed</td>\n",
       "      <td>Unexposed</td>\n",
       "    </tr>\n",
       "    <tr>\n",
       "      <th>4</th>\n",
       "      <td>False</td>\n",
       "      <td>True</td>\n",
       "      <td>susceptible_to_diarrheal_diseases</td>\n",
       "      <td>susceptible_to_diarrheal_diseases</td>\n",
       "      <td>Wasting Between -2 SD and -1 SD (post-ensemble)</td>\n",
       "      <td>Wasting Between -2 SD and -1 SD (post-ensemble)</td>\n",
       "    </tr>\n",
       "    <tr>\n",
       "      <th>...</th>\n",
       "      <td>...</td>\n",
       "      <td>...</td>\n",
       "      <td>...</td>\n",
       "      <td>...</td>\n",
       "      <td>...</td>\n",
       "      <td>...</td>\n",
       "    </tr>\n",
       "    <tr>\n",
       "      <th>505116</th>\n",
       "      <td>False</td>\n",
       "      <td>True</td>\n",
       "      <td>susceptible_to_diarrheal_diseases</td>\n",
       "      <td>susceptible_to_diarrheal_diseases</td>\n",
       "      <td>Unexposed</td>\n",
       "      <td>Unexposed</td>\n",
       "    </tr>\n",
       "    <tr>\n",
       "      <th>505117</th>\n",
       "      <td>False</td>\n",
       "      <td>True</td>\n",
       "      <td>susceptible_to_diarrheal_diseases</td>\n",
       "      <td>susceptible_to_diarrheal_diseases</td>\n",
       "      <td>Unexposed</td>\n",
       "      <td>Unexposed</td>\n",
       "    </tr>\n",
       "    <tr>\n",
       "      <th>505118</th>\n",
       "      <td>False</td>\n",
       "      <td>True</td>\n",
       "      <td>susceptible_to_diarrheal_diseases</td>\n",
       "      <td>susceptible_to_diarrheal_diseases</td>\n",
       "      <td>Unexposed</td>\n",
       "      <td>Unexposed</td>\n",
       "    </tr>\n",
       "    <tr>\n",
       "      <th>505119</th>\n",
       "      <td>False</td>\n",
       "      <td>True</td>\n",
       "      <td>susceptible_to_diarrheal_diseases</td>\n",
       "      <td>susceptible_to_diarrheal_diseases</td>\n",
       "      <td>Unexposed</td>\n",
       "      <td>Unexposed</td>\n",
       "    </tr>\n",
       "    <tr>\n",
       "      <th>505120</th>\n",
       "      <td>False</td>\n",
       "      <td>True</td>\n",
       "      <td>susceptible_to_diarrheal_diseases</td>\n",
       "      <td>susceptible_to_diarrheal_diseases</td>\n",
       "      <td>Unexposed</td>\n",
       "      <td>Unexposed</td>\n",
       "    </tr>\n",
       "  </tbody>\n",
       "</table>\n",
       "<p>500476 rows × 6 columns</p>\n",
       "</div>"
      ],
      "text/plain": [
       "        covered_by_sqlns_baseline  covered_by_sqlns_intervention  \\\n",
       "0                           False                           True   \n",
       "1                           False                           True   \n",
       "2                           False                           True   \n",
       "3                           False                           True   \n",
       "4                           False                           True   \n",
       "...                           ...                            ...   \n",
       "505116                      False                           True   \n",
       "505117                      False                           True   \n",
       "505118                      False                           True   \n",
       "505119                      False                           True   \n",
       "505120                      False                           True   \n",
       "\n",
       "              diarrheal_diseases_baseline    diarrheal_diseases_intervention  \\\n",
       "0       susceptible_to_diarrheal_diseases  susceptible_to_diarrheal_diseases   \n",
       "1       susceptible_to_diarrheal_diseases  susceptible_to_diarrheal_diseases   \n",
       "2       susceptible_to_diarrheal_diseases  susceptible_to_diarrheal_diseases   \n",
       "3       susceptible_to_diarrheal_diseases  susceptible_to_diarrheal_diseases   \n",
       "4       susceptible_to_diarrheal_diseases  susceptible_to_diarrheal_diseases   \n",
       "...                                   ...                                ...   \n",
       "505116  susceptible_to_diarrheal_diseases  susceptible_to_diarrheal_diseases   \n",
       "505117  susceptible_to_diarrheal_diseases  susceptible_to_diarrheal_diseases   \n",
       "505118  susceptible_to_diarrheal_diseases  susceptible_to_diarrheal_diseases   \n",
       "505119  susceptible_to_diarrheal_diseases  susceptible_to_diarrheal_diseases   \n",
       "505120  susceptible_to_diarrheal_diseases  susceptible_to_diarrheal_diseases   \n",
       "\n",
       "                                 child_wasting_baseline  \\\n",
       "0                                             Unexposed   \n",
       "1               Severe Wasting, < -3 SD (post-ensemble)   \n",
       "2                                             Unexposed   \n",
       "3                                             Unexposed   \n",
       "4       Wasting Between -2 SD and -1 SD (post-ensemble)   \n",
       "...                                                 ...   \n",
       "505116                                        Unexposed   \n",
       "505117                                        Unexposed   \n",
       "505118                                        Unexposed   \n",
       "505119                                        Unexposed   \n",
       "505120                                        Unexposed   \n",
       "\n",
       "                             child_wasting_intervention  \n",
       "0                                             Unexposed  \n",
       "1               Severe Wasting, < -3 SD (post-ensemble)  \n",
       "2                                             Unexposed  \n",
       "3                                             Unexposed  \n",
       "4       Wasting Between -2 SD and -1 SD (post-ensemble)  \n",
       "...                                                 ...  \n",
       "505116                                        Unexposed  \n",
       "505117                                        Unexposed  \n",
       "505118                                        Unexposed  \n",
       "505119                                        Unexposed  \n",
       "505120                                        Unexposed  \n",
       "\n",
       "[500476 rows x 6 columns]"
      ]
     },
     "metadata": {},
     "output_type": "display_data"
    },
    {
     "name": "stdout",
     "output_type": "stream",
     "text": [
      "Difference in diarrheal_diseases:\n"
     ]
    },
    {
     "data": {
      "text/html": [
       "<div>\n",
       "<style scoped>\n",
       "    .dataframe tbody tr th:only-of-type {\n",
       "        vertical-align: middle;\n",
       "    }\n",
       "\n",
       "    .dataframe tbody tr th {\n",
       "        vertical-align: top;\n",
       "    }\n",
       "\n",
       "    .dataframe thead th {\n",
       "        text-align: right;\n",
       "    }\n",
       "</style>\n",
       "<table border=\"1\" class=\"dataframe\">\n",
       "  <thead>\n",
       "    <tr style=\"text-align: right;\">\n",
       "      <th></th>\n",
       "      <th>covered_by_sqlns_baseline</th>\n",
       "      <th>covered_by_sqlns_intervention</th>\n",
       "      <th>diarrheal_diseases_baseline</th>\n",
       "      <th>diarrheal_diseases_intervention</th>\n",
       "      <th>child_wasting_baseline</th>\n",
       "      <th>child_wasting_intervention</th>\n",
       "    </tr>\n",
       "  </thead>\n",
       "  <tbody>\n",
       "    <tr>\n",
       "      <th>185966</th>\n",
       "      <td>False</td>\n",
       "      <td>True</td>\n",
       "      <td>diarrheal_diseases</td>\n",
       "      <td>susceptible_to_diarrheal_diseases</td>\n",
       "      <td>Wasting Between -3 SD and -2 SD (post-ensemble)</td>\n",
       "      <td>Wasting Between -2 SD and -1 SD (post-ensemble)</td>\n",
       "    </tr>\n",
       "    <tr>\n",
       "      <th>211909</th>\n",
       "      <td>False</td>\n",
       "      <td>True</td>\n",
       "      <td>diarrheal_diseases</td>\n",
       "      <td>susceptible_to_diarrheal_diseases</td>\n",
       "      <td>Wasting Between -3 SD and -2 SD (post-ensemble)</td>\n",
       "      <td>Wasting Between -2 SD and -1 SD (post-ensemble)</td>\n",
       "    </tr>\n",
       "    <tr>\n",
       "      <th>251284</th>\n",
       "      <td>False</td>\n",
       "      <td>True</td>\n",
       "      <td>diarrheal_diseases</td>\n",
       "      <td>susceptible_to_diarrheal_diseases</td>\n",
       "      <td>Severe Wasting, &lt; -3 SD (post-ensemble)</td>\n",
       "      <td>Wasting Between -2 SD and -1 SD (post-ensemble)</td>\n",
       "    </tr>\n",
       "    <tr>\n",
       "      <th>494424</th>\n",
       "      <td>False</td>\n",
       "      <td>True</td>\n",
       "      <td>diarrheal_diseases</td>\n",
       "      <td>susceptible_to_diarrheal_diseases</td>\n",
       "      <td>Wasting Between -3 SD and -2 SD (post-ensemble)</td>\n",
       "      <td>Wasting Between -2 SD and -1 SD (post-ensemble)</td>\n",
       "    </tr>\n",
       "  </tbody>\n",
       "</table>\n",
       "</div>"
      ],
      "text/plain": [
       "        covered_by_sqlns_baseline  covered_by_sqlns_intervention  \\\n",
       "185966                      False                           True   \n",
       "211909                      False                           True   \n",
       "251284                      False                           True   \n",
       "494424                      False                           True   \n",
       "\n",
       "       diarrheal_diseases_baseline    diarrheal_diseases_intervention  \\\n",
       "185966          diarrheal_diseases  susceptible_to_diarrheal_diseases   \n",
       "211909          diarrheal_diseases  susceptible_to_diarrheal_diseases   \n",
       "251284          diarrheal_diseases  susceptible_to_diarrheal_diseases   \n",
       "494424          diarrheal_diseases  susceptible_to_diarrheal_diseases   \n",
       "\n",
       "                                 child_wasting_baseline  \\\n",
       "185966  Wasting Between -3 SD and -2 SD (post-ensemble)   \n",
       "211909  Wasting Between -3 SD and -2 SD (post-ensemble)   \n",
       "251284          Severe Wasting, < -3 SD (post-ensemble)   \n",
       "494424  Wasting Between -3 SD and -2 SD (post-ensemble)   \n",
       "\n",
       "                             child_wasting_intervention  \n",
       "185966  Wasting Between -2 SD and -1 SD (post-ensemble)  \n",
       "211909  Wasting Between -2 SD and -1 SD (post-ensemble)  \n",
       "251284  Wasting Between -2 SD and -1 SD (post-ensemble)  \n",
       "494424  Wasting Between -2 SD and -1 SD (post-ensemble)  "
      ]
     },
     "metadata": {},
     "output_type": "display_data"
    },
    {
     "name": "stdout",
     "output_type": "stream",
     "text": [
      "Difference in child_wasting:\n"
     ]
    },
    {
     "data": {
      "text/html": [
       "<div>\n",
       "<style scoped>\n",
       "    .dataframe tbody tr th:only-of-type {\n",
       "        vertical-align: middle;\n",
       "    }\n",
       "\n",
       "    .dataframe tbody tr th {\n",
       "        vertical-align: top;\n",
       "    }\n",
       "\n",
       "    .dataframe thead th {\n",
       "        text-align: right;\n",
       "    }\n",
       "</style>\n",
       "<table border=\"1\" class=\"dataframe\">\n",
       "  <thead>\n",
       "    <tr style=\"text-align: right;\">\n",
       "      <th></th>\n",
       "      <th>covered_by_sqlns_baseline</th>\n",
       "      <th>covered_by_sqlns_intervention</th>\n",
       "      <th>diarrheal_diseases_baseline</th>\n",
       "      <th>diarrheal_diseases_intervention</th>\n",
       "      <th>child_wasting_baseline</th>\n",
       "      <th>child_wasting_intervention</th>\n",
       "    </tr>\n",
       "  </thead>\n",
       "  <tbody>\n",
       "    <tr>\n",
       "      <th>17</th>\n",
       "      <td>False</td>\n",
       "      <td>True</td>\n",
       "      <td>susceptible_to_diarrheal_diseases</td>\n",
       "      <td>susceptible_to_diarrheal_diseases</td>\n",
       "      <td>Wasting Between -3 SD and -2 SD (post-ensemble)</td>\n",
       "      <td>Wasting Between -2 SD and -1 SD (post-ensemble)</td>\n",
       "    </tr>\n",
       "    <tr>\n",
       "      <th>120</th>\n",
       "      <td>False</td>\n",
       "      <td>True</td>\n",
       "      <td>susceptible_to_diarrheal_diseases</td>\n",
       "      <td>susceptible_to_diarrheal_diseases</td>\n",
       "      <td>Wasting Between -3 SD and -2 SD (post-ensemble)</td>\n",
       "      <td>Wasting Between -2 SD and -1 SD (post-ensemble)</td>\n",
       "    </tr>\n",
       "    <tr>\n",
       "      <th>131</th>\n",
       "      <td>False</td>\n",
       "      <td>True</td>\n",
       "      <td>susceptible_to_diarrheal_diseases</td>\n",
       "      <td>susceptible_to_diarrheal_diseases</td>\n",
       "      <td>Wasting Between -3 SD and -2 SD (post-ensemble)</td>\n",
       "      <td>Wasting Between -2 SD and -1 SD (post-ensemble)</td>\n",
       "    </tr>\n",
       "    <tr>\n",
       "      <th>165</th>\n",
       "      <td>False</td>\n",
       "      <td>True</td>\n",
       "      <td>susceptible_to_diarrheal_diseases</td>\n",
       "      <td>susceptible_to_diarrheal_diseases</td>\n",
       "      <td>Wasting Between -3 SD and -2 SD (post-ensemble)</td>\n",
       "      <td>Wasting Between -2 SD and -1 SD (post-ensemble)</td>\n",
       "    </tr>\n",
       "    <tr>\n",
       "      <th>197</th>\n",
       "      <td>False</td>\n",
       "      <td>True</td>\n",
       "      <td>susceptible_to_diarrheal_diseases</td>\n",
       "      <td>susceptible_to_diarrheal_diseases</td>\n",
       "      <td>Wasting Between -3 SD and -2 SD (post-ensemble)</td>\n",
       "      <td>Wasting Between -2 SD and -1 SD (post-ensemble)</td>\n",
       "    </tr>\n",
       "    <tr>\n",
       "      <th>...</th>\n",
       "      <td>...</td>\n",
       "      <td>...</td>\n",
       "      <td>...</td>\n",
       "      <td>...</td>\n",
       "      <td>...</td>\n",
       "      <td>...</td>\n",
       "    </tr>\n",
       "    <tr>\n",
       "      <th>499836</th>\n",
       "      <td>False</td>\n",
       "      <td>True</td>\n",
       "      <td>susceptible_to_diarrheal_diseases</td>\n",
       "      <td>susceptible_to_diarrheal_diseases</td>\n",
       "      <td>Wasting Between -3 SD and -2 SD (post-ensemble)</td>\n",
       "      <td>Wasting Between -2 SD and -1 SD (post-ensemble)</td>\n",
       "    </tr>\n",
       "    <tr>\n",
       "      <th>499955</th>\n",
       "      <td>False</td>\n",
       "      <td>True</td>\n",
       "      <td>susceptible_to_diarrheal_diseases</td>\n",
       "      <td>susceptible_to_diarrheal_diseases</td>\n",
       "      <td>Wasting Between -3 SD and -2 SD (post-ensemble)</td>\n",
       "      <td>Wasting Between -2 SD and -1 SD (post-ensemble)</td>\n",
       "    </tr>\n",
       "    <tr>\n",
       "      <th>499968</th>\n",
       "      <td>False</td>\n",
       "      <td>True</td>\n",
       "      <td>susceptible_to_diarrheal_diseases</td>\n",
       "      <td>susceptible_to_diarrheal_diseases</td>\n",
       "      <td>Wasting Between -3 SD and -2 SD (post-ensemble)</td>\n",
       "      <td>Wasting Between -2 SD and -1 SD (post-ensemble)</td>\n",
       "    </tr>\n",
       "    <tr>\n",
       "      <th>499984</th>\n",
       "      <td>False</td>\n",
       "      <td>True</td>\n",
       "      <td>susceptible_to_diarrheal_diseases</td>\n",
       "      <td>susceptible_to_diarrheal_diseases</td>\n",
       "      <td>Wasting Between -3 SD and -2 SD (post-ensemble)</td>\n",
       "      <td>Wasting Between -2 SD and -1 SD (post-ensemble)</td>\n",
       "    </tr>\n",
       "    <tr>\n",
       "      <th>499991</th>\n",
       "      <td>False</td>\n",
       "      <td>True</td>\n",
       "      <td>susceptible_to_diarrheal_diseases</td>\n",
       "      <td>susceptible_to_diarrheal_diseases</td>\n",
       "      <td>Wasting Between -3 SD and -2 SD (post-ensemble)</td>\n",
       "      <td>Wasting Between -2 SD and -1 SD (post-ensemble)</td>\n",
       "    </tr>\n",
       "  </tbody>\n",
       "</table>\n",
       "<p>7439 rows × 6 columns</p>\n",
       "</div>"
      ],
      "text/plain": [
       "        covered_by_sqlns_baseline  covered_by_sqlns_intervention  \\\n",
       "17                          False                           True   \n",
       "120                         False                           True   \n",
       "131                         False                           True   \n",
       "165                         False                           True   \n",
       "197                         False                           True   \n",
       "...                           ...                            ...   \n",
       "499836                      False                           True   \n",
       "499955                      False                           True   \n",
       "499968                      False                           True   \n",
       "499984                      False                           True   \n",
       "499991                      False                           True   \n",
       "\n",
       "              diarrheal_diseases_baseline    diarrheal_diseases_intervention  \\\n",
       "17      susceptible_to_diarrheal_diseases  susceptible_to_diarrheal_diseases   \n",
       "120     susceptible_to_diarrheal_diseases  susceptible_to_diarrheal_diseases   \n",
       "131     susceptible_to_diarrheal_diseases  susceptible_to_diarrheal_diseases   \n",
       "165     susceptible_to_diarrheal_diseases  susceptible_to_diarrheal_diseases   \n",
       "197     susceptible_to_diarrheal_diseases  susceptible_to_diarrheal_diseases   \n",
       "...                                   ...                                ...   \n",
       "499836  susceptible_to_diarrheal_diseases  susceptible_to_diarrheal_diseases   \n",
       "499955  susceptible_to_diarrheal_diseases  susceptible_to_diarrheal_diseases   \n",
       "499968  susceptible_to_diarrheal_diseases  susceptible_to_diarrheal_diseases   \n",
       "499984  susceptible_to_diarrheal_diseases  susceptible_to_diarrheal_diseases   \n",
       "499991  susceptible_to_diarrheal_diseases  susceptible_to_diarrheal_diseases   \n",
       "\n",
       "                                 child_wasting_baseline  \\\n",
       "17      Wasting Between -3 SD and -2 SD (post-ensemble)   \n",
       "120     Wasting Between -3 SD and -2 SD (post-ensemble)   \n",
       "131     Wasting Between -3 SD and -2 SD (post-ensemble)   \n",
       "165     Wasting Between -3 SD and -2 SD (post-ensemble)   \n",
       "197     Wasting Between -3 SD and -2 SD (post-ensemble)   \n",
       "...                                                 ...   \n",
       "499836  Wasting Between -3 SD and -2 SD (post-ensemble)   \n",
       "499955  Wasting Between -3 SD and -2 SD (post-ensemble)   \n",
       "499968  Wasting Between -3 SD and -2 SD (post-ensemble)   \n",
       "499984  Wasting Between -3 SD and -2 SD (post-ensemble)   \n",
       "499991  Wasting Between -3 SD and -2 SD (post-ensemble)   \n",
       "\n",
       "                             child_wasting_intervention  \n",
       "17      Wasting Between -2 SD and -1 SD (post-ensemble)  \n",
       "120     Wasting Between -2 SD and -1 SD (post-ensemble)  \n",
       "131     Wasting Between -2 SD and -1 SD (post-ensemble)  \n",
       "165     Wasting Between -2 SD and -1 SD (post-ensemble)  \n",
       "197     Wasting Between -2 SD and -1 SD (post-ensemble)  \n",
       "...                                                 ...  \n",
       "499836  Wasting Between -2 SD and -1 SD (post-ensemble)  \n",
       "499955  Wasting Between -2 SD and -1 SD (post-ensemble)  \n",
       "499968  Wasting Between -2 SD and -1 SD (post-ensemble)  \n",
       "499984  Wasting Between -2 SD and -1 SD (post-ensemble)  \n",
       "499991  Wasting Between -2 SD and -1 SD (post-ensemble)  \n",
       "\n",
       "[7439 rows x 6 columns]"
      ]
     },
     "metadata": {},
     "output_type": "display_data"
    }
   ],
   "source": [
    "compare_scenarios(sim_baseline, sim_intervention)"
   ]
  },
  {
   "cell_type": "markdown",
   "id": "9c235e96",
   "metadata": {
    "papermill": {
     "duration": 0.030824,
     "end_time": "2025-03-11T21:30:33.500018",
     "exception": false,
     "start_time": "2025-03-11T21:30:33.469194",
     "status": "completed"
    },
    "tags": []
   },
   "source": [
    "Here we see that as a result of the child wasting changes we discussed previously, there are now a few additional simulants in the intervention scenario who don't have\n",
    "diarrheal disease!\n",
    "This may not seem like much, but it will add up over time.\n",
    "\n",
    "We can take another step forward and compare again. Everything will still look similar."
   ]
  },
  {
   "cell_type": "code",
   "execution_count": 65,
   "id": "13a09705",
   "metadata": {
    "papermill": {
     "duration": 39.634487,
     "end_time": "2025-03-11T21:31:13.165446",
     "exception": false,
     "start_time": "2025-03-11T21:30:33.530959",
     "status": "completed"
    },
    "tags": []
   },
   "outputs": [
    {
     "name": "stdout",
     "output_type": "stream",
     "text": [
      "Time before: 2025-01-08 00:00:00\n",
      "Time after: 2025-01-15 00:00:00\n",
      "Time before: 2025-01-08 00:00:00\n",
      "Time after: 2025-01-15 00:00:00\n",
      "Difference in covered_by_sqlns:\n"
     ]
    },
    {
     "data": {
      "text/html": [
       "<div>\n",
       "<style scoped>\n",
       "    .dataframe tbody tr th:only-of-type {\n",
       "        vertical-align: middle;\n",
       "    }\n",
       "\n",
       "    .dataframe tbody tr th {\n",
       "        vertical-align: top;\n",
       "    }\n",
       "\n",
       "    .dataframe thead th {\n",
       "        text-align: right;\n",
       "    }\n",
       "</style>\n",
       "<table border=\"1\" class=\"dataframe\">\n",
       "  <thead>\n",
       "    <tr style=\"text-align: right;\">\n",
       "      <th></th>\n",
       "      <th>covered_by_sqlns_baseline</th>\n",
       "      <th>covered_by_sqlns_intervention</th>\n",
       "      <th>diarrheal_diseases_baseline</th>\n",
       "      <th>diarrheal_diseases_intervention</th>\n",
       "      <th>child_wasting_baseline</th>\n",
       "      <th>child_wasting_intervention</th>\n",
       "    </tr>\n",
       "  </thead>\n",
       "  <tbody>\n",
       "    <tr>\n",
       "      <th>0</th>\n",
       "      <td>False</td>\n",
       "      <td>True</td>\n",
       "      <td>susceptible_to_diarrheal_diseases</td>\n",
       "      <td>susceptible_to_diarrheal_diseases</td>\n",
       "      <td>Unexposed</td>\n",
       "      <td>Unexposed</td>\n",
       "    </tr>\n",
       "    <tr>\n",
       "      <th>1</th>\n",
       "      <td>False</td>\n",
       "      <td>True</td>\n",
       "      <td>susceptible_to_diarrheal_diseases</td>\n",
       "      <td>susceptible_to_diarrheal_diseases</td>\n",
       "      <td>Severe Wasting, &lt; -3 SD (post-ensemble)</td>\n",
       "      <td>Severe Wasting, &lt; -3 SD (post-ensemble)</td>\n",
       "    </tr>\n",
       "    <tr>\n",
       "      <th>2</th>\n",
       "      <td>False</td>\n",
       "      <td>True</td>\n",
       "      <td>susceptible_to_diarrheal_diseases</td>\n",
       "      <td>susceptible_to_diarrheal_diseases</td>\n",
       "      <td>Wasting Between -2 SD and -1 SD (post-ensemble)</td>\n",
       "      <td>Wasting Between -2 SD and -1 SD (post-ensemble)</td>\n",
       "    </tr>\n",
       "    <tr>\n",
       "      <th>3</th>\n",
       "      <td>False</td>\n",
       "      <td>True</td>\n",
       "      <td>susceptible_to_diarrheal_diseases</td>\n",
       "      <td>susceptible_to_diarrheal_diseases</td>\n",
       "      <td>Unexposed</td>\n",
       "      <td>Unexposed</td>\n",
       "    </tr>\n",
       "    <tr>\n",
       "      <th>4</th>\n",
       "      <td>False</td>\n",
       "      <td>True</td>\n",
       "      <td>susceptible_to_diarrheal_diseases</td>\n",
       "      <td>susceptible_to_diarrheal_diseases</td>\n",
       "      <td>Wasting Between -2 SD and -1 SD (post-ensemble)</td>\n",
       "      <td>Wasting Between -2 SD and -1 SD (post-ensemble)</td>\n",
       "    </tr>\n",
       "    <tr>\n",
       "      <th>...</th>\n",
       "      <td>...</td>\n",
       "      <td>...</td>\n",
       "      <td>...</td>\n",
       "      <td>...</td>\n",
       "      <td>...</td>\n",
       "      <td>...</td>\n",
       "    </tr>\n",
       "    <tr>\n",
       "      <th>510187</th>\n",
       "      <td>False</td>\n",
       "      <td>True</td>\n",
       "      <td>susceptible_to_diarrheal_diseases</td>\n",
       "      <td>susceptible_to_diarrheal_diseases</td>\n",
       "      <td>Unexposed</td>\n",
       "      <td>Unexposed</td>\n",
       "    </tr>\n",
       "    <tr>\n",
       "      <th>510188</th>\n",
       "      <td>False</td>\n",
       "      <td>True</td>\n",
       "      <td>susceptible_to_diarrheal_diseases</td>\n",
       "      <td>susceptible_to_diarrheal_diseases</td>\n",
       "      <td>Unexposed</td>\n",
       "      <td>Unexposed</td>\n",
       "    </tr>\n",
       "    <tr>\n",
       "      <th>510189</th>\n",
       "      <td>False</td>\n",
       "      <td>True</td>\n",
       "      <td>susceptible_to_diarrheal_diseases</td>\n",
       "      <td>susceptible_to_diarrheal_diseases</td>\n",
       "      <td>Unexposed</td>\n",
       "      <td>Unexposed</td>\n",
       "    </tr>\n",
       "    <tr>\n",
       "      <th>510190</th>\n",
       "      <td>False</td>\n",
       "      <td>True</td>\n",
       "      <td>susceptible_to_diarrheal_diseases</td>\n",
       "      <td>susceptible_to_diarrheal_diseases</td>\n",
       "      <td>Unexposed</td>\n",
       "      <td>Unexposed</td>\n",
       "    </tr>\n",
       "    <tr>\n",
       "      <th>510191</th>\n",
       "      <td>False</td>\n",
       "      <td>True</td>\n",
       "      <td>susceptible_to_diarrheal_diseases</td>\n",
       "      <td>susceptible_to_diarrheal_diseases</td>\n",
       "      <td>Unexposed</td>\n",
       "      <td>Unexposed</td>\n",
       "    </tr>\n",
       "  </tbody>\n",
       "</table>\n",
       "<p>500944 rows × 6 columns</p>\n",
       "</div>"
      ],
      "text/plain": [
       "        covered_by_sqlns_baseline  covered_by_sqlns_intervention  \\\n",
       "0                           False                           True   \n",
       "1                           False                           True   \n",
       "2                           False                           True   \n",
       "3                           False                           True   \n",
       "4                           False                           True   \n",
       "...                           ...                            ...   \n",
       "510187                      False                           True   \n",
       "510188                      False                           True   \n",
       "510189                      False                           True   \n",
       "510190                      False                           True   \n",
       "510191                      False                           True   \n",
       "\n",
       "              diarrheal_diseases_baseline    diarrheal_diseases_intervention  \\\n",
       "0       susceptible_to_diarrheal_diseases  susceptible_to_diarrheal_diseases   \n",
       "1       susceptible_to_diarrheal_diseases  susceptible_to_diarrheal_diseases   \n",
       "2       susceptible_to_diarrheal_diseases  susceptible_to_diarrheal_diseases   \n",
       "3       susceptible_to_diarrheal_diseases  susceptible_to_diarrheal_diseases   \n",
       "4       susceptible_to_diarrheal_diseases  susceptible_to_diarrheal_diseases   \n",
       "...                                   ...                                ...   \n",
       "510187  susceptible_to_diarrheal_diseases  susceptible_to_diarrheal_diseases   \n",
       "510188  susceptible_to_diarrheal_diseases  susceptible_to_diarrheal_diseases   \n",
       "510189  susceptible_to_diarrheal_diseases  susceptible_to_diarrheal_diseases   \n",
       "510190  susceptible_to_diarrheal_diseases  susceptible_to_diarrheal_diseases   \n",
       "510191  susceptible_to_diarrheal_diseases  susceptible_to_diarrheal_diseases   \n",
       "\n",
       "                                 child_wasting_baseline  \\\n",
       "0                                             Unexposed   \n",
       "1               Severe Wasting, < -3 SD (post-ensemble)   \n",
       "2       Wasting Between -2 SD and -1 SD (post-ensemble)   \n",
       "3                                             Unexposed   \n",
       "4       Wasting Between -2 SD and -1 SD (post-ensemble)   \n",
       "...                                                 ...   \n",
       "510187                                        Unexposed   \n",
       "510188                                        Unexposed   \n",
       "510189                                        Unexposed   \n",
       "510190                                        Unexposed   \n",
       "510191                                        Unexposed   \n",
       "\n",
       "                             child_wasting_intervention  \n",
       "0                                             Unexposed  \n",
       "1               Severe Wasting, < -3 SD (post-ensemble)  \n",
       "2       Wasting Between -2 SD and -1 SD (post-ensemble)  \n",
       "3                                             Unexposed  \n",
       "4       Wasting Between -2 SD and -1 SD (post-ensemble)  \n",
       "...                                                 ...  \n",
       "510187                                        Unexposed  \n",
       "510188                                        Unexposed  \n",
       "510189                                        Unexposed  \n",
       "510190                                        Unexposed  \n",
       "510191                                        Unexposed  \n",
       "\n",
       "[500944 rows x 6 columns]"
      ]
     },
     "metadata": {},
     "output_type": "display_data"
    },
    {
     "name": "stdout",
     "output_type": "stream",
     "text": [
      "Difference in diarrheal_diseases:\n"
     ]
    },
    {
     "data": {
      "text/html": [
       "<div>\n",
       "<style scoped>\n",
       "    .dataframe tbody tr th:only-of-type {\n",
       "        vertical-align: middle;\n",
       "    }\n",
       "\n",
       "    .dataframe tbody tr th {\n",
       "        vertical-align: top;\n",
       "    }\n",
       "\n",
       "    .dataframe thead th {\n",
       "        text-align: right;\n",
       "    }\n",
       "</style>\n",
       "<table border=\"1\" class=\"dataframe\">\n",
       "  <thead>\n",
       "    <tr style=\"text-align: right;\">\n",
       "      <th></th>\n",
       "      <th>covered_by_sqlns_baseline</th>\n",
       "      <th>covered_by_sqlns_intervention</th>\n",
       "      <th>diarrheal_diseases_baseline</th>\n",
       "      <th>diarrheal_diseases_intervention</th>\n",
       "      <th>child_wasting_baseline</th>\n",
       "      <th>child_wasting_intervention</th>\n",
       "    </tr>\n",
       "  </thead>\n",
       "  <tbody>\n",
       "    <tr>\n",
       "      <th>92133</th>\n",
       "      <td>False</td>\n",
       "      <td>True</td>\n",
       "      <td>diarrheal_diseases</td>\n",
       "      <td>susceptible_to_diarrheal_diseases</td>\n",
       "      <td>Severe Wasting, &lt; -3 SD (post-ensemble)</td>\n",
       "      <td>Wasting Between -2 SD and -1 SD (post-ensemble)</td>\n",
       "    </tr>\n",
       "    <tr>\n",
       "      <th>251284</th>\n",
       "      <td>False</td>\n",
       "      <td>True</td>\n",
       "      <td>diarrheal_diseases</td>\n",
       "      <td>susceptible_to_diarrheal_diseases</td>\n",
       "      <td>Severe Wasting, &lt; -3 SD (post-ensemble)</td>\n",
       "      <td>Wasting Between -2 SD and -1 SD (post-ensemble)</td>\n",
       "    </tr>\n",
       "    <tr>\n",
       "      <th>380080</th>\n",
       "      <td>False</td>\n",
       "      <td>True</td>\n",
       "      <td>diarrheal_diseases</td>\n",
       "      <td>susceptible_to_diarrheal_diseases</td>\n",
       "      <td>Wasting Between -3 SD and -2 SD (post-ensemble)</td>\n",
       "      <td>Wasting Between -2 SD and -1 SD (post-ensemble)</td>\n",
       "    </tr>\n",
       "  </tbody>\n",
       "</table>\n",
       "</div>"
      ],
      "text/plain": [
       "        covered_by_sqlns_baseline  covered_by_sqlns_intervention  \\\n",
       "92133                       False                           True   \n",
       "251284                      False                           True   \n",
       "380080                      False                           True   \n",
       "\n",
       "       diarrheal_diseases_baseline    diarrheal_diseases_intervention  \\\n",
       "92133           diarrheal_diseases  susceptible_to_diarrheal_diseases   \n",
       "251284          diarrheal_diseases  susceptible_to_diarrheal_diseases   \n",
       "380080          diarrheal_diseases  susceptible_to_diarrheal_diseases   \n",
       "\n",
       "                                 child_wasting_baseline  \\\n",
       "92133           Severe Wasting, < -3 SD (post-ensemble)   \n",
       "251284          Severe Wasting, < -3 SD (post-ensemble)   \n",
       "380080  Wasting Between -3 SD and -2 SD (post-ensemble)   \n",
       "\n",
       "                             child_wasting_intervention  \n",
       "92133   Wasting Between -2 SD and -1 SD (post-ensemble)  \n",
       "251284  Wasting Between -2 SD and -1 SD (post-ensemble)  \n",
       "380080  Wasting Between -2 SD and -1 SD (post-ensemble)  "
      ]
     },
     "metadata": {},
     "output_type": "display_data"
    },
    {
     "name": "stdout",
     "output_type": "stream",
     "text": [
      "Difference in child_wasting:\n"
     ]
    },
    {
     "data": {
      "text/html": [
       "<div>\n",
       "<style scoped>\n",
       "    .dataframe tbody tr th:only-of-type {\n",
       "        vertical-align: middle;\n",
       "    }\n",
       "\n",
       "    .dataframe tbody tr th {\n",
       "        vertical-align: top;\n",
       "    }\n",
       "\n",
       "    .dataframe thead th {\n",
       "        text-align: right;\n",
       "    }\n",
       "</style>\n",
       "<table border=\"1\" class=\"dataframe\">\n",
       "  <thead>\n",
       "    <tr style=\"text-align: right;\">\n",
       "      <th></th>\n",
       "      <th>covered_by_sqlns_baseline</th>\n",
       "      <th>covered_by_sqlns_intervention</th>\n",
       "      <th>diarrheal_diseases_baseline</th>\n",
       "      <th>diarrheal_diseases_intervention</th>\n",
       "      <th>child_wasting_baseline</th>\n",
       "      <th>child_wasting_intervention</th>\n",
       "    </tr>\n",
       "  </thead>\n",
       "  <tbody>\n",
       "    <tr>\n",
       "      <th>17</th>\n",
       "      <td>False</td>\n",
       "      <td>True</td>\n",
       "      <td>susceptible_to_diarrheal_diseases</td>\n",
       "      <td>susceptible_to_diarrheal_diseases</td>\n",
       "      <td>Wasting Between -3 SD and -2 SD (post-ensemble)</td>\n",
       "      <td>Wasting Between -2 SD and -1 SD (post-ensemble)</td>\n",
       "    </tr>\n",
       "    <tr>\n",
       "      <th>120</th>\n",
       "      <td>False</td>\n",
       "      <td>True</td>\n",
       "      <td>susceptible_to_diarrheal_diseases</td>\n",
       "      <td>susceptible_to_diarrheal_diseases</td>\n",
       "      <td>Wasting Between -3 SD and -2 SD (post-ensemble)</td>\n",
       "      <td>Wasting Between -2 SD and -1 SD (post-ensemble)</td>\n",
       "    </tr>\n",
       "    <tr>\n",
       "      <th>131</th>\n",
       "      <td>False</td>\n",
       "      <td>True</td>\n",
       "      <td>susceptible_to_diarrheal_diseases</td>\n",
       "      <td>susceptible_to_diarrheal_diseases</td>\n",
       "      <td>Wasting Between -3 SD and -2 SD (post-ensemble)</td>\n",
       "      <td>Wasting Between -2 SD and -1 SD (post-ensemble)</td>\n",
       "    </tr>\n",
       "    <tr>\n",
       "      <th>165</th>\n",
       "      <td>False</td>\n",
       "      <td>True</td>\n",
       "      <td>susceptible_to_diarrheal_diseases</td>\n",
       "      <td>susceptible_to_diarrheal_diseases</td>\n",
       "      <td>Wasting Between -3 SD and -2 SD (post-ensemble)</td>\n",
       "      <td>Wasting Between -2 SD and -1 SD (post-ensemble)</td>\n",
       "    </tr>\n",
       "    <tr>\n",
       "      <th>197</th>\n",
       "      <td>False</td>\n",
       "      <td>True</td>\n",
       "      <td>susceptible_to_diarrheal_diseases</td>\n",
       "      <td>susceptible_to_diarrheal_diseases</td>\n",
       "      <td>Wasting Between -3 SD and -2 SD (post-ensemble)</td>\n",
       "      <td>Wasting Between -2 SD and -1 SD (post-ensemble)</td>\n",
       "    </tr>\n",
       "    <tr>\n",
       "      <th>...</th>\n",
       "      <td>...</td>\n",
       "      <td>...</td>\n",
       "      <td>...</td>\n",
       "      <td>...</td>\n",
       "      <td>...</td>\n",
       "      <td>...</td>\n",
       "    </tr>\n",
       "    <tr>\n",
       "      <th>499836</th>\n",
       "      <td>False</td>\n",
       "      <td>True</td>\n",
       "      <td>susceptible_to_diarrheal_diseases</td>\n",
       "      <td>susceptible_to_diarrheal_diseases</td>\n",
       "      <td>Wasting Between -3 SD and -2 SD (post-ensemble)</td>\n",
       "      <td>Wasting Between -2 SD and -1 SD (post-ensemble)</td>\n",
       "    </tr>\n",
       "    <tr>\n",
       "      <th>499955</th>\n",
       "      <td>False</td>\n",
       "      <td>True</td>\n",
       "      <td>susceptible_to_diarrheal_diseases</td>\n",
       "      <td>susceptible_to_diarrheal_diseases</td>\n",
       "      <td>Wasting Between -3 SD and -2 SD (post-ensemble)</td>\n",
       "      <td>Wasting Between -2 SD and -1 SD (post-ensemble)</td>\n",
       "    </tr>\n",
       "    <tr>\n",
       "      <th>499968</th>\n",
       "      <td>False</td>\n",
       "      <td>True</td>\n",
       "      <td>susceptible_to_diarrheal_diseases</td>\n",
       "      <td>susceptible_to_diarrheal_diseases</td>\n",
       "      <td>Wasting Between -3 SD and -2 SD (post-ensemble)</td>\n",
       "      <td>Wasting Between -2 SD and -1 SD (post-ensemble)</td>\n",
       "    </tr>\n",
       "    <tr>\n",
       "      <th>499984</th>\n",
       "      <td>False</td>\n",
       "      <td>True</td>\n",
       "      <td>susceptible_to_diarrheal_diseases</td>\n",
       "      <td>susceptible_to_diarrheal_diseases</td>\n",
       "      <td>Wasting Between -3 SD and -2 SD (post-ensemble)</td>\n",
       "      <td>Wasting Between -2 SD and -1 SD (post-ensemble)</td>\n",
       "    </tr>\n",
       "    <tr>\n",
       "      <th>499991</th>\n",
       "      <td>False</td>\n",
       "      <td>True</td>\n",
       "      <td>susceptible_to_diarrheal_diseases</td>\n",
       "      <td>susceptible_to_diarrheal_diseases</td>\n",
       "      <td>Wasting Between -3 SD and -2 SD (post-ensemble)</td>\n",
       "      <td>Wasting Between -2 SD and -1 SD (post-ensemble)</td>\n",
       "    </tr>\n",
       "  </tbody>\n",
       "</table>\n",
       "<p>7415 rows × 6 columns</p>\n",
       "</div>"
      ],
      "text/plain": [
       "        covered_by_sqlns_baseline  covered_by_sqlns_intervention  \\\n",
       "17                          False                           True   \n",
       "120                         False                           True   \n",
       "131                         False                           True   \n",
       "165                         False                           True   \n",
       "197                         False                           True   \n",
       "...                           ...                            ...   \n",
       "499836                      False                           True   \n",
       "499955                      False                           True   \n",
       "499968                      False                           True   \n",
       "499984                      False                           True   \n",
       "499991                      False                           True   \n",
       "\n",
       "              diarrheal_diseases_baseline    diarrheal_diseases_intervention  \\\n",
       "17      susceptible_to_diarrheal_diseases  susceptible_to_diarrheal_diseases   \n",
       "120     susceptible_to_diarrheal_diseases  susceptible_to_diarrheal_diseases   \n",
       "131     susceptible_to_diarrheal_diseases  susceptible_to_diarrheal_diseases   \n",
       "165     susceptible_to_diarrheal_diseases  susceptible_to_diarrheal_diseases   \n",
       "197     susceptible_to_diarrheal_diseases  susceptible_to_diarrheal_diseases   \n",
       "...                                   ...                                ...   \n",
       "499836  susceptible_to_diarrheal_diseases  susceptible_to_diarrheal_diseases   \n",
       "499955  susceptible_to_diarrheal_diseases  susceptible_to_diarrheal_diseases   \n",
       "499968  susceptible_to_diarrheal_diseases  susceptible_to_diarrheal_diseases   \n",
       "499984  susceptible_to_diarrheal_diseases  susceptible_to_diarrheal_diseases   \n",
       "499991  susceptible_to_diarrheal_diseases  susceptible_to_diarrheal_diseases   \n",
       "\n",
       "                                 child_wasting_baseline  \\\n",
       "17      Wasting Between -3 SD and -2 SD (post-ensemble)   \n",
       "120     Wasting Between -3 SD and -2 SD (post-ensemble)   \n",
       "131     Wasting Between -3 SD and -2 SD (post-ensemble)   \n",
       "165     Wasting Between -3 SD and -2 SD (post-ensemble)   \n",
       "197     Wasting Between -3 SD and -2 SD (post-ensemble)   \n",
       "...                                                 ...   \n",
       "499836  Wasting Between -3 SD and -2 SD (post-ensemble)   \n",
       "499955  Wasting Between -3 SD and -2 SD (post-ensemble)   \n",
       "499968  Wasting Between -3 SD and -2 SD (post-ensemble)   \n",
       "499984  Wasting Between -3 SD and -2 SD (post-ensemble)   \n",
       "499991  Wasting Between -3 SD and -2 SD (post-ensemble)   \n",
       "\n",
       "                             child_wasting_intervention  \n",
       "17      Wasting Between -2 SD and -1 SD (post-ensemble)  \n",
       "120     Wasting Between -2 SD and -1 SD (post-ensemble)  \n",
       "131     Wasting Between -2 SD and -1 SD (post-ensemble)  \n",
       "165     Wasting Between -2 SD and -1 SD (post-ensemble)  \n",
       "197     Wasting Between -2 SD and -1 SD (post-ensemble)  \n",
       "...                                                 ...  \n",
       "499836  Wasting Between -2 SD and -1 SD (post-ensemble)  \n",
       "499955  Wasting Between -2 SD and -1 SD (post-ensemble)  \n",
       "499968  Wasting Between -2 SD and -1 SD (post-ensemble)  \n",
       "499984  Wasting Between -2 SD and -1 SD (post-ensemble)  \n",
       "499991  Wasting Between -2 SD and -1 SD (post-ensemble)  \n",
       "\n",
       "[7415 rows x 6 columns]"
      ]
     },
     "metadata": {},
     "output_type": "display_data"
    }
   ],
   "source": [
    "step_forward(sim_baseline, verbose=False)\n",
    "step_forward(sim_intervention, verbose=False)\n",
    "compare_scenarios(sim_baseline, sim_intervention)"
   ]
  },
  {
   "cell_type": "markdown",
   "id": "dc0683a2",
   "metadata": {
    "papermill": {
     "duration": 0.03214,
     "end_time": "2025-03-11T21:31:13.232063",
     "exception": false,
     "start_time": "2025-03-11T21:31:13.199923",
     "status": "completed"
    },
    "tags": []
   },
   "source": [
    "Typically we do quite in-depth verification and validation (V&V) of our simulations to ensure they are implemented correctly\n",
    "and behaving realistically.\n",
    "As a cursory form of that for the purposes of this tutorial, let's check the prevalence of diarrhea, and the distribution\n",
    "of wasting categories, in both scenarios."
   ]
  },
  {
   "cell_type": "code",
   "execution_count": 66,
   "id": "fdc18e50",
   "metadata": {
    "papermill": {
     "duration": 1.362017,
     "end_time": "2025-03-11T21:31:14.623624",
     "exception": false,
     "start_time": "2025-03-11T21:31:13.261607",
     "status": "completed"
    },
    "tags": []
   },
   "outputs": [
    {
     "data": {
      "text/plain": [
       "susceptible_to_diarrheal_diseases    0.975225\n",
       "diarrheal_diseases                   0.024775\n",
       "Name: diarrheal_diseases, dtype: float64"
      ]
     },
     "execution_count": 66,
     "metadata": {},
     "output_type": "execute_result"
    }
   ],
   "source": [
    "baseline_population = get_simulants(sim_baseline)\n",
    "baseline_population.diarrheal_diseases.value_counts(dropna=False) / len(baseline_population)"
   ]
  },
  {
   "cell_type": "code",
   "execution_count": 67,
   "id": "076cf721",
   "metadata": {
    "papermill": {
     "duration": 1.325844,
     "end_time": "2025-03-11T21:31:15.982673",
     "exception": false,
     "start_time": "2025-03-11T21:31:14.656829",
     "status": "completed"
    },
    "tags": []
   },
   "outputs": [
    {
     "data": {
      "text/plain": [
       "susceptible_to_diarrheal_diseases    0.975231\n",
       "diarrheal_diseases                   0.024769\n",
       "Name: diarrheal_diseases, dtype: float64"
      ]
     },
     "execution_count": 67,
     "metadata": {},
     "output_type": "execute_result"
    }
   ],
   "source": [
    "intervention_population = get_simulants(sim_intervention)\n",
    "intervention_population.diarrheal_diseases.value_counts(dropna=False) / len(intervention_population)"
   ]
  },
  {
   "cell_type": "markdown",
   "id": "0cba7fb6",
   "metadata": {
    "papermill": {
     "duration": 0.028933,
     "end_time": "2025-03-11T21:31:16.042516",
     "exception": false,
     "start_time": "2025-03-11T21:31:16.013583",
     "status": "completed"
    },
    "tags": []
   },
   "source": [
    "The prevalence of diarrheal diseases is about 2.5%, which seems reasonable\n",
    "(in a real model we'd want to pull the GBD number again to compare against).\n",
    "\n",
    "We can also see that the prevalence is very slightly higher in our baseline scenario,\n",
    "which reflects that our intervention averted some diarrhea cases."
   ]
  },
  {
   "cell_type": "code",
   "execution_count": 68,
   "id": "5db3f392",
   "metadata": {
    "papermill": {
     "duration": 0.04504,
     "end_time": "2025-03-11T21:31:16.117857",
     "exception": false,
     "start_time": "2025-03-11T21:31:16.072817",
     "status": "completed"
    },
    "tags": []
   },
   "outputs": [
    {
     "data": {
      "text/plain": [
       "Unexposed                                          0.678455\n",
       "Wasting Between -2 SD and -1 SD (post-ensemble)    0.207257\n",
       "Wasting Between -3 SD and -2 SD (post-ensemble)    0.082784\n",
       "Severe Wasting, < -3 SD (post-ensemble)            0.031505\n",
       "Name: child_wasting, dtype: float64"
      ]
     },
     "execution_count": 68,
     "metadata": {},
     "output_type": "execute_result"
    }
   ],
   "source": [
    "baseline_population.child_wasting.value_counts(dropna=False) / len(baseline_population)"
   ]
  },
  {
   "cell_type": "code",
   "execution_count": 69,
   "id": "07627198",
   "metadata": {
    "papermill": {
     "duration": 0.043352,
     "end_time": "2025-03-11T21:31:16.191789",
     "exception": false,
     "start_time": "2025-03-11T21:31:16.148437",
     "status": "completed"
    },
    "tags": []
   },
   "outputs": [
    {
     "data": {
      "text/plain": [
       "Unexposed                                          0.678455\n",
       "Wasting Between -2 SD and -1 SD (post-ensemble)    0.222059\n",
       "Wasting Between -3 SD and -2 SD (post-ensemble)    0.072138\n",
       "Severe Wasting, < -3 SD (post-ensemble)            0.027348\n",
       "Name: child_wasting, dtype: float64"
      ]
     },
     "execution_count": 69,
     "metadata": {},
     "output_type": "execute_result"
    }
   ],
   "source": [
    "intervention_population.child_wasting.value_counts(dropna=False) / len(intervention_population)"
   ]
  },
  {
   "cell_type": "markdown",
   "id": "2a799a50",
   "metadata": {
    "papermill": {
     "duration": 0.029724,
     "end_time": "2025-03-11T21:31:16.251681",
     "exception": false,
     "start_time": "2025-03-11T21:31:16.221957",
     "status": "completed"
    },
    "tags": []
   },
   "source": [
    "About two-thirds of simulants are not wasted, with more severe forms of wasting rarer than less severe forms.\n",
    "Again, we'd typically check this against the GBD value, but for now we will simply call these reasonable.\n",
    "\n",
    "We can also see the effects of our intervention at the population level in these outputs.\n",
    "The prevalence of `Unexposed` is unchanged, since these simulants are not impacted by the intervention.\n",
    "The prevalence of mild wasting (`Between -2 SD and -1 SD`) is slightly *higher* in our intervention scenario,\n",
    "because simulants who benefit are shifted into this category.\n",
    "And finally, moderate and severe wasting are each less prevalent with our intervention active, as we'd expect!\n",
    "\n",
    "When we are done with V&V, we can go ahead and run the simulations the rest of the way to the end with the `run` method.\n",
    "\n",
    "**The following cell will take on the order of 8 hours to run!**\n",
    "Start it running and come back tomorrow to finish this tutorial.\n",
    "Make sure to run it in a way that won't get interrupted, i.e.\n",
    "leave your computer on, make sure it won't go to sleep,\n",
    "make sure you won't get disconnected if you are running this notebook\n",
    "on a remote computer, etc."
   ]
  },
  {
   "cell_type": "code",
   "execution_count": 70,
   "id": "f5a70bf3",
   "metadata": {
    "papermill": {
     "duration": 20704.018015,
     "end_time": "2025-03-12T03:16:20.299721",
     "exception": false,
     "start_time": "2025-03-11T21:31:16.281706",
     "status": "completed"
    },
    "tags": []
   },
   "outputs": [
    {
     "data": {
      "application/vnd.jupyter.widget-view+json": {
       "model_id": "4890d6368db240368bc2cabc80a07ef1",
       "version_major": 2,
       "version_minor": 0
      },
      "text/plain": [
       "VBox(children=(HTML(value=''), IntProgress(value=0, max=311)))"
      ]
     },
     "metadata": {},
     "output_type": "display_data"
    },
    {
     "name": "stdout",
     "output_type": "stream",
     "text": [
      "Simulation complete after 311 iterations\n"
     ]
    },
    {
     "data": {
      "application/vnd.jupyter.widget-view+json": {
       "model_id": "7f8660ec7ffc4df59bc677031718a53b",
       "version_major": 2,
       "version_minor": 0
      },
      "text/plain": [
       "VBox(children=(HTML(value=''), IntProgress(value=0, max=311)))"
      ]
     },
     "metadata": {},
     "output_type": "display_data"
    },
    {
     "name": "stdout",
     "output_type": "stream",
     "text": [
      "Simulation complete after 311 iterations\n",
      "CPU times: user 4h 37min 17s, sys: 1h 53min, total: 6h 30min 18s\n",
      "Wall time: 6h 30min 1s\n"
     ]
    }
   ],
   "source": [
    "%%time\n",
    "\n",
    "sim_baseline.run()\n",
    "sim_intervention.run()"
   ]
  },
  {
   "cell_type": "markdown",
   "id": "20d65bf2",
   "metadata": {
    "papermill": {
     "duration": 0.031856,
     "end_time": "2025-03-12T03:16:20.364483",
     "exception": false,
     "start_time": "2025-03-12T03:16:20.332627",
     "status": "completed"
    },
    "tags": []
   },
   "source": [
    "Let's check that both simulations have reached the end of 2030:"
   ]
  },
  {
   "cell_type": "code",
   "execution_count": 71,
   "id": "7a1170ad",
   "metadata": {
    "papermill": {
     "duration": 0.037831,
     "end_time": "2025-03-12T03:16:20.433445",
     "exception": false,
     "start_time": "2025-03-12T03:16:20.395614",
     "status": "completed"
    },
    "tags": []
   },
   "outputs": [
    {
     "data": {
      "text/plain": [
       "Timestamp('2031-01-01 00:00:00')"
      ]
     },
     "execution_count": 71,
     "metadata": {},
     "output_type": "execute_result"
    }
   ],
   "source": [
    "sim_baseline.current_time"
   ]
  },
  {
   "cell_type": "code",
   "execution_count": 72,
   "id": "7b49453b",
   "metadata": {
    "papermill": {
     "duration": 0.038183,
     "end_time": "2025-03-12T03:16:20.503671",
     "exception": false,
     "start_time": "2025-03-12T03:16:20.465488",
     "status": "completed"
    },
    "tags": []
   },
   "outputs": [
    {
     "data": {
      "text/plain": [
       "Timestamp('2031-01-01 00:00:00')"
      ]
     },
     "execution_count": 72,
     "metadata": {},
     "output_type": "execute_result"
    }
   ],
   "source": [
    "sim_intervention.current_time"
   ]
  },
  {
   "cell_type": "markdown",
   "id": "97311df7",
   "metadata": {
    "papermill": {
     "duration": 0.031471,
     "end_time": "2025-03-12T03:16:20.567300",
     "exception": false,
     "start_time": "2025-03-12T03:16:20.535829",
     "status": "completed"
    },
    "tags": []
   },
   "source": [
    "We can also take a look at how the scenarios compared on the *last* timestep of the simulation."
   ]
  },
  {
   "cell_type": "code",
   "execution_count": 73,
   "id": "7cae0b83",
   "metadata": {
    "papermill": {
     "duration": 7.275911,
     "end_time": "2025-03-12T03:16:27.875155",
     "exception": false,
     "start_time": "2025-03-12T03:16:20.599244",
     "status": "completed"
    },
    "tags": []
   },
   "outputs": [
    {
     "name": "stdout",
     "output_type": "stream",
     "text": [
      "Difference in covered_by_sqlns:\n"
     ]
    },
    {
     "data": {
      "text/html": [
       "<div>\n",
       "<style scoped>\n",
       "    .dataframe tbody tr th:only-of-type {\n",
       "        vertical-align: middle;\n",
       "    }\n",
       "\n",
       "    .dataframe tbody tr th {\n",
       "        vertical-align: top;\n",
       "    }\n",
       "\n",
       "    .dataframe thead th {\n",
       "        text-align: right;\n",
       "    }\n",
       "</style>\n",
       "<table border=\"1\" class=\"dataframe\">\n",
       "  <thead>\n",
       "    <tr style=\"text-align: right;\">\n",
       "      <th></th>\n",
       "      <th>covered_by_sqlns_baseline</th>\n",
       "      <th>covered_by_sqlns_intervention</th>\n",
       "      <th>diarrheal_diseases_baseline</th>\n",
       "      <th>diarrheal_diseases_intervention</th>\n",
       "      <th>child_wasting_baseline</th>\n",
       "      <th>child_wasting_intervention</th>\n",
       "    </tr>\n",
       "  </thead>\n",
       "  <tbody>\n",
       "    <tr>\n",
       "      <th>182</th>\n",
       "      <td>False</td>\n",
       "      <td>True</td>\n",
       "      <td>susceptible_to_diarrheal_diseases</td>\n",
       "      <td>susceptible_to_diarrheal_diseases</td>\n",
       "      <td>Unexposed</td>\n",
       "      <td>Unexposed</td>\n",
       "    </tr>\n",
       "    <tr>\n",
       "      <th>255</th>\n",
       "      <td>False</td>\n",
       "      <td>True</td>\n",
       "      <td>susceptible_to_diarrheal_diseases</td>\n",
       "      <td>susceptible_to_diarrheal_diseases</td>\n",
       "      <td>Unexposed</td>\n",
       "      <td>Unexposed</td>\n",
       "    </tr>\n",
       "    <tr>\n",
       "      <th>290</th>\n",
       "      <td>False</td>\n",
       "      <td>True</td>\n",
       "      <td>susceptible_to_diarrheal_diseases</td>\n",
       "      <td>susceptible_to_diarrheal_diseases</td>\n",
       "      <td>Unexposed</td>\n",
       "      <td>Unexposed</td>\n",
       "    </tr>\n",
       "    <tr>\n",
       "      <th>328</th>\n",
       "      <td>False</td>\n",
       "      <td>True</td>\n",
       "      <td>susceptible_to_diarrheal_diseases</td>\n",
       "      <td>susceptible_to_diarrheal_diseases</td>\n",
       "      <td>Unexposed</td>\n",
       "      <td>Unexposed</td>\n",
       "    </tr>\n",
       "    <tr>\n",
       "      <th>339</th>\n",
       "      <td>False</td>\n",
       "      <td>True</td>\n",
       "      <td>susceptible_to_diarrheal_diseases</td>\n",
       "      <td>susceptible_to_diarrheal_diseases</td>\n",
       "      <td>Unexposed</td>\n",
       "      <td>Unexposed</td>\n",
       "    </tr>\n",
       "    <tr>\n",
       "      <th>...</th>\n",
       "      <td>...</td>\n",
       "      <td>...</td>\n",
       "      <td>...</td>\n",
       "      <td>...</td>\n",
       "      <td>...</td>\n",
       "      <td>...</td>\n",
       "    </tr>\n",
       "    <tr>\n",
       "      <th>2088372</th>\n",
       "      <td>False</td>\n",
       "      <td>True</td>\n",
       "      <td>susceptible_to_diarrheal_diseases</td>\n",
       "      <td>susceptible_to_diarrheal_diseases</td>\n",
       "      <td>Unexposed</td>\n",
       "      <td>Unexposed</td>\n",
       "    </tr>\n",
       "    <tr>\n",
       "      <th>2088373</th>\n",
       "      <td>False</td>\n",
       "      <td>True</td>\n",
       "      <td>susceptible_to_diarrheal_diseases</td>\n",
       "      <td>susceptible_to_diarrheal_diseases</td>\n",
       "      <td>Unexposed</td>\n",
       "      <td>Unexposed</td>\n",
       "    </tr>\n",
       "    <tr>\n",
       "      <th>2088374</th>\n",
       "      <td>False</td>\n",
       "      <td>True</td>\n",
       "      <td>susceptible_to_diarrheal_diseases</td>\n",
       "      <td>susceptible_to_diarrheal_diseases</td>\n",
       "      <td>Unexposed</td>\n",
       "      <td>Unexposed</td>\n",
       "    </tr>\n",
       "    <tr>\n",
       "      <th>2088375</th>\n",
       "      <td>False</td>\n",
       "      <td>True</td>\n",
       "      <td>susceptible_to_diarrheal_diseases</td>\n",
       "      <td>susceptible_to_diarrheal_diseases</td>\n",
       "      <td>Unexposed</td>\n",
       "      <td>Unexposed</td>\n",
       "    </tr>\n",
       "    <tr>\n",
       "      <th>2088376</th>\n",
       "      <td>False</td>\n",
       "      <td>True</td>\n",
       "      <td>susceptible_to_diarrheal_diseases</td>\n",
       "      <td>susceptible_to_diarrheal_diseases</td>\n",
       "      <td>Unexposed</td>\n",
       "      <td>Unexposed</td>\n",
       "    </tr>\n",
       "  </tbody>\n",
       "</table>\n",
       "<p>599329 rows × 6 columns</p>\n",
       "</div>"
      ],
      "text/plain": [
       "         covered_by_sqlns_baseline  covered_by_sqlns_intervention  \\\n",
       "182                          False                           True   \n",
       "255                          False                           True   \n",
       "290                          False                           True   \n",
       "328                          False                           True   \n",
       "339                          False                           True   \n",
       "...                            ...                            ...   \n",
       "2088372                      False                           True   \n",
       "2088373                      False                           True   \n",
       "2088374                      False                           True   \n",
       "2088375                      False                           True   \n",
       "2088376                      False                           True   \n",
       "\n",
       "               diarrheal_diseases_baseline    diarrheal_diseases_intervention  \\\n",
       "182      susceptible_to_diarrheal_diseases  susceptible_to_diarrheal_diseases   \n",
       "255      susceptible_to_diarrheal_diseases  susceptible_to_diarrheal_diseases   \n",
       "290      susceptible_to_diarrheal_diseases  susceptible_to_diarrheal_diseases   \n",
       "328      susceptible_to_diarrheal_diseases  susceptible_to_diarrheal_diseases   \n",
       "339      susceptible_to_diarrheal_diseases  susceptible_to_diarrheal_diseases   \n",
       "...                                    ...                                ...   \n",
       "2088372  susceptible_to_diarrheal_diseases  susceptible_to_diarrheal_diseases   \n",
       "2088373  susceptible_to_diarrheal_diseases  susceptible_to_diarrheal_diseases   \n",
       "2088374  susceptible_to_diarrheal_diseases  susceptible_to_diarrheal_diseases   \n",
       "2088375  susceptible_to_diarrheal_diseases  susceptible_to_diarrheal_diseases   \n",
       "2088376  susceptible_to_diarrheal_diseases  susceptible_to_diarrheal_diseases   \n",
       "\n",
       "        child_wasting_baseline child_wasting_intervention  \n",
       "182                  Unexposed                  Unexposed  \n",
       "255                  Unexposed                  Unexposed  \n",
       "290                  Unexposed                  Unexposed  \n",
       "328                  Unexposed                  Unexposed  \n",
       "339                  Unexposed                  Unexposed  \n",
       "...                        ...                        ...  \n",
       "2088372              Unexposed                  Unexposed  \n",
       "2088373              Unexposed                  Unexposed  \n",
       "2088374              Unexposed                  Unexposed  \n",
       "2088375              Unexposed                  Unexposed  \n",
       "2088376              Unexposed                  Unexposed  \n",
       "\n",
       "[599329 rows x 6 columns]"
      ]
     },
     "metadata": {},
     "output_type": "display_data"
    },
    {
     "name": "stdout",
     "output_type": "stream",
     "text": [
      "Difference in diarrheal_diseases:\n"
     ]
    },
    {
     "data": {
      "text/html": [
       "<div>\n",
       "<style scoped>\n",
       "    .dataframe tbody tr th:only-of-type {\n",
       "        vertical-align: middle;\n",
       "    }\n",
       "\n",
       "    .dataframe tbody tr th {\n",
       "        vertical-align: top;\n",
       "    }\n",
       "\n",
       "    .dataframe thead th {\n",
       "        text-align: right;\n",
       "    }\n",
       "</style>\n",
       "<table border=\"1\" class=\"dataframe\">\n",
       "  <thead>\n",
       "    <tr style=\"text-align: right;\">\n",
       "      <th></th>\n",
       "      <th>covered_by_sqlns_baseline</th>\n",
       "      <th>covered_by_sqlns_intervention</th>\n",
       "      <th>diarrheal_diseases_baseline</th>\n",
       "      <th>diarrheal_diseases_intervention</th>\n",
       "      <th>child_wasting_baseline</th>\n",
       "      <th>child_wasting_intervention</th>\n",
       "    </tr>\n",
       "  </thead>\n",
       "  <tbody>\n",
       "    <tr>\n",
       "      <th>1667125</th>\n",
       "      <td>False</td>\n",
       "      <td>True</td>\n",
       "      <td>diarrheal_diseases</td>\n",
       "      <td>susceptible_to_diarrheal_diseases</td>\n",
       "      <td>Severe Wasting, &lt; -3 SD (post-ensemble)</td>\n",
       "      <td>Wasting Between -2 SD and -1 SD (post-ensemble)</td>\n",
       "    </tr>\n",
       "    <tr>\n",
       "      <th>1819741</th>\n",
       "      <td>False</td>\n",
       "      <td>True</td>\n",
       "      <td>diarrheal_diseases</td>\n",
       "      <td>susceptible_to_diarrheal_diseases</td>\n",
       "      <td>Severe Wasting, &lt; -3 SD (post-ensemble)</td>\n",
       "      <td>Wasting Between -2 SD and -1 SD (post-ensemble)</td>\n",
       "    </tr>\n",
       "    <tr>\n",
       "      <th>2023736</th>\n",
       "      <td>False</td>\n",
       "      <td>True</td>\n",
       "      <td>diarrheal_diseases</td>\n",
       "      <td>susceptible_to_diarrheal_diseases</td>\n",
       "      <td>Wasting Between -3 SD and -2 SD (post-ensemble)</td>\n",
       "      <td>Wasting Between -2 SD and -1 SD (post-ensemble)</td>\n",
       "    </tr>\n",
       "    <tr>\n",
       "      <th>2033445</th>\n",
       "      <td>False</td>\n",
       "      <td>True</td>\n",
       "      <td>diarrheal_diseases</td>\n",
       "      <td>susceptible_to_diarrheal_diseases</td>\n",
       "      <td>Severe Wasting, &lt; -3 SD (post-ensemble)</td>\n",
       "      <td>Wasting Between -2 SD and -1 SD (post-ensemble)</td>\n",
       "    </tr>\n",
       "    <tr>\n",
       "      <th>2058386</th>\n",
       "      <td>False</td>\n",
       "      <td>True</td>\n",
       "      <td>diarrheal_diseases</td>\n",
       "      <td>susceptible_to_diarrheal_diseases</td>\n",
       "      <td>Wasting Between -3 SD and -2 SD (post-ensemble)</td>\n",
       "      <td>Wasting Between -2 SD and -1 SD (post-ensemble)</td>\n",
       "    </tr>\n",
       "    <tr>\n",
       "      <th>2059031</th>\n",
       "      <td>False</td>\n",
       "      <td>True</td>\n",
       "      <td>diarrheal_diseases</td>\n",
       "      <td>susceptible_to_diarrheal_diseases</td>\n",
       "      <td>Wasting Between -3 SD and -2 SD (post-ensemble)</td>\n",
       "      <td>Wasting Between -2 SD and -1 SD (post-ensemble)</td>\n",
       "    </tr>\n",
       "  </tbody>\n",
       "</table>\n",
       "</div>"
      ],
      "text/plain": [
       "         covered_by_sqlns_baseline  covered_by_sqlns_intervention  \\\n",
       "1667125                      False                           True   \n",
       "1819741                      False                           True   \n",
       "2023736                      False                           True   \n",
       "2033445                      False                           True   \n",
       "2058386                      False                           True   \n",
       "2059031                      False                           True   \n",
       "\n",
       "        diarrheal_diseases_baseline    diarrheal_diseases_intervention  \\\n",
       "1667125          diarrheal_diseases  susceptible_to_diarrheal_diseases   \n",
       "1819741          diarrheal_diseases  susceptible_to_diarrheal_diseases   \n",
       "2023736          diarrheal_diseases  susceptible_to_diarrheal_diseases   \n",
       "2033445          diarrheal_diseases  susceptible_to_diarrheal_diseases   \n",
       "2058386          diarrheal_diseases  susceptible_to_diarrheal_diseases   \n",
       "2059031          diarrheal_diseases  susceptible_to_diarrheal_diseases   \n",
       "\n",
       "                                  child_wasting_baseline  \\\n",
       "1667125          Severe Wasting, < -3 SD (post-ensemble)   \n",
       "1819741          Severe Wasting, < -3 SD (post-ensemble)   \n",
       "2023736  Wasting Between -3 SD and -2 SD (post-ensemble)   \n",
       "2033445          Severe Wasting, < -3 SD (post-ensemble)   \n",
       "2058386  Wasting Between -3 SD and -2 SD (post-ensemble)   \n",
       "2059031  Wasting Between -3 SD and -2 SD (post-ensemble)   \n",
       "\n",
       "                              child_wasting_intervention  \n",
       "1667125  Wasting Between -2 SD and -1 SD (post-ensemble)  \n",
       "1819741  Wasting Between -2 SD and -1 SD (post-ensemble)  \n",
       "2023736  Wasting Between -2 SD and -1 SD (post-ensemble)  \n",
       "2033445  Wasting Between -2 SD and -1 SD (post-ensemble)  \n",
       "2058386  Wasting Between -2 SD and -1 SD (post-ensemble)  \n",
       "2059031  Wasting Between -2 SD and -1 SD (post-ensemble)  "
      ]
     },
     "metadata": {},
     "output_type": "display_data"
    },
    {
     "name": "stdout",
     "output_type": "stream",
     "text": [
      "Difference in child_wasting:\n"
     ]
    },
    {
     "data": {
      "text/html": [
       "<div>\n",
       "<style scoped>\n",
       "    .dataframe tbody tr th:only-of-type {\n",
       "        vertical-align: middle;\n",
       "    }\n",
       "\n",
       "    .dataframe tbody tr th {\n",
       "        vertical-align: top;\n",
       "    }\n",
       "\n",
       "    .dataframe thead th {\n",
       "        text-align: right;\n",
       "    }\n",
       "</style>\n",
       "<table border=\"1\" class=\"dataframe\">\n",
       "  <thead>\n",
       "    <tr style=\"text-align: right;\">\n",
       "      <th></th>\n",
       "      <th>covered_by_sqlns_baseline</th>\n",
       "      <th>covered_by_sqlns_intervention</th>\n",
       "      <th>diarrheal_diseases_baseline</th>\n",
       "      <th>diarrheal_diseases_intervention</th>\n",
       "      <th>child_wasting_baseline</th>\n",
       "      <th>child_wasting_intervention</th>\n",
       "    </tr>\n",
       "  </thead>\n",
       "  <tbody>\n",
       "    <tr>\n",
       "      <th>1345</th>\n",
       "      <td>False</td>\n",
       "      <td>True</td>\n",
       "      <td>susceptible_to_diarrheal_diseases</td>\n",
       "      <td>susceptible_to_diarrheal_diseases</td>\n",
       "      <td>Wasting Between -3 SD and -2 SD (post-ensemble)</td>\n",
       "      <td>Wasting Between -2 SD and -1 SD (post-ensemble)</td>\n",
       "    </tr>\n",
       "    <tr>\n",
       "      <th>2795</th>\n",
       "      <td>False</td>\n",
       "      <td>True</td>\n",
       "      <td>susceptible_to_diarrheal_diseases</td>\n",
       "      <td>susceptible_to_diarrheal_diseases</td>\n",
       "      <td>Wasting Between -3 SD and -2 SD (post-ensemble)</td>\n",
       "      <td>Wasting Between -2 SD and -1 SD (post-ensemble)</td>\n",
       "    </tr>\n",
       "    <tr>\n",
       "      <th>4946</th>\n",
       "      <td>False</td>\n",
       "      <td>True</td>\n",
       "      <td>diarrheal_diseases</td>\n",
       "      <td>diarrheal_diseases</td>\n",
       "      <td>Wasting Between -3 SD and -2 SD (post-ensemble)</td>\n",
       "      <td>Wasting Between -2 SD and -1 SD (post-ensemble)</td>\n",
       "    </tr>\n",
       "    <tr>\n",
       "      <th>12524</th>\n",
       "      <td>False</td>\n",
       "      <td>True</td>\n",
       "      <td>susceptible_to_diarrheal_diseases</td>\n",
       "      <td>susceptible_to_diarrheal_diseases</td>\n",
       "      <td>Wasting Between -3 SD and -2 SD (post-ensemble)</td>\n",
       "      <td>Wasting Between -2 SD and -1 SD (post-ensemble)</td>\n",
       "    </tr>\n",
       "    <tr>\n",
       "      <th>12613</th>\n",
       "      <td>False</td>\n",
       "      <td>True</td>\n",
       "      <td>diarrheal_diseases</td>\n",
       "      <td>diarrheal_diseases</td>\n",
       "      <td>Wasting Between -3 SD and -2 SD (post-ensemble)</td>\n",
       "      <td>Wasting Between -2 SD and -1 SD (post-ensemble)</td>\n",
       "    </tr>\n",
       "    <tr>\n",
       "      <th>...</th>\n",
       "      <td>...</td>\n",
       "      <td>...</td>\n",
       "      <td>...</td>\n",
       "      <td>...</td>\n",
       "      <td>...</td>\n",
       "      <td>...</td>\n",
       "    </tr>\n",
       "    <tr>\n",
       "      <th>2067703</th>\n",
       "      <td>False</td>\n",
       "      <td>True</td>\n",
       "      <td>susceptible_to_diarrheal_diseases</td>\n",
       "      <td>susceptible_to_diarrheal_diseases</td>\n",
       "      <td>Severe Wasting, &lt; -3 SD (post-ensemble)</td>\n",
       "      <td>Wasting Between -2 SD and -1 SD (post-ensemble)</td>\n",
       "    </tr>\n",
       "    <tr>\n",
       "      <th>2067733</th>\n",
       "      <td>False</td>\n",
       "      <td>True</td>\n",
       "      <td>susceptible_to_diarrheal_diseases</td>\n",
       "      <td>susceptible_to_diarrheal_diseases</td>\n",
       "      <td>Wasting Between -3 SD and -2 SD (post-ensemble)</td>\n",
       "      <td>Wasting Between -2 SD and -1 SD (post-ensemble)</td>\n",
       "    </tr>\n",
       "    <tr>\n",
       "      <th>2067826</th>\n",
       "      <td>False</td>\n",
       "      <td>True</td>\n",
       "      <td>diarrheal_diseases</td>\n",
       "      <td>diarrheal_diseases</td>\n",
       "      <td>Wasting Between -3 SD and -2 SD (post-ensemble)</td>\n",
       "      <td>Wasting Between -2 SD and -1 SD (post-ensemble)</td>\n",
       "    </tr>\n",
       "    <tr>\n",
       "      <th>2067903</th>\n",
       "      <td>False</td>\n",
       "      <td>True</td>\n",
       "      <td>diarrheal_diseases</td>\n",
       "      <td>diarrheal_diseases</td>\n",
       "      <td>Wasting Between -3 SD and -2 SD (post-ensemble)</td>\n",
       "      <td>Wasting Between -2 SD and -1 SD (post-ensemble)</td>\n",
       "    </tr>\n",
       "    <tr>\n",
       "      <th>2067956</th>\n",
       "      <td>False</td>\n",
       "      <td>True</td>\n",
       "      <td>susceptible_to_diarrheal_diseases</td>\n",
       "      <td>susceptible_to_diarrheal_diseases</td>\n",
       "      <td>Wasting Between -3 SD and -2 SD (post-ensemble)</td>\n",
       "      <td>Wasting Between -2 SD and -1 SD (post-ensemble)</td>\n",
       "    </tr>\n",
       "  </tbody>\n",
       "</table>\n",
       "<p>8174 rows × 6 columns</p>\n",
       "</div>"
      ],
      "text/plain": [
       "         covered_by_sqlns_baseline  covered_by_sqlns_intervention  \\\n",
       "1345                         False                           True   \n",
       "2795                         False                           True   \n",
       "4946                         False                           True   \n",
       "12524                        False                           True   \n",
       "12613                        False                           True   \n",
       "...                            ...                            ...   \n",
       "2067703                      False                           True   \n",
       "2067733                      False                           True   \n",
       "2067826                      False                           True   \n",
       "2067903                      False                           True   \n",
       "2067956                      False                           True   \n",
       "\n",
       "               diarrheal_diseases_baseline    diarrheal_diseases_intervention  \\\n",
       "1345     susceptible_to_diarrheal_diseases  susceptible_to_diarrheal_diseases   \n",
       "2795     susceptible_to_diarrheal_diseases  susceptible_to_diarrheal_diseases   \n",
       "4946                    diarrheal_diseases                 diarrheal_diseases   \n",
       "12524    susceptible_to_diarrheal_diseases  susceptible_to_diarrheal_diseases   \n",
       "12613                   diarrheal_diseases                 diarrheal_diseases   \n",
       "...                                    ...                                ...   \n",
       "2067703  susceptible_to_diarrheal_diseases  susceptible_to_diarrheal_diseases   \n",
       "2067733  susceptible_to_diarrheal_diseases  susceptible_to_diarrheal_diseases   \n",
       "2067826                 diarrheal_diseases                 diarrheal_diseases   \n",
       "2067903                 diarrheal_diseases                 diarrheal_diseases   \n",
       "2067956  susceptible_to_diarrheal_diseases  susceptible_to_diarrheal_diseases   \n",
       "\n",
       "                                  child_wasting_baseline  \\\n",
       "1345     Wasting Between -3 SD and -2 SD (post-ensemble)   \n",
       "2795     Wasting Between -3 SD and -2 SD (post-ensemble)   \n",
       "4946     Wasting Between -3 SD and -2 SD (post-ensemble)   \n",
       "12524    Wasting Between -3 SD and -2 SD (post-ensemble)   \n",
       "12613    Wasting Between -3 SD and -2 SD (post-ensemble)   \n",
       "...                                                  ...   \n",
       "2067703          Severe Wasting, < -3 SD (post-ensemble)   \n",
       "2067733  Wasting Between -3 SD and -2 SD (post-ensemble)   \n",
       "2067826  Wasting Between -3 SD and -2 SD (post-ensemble)   \n",
       "2067903  Wasting Between -3 SD and -2 SD (post-ensemble)   \n",
       "2067956  Wasting Between -3 SD and -2 SD (post-ensemble)   \n",
       "\n",
       "                              child_wasting_intervention  \n",
       "1345     Wasting Between -2 SD and -1 SD (post-ensemble)  \n",
       "2795     Wasting Between -2 SD and -1 SD (post-ensemble)  \n",
       "4946     Wasting Between -2 SD and -1 SD (post-ensemble)  \n",
       "12524    Wasting Between -2 SD and -1 SD (post-ensemble)  \n",
       "12613    Wasting Between -2 SD and -1 SD (post-ensemble)  \n",
       "...                                                  ...  \n",
       "2067703  Wasting Between -2 SD and -1 SD (post-ensemble)  \n",
       "2067733  Wasting Between -2 SD and -1 SD (post-ensemble)  \n",
       "2067826  Wasting Between -2 SD and -1 SD (post-ensemble)  \n",
       "2067903  Wasting Between -2 SD and -1 SD (post-ensemble)  \n",
       "2067956  Wasting Between -2 SD and -1 SD (post-ensemble)  \n",
       "\n",
       "[8174 rows x 6 columns]"
      ]
     },
     "metadata": {},
     "output_type": "display_data"
    }
   ],
   "source": [
    "compare_scenarios(sim_baseline, sim_intervention)"
   ]
  },
  {
   "cell_type": "markdown",
   "id": "7645a98f",
   "metadata": {
    "papermill": {
     "duration": 0.031978,
     "end_time": "2025-03-12T03:16:27.940595",
     "exception": false,
     "start_time": "2025-03-12T03:16:27.908617",
     "status": "completed"
    },
    "tags": []
   },
   "source": [
    "## Analyzing results\n",
    "\n",
    "Now we can look at results over the duration of the simulation, rather than just the population\n",
    "table at a single point in time.\n",
    "\n",
    "Calling `.get_results()` on our simulation object returns a dictionary of results."
   ]
  },
  {
   "cell_type": "code",
   "execution_count": 74,
   "id": "3939e39b",
   "metadata": {
    "papermill": {
     "duration": 0.054766,
     "end_time": "2025-03-12T03:16:28.027329",
     "exception": false,
     "start_time": "2025-03-12T03:16:27.972563",
     "status": "completed"
    },
    "tags": []
   },
   "outputs": [
    {
     "data": {
      "text/plain": [
       "{'ylds':   measure entity_type              entity          sub_entity stratification  \\\n",
       " 0    ylds       cause  diarrheal_diseases  diarrheal_diseases            all   \n",
       " 1    ylds       cause          all_causes          all_causes            all   \n",
       " \n",
       "           value  \n",
       " 0  12471.885614  \n",
       " 1  12471.885614  ,\n",
       " 'deaths':   measure entity_type              entity          sub_entity    value\n",
       " 0  deaths       cause  diarrheal_diseases  diarrheal_diseases   9450.0\n",
       " 1  deaths       cause        other_causes        other_causes  85329.0,\n",
       " 'ylls':   measure entity_type              entity          sub_entity         value\n",
       " 0    ylls       cause  diarrheal_diseases  diarrheal_diseases  8.439666e+05\n",
       " 1    ylls       cause        other_causes        other_causes  7.655445e+06}"
      ]
     },
     "execution_count": 74,
     "metadata": {},
     "output_type": "execute_result"
    }
   ],
   "source": [
    "baseline_results = sim_baseline.get_results()\n",
    "baseline_results"
   ]
  },
  {
   "cell_type": "code",
   "execution_count": 75,
   "id": "87887f9d",
   "metadata": {
    "papermill": {
     "duration": 0.048575,
     "end_time": "2025-03-12T03:16:28.107985",
     "exception": false,
     "start_time": "2025-03-12T03:16:28.059410",
     "status": "completed"
    },
    "tags": []
   },
   "outputs": [],
   "source": [
    "intervention_results = sim_intervention.get_results()"
   ]
  },
  {
   "cell_type": "markdown",
   "id": "cb674337",
   "metadata": {
    "papermill": {
     "duration": 0.032417,
     "end_time": "2025-03-12T03:16:28.172793",
     "exception": false,
     "start_time": "2025-03-12T03:16:28.140376",
     "status": "completed"
    },
    "tags": []
   },
   "source": [
    "It's easier to look at each type of result one at a time."
   ]
  },
  {
   "cell_type": "code",
   "execution_count": 76,
   "id": "650057b0",
   "metadata": {
    "papermill": {
     "duration": 0.037796,
     "end_time": "2025-03-12T03:16:28.242346",
     "exception": false,
     "start_time": "2025-03-12T03:16:28.204550",
     "status": "completed"
    },
    "tags": []
   },
   "outputs": [
    {
     "data": {
      "text/plain": [
       "dict_keys(['ylds', 'deaths', 'ylls'])"
      ]
     },
     "execution_count": 76,
     "metadata": {},
     "output_type": "execute_result"
    }
   ],
   "source": [
    "baseline_results.keys()"
   ]
  },
  {
   "cell_type": "code",
   "execution_count": 77,
   "id": "4c7fbf1b",
   "metadata": {
    "papermill": {
     "duration": 0.038839,
     "end_time": "2025-03-12T03:16:28.313175",
     "exception": false,
     "start_time": "2025-03-12T03:16:28.274336",
     "status": "completed"
    },
    "tags": []
   },
   "outputs": [
    {
     "data": {
      "text/plain": [
       "dict_keys(['ylds', 'deaths', 'ylls'])"
      ]
     },
     "execution_count": 77,
     "metadata": {},
     "output_type": "execute_result"
    }
   ],
   "source": [
    "intervention_results.keys()"
   ]
  },
  {
   "cell_type": "markdown",
   "id": "713bbb2b",
   "metadata": {
    "papermill": {
     "duration": 0.032212,
     "end_time": "2025-03-12T03:16:28.378762",
     "exception": false,
     "start_time": "2025-03-12T03:16:28.346550",
     "status": "completed"
    },
    "tags": []
   },
   "source": [
    "These results are recorded by the **observer** components we included in the simulation.\n",
    "The `DisabilityObserver` and `MortalityObserver` produce the results about the YLDs and YLLs,\n",
    "respectively.\n",
    "\n",
    "Looking at the YLDs first, we can see that there is an entity called `all_causes`."
   ]
  },
  {
   "cell_type": "code",
   "execution_count": 78,
   "id": "fdb26e24",
   "metadata": {
    "papermill": {
     "duration": 0.041308,
     "end_time": "2025-03-12T03:16:28.451900",
     "exception": false,
     "start_time": "2025-03-12T03:16:28.410592",
     "status": "completed"
    },
    "tags": []
   },
   "outputs": [
    {
     "data": {
      "text/html": [
       "<div>\n",
       "<style scoped>\n",
       "    .dataframe tbody tr th:only-of-type {\n",
       "        vertical-align: middle;\n",
       "    }\n",
       "\n",
       "    .dataframe tbody tr th {\n",
       "        vertical-align: top;\n",
       "    }\n",
       "\n",
       "    .dataframe thead th {\n",
       "        text-align: right;\n",
       "    }\n",
       "</style>\n",
       "<table border=\"1\" class=\"dataframe\">\n",
       "  <thead>\n",
       "    <tr style=\"text-align: right;\">\n",
       "      <th></th>\n",
       "      <th>measure</th>\n",
       "      <th>entity_type</th>\n",
       "      <th>entity</th>\n",
       "      <th>sub_entity</th>\n",
       "      <th>stratification</th>\n",
       "      <th>value</th>\n",
       "    </tr>\n",
       "  </thead>\n",
       "  <tbody>\n",
       "    <tr>\n",
       "      <th>0</th>\n",
       "      <td>ylds</td>\n",
       "      <td>cause</td>\n",
       "      <td>diarrheal_diseases</td>\n",
       "      <td>diarrheal_diseases</td>\n",
       "      <td>all</td>\n",
       "      <td>12471.885614</td>\n",
       "    </tr>\n",
       "    <tr>\n",
       "      <th>1</th>\n",
       "      <td>ylds</td>\n",
       "      <td>cause</td>\n",
       "      <td>all_causes</td>\n",
       "      <td>all_causes</td>\n",
       "      <td>all</td>\n",
       "      <td>12471.885614</td>\n",
       "    </tr>\n",
       "  </tbody>\n",
       "</table>\n",
       "</div>"
      ],
      "text/plain": [
       "  measure entity_type              entity          sub_entity stratification  \\\n",
       "0    ylds       cause  diarrheal_diseases  diarrheal_diseases            all   \n",
       "1    ylds       cause          all_causes          all_causes            all   \n",
       "\n",
       "          value  \n",
       "0  12471.885614  \n",
       "1  12471.885614  "
      ]
     },
     "execution_count": 78,
     "metadata": {},
     "output_type": "execute_result"
    }
   ],
   "source": [
    "baseline_results[\"ylds\"]"
   ]
  },
  {
   "cell_type": "markdown",
   "id": "badb2536",
   "metadata": {
    "papermill": {
     "duration": 0.031636,
     "end_time": "2025-03-12T03:16:28.515390",
     "exception": false,
     "start_time": "2025-03-12T03:16:28.483754",
     "status": "completed"
    },
    "tags": []
   },
   "source": [
    "This aggregates the YLDs from all causes together; in our case, there is only one cause,\n",
    "so this is redundant. We'll filter it out and sum the values."
   ]
  },
  {
   "cell_type": "code",
   "execution_count": 79,
   "id": "47118be2",
   "metadata": {
    "papermill": {
     "duration": 0.036618,
     "end_time": "2025-03-12T03:16:28.583019",
     "exception": false,
     "start_time": "2025-03-12T03:16:28.546401",
     "status": "completed"
    },
    "tags": []
   },
   "outputs": [],
   "source": [
    "def total_ylds(ylds_df):\n",
    "    ylds_df = ylds_df[ylds_df.entity != \"all_causes\"]\n",
    "    return ylds_df.value.sum()"
   ]
  },
  {
   "cell_type": "code",
   "execution_count": 80,
   "id": "6bd4bf49",
   "metadata": {
    "papermill": {
     "duration": 0.038907,
     "end_time": "2025-03-12T03:16:28.654386",
     "exception": false,
     "start_time": "2025-03-12T03:16:28.615479",
     "status": "completed"
    },
    "tags": []
   },
   "outputs": [
    {
     "data": {
      "text/plain": [
       "12471.885613629956"
      ]
     },
     "execution_count": 80,
     "metadata": {},
     "output_type": "execute_result"
    }
   ],
   "source": [
    "total_ylds(baseline_results[\"ylds\"])"
   ]
  },
  {
   "cell_type": "code",
   "execution_count": 81,
   "id": "2e9837d8",
   "metadata": {
    "papermill": {
     "duration": 0.038479,
     "end_time": "2025-03-12T03:16:28.726250",
     "exception": false,
     "start_time": "2025-03-12T03:16:28.687771",
     "status": "completed"
    },
    "tags": []
   },
   "outputs": [
    {
     "data": {
      "text/plain": [
       "12467.30154145267"
      ]
     },
     "execution_count": 81,
     "metadata": {},
     "output_type": "execute_result"
    }
   ],
   "source": [
    "total_ylds(intervention_results[\"ylds\"])"
   ]
  },
  {
   "cell_type": "code",
   "execution_count": 82,
   "id": "d937c847",
   "metadata": {
    "papermill": {
     "duration": 0.039426,
     "end_time": "2025-03-12T03:16:28.797549",
     "exception": false,
     "start_time": "2025-03-12T03:16:28.758123",
     "status": "completed"
    },
    "tags": []
   },
   "outputs": [
    {
     "data": {
      "text/plain": [
       "4.584072177285634"
      ]
     },
     "execution_count": 82,
     "metadata": {},
     "output_type": "execute_result"
    }
   ],
   "source": [
    "simulation_ylds_averted = total_ylds(baseline_results[\"ylds\"]) - total_ylds(intervention_results[\"ylds\"])\n",
    "simulation_ylds_averted"
   ]
  },
  {
   "cell_type": "markdown",
   "id": "491fa0da",
   "metadata": {
    "papermill": {
     "duration": 0.031807,
     "end_time": "2025-03-12T03:16:28.862557",
     "exception": false,
     "start_time": "2025-03-12T03:16:28.830750",
     "status": "completed"
    },
    "tags": []
   },
   "source": [
    "We see very slightly more YLDs -- more disease burden due to disability -- in our baseline scenario.\n",
    "\n",
    "Turning to YLLs, we see a slightly different-looking dataframe:"
   ]
  },
  {
   "cell_type": "code",
   "execution_count": 83,
   "id": "8a52b800",
   "metadata": {
    "papermill": {
     "duration": 0.041694,
     "end_time": "2025-03-12T03:16:28.936802",
     "exception": false,
     "start_time": "2025-03-12T03:16:28.895108",
     "status": "completed"
    },
    "tags": []
   },
   "outputs": [
    {
     "data": {
      "text/html": [
       "<div>\n",
       "<style scoped>\n",
       "    .dataframe tbody tr th:only-of-type {\n",
       "        vertical-align: middle;\n",
       "    }\n",
       "\n",
       "    .dataframe tbody tr th {\n",
       "        vertical-align: top;\n",
       "    }\n",
       "\n",
       "    .dataframe thead th {\n",
       "        text-align: right;\n",
       "    }\n",
       "</style>\n",
       "<table border=\"1\" class=\"dataframe\">\n",
       "  <thead>\n",
       "    <tr style=\"text-align: right;\">\n",
       "      <th></th>\n",
       "      <th>measure</th>\n",
       "      <th>entity_type</th>\n",
       "      <th>entity</th>\n",
       "      <th>sub_entity</th>\n",
       "      <th>value</th>\n",
       "    </tr>\n",
       "  </thead>\n",
       "  <tbody>\n",
       "    <tr>\n",
       "      <th>0</th>\n",
       "      <td>ylls</td>\n",
       "      <td>cause</td>\n",
       "      <td>diarrheal_diseases</td>\n",
       "      <td>diarrheal_diseases</td>\n",
       "      <td>8.439666e+05</td>\n",
       "    </tr>\n",
       "    <tr>\n",
       "      <th>1</th>\n",
       "      <td>ylls</td>\n",
       "      <td>cause</td>\n",
       "      <td>other_causes</td>\n",
       "      <td>other_causes</td>\n",
       "      <td>7.655445e+06</td>\n",
       "    </tr>\n",
       "  </tbody>\n",
       "</table>\n",
       "</div>"
      ],
      "text/plain": [
       "  measure entity_type              entity          sub_entity         value\n",
       "0    ylls       cause  diarrheal_diseases  diarrheal_diseases  8.439666e+05\n",
       "1    ylls       cause        other_causes        other_causes  7.655445e+06"
      ]
     },
     "execution_count": 83,
     "metadata": {},
     "output_type": "execute_result"
    }
   ],
   "source": [
    "baseline_results['ylls']"
   ]
  },
  {
   "cell_type": "markdown",
   "id": "aa8a1ecd",
   "metadata": {
    "papermill": {
     "duration": 0.031959,
     "end_time": "2025-03-12T03:16:29.002051",
     "exception": false,
     "start_time": "2025-03-12T03:16:28.970092",
     "status": "completed"
    },
    "tags": []
   },
   "source": [
    "Unlike disability/morbidity, our simulations capture **background** mortality --\n",
    "mortality due to causes other than those we've explicitly modeled.\n",
    "In this case, that is the majority, since diarrhea does not drive a very large proportion\n",
    "of deaths! (The values in this table are displayed in [scientific notation](https://en.wikipedia.org/wiki/Scientific_notation).)\n",
    "\n",
    "We'll want to sum diarrhea and other causes to get an overall YLL figure for each scenario."
   ]
  },
  {
   "cell_type": "code",
   "execution_count": 84,
   "id": "4dbe7297",
   "metadata": {
    "papermill": {
     "duration": 0.040039,
     "end_time": "2025-03-12T03:16:29.073598",
     "exception": false,
     "start_time": "2025-03-12T03:16:29.033559",
     "status": "completed"
    },
    "tags": []
   },
   "outputs": [
    {
     "data": {
      "text/plain": [
       "8499411.13232685"
      ]
     },
     "execution_count": 84,
     "metadata": {},
     "output_type": "execute_result"
    }
   ],
   "source": [
    "baseline_results[\"ylls\"].value.sum()"
   ]
  },
  {
   "cell_type": "code",
   "execution_count": 85,
   "id": "1a49129a",
   "metadata": {
    "papermill": {
     "duration": 0.040146,
     "end_time": "2025-03-12T03:16:29.147519",
     "exception": false,
     "start_time": "2025-03-12T03:16:29.107373",
     "status": "completed"
    },
    "tags": []
   },
   "outputs": [
    {
     "data": {
      "text/plain": [
       "8499054.509999398"
      ]
     },
     "execution_count": 85,
     "metadata": {},
     "output_type": "execute_result"
    }
   ],
   "source": [
    "intervention_results[\"ylls\"].value.sum()"
   ]
  },
  {
   "cell_type": "code",
   "execution_count": 86,
   "id": "4a763e50",
   "metadata": {
    "papermill": {
     "duration": 0.039136,
     "end_time": "2025-03-12T03:16:29.220387",
     "exception": false,
     "start_time": "2025-03-12T03:16:29.181251",
     "status": "completed"
    },
    "tags": []
   },
   "outputs": [
    {
     "data": {
      "text/plain": [
       "356.6223274525255"
      ]
     },
     "execution_count": 86,
     "metadata": {},
     "output_type": "execute_result"
    }
   ],
   "source": [
    "simulation_ylls_averted = baseline_results[\"ylls\"].value.sum() - intervention_results[\"ylls\"].value.sum()\n",
    "simulation_ylls_averted"
   ]
  },
  {
   "cell_type": "markdown",
   "id": "71572310",
   "metadata": {
    "papermill": {
     "duration": 0.032332,
     "end_time": "2025-03-12T03:16:29.285648",
     "exception": false,
     "start_time": "2025-03-12T03:16:29.253316",
     "status": "completed"
    },
    "tags": []
   },
   "source": [
    "Again, we see a slightly higher burden in our baseline scenario.\n",
    "YLLs are driven by deaths, and we can also take a look at the count\n",
    "of how many simulants died:"
   ]
  },
  {
   "cell_type": "code",
   "execution_count": 87,
   "id": "52511e30",
   "metadata": {
    "papermill": {
     "duration": 0.041829,
     "end_time": "2025-03-12T03:16:29.360674",
     "exception": false,
     "start_time": "2025-03-12T03:16:29.318845",
     "status": "completed"
    },
    "tags": []
   },
   "outputs": [
    {
     "data": {
      "text/html": [
       "<div>\n",
       "<style scoped>\n",
       "    .dataframe tbody tr th:only-of-type {\n",
       "        vertical-align: middle;\n",
       "    }\n",
       "\n",
       "    .dataframe tbody tr th {\n",
       "        vertical-align: top;\n",
       "    }\n",
       "\n",
       "    .dataframe thead th {\n",
       "        text-align: right;\n",
       "    }\n",
       "</style>\n",
       "<table border=\"1\" class=\"dataframe\">\n",
       "  <thead>\n",
       "    <tr style=\"text-align: right;\">\n",
       "      <th></th>\n",
       "      <th>measure</th>\n",
       "      <th>entity_type</th>\n",
       "      <th>entity</th>\n",
       "      <th>sub_entity</th>\n",
       "      <th>value</th>\n",
       "    </tr>\n",
       "  </thead>\n",
       "  <tbody>\n",
       "    <tr>\n",
       "      <th>0</th>\n",
       "      <td>deaths</td>\n",
       "      <td>cause</td>\n",
       "      <td>diarrheal_diseases</td>\n",
       "      <td>diarrheal_diseases</td>\n",
       "      <td>9450.0</td>\n",
       "    </tr>\n",
       "    <tr>\n",
       "      <th>1</th>\n",
       "      <td>deaths</td>\n",
       "      <td>cause</td>\n",
       "      <td>other_causes</td>\n",
       "      <td>other_causes</td>\n",
       "      <td>85329.0</td>\n",
       "    </tr>\n",
       "  </tbody>\n",
       "</table>\n",
       "</div>"
      ],
      "text/plain": [
       "  measure entity_type              entity          sub_entity    value\n",
       "0  deaths       cause  diarrheal_diseases  diarrheal_diseases   9450.0\n",
       "1  deaths       cause        other_causes        other_causes  85329.0"
      ]
     },
     "execution_count": 87,
     "metadata": {},
     "output_type": "execute_result"
    }
   ],
   "source": [
    "baseline_results[\"deaths\"]"
   ]
  },
  {
   "cell_type": "code",
   "execution_count": 88,
   "id": "94917bfd",
   "metadata": {
    "papermill": {
     "duration": 0.042369,
     "end_time": "2025-03-12T03:16:29.436605",
     "exception": false,
     "start_time": "2025-03-12T03:16:29.394236",
     "status": "completed"
    },
    "tags": []
   },
   "outputs": [
    {
     "data": {
      "text/html": [
       "<div>\n",
       "<style scoped>\n",
       "    .dataframe tbody tr th:only-of-type {\n",
       "        vertical-align: middle;\n",
       "    }\n",
       "\n",
       "    .dataframe tbody tr th {\n",
       "        vertical-align: top;\n",
       "    }\n",
       "\n",
       "    .dataframe thead th {\n",
       "        text-align: right;\n",
       "    }\n",
       "</style>\n",
       "<table border=\"1\" class=\"dataframe\">\n",
       "  <thead>\n",
       "    <tr style=\"text-align: right;\">\n",
       "      <th></th>\n",
       "      <th>measure</th>\n",
       "      <th>entity_type</th>\n",
       "      <th>entity</th>\n",
       "      <th>sub_entity</th>\n",
       "      <th>value</th>\n",
       "    </tr>\n",
       "  </thead>\n",
       "  <tbody>\n",
       "    <tr>\n",
       "      <th>0</th>\n",
       "      <td>deaths</td>\n",
       "      <td>cause</td>\n",
       "      <td>diarrheal_diseases</td>\n",
       "      <td>diarrheal_diseases</td>\n",
       "      <td>9447.0</td>\n",
       "    </tr>\n",
       "    <tr>\n",
       "      <th>1</th>\n",
       "      <td>deaths</td>\n",
       "      <td>cause</td>\n",
       "      <td>other_causes</td>\n",
       "      <td>other_causes</td>\n",
       "      <td>85328.0</td>\n",
       "    </tr>\n",
       "  </tbody>\n",
       "</table>\n",
       "</div>"
      ],
      "text/plain": [
       "  measure entity_type              entity          sub_entity    value\n",
       "0  deaths       cause  diarrheal_diseases  diarrheal_diseases   9447.0\n",
       "1  deaths       cause        other_causes        other_causes  85328.0"
      ]
     },
     "execution_count": 88,
     "metadata": {},
     "output_type": "execute_result"
    }
   ],
   "source": [
    "intervention_results[\"deaths\"]"
   ]
  },
  {
   "cell_type": "markdown",
   "id": "06be44d0",
   "metadata": {
    "papermill": {
     "duration": 0.034004,
     "end_time": "2025-03-12T03:16:29.578025",
     "exception": false,
     "start_time": "2025-03-12T03:16:29.544021",
     "status": "completed"
    },
    "tags": []
   },
   "source": [
    "The number of deaths is only different between scenarios by a handful of deaths.\n",
    "What this tells us is that our YLLs averted estimate is subject\n",
    "to a fair amount of random noise -- whether one simulant died or not had a big\n",
    "impact on our results!\n",
    "\n",
    "In other words, our \"sample size\" isn't big enough for a very precise estimate.\n",
    "We could improve this by increasing our simulated population size, though\n",
    "doing so would make our simulation run slower."
   ]
  },
  {
   "cell_type": "markdown",
   "id": "6f2c219c",
   "metadata": {},
   "source": [
    "One issue that can be confusing is that **all results we've looked at so far are within our simulated population size.**\n",
    "\n",
    "You can think of our simulation like a model airplane. It is at some *scale* -- say 1:100 -- of the real population.\n",
    "When we get results from it, we need to scale them back up to the full size of the real population, in order to make predictions\n",
    "about that real population.\n",
    "\n",
    "If we've forgotten, we can retrieve our simulated population size from our configuration object:"
   ]
  },
  {
   "cell_type": "code",
   "execution_count": 89,
   "id": "71b1af77",
   "metadata": {},
   "outputs": [
    {
     "data": {
      "text/plain": [
       "500000"
      ]
     },
     "execution_count": 89,
     "metadata": {},
     "output_type": "execute_result"
    }
   ],
   "source": [
    "simulated_population_size = configuration['population']['population_size']\n",
    "simulated_population_size"
   ]
  },
  {
   "cell_type": "markdown",
   "id": "355ca074",
   "metadata": {},
   "source": [
    "And we can get the size of the real under-2 population in Ethiopia using `vivarium_inputs` (if we're on the IHME computing cluster) like so:"
   ]
  },
  {
   "cell_type": "code",
   "execution_count": 90,
   "id": "6748517f",
   "metadata": {},
   "outputs": [
    {
     "data": {
      "text/plain": [
       "6602145.94483485"
      ]
     },
     "execution_count": 90,
     "metadata": {},
     "output_type": "execute_result"
    }
   ],
   "source": [
    "population_structure = vivarium_inputs.get_population_structure(location).reset_index()\n",
    "population_structure[population_structure.age_end <= 2].value.sum()"
   ]
  },
  {
   "attachments": {
    "image.png": {
     "image/png": "[encoded data removed]"
    }
   },
   "cell_type": "markdown",
   "id": "eb1d717e",
   "metadata": {},
   "source": [
    "Or alternatively, anyone can find this information on the GBD Results Tool ([share link](https://vizhub.healthdata.org/gbd-results?params=gbd-api-2021-permalink/b3254ad7a1f9c606410212b9b692b075)):\n",
    "\n",
    "![image.png](attachment:image.png)\n",
    "\n",
    "<div class=\"alert alert-info\">\n",
    "\n",
    "Note\n",
    "\n",
    "You may notice that we are ignoring the lower and upper bounds also listed\n",
    "in the table.\n",
    "GBD does not produce draws for population estimates, so we always use the mean.\n",
    "\n",
    "</div>"
   ]
  },
  {
   "cell_type": "code",
   "execution_count": 91,
   "id": "c8fb27e9",
   "metadata": {},
   "outputs": [
    {
     "data": {
      "text/plain": [
       "6602145.9399999995"
      ]
     },
     "execution_count": 91,
     "metadata": {},
     "output_type": "execute_result"
    }
   ],
   "source": [
    "real_population_size = 3_346_887.78 + 3_255_258.16\n",
    "real_population_size"
   ]
  },
  {
   "cell_type": "markdown",
   "id": "e31150d2",
   "metadata": {},
   "source": [
    "**Assuming the 2025-2030 average population is unchanged from 2021**,\n",
    "the ratio of these two numbers is our scaling factor."
   ]
  },
  {
   "cell_type": "code",
   "execution_count": 92,
   "id": "3ad98626",
   "metadata": {},
   "outputs": [
    {
     "data": {
      "text/plain": [
       "13.20429188"
      ]
     },
     "execution_count": 92,
     "metadata": {},
     "output_type": "execute_result"
    }
   ],
   "source": [
    "scaling_factor = real_population_size / simulated_population_size\n",
    "scaling_factor"
   ]
  },
  {
   "cell_type": "markdown",
   "id": "ae3a34ba",
   "metadata": {},
   "source": [
    "And now we can calculate YLDs, YLLs, and DALYs averted scaled by this factor."
   ]
  },
  {
   "cell_type": "code",
   "execution_count": 93,
   "id": "d9b7491d",
   "metadata": {},
   "outputs": [
    {
     "data": {
      "text/plain": [
       "60.52942702786662"
      ]
     },
     "execution_count": 93,
     "metadata": {},
     "output_type": "execute_result"
    }
   ],
   "source": [
    "predicted_ylds_averted = simulation_ylds_averted * scaling_factor\n",
    "predicted_ylds_averted"
   ]
  },
  {
   "cell_type": "code",
   "execution_count": 94,
   "id": "e2cc845e",
   "metadata": {},
   "outputs": [
    {
     "data": {
      "text/plain": [
       "4708.945302608084"
      ]
     },
     "execution_count": 94,
     "metadata": {},
     "output_type": "execute_result"
    }
   ],
   "source": [
    "predicted_ylls_averted = simulation_ylls_averted * scaling_factor\n",
    "predicted_ylls_averted"
   ]
  },
  {
   "cell_type": "code",
   "execution_count": 95,
   "id": "30796329",
   "metadata": {},
   "outputs": [
    {
     "data": {
      "text/plain": [
       "4769.47472963595"
      ]
     },
     "execution_count": 95,
     "metadata": {},
     "output_type": "execute_result"
    }
   ],
   "source": [
    "predicted_dalys_averted = predicted_ylds_averted + predicted_ylls_averted\n",
    "predicted_dalys_averted"
   ]
  },
  {
   "cell_type": "markdown",
   "id": "a45a8d45",
   "metadata": {
    "papermill": {
     "duration": 0.032734,
     "end_time": "2025-03-12T03:16:29.643806",
     "exception": false,
     "start_time": "2025-03-12T03:16:29.611072",
     "status": "completed"
    },
    "tags": []
   },
   "source": [
    "## Presenting results\n",
    "\n",
    "We now have estimated an answer to our research question!\n",
    "Let's communicate it to our \"client.\"\n",
    "In a realistic scenario, we'd typically create some data visualizations\n",
    "showing a lot of information -- perhaps broken down by age, by sex,\n",
    "by location, or exploring multiple sets of scenarios.\n",
    "\n",
    "Here, we've only recorded a small set of results. We might write:\n",
    "\n",
    "> According to our simulation, delivering SQ-LNS to all eligible children in\n",
    "> Ethiopia starting in 2025 would avert **4,800** DALYs by 2030."
   ]
  },
  {
   "cell_type": "markdown",
   "id": "8d8d1eb6",
   "metadata": {
    "papermill": {
     "duration": 0.033504,
     "end_time": "2025-03-12T03:16:29.711313",
     "exception": false,
     "start_time": "2025-03-12T03:16:29.677809",
     "status": "completed"
    },
    "tags": []
   },
   "source": [
    "## Conclusion\n",
    "\n",
    "In this tutorial, we've used Vivarium, the Vivarium Public Health suite of components, GBD estimates,\n",
    "and effect sizes from the literature to come up with an answer to a what-if question.\n",
    "The simulation model we've built has all the structural pieces that most models we\n",
    "build on the Simulation Science team have!\n",
    "\n",
    "However, this tutorial was designed to be as simple as possible.\n",
    "For a real model:\n",
    "\n",
    "* Our research question would likely be more complex or have multiple sub-questions.\n",
    "* Our model would be more complex, including multiple pathways between our intervention\n",
    "  and our outcome(s).\n",
    "* Our verification and validation (V&V) process would be much more in-depth.\n",
    "* We would quantify uncertainty about our result, requiring more\n",
    "  computational resources (we typically run our analyses on IHME's computing cluster).\n",
    "* We likely wouldn't \"get everything right\" the first time, as represented in this tutorial,\n",
    "  but have a more iterative process.\n",
    "  We often discover issues with our model design or implementation and need to revisit earlier\n",
    "  steps.\n",
    "\n",
    "If you've followed along and are up for a challenge, see if you can apply what you've learned,\n",
    "and the information you can glean from other documentation, by extending this model!\n",
    "Here are some ideas you could try:\n",
    "\n",
    "* Running this simulation for another location (if you have access to build a new artifact)\n",
    "* Incorporating additional data about the treatment effect size for added realism\n",
    "* Adding another pathway from our causal diagram to the simulation"
   ]
  },
  {
   "cell_type": "code",
   "execution_count": null,
   "id": "44131119-accd-41c8-b419-818def67cb2b",
   "metadata": {},
   "outputs": [],
   "source": []
  }
 ],
 "metadata": {
  "kernelspec": {
   "display_name": "tutorial_9",
   "language": "python",
   "name": "python3"
  },
  "language_info": {
   "codemirror_mode": {
    "name": "ipython",
    "version": 3
   },
   "file_extension": ".py",
   "mimetype": "text/x-python",
   "name": "python",
   "nbconvert_exporter": "python",
   "pygments_lexer": "ipython3",
   "version": "3.11.11"
  },
  "papermill": {
   "default_parameters": {},
   "duration": 20917.052654,
   "end_time": "2025-03-12T03:16:30.662460",
   "environment_variables": {},
   "exception": null,
   "input_path": "index.ipynb",
   "output_path": "index_run.ipynb",
   "parameters": {},
   "start_time": "2025-03-11T21:27:53.609806",
   "version": "2.6.0"
  },
  "widgets": {
   "application/vnd.jupyter.widget-state+json": {
    "state": {
     "0b06ed9e0a7d41b3bc78f3975a0a95c9": {
      "model_module": "@jupyter-widgets/controls",
      "model_module_version": "2.0.0",
      "model_name": "HTMLModel",
      "state": {
       "_dom_classes": [],
       "_model_module": "@jupyter-widgets/controls",
       "_model_module_version": "2.0.0",
       "_model_name": "HTMLModel",
       "_view_count": null,
       "_view_module": "@jupyter-widgets/controls",
       "_view_module_version": "2.0.0",
       "_view_name": "HTMLView",
       "description": "",
       "description_allow_html": false,
       "layout": "IPY_MODEL_eb017cecacf34230b2b55fc104560480",
       "placeholder": "​",
       "style": "IPY_MODEL_13b9a3e97ba440f1a5ea3075c9942043",
       "tabbable": null,
       "tooltip": null,
       "value": "Step: 311"
      }
     },
     "0ce7cdc74daf4a8f9ee2fb10a2cba6fb": {
      "model_module": "@jupyter-widgets/base",
      "model_module_version": "2.0.0",
      "model_name": "LayoutModel",
      "state": {
       "_model_module": "@jupyter-widgets/base",
       "_model_module_version": "2.0.0",
       "_model_name": "LayoutModel",
       "_view_count": null,
       "_view_module": "@jupyter-widgets/base",
       "_view_module_version": "2.0.0",
       "_view_name": "LayoutView",
       "align_content": null,
       "align_items": null,
       "align_self": null,
       "border_bottom": null,
       "border_left": null,
       "border_right": null,
       "border_top": null,
       "bottom": null,
       "display": null,
       "flex": null,
       "flex_flow": null,
       "grid_area": null,
       "grid_auto_columns": null,
       "grid_auto_flow": null,
       "grid_auto_rows": null,
       "grid_column": null,
       "grid_gap": null,
       "grid_row": null,
       "grid_template_areas": null,
       "grid_template_columns": null,
       "grid_template_rows": null,
       "height": null,
       "justify_content": null,
       "justify_items": null,
       "left": null,
       "margin": null,
       "max_height": null,
       "max_width": null,
       "min_height": null,
       "min_width": null,
       "object_fit": null,
       "object_position": null,
       "order": null,
       "overflow": null,
       "padding": null,
       "right": null,
       "top": null,
       "visibility": null,
       "width": null
      }
     },
     "13b9a3e97ba440f1a5ea3075c9942043": {
      "model_module": "@jupyter-widgets/controls",
      "model_module_version": "2.0.0",
      "model_name": "HTMLStyleModel",
      "state": {
       "_model_module": "@jupyter-widgets/controls",
       "_model_module_version": "2.0.0",
       "_model_name": "HTMLStyleModel",
       "_view_count": null,
       "_view_module": "@jupyter-widgets/base",
       "_view_module_version": "2.0.0",
       "_view_name": "StyleView",
       "background": null,
       "description_width": "",
       "font_size": null,
       "text_color": null
      }
     },
     "18196c7fd28b4dd1b6133e02fe466315": {
      "model_module": "@jupyter-widgets/controls",
      "model_module_version": "2.0.0",
      "model_name": "HTMLStyleModel",
      "state": {
       "_model_module": "@jupyter-widgets/controls",
       "_model_module_version": "2.0.0",
       "_model_name": "HTMLStyleModel",
       "_view_count": null,
       "_view_module": "@jupyter-widgets/base",
       "_view_module_version": "2.0.0",
       "_view_name": "StyleView",
       "background": null,
       "description_width": "",
       "font_size": null,
       "text_color": null
      }
     },
     "3de9cb56d3884a8a985aad1c02b58126": {
      "model_module": "@jupyter-widgets/controls",
      "model_module_version": "2.0.0",
      "model_name": "IntProgressModel",
      "state": {
       "_dom_classes": [],
       "_model_module": "@jupyter-widgets/controls",
       "_model_module_version": "2.0.0",
       "_model_name": "IntProgressModel",
       "_view_count": null,
       "_view_module": "@jupyter-widgets/controls",
       "_view_module_version": "2.0.0",
       "_view_name": "ProgressView",
       "bar_style": "success",
       "description": "",
       "description_allow_html": false,
       "layout": "IPY_MODEL_df0d52279d0447e09cdeab43ce93dcc4",
       "max": 311,
       "min": 0,
       "orientation": "horizontal",
       "style": "IPY_MODEL_849bc986cdd440fbb878de81f1778793",
       "tabbable": null,
       "tooltip": null,
       "value": 311
      }
     },
     "6f62375d13514dce9c8a5740765f0c9b": {
      "model_module": "@jupyter-widgets/controls",
      "model_module_version": "2.0.0",
      "model_name": "IntProgressModel",
      "state": {
       "_dom_classes": [],
       "_model_module": "@jupyter-widgets/controls",
       "_model_module_version": "2.0.0",
       "_model_name": "IntProgressModel",
       "_view_count": null,
       "_view_module": "@jupyter-widgets/controls",
       "_view_module_version": "2.0.0",
       "_view_name": "ProgressView",
       "bar_style": "success",
       "description": "",
       "description_allow_html": false,
       "layout": "IPY_MODEL_baf2e0181d1a4d1e8b752119b998977d",
       "max": 311,
       "min": 0,
       "orientation": "horizontal",
       "style": "IPY_MODEL_b349cf50eb4d4b8a90781f324d374d18",
       "tabbable": null,
       "tooltip": null,
       "value": 311
      }
     },
     "849bc986cdd440fbb878de81f1778793": {
      "model_module": "@jupyter-widgets/controls",
      "model_module_version": "2.0.0",
      "model_name": "ProgressStyleModel",
      "state": {
       "_model_module": "@jupyter-widgets/controls",
       "_model_module_version": "2.0.0",
       "_model_name": "ProgressStyleModel",
       "_view_count": null,
       "_view_module": "@jupyter-widgets/base",
       "_view_module_version": "2.0.0",
       "_view_name": "StyleView",
       "bar_color": null,
       "description_width": ""
      }
     },
     "8b7a27c52faa44a1a167add0e400cef5": {
      "model_module": "@jupyter-widgets/base",
      "model_module_version": "2.0.0",
      "model_name": "LayoutModel",
      "state": {
       "_model_module": "@jupyter-widgets/base",
       "_model_module_version": "2.0.0",
       "_model_name": "LayoutModel",
       "_view_count": null,
       "_view_module": "@jupyter-widgets/base",
       "_view_module_version": "2.0.0",
       "_view_name": "LayoutView",
       "align_content": null,
       "align_items": null,
       "align_self": null,
       "border_bottom": null,
       "border_left": null,
       "border_right": null,
       "border_top": null,
       "bottom": null,
       "display": null,
       "flex": null,
       "flex_flow": null,
       "grid_area": null,
       "grid_auto_columns": null,
       "grid_auto_flow": null,
       "grid_auto_rows": null,
       "grid_column": null,
       "grid_gap": null,
       "grid_row": null,
       "grid_template_areas": null,
       "grid_template_columns": null,
       "grid_template_rows": null,
       "height": null,
       "justify_content": null,
       "justify_items": null,
       "left": null,
       "margin": null,
       "max_height": null,
       "max_width": null,
       "min_height": null,
       "min_width": null,
       "object_fit": null,
       "object_position": null,
       "order": null,
       "overflow": null,
       "padding": null,
       "right": null,
       "top": null,
       "visibility": null,
       "width": null
      }
     },
     "9235902d6ea74200bf0a706428d4d296": {
      "model_module": "@jupyter-widgets/controls",
      "model_module_version": "2.0.0",
      "model_name": "VBoxModel",
      "state": {
       "_dom_classes": [],
       "_model_module": "@jupyter-widgets/controls",
       "_model_module_version": "2.0.0",
       "_model_name": "VBoxModel",
       "_view_count": null,
       "_view_module": "@jupyter-widgets/controls",
       "_view_module_version": "2.0.0",
       "_view_name": "VBoxView",
       "box_style": "",
       "children": [
        "IPY_MODEL_9d56de1dcd1e41b3806c15ce644c8da4",
        "IPY_MODEL_3de9cb56d3884a8a985aad1c02b58126"
       ],
       "layout": "IPY_MODEL_a2f01e0877e24ee0acd4e3b9c7fec10c",
       "tabbable": null,
       "tooltip": null
      }
     },
     "932435a7bc454bfcbcd56c8bccb694f5": {
      "model_module": "@jupyter-widgets/controls",
      "model_module_version": "2.0.0",
      "model_name": "VBoxModel",
      "state": {
       "_dom_classes": [],
       "_model_module": "@jupyter-widgets/controls",
       "_model_module_version": "2.0.0",
       "_model_name": "VBoxModel",
       "_view_count": null,
       "_view_module": "@jupyter-widgets/controls",
       "_view_module_version": "2.0.0",
       "_view_name": "VBoxView",
       "box_style": "",
       "children": [
        "IPY_MODEL_0b06ed9e0a7d41b3bc78f3975a0a95c9",
        "IPY_MODEL_6f62375d13514dce9c8a5740765f0c9b"
       ],
       "layout": "IPY_MODEL_8b7a27c52faa44a1a167add0e400cef5",
       "tabbable": null,
       "tooltip": null
      }
     },
     "9d56de1dcd1e41b3806c15ce644c8da4": {
      "model_module": "@jupyter-widgets/controls",
      "model_module_version": "2.0.0",
      "model_name": "HTMLModel",
      "state": {
       "_dom_classes": [],
       "_model_module": "@jupyter-widgets/controls",
       "_model_module_version": "2.0.0",
       "_model_name": "HTMLModel",
       "_view_count": null,
       "_view_module": "@jupyter-widgets/controls",
       "_view_module_version": "2.0.0",
       "_view_name": "HTMLView",
       "description": "",
       "description_allow_html": false,
       "layout": "IPY_MODEL_0ce7cdc74daf4a8f9ee2fb10a2cba6fb",
       "placeholder": "​",
       "style": "IPY_MODEL_18196c7fd28b4dd1b6133e02fe466315",
       "tabbable": null,
       "tooltip": null,
       "value": "Step: 311"
      }
     },
     "a2f01e0877e24ee0acd4e3b9c7fec10c": {
      "model_module": "@jupyter-widgets/base",
      "model_module_version": "2.0.0",
      "model_name": "LayoutModel",
      "state": {
       "_model_module": "@jupyter-widgets/base",
       "_model_module_version": "2.0.0",
       "_model_name": "LayoutModel",
       "_view_count": null,
       "_view_module": "@jupyter-widgets/base",
       "_view_module_version": "2.0.0",
       "_view_name": "LayoutView",
       "align_content": null,
       "align_items": null,
       "align_self": null,
       "border_bottom": null,
       "border_left": null,
       "border_right": null,
       "border_top": null,
       "bottom": null,
       "display": null,
       "flex": null,
       "flex_flow": null,
       "grid_area": null,
       "grid_auto_columns": null,
       "grid_auto_flow": null,
       "grid_auto_rows": null,
       "grid_column": null,
       "grid_gap": null,
       "grid_row": null,
       "grid_template_areas": null,
       "grid_template_columns": null,
       "grid_template_rows": null,
       "height": null,
       "justify_content": null,
       "justify_items": null,
       "left": null,
       "margin": null,
       "max_height": null,
       "max_width": null,
       "min_height": null,
       "min_width": null,
       "object_fit": null,
       "object_position": null,
       "order": null,
       "overflow": null,
       "padding": null,
       "right": null,
       "top": null,
       "visibility": null,
       "width": null
      }
     },
     "b349cf50eb4d4b8a90781f324d374d18": {
      "model_module": "@jupyter-widgets/controls",
      "model_module_version": "2.0.0",
      "model_name": "ProgressStyleModel",
      "state": {
       "_model_module": "@jupyter-widgets/controls",
       "_model_module_version": "2.0.0",
       "_model_name": "ProgressStyleModel",
       "_view_count": null,
       "_view_module": "@jupyter-widgets/base",
       "_view_module_version": "2.0.0",
       "_view_name": "StyleView",
       "bar_color": null,
       "description_width": ""
      }
     },
     "baf2e0181d1a4d1e8b752119b998977d": {
      "model_module": "@jupyter-widgets/base",
      "model_module_version": "2.0.0",
      "model_name": "LayoutModel",
      "state": {
       "_model_module": "@jupyter-widgets/base",
       "_model_module_version": "2.0.0",
       "_model_name": "LayoutModel",
       "_view_count": null,
       "_view_module": "@jupyter-widgets/base",
       "_view_module_version": "2.0.0",
       "_view_name": "LayoutView",
       "align_content": null,
       "align_items": null,
       "align_self": null,
       "border_bottom": null,
       "border_left": null,
       "border_right": null,
       "border_top": null,
       "bottom": null,
       "display": null,
       "flex": null,
       "flex_flow": null,
       "grid_area": null,
       "grid_auto_columns": null,
       "grid_auto_flow": null,
       "grid_auto_rows": null,
       "grid_column": null,
       "grid_gap": null,
       "grid_row": null,
       "grid_template_areas": null,
       "grid_template_columns": null,
       "grid_template_rows": null,
       "height": null,
       "justify_content": null,
       "justify_items": null,
       "left": null,
       "margin": null,
       "max_height": null,
       "max_width": null,
       "min_height": null,
       "min_width": null,
       "object_fit": null,
       "object_position": null,
       "order": null,
       "overflow": null,
       "padding": null,
       "right": null,
       "top": null,
       "visibility": null,
       "width": null
      }
     },
     "df0d52279d0447e09cdeab43ce93dcc4": {
      "model_module": "@jupyter-widgets/base",
      "model_module_version": "2.0.0",
      "model_name": "LayoutModel",
      "state": {
       "_model_module": "@jupyter-widgets/base",
       "_model_module_version": "2.0.0",
       "_model_name": "LayoutModel",
       "_view_count": null,
       "_view_module": "@jupyter-widgets/base",
       "_view_module_version": "2.0.0",
       "_view_name": "LayoutView",
       "align_content": null,
       "align_items": null,
       "align_self": null,
       "border_bottom": null,
       "border_left": null,
       "border_right": null,
       "border_top": null,
       "bottom": null,
       "display": null,
       "flex": null,
       "flex_flow": null,
       "grid_area": null,
       "grid_auto_columns": null,
       "grid_auto_flow": null,
       "grid_auto_rows": null,
       "grid_column": null,
       "grid_gap": null,
       "grid_row": null,
       "grid_template_areas": null,
       "grid_template_columns": null,
       "grid_template_rows": null,
       "height": null,
       "justify_content": null,
       "justify_items": null,
       "left": null,
       "margin": null,
       "max_height": null,
       "max_width": null,
       "min_height": null,
       "min_width": null,
       "object_fit": null,
       "object_position": null,
       "order": null,
       "overflow": null,
       "padding": null,
       "right": null,
       "top": null,
       "visibility": null,
       "width": null
      }
     },
     "eb017cecacf34230b2b55fc104560480": {
      "model_module": "@jupyter-widgets/base",
      "model_module_version": "2.0.0",
      "model_name": "LayoutModel",
      "state": {
       "_model_module": "@jupyter-widgets/base",
       "_model_module_version": "2.0.0",
       "_model_name": "LayoutModel",
       "_view_count": null,
       "_view_module": "@jupyter-widgets/base",
       "_view_module_version": "2.0.0",
       "_view_name": "LayoutView",
       "align_content": null,
       "align_items": null,
       "align_self": null,
       "border_bottom": null,
       "border_left": null,
       "border_right": null,
       "border_top": null,
       "bottom": null,
       "display": null,
       "flex": null,
       "flex_flow": null,
       "grid_area": null,
       "grid_auto_columns": null,
       "grid_auto_flow": null,
       "grid_auto_rows": null,
       "grid_column": null,
       "grid_gap": null,
       "grid_row": null,
       "grid_template_areas": null,
       "grid_template_columns": null,
       "grid_template_rows": null,
       "height": null,
       "justify_content": null,
       "justify_items": null,
       "left": null,
       "margin": null,
       "max_height": null,
       "max_width": null,
       "min_height": null,
       "min_width": null,
       "object_fit": null,
       "object_position": null,
       "order": null,
       "overflow": null,
       "padding": null,
       "right": null,
       "top": null,
       "visibility": null,
       "width": null
      }
     }
    },
    "version_major": 2,
    "version_minor": 0
   }
  }
 },
 "nbformat": 4,
 "nbformat_minor": 5
}
